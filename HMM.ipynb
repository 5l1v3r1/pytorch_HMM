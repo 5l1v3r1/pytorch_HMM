{
  "nbformat": 4,
  "nbformat_minor": 0,
  "metadata": {
    "colab": {
      "name": "HMM.ipynb",
      "provenance": []
    },
    "kernelspec": {
      "name": "python3",
      "display_name": "Python 3"
    },
    "accelerator": "GPU"
  },
  "cells": [
    {
      "cell_type": "markdown",
      "metadata": {
        "id": "lDJIV2EVBuFZ",
        "colab_type": "text"
      },
      "source": [
        "# Fun with Hidden Markov Models\n",
        "*by Loren Lugosch*"
      ]
    },
    {
      "cell_type": "markdown",
      "metadata": {
        "id": "_rWFkdjYOlk8",
        "colab_type": "text"
      },
      "source": [
        "This notebook introduces the Hidden Markov Model (HMM), a simple model for sequential data.\n",
        "\n",
        "We will see:\n",
        "- what an HMM is and when you might want to use it;\n",
        "- the so-called \"three problems\" of an HMM; and \n",
        "- how to implement an HMM in PyTorch."
      ]
    },
    {
      "cell_type": "markdown",
      "metadata": {
        "id": "efPPcGy0gP6H",
        "colab_type": "text"
      },
      "source": [
        "A hypothetical scenario\n",
        "------\n",
        "\n",
        "To motivate the use of HMMs, imagine that you have a friend who gets to do a lot of travelling. Every day, this jet-setting friend sends you a selfie from the city they’re in, to make you envious."
      ]
    },
    {
      "cell_type": "markdown",
      "metadata": {
        "id": "Cs3z7pnVib9g",
        "colab_type": "text"
      },
      "source": [
        "<center>\n",
        "\n",
        "![Diagram of a traveling friend sending selfies](https://github.com/lorenlugosch/pytorch_HMM/blob/master/img/selfies.png?raw=true)\n",
        "</center>\n",
        "\n",
        "\n",
        "\n"
      ]
    },
    {
      "cell_type": "markdown",
      "metadata": {
        "id": "hTPNK3IjirDA",
        "colab_type": "text"
      },
      "source": [
        "How would you go about guessing which city the friend is in each day, just by looking at the selfies?\n",
        "\n",
        "If the selfie contains a really obvious landmark, like the Eiffel Tower, it will be easy to figure out where the photo was taken. If not, it will be a lot harder to infer the city.\n",
        "\n",
        "But we have a clue to help us: the city the friend is in each day is not totally random. For example, the friend will probably remain in the same city for a few days to sightsee before flying to a new city."
      ]
    },
    {
      "cell_type": "markdown",
      "metadata": {
        "id": "k4g7IG7CBx-Y",
        "colab_type": "text"
      },
      "source": [
        "## The HMM setup\n",
        "\n",
        "The hypothetical scenario of the friend travelling between cities and sending you selfies can be modeled using an HMM.\n"
      ]
    },
    {
      "cell_type": "markdown",
      "metadata": {
        "id": "NpwgbDTnRzRa",
        "colab_type": "text"
      },
      "source": [
        "An HMM models a system that is in a particular state at any given time and produces an output that depends on that state. \n",
        "\n",
        "At each timestep or clock tick, the system randomly decides on a new state and jumps into that state. The system then randomly generates an observation. The states are \"hidden\": we can't observe them. (In the cities/selfies analogy, the unknown cities would be the hidden states, and the selfies would be the observations.)\n",
        "\n",
        "Let's denote the sequence of states as $\\mathbf{z} = \\{z_1, z_2, \\dots, z_T \\}$, where each state is one of a finite set of $N$ states, and the sequence of observations as $\\mathbf{x} = \\{x_1, x_2, \\dots, x_T\\}$. The observations could be discrete, like letters, or real-valued, like audio frames."
      ]
    },
    {
      "cell_type": "markdown",
      "metadata": {
        "id": "uV5fAhEQDAcJ",
        "colab_type": "text"
      },
      "source": [
        "<center>\n",
        "\n",
        "![Diagram of an HMM for three timesteps](https://github.com/lorenlugosch/pytorch_HMM/blob/master/img/hmm.png?raw=true)\n",
        "</center>"
      ]
    },
    {
      "cell_type": "markdown",
      "metadata": {
        "id": "vMPrA6Uv-u-K",
        "colab_type": "text"
      },
      "source": [
        "An HMM makes two key assumptions:\n",
        "- **Assumption 1:** The state at time $t$ depends *only* on the state at the previous time $t-1$. \n",
        "- **Assumption 2:** The output at time $t$ depends *only* on the state at time $t$.\n",
        "\n",
        "These two assumptions make it possible to efficiently compute certain quantities that we may be interested in."
      ]
    },
    {
      "cell_type": "markdown",
      "metadata": {
        "id": "mRNhSK7LgEIS",
        "colab_type": "text"
      },
      "source": [
        "## Components of an HMM\n",
        "An HMM has three sets of trainable parameters.\n",
        "  \n"
      ]
    },
    {
      "cell_type": "markdown",
      "metadata": {
        "id": "7Pu3zm77vXwp",
        "colab_type": "text"
      },
      "source": [
        "- The **transition model** is a square matrix $A$, where $A_{s, s'}$ represents $p(z_t = s|z_{t-1} = s')$, the probability of jumping from state $s'$ to state $s$. \n",
        "\n",
        "- The **emission model** $b_s(x_t)$ tells us $p(x_t|z_t = s)$, the probability of generating $x_t$ when the system is in state $s$. For discrete observations, which we will use in this notebook, the emission model is just a lookup table, with one row for each state, and one column for each observation. For real-valued observations, it is common to use a Gaussian mixture model or neural network to implement the emission model. \n",
        "\n",
        "- The **state priors** tell us $p(z_1 = s)$, the probability of starting in state $s$. We use $\\pi$ to denote the vector of state priors, so $\\pi_s$ is the state prior for state $s$.\n",
        "\n",
        "Let's program an HMM class in PyTorch."
      ]
    },
    {
      "cell_type": "code",
      "metadata": {
        "id": "aZbW6Pj0og7K",
        "colab_type": "code",
        "colab": {}
      },
      "source": [
        "import torch\n",
        "import numpy as np\n",
        "\n",
        "class HMM(torch.nn.Module):\n",
        "  \"\"\"\n",
        "  Hidden Markov Model with discrete observations.\n",
        "  \"\"\"\n",
        "  def __init__(self, M, N):\n",
        "    super(HMM, self).__init__()\n",
        "    self.M = M # number of possible observations\n",
        "    self.N = N # number of states\n",
        "\n",
        "    # A\n",
        "    self.transition_model = TransitionModel(self.N)\n",
        "\n",
        "    # b(x_t)\n",
        "    self.emission_model = EmissionModel(self.N,self.M)\n",
        "\n",
        "    # pi\n",
        "    self.unnormalized_state_priors = torch.nn.Parameter(torch.randn(self.N))\n",
        "\n",
        "    # use the GPU\n",
        "    self.is_cuda = torch.cuda.is_available()\n",
        "    if self.is_cuda: self.cuda()\n",
        "\n",
        "class TransitionModel(torch.nn.Module):\n",
        "  def __init__(self, N):\n",
        "    super(TransitionModel, self).__init__()\n",
        "    self.N = N\n",
        "    self.unnormalized_transition_matrix = torch.nn.Parameter(torch.randn(N,N))\n",
        "\n",
        "class EmissionModel(torch.nn.Module):\n",
        "  def __init__(self, N, M):\n",
        "    super(EmissionModel, self).__init__()\n",
        "    self.N = N\n",
        "    self.M = M\n",
        "    self.unnormalized_emission_matrix = torch.nn.Parameter(torch.randn(N,M))"
      ],
      "execution_count": 0,
      "outputs": []
    },
    {
      "cell_type": "markdown",
      "metadata": {
        "id": "eom3ueYtpXGo",
        "colab_type": "text"
      },
      "source": [
        "To sample from the HMM, we start by picking a random initial state from the state prior distribution.\n",
        "\n",
        "Then, we sample an output from the emission distribution, sample a transition from the transition distribution, and repeat.\n",
        "\n",
        "(Notice that we pass the unnormalized model parameters through a softmax function to make them into probabilities.)\n"
      ]
    },
    {
      "cell_type": "code",
      "metadata": {
        "id": "BpgkwNyVwmyM",
        "colab_type": "code",
        "colab": {}
      },
      "source": [
        "def sample(self, T=10):\n",
        "  state_priors = torch.nn.functional.softmax(self.unnormalized_state_priors, dim=0)\n",
        "  transition_matrix = torch.nn.functional.softmax(self.transition_model.unnormalized_transition_matrix, dim=1)\n",
        "  emission_matrix = torch.nn.functional.softmax(self.emission_model.unnormalized_emission_matrix, dim=1)\n",
        "\n",
        "  # sample initial state\n",
        "  z_t = torch.distributions.categorical.Categorical(state_priors).sample().item()\n",
        "  z = []; x = []\n",
        "  z.append(z_t)\n",
        "  for t in range(0,T):\n",
        "    # sample emission\n",
        "    x_t = torch.distributions.categorical.Categorical(emission_matrix[z_t]).sample().item()\n",
        "    x.append(x_t)\n",
        "\n",
        "    # sample transition\n",
        "    z_t = torch.distributions.categorical.Categorical(transition_matrix[:,z_t]).sample().item()\n",
        "    if t < T-1: z.append(z_t)\n",
        "\n",
        "  return x, z\n",
        "\n",
        "# Add the sampling method to our HMM class\n",
        "HMM.sample = sample"
      ],
      "execution_count": 0,
      "outputs": []
    },
    {
      "cell_type": "markdown",
      "metadata": {
        "id": "ohsdYScawkRG",
        "colab_type": "text"
      },
      "source": [
        "Let's try hard-coding an HMM for generating fake words. (We'll also add some helper functions for encoding and decoding strings.)\n",
        "\n",
        "We will assume that the system has one state for generating vowels and one state for generating consonants, and the transition matrix has 0s on the diagonal---in other words, the system cannot stay in the vowel state or the consonant state for one than one timestep; it has to switch.\n",
        "\n",
        "Since we pass the transition matrix through a softmax, to get 0s we set the unnormalized parameter values to $-\\infty$."
      ]
    },
    {
      "cell_type": "code",
      "metadata": {
        "id": "eyR7yv_3sBG3",
        "colab_type": "code",
        "colab": {
          "base_uri": "https://localhost:8080/",
          "height": 187
        },
        "outputId": "d3f391cd-0617-4a8a-c8a2-b9f74e1954bf"
      },
      "source": [
        "alphabet = ['a','b','c','d','e','f','g','h','i','j','k','l','m','n','o','p','q','r','s','t','u','v','w','x','y','z']\n",
        "\n",
        "def encode(s):\n",
        "  \"\"\"\n",
        "  Convert a string into a list of integers\n",
        "  \"\"\"\n",
        "  x = [alphabet.index(ss) for ss in s]\n",
        "  return x\n",
        "\n",
        "def decode(x):\n",
        "  \"\"\"\n",
        "  Convert list of ints to string\n",
        "  \"\"\"\n",
        "  s = \"\".join([alphabet[xx] for xx in x])\n",
        "  return s\n",
        "\n",
        "# Initialize the model\n",
        "model = HMM(M=len(alphabet), N=2) \n",
        "\n",
        "# Let state 0 = consonant, state 1 = vowel\n",
        "model.unnormalized_state_priors[0] = 0.    # Let's start with a consonant more frequently\n",
        "model.unnormalized_state_priors[1] = -0.5\n",
        "print(\"State priors:\", torch.nn.functional.softmax(model.unnormalized_state_priors, dim=0))\n",
        "\n",
        "# In state 0, only allow consonants; in state 1, only allow vowels\n",
        "vowel_indices = torch.tensor([alphabet.index(letter) for letter in \"aeiou\"])\n",
        "consonant_indices = torch.tensor([alphabet.index(letter) for letter in \"bcdfghjklmnpqrstvwxyz\"])\n",
        "model.emission_model.unnormalized_emission_matrix[0, vowel_indices] = -np.inf\n",
        "model.emission_model.unnormalized_emission_matrix[1, consonant_indices] = -np.inf \n",
        "print(\"Emission matrix:\", torch.nn.functional.softmax(model.emission_model.unnormalized_emission_matrix, dim=1))\n",
        "\n",
        "# Only allow vowel -> consonant and consonant -> vowel\n",
        "model.transition_model.unnormalized_transition_matrix[0,0] = -np.inf  # consonant -> consonant\n",
        "model.transition_model.unnormalized_transition_matrix[0,1] = 0.       # vowel -> consonant\n",
        "model.transition_model.unnormalized_transition_matrix[1,0] = 0.       # consonant -> vowel\n",
        "model.transition_model.unnormalized_transition_matrix[1,1] = -np.inf  # vowel -> vowel\n",
        "print(\"Transition matrix:\", torch.nn.functional.softmax(model.transition_model.unnormalized_transition_matrix, dim=1))\n",
        "\n"
      ],
      "execution_count": 3,
      "outputs": [
        {
          "output_type": "stream",
          "text": [
            "State priors: tensor([0.6225, 0.3775], device='cuda:0', grad_fn=<SoftmaxBackward>)\n",
            "Emission matrix: tensor([[0.0000, 0.0622, 0.0411, 0.0336, 0.0000, 0.0400, 0.0306, 0.2072, 0.0000,\n",
            "         0.1111, 0.0604, 0.0266, 0.0505, 0.0310, 0.0000, 0.0047, 0.0038, 0.0055,\n",
            "         0.0485, 0.0026, 0.0000, 0.0393, 0.0740, 0.0943, 0.0113, 0.0217],\n",
            "        [0.1457, 0.0000, 0.0000, 0.0000, 0.1110, 0.0000, 0.0000, 0.0000, 0.5171,\n",
            "         0.0000, 0.0000, 0.0000, 0.0000, 0.0000, 0.0525, 0.0000, 0.0000, 0.0000,\n",
            "         0.0000, 0.0000, 0.1737, 0.0000, 0.0000, 0.0000, 0.0000, 0.0000]],\n",
            "       device='cuda:0', grad_fn=<SoftmaxBackward>)\n",
            "Transition matrix: tensor([[0., 1.],\n",
            "        [1., 0.]], device='cuda:0', grad_fn=<SoftmaxBackward>)\n"
          ],
          "name": "stdout"
        }
      ]
    },
    {
      "cell_type": "markdown",
      "metadata": {
        "id": "KFaYq8jDttmi",
        "colab_type": "text"
      },
      "source": [
        "Try sampling from our hard-coded model:\n"
      ]
    },
    {
      "cell_type": "code",
      "metadata": {
        "id": "8latFMD7ua0X",
        "colab_type": "code",
        "colab": {
          "base_uri": "https://localhost:8080/",
          "height": 153
        },
        "outputId": "148390fd-cb78-4dff-8970-4905e14d6ec5"
      },
      "source": [
        "# Sample some outputs\n",
        "for _ in range(4):\n",
        "  sampled_x, sampled_z = model.sample(T=5)\n",
        "  print(\"x:\", decode(sampled_x))\n",
        "  print(\"z:\", sampled_z)"
      ],
      "execution_count": 4,
      "outputs": [
        {
          "output_type": "stream",
          "text": [
            "x: dedij\n",
            "z: [0, 1, 0, 1, 0]\n",
            "x: anihi\n",
            "z: [1, 0, 1, 0, 1]\n",
            "x: igiji\n",
            "z: [1, 0, 1, 0, 1]\n",
            "x: xozak\n",
            "z: [0, 1, 0, 1, 0]\n"
          ],
          "name": "stdout"
        }
      ]
    },
    {
      "cell_type": "markdown",
      "metadata": {
        "id": "hKzlTlfRgZod",
        "colab_type": "text"
      },
      "source": [
        "## The Three Problems\n",
        "\n",
        "In a [classic tutorial](https://www.cs.cmu.edu/~cga/behavior/rabiner1.pdf) on HMMs, Lawrence Rabiner describes \"three problems\" that need to be solved before you can effectively use an HMM. They are:\n",
        "- Problem 1: How do we efficiently compute $p(\\mathbf{x})$?\n",
        "- Problem 2: How do we find the most likely state sequence $\\mathbf{z}$ that could have generated the data? \n",
        "- Problem 3: How do we train the model?\n",
        "\n",
        "In the rest of the notebook, we will see how to solve each problem and implement the solutions in PyTorch."
      ]
    },
    {
      "cell_type": "markdown",
      "metadata": {
        "id": "v_RfIAnmN2RZ",
        "colab_type": "text"
      },
      "source": [
        "### Problem 1: How do we compute $p(\\mathbf{x})$?"
      ]
    },
    {
      "cell_type": "markdown",
      "metadata": {
        "id": "Z3zUUYH0giKV",
        "colab_type": "text"
      },
      "source": [
        "\n",
        "#### *Why?*\n",
        "Why might we care about computing $p(\\mathbf{x})$? Here's two reasons.\n",
        "* Given two HMMs, $\\theta_1$ and $\\theta_2$, we can compute the likelihood of some data $\\mathbf{x}$ under each model, $p_{\\theta_1}(\\mathbf{x})$ and $p_{\\theta_2}(\\mathbf{x})$, to decide which model is a better fit to the data. \n",
        "\n",
        "  (For example, given an HMM for English speech and an HMM for French speech, we could compute the likelihood given each model, and pick the model with the higher likelihood to infer whether the person is speaking English or French.)\n",
        "* Being able to compute $p(\\mathbf{x})$ gives us a way to train the model, as we will see later.\n",
        "\n",
        "#### *How?*\n",
        "Given that we want $p(\\mathbf{x})$, how do we compute it?\n",
        "\n",
        "We've assumed that the data is generated by visiting some sequence of states $\\mathbf{z}$ and picking an output $x_t$ for each $z_t$ from the emission distribution $p(x_t|z_t)$. So if we knew $\\mathbf{z}$, then the probability of $\\mathbf{x}$ could be computed as follows:\n",
        "\n",
        "$$p(\\mathbf{x}|\\mathbf{z}) = \\prod_{t} p(x_t|z_t) p(z_t|z_{t-1})$$\n",
        "\n",
        "However, we don't know $\\mathbf{z}$; it's hidden. But we do know the probability of any given $\\mathbf{z}$, independent of what we observe. So we could get the probability of $\\mathbf{x}$ by summing over the different possibilities for $\\mathbf{z}$, like this:\n",
        "\n",
        "$$p(\\mathbf{x}) = \\sum_{\\mathbf{z}} p(\\mathbf{x}|\\mathbf{z}) p(\\mathbf{z}) = \\sum_{\\mathbf{z}} \\prod_{t} p(x_t|z_t) p(z_t|z_{t-1})$$\n",
        "\n",
        "The problem is: if you try to take that sum directly, you will need to compute $N^T$ terms. This is impossible to do for anything but very short sequences. For example, let's say the sequence is of length $T=100$ and there are $N=2$ possible states. Then we would need to check $N^T = 2^{100} \\approx 10^{30}$ different possible state sequences.\n",
        "\n",
        "We need a way to compute $p(\\mathbf{x})$ that doesn't require us to explicitly calculate all $N^T$ terms. For this, we use the forward algorithm."
      ]
    },
    {
      "cell_type": "markdown",
      "metadata": {
        "id": "DrH0YdUAhS6J",
        "colab_type": "text"
      },
      "source": [
        "________\n",
        "\n",
        "<u><b>The Forward Algorithm</b></u>\n",
        "\n",
        "> for $s=1 \\rightarrow N$:\\\n",
        "> &nbsp;&nbsp;&nbsp;&nbsp;&nbsp;&nbsp;$\\alpha_{s,1} := b_s(x_1) \\cdot \\pi_s$ \n",
        "> \n",
        "> for $t = 2 \\rightarrow T$:\\\n",
        "> &nbsp;&nbsp;&nbsp;&nbsp;&nbsp;&nbsp;for $s = 1 \\rightarrow N$:\\\n",
        "> &nbsp;&nbsp;&nbsp;&nbsp;&nbsp;&nbsp;&nbsp;&nbsp;&nbsp;&nbsp;&nbsp;&nbsp;\n",
        "> $\\alpha_{s,t} := b_s(x_t) \\cdot \\underset{s'}{\\sum} A_{s, s'} \\cdot \\alpha_{s',t-1} $\n",
        "> \n",
        "> $p(\\mathbf{x}) := \\underset{s}{\\sum} \\alpha_{s,T}$\\\n",
        "> return $p(\\mathbf{x})$\n",
        "________\n"
      ]
    },
    {
      "cell_type": "markdown",
      "metadata": {
        "id": "bAdpwRiMn8Vn",
        "colab_type": "text"
      },
      "source": [
        "The forward algorithm is much faster than enumerating all $N^T$ possible state sequences: it requires only $O(N^2T)$ operations to run, since each step is mostly multiplying the vector of forward variables by the transition matrix. (And very often we can reduce that complexity even further, if the transition matrix is sparse.)\n",
        "\n",
        "There is one practical problem with the forward algorithm as presented above: it is prone to underflow due to multiplying a long chain of small numbers, since probabilities are always between 0 and 1. Instead, let's do everything in the log domain. In the log domain, a multiplication becomes a sum, and a sum becomes a [logsumexp](https://en.wikipedia.org/wiki/LogSumExp).  "
      ]
    },
    {
      "cell_type": "markdown",
      "metadata": {
        "id": "FZ8VsLFxA3iT",
        "colab_type": "text"
      },
      "source": [
        "________\n",
        "\n",
        "<u><b>The Forward Algorithm (Log Domain)</b></u>\n",
        "\n",
        "> for $s=1 \\rightarrow N$:\\\n",
        "> &nbsp;&nbsp;&nbsp;&nbsp;&nbsp;&nbsp;$\\text{log }\\alpha_{s,1} := \\text{log }b_s(x_1) + \\text{log }\\pi_s$ \n",
        "> \n",
        "> for $t = 2 \\rightarrow T$:\\\n",
        "> &nbsp;&nbsp;&nbsp;&nbsp;&nbsp;&nbsp;for $s = 1 \\rightarrow N$:\\\n",
        "> &nbsp;&nbsp;&nbsp;&nbsp;&nbsp;&nbsp;&nbsp;&nbsp;&nbsp;&nbsp;&nbsp;&nbsp;\n",
        "> $\\text{log }\\alpha_{s,t} := \\text{log }b_s(x_t) +  \\underset{s'}{\\text{logsumexp}} \\left( \\text{log }A_{s, s'} + \\text{log }\\alpha_{s',t-1} \\right)$\n",
        "> \n",
        "> $\\text{log }p(\\mathbf{x}) := \\underset{s}{\\text{logsumexp}} \\left( \\text{log }\\alpha_{s,T} \\right)$\\\n",
        "> return $\\text{log }p(\\mathbf{x})$\n",
        "________"
      ]
    },
    {
      "cell_type": "markdown",
      "metadata": {
        "id": "g55ik6ZCEiJU",
        "colab_type": "text"
      },
      "source": [
        "Now that we have a numerically stable version of the forward algorithm, let's implement it in PyTorch. "
      ]
    },
    {
      "cell_type": "code",
      "metadata": {
        "id": "3CMdK1EfE1SJ",
        "colab_type": "code",
        "colab": {}
      },
      "source": [
        "def HMM_forward(self, x, T):\n",
        "  \"\"\"\n",
        "  x : IntTensor of shape (batch size, T_max)\n",
        "  T : IntTensor of shape (batch size)\n",
        "\n",
        "  Compute log p(x) for each example in the batch.\n",
        "  T = length of each example\n",
        "  \"\"\"\n",
        "  if self.is_cuda:\n",
        "  \tx = x.cuda()\n",
        "  \tT = T.cuda()\n",
        "\n",
        "  batch_size = x.shape[0]; T_max = x.shape[1]\n",
        "  log_state_priors = torch.nn.functional.log_softmax(self.unnormalized_state_priors, dim=0)\n",
        "  log_alpha = torch.zeros(batch_size, T_max, self.N)\n",
        "  if self.is_cuda: log_alpha = log_alpha.cuda()\n",
        "\n",
        "  log_alpha[:, 0, :] = self.emission_model(x[:,0]) + log_state_priors\n",
        "  for t in range(1, T_max):\n",
        "    log_alpha[:, t, :] = self.emission_model(x[:,t]) + self.transition_model(log_alpha[:, t-1, :])\n",
        "\n",
        "  # Select the sum for the final timestep (each x may have different length).\n",
        "  log_sums = log_alpha.logsumexp(dim=2)\n",
        "  log_probs = torch.gather(log_sums, 1, T.view(-1,1) - 1)\n",
        "  return log_probs\n",
        "\n",
        "def emission_model_forward(self, x_t):\n",
        "  log_emission_matrix = torch.nn.functional.log_softmax(self.unnormalized_emission_matrix, dim=1)\n",
        "  out = log_emission_matrix[:, x_t].transpose(0,1)\n",
        "  return out\n",
        "\n",
        "def transition_model_forward(self, log_alpha):\n",
        "  \"\"\"\n",
        "  log_alpha : Tensor of shape (batch size, N)\n",
        "  Multiply previous timestep's alphas by transition matrix (in log domain)\n",
        "  \"\"\"\n",
        "  log_transition_matrix = torch.nn.functional.log_softmax(self.unnormalized_transition_matrix, dim=1)\n",
        "\n",
        "  # Matrix multiplication in the log domain\n",
        "  out = log_domain_matmul(log_transition_matrix, log_alpha.transpose(0,1)).transpose(0,1)\n",
        "  return out\n",
        "\n",
        "def log_domain_matmul(log_A, log_B):\n",
        "\t\"\"\"\n",
        "\tlog_A : m x n\n",
        "\tlog_B : n x p\n",
        "\toutput : m x p matrix\n",
        "\n",
        "\tNormally, a matrix multiplication\n",
        "\tcomputes out_{i,j} = sum_k A_{i,k} x B_{k,j}\n",
        "\n",
        "\tA log domain matrix multiplication\n",
        "\tcomputes out_{i,j} = logsumexp_k log_A_{i,k} + log_B_{k,j}\n",
        "\t\"\"\"\n",
        "\tm = log_A.shape[0]\n",
        "\tn = log_A.shape[1]\n",
        "\tp = log_B.shape[1]\n",
        "\n",
        "\tlog_A_expanded = torch.stack([log_A] * p, dim=2)\n",
        "\tlog_B_expanded = torch.stack([log_B] * m, dim=0)\n",
        "\n",
        "\telementwise_sum = log_A_expanded + log_B_expanded\n",
        "\tout = torch.logsumexp(elementwise_sum, dim=1)\n",
        "\n",
        "\treturn out\n",
        "\n",
        "TransitionModel.forward = transition_model_forward\n",
        "EmissionModel.forward = emission_model_forward\n",
        "HMM.forward = HMM_forward"
      ],
      "execution_count": 0,
      "outputs": []
    },
    {
      "cell_type": "markdown",
      "metadata": {
        "id": "y-fNnZfqGb1m",
        "colab_type": "text"
      },
      "source": [
        "Try running the forward algorithm on our vowels/consonants model from before:"
      ]
    },
    {
      "cell_type": "code",
      "metadata": {
        "id": "8rMAmf-UGhbw",
        "colab_type": "code",
        "colab": {
          "base_uri": "https://localhost:8080/",
          "height": 51
        },
        "outputId": "b3d33533-5349-429c-d1a9-9d7e079d3a08"
      },
      "source": [
        "x = torch.stack( [torch.tensor(encode(\"aba\")), torch.tensor(encode(\"abb\"))] )\n",
        "T = torch.tensor([3,3])\n",
        "print(model.forward(x, T))"
      ],
      "execution_count": 6,
      "outputs": [
        {
          "output_type": "stream",
          "text": [
            "tensor([[-7.6045],\n",
            "        [   -inf]], device='cuda:0', grad_fn=<GatherBackward>)\n"
          ],
          "name": "stdout"
        }
      ]
    },
    {
      "cell_type": "markdown",
      "metadata": {
        "id": "95TB2gvNHuLn",
        "colab_type": "text"
      },
      "source": [
        "When using the vowel <-> consonant HMM from above, notice that the forward algorithm returns $-\\infty$ for $\\mathbf{x} = \\text{\"abb\"}$. That's because our transition matrix says the probability of vowel -> vowel and consonant -> consonant is 0, so the probability of $\\text{\"abb\"}$ happening is 0, and thus the log probability is $-\\infty$."
      ]
    },
    {
      "cell_type": "markdown",
      "metadata": {
        "id": "qBCrFobsEM8X",
        "colab_type": "text"
      },
      "source": [
        "#### *Side note: deriving the forward algorithm*\n",
        "\n",
        "If you're interested in understanding how the forward algorithm actually computes $p(\\mathbf{x})$, read this section; if not, skip to the next part on \"Problem 2\" (finding the most likely state sequence)."
      ]
    },
    {
      "cell_type": "markdown",
      "metadata": {
        "id": "CpHWWKcxhjkx",
        "colab_type": "text"
      },
      "source": [
        "\n",
        "\n",
        "To derive the forward algorithm, start by deriving the forward variable:\n",
        "\n",
        "$$\\begin{align} \n",
        "    \\alpha_{s,t} &= p(x_1, x_2, \\dots, x_t, z_t=s) \\\\\n",
        "     &= p(x_t | x_1, x_2, \\dots, x_{t-1}, z_t = s) \\cdot p(x_1, x_2, \\dots, x_{t-1}, z_t = s)  \\\\ \n",
        "    &= p(x_t | z_t = s) \\cdot p(x_1, x_2, \\dots, x_{t-1}, z_t = s) \\\\\n",
        "    &= p(x_t | z_t = s) \\cdot \\left( \\sum_{s'} p(x_1, x_2, \\dots, x_{t-1}, z_{t-1}=s', z_t = s) \\right)\\\\\n",
        "    &= p(x_t | z_t = s) \\cdot \\left( \\sum_{s'} p(z_t = s | x_1, x_2, \\dots, x_{t-1}, z_{t-1}=s') \\cdot p(x_1, x_2, \\dots, x_{t-1}, z_{t-1}=s') \\right)\\\\\n",
        "    &= \\underbrace{p(x_t | z_t = s)}_{\\text{emission model}} \\cdot \\left( \\sum_{s'} \\underbrace{p(z_t = s | z_{t-1}=s')}_{\\text{transition model}} \\cdot \\underbrace{p(x_1, x_2, \\dots, x_{t-1}, z_{t-1}=s')}_{\\text{forward variable for previous timestep}} \\right)\\\\\n",
        "    &= b_s(x_t) \\cdot \\left( \\sum_{s'} A_{s, s'} \\cdot \\alpha_{s',t-1} \\right)\n",
        "    \\end{align}$$\n",
        "\n",
        "I'll explain how to get to each line of this equation from the previous line. \n",
        "\n",
        "Line 1 is the definition of the forward variable $\\alpha_{s,t}$.\n",
        "\n",
        "Line 2 is the chain rule ($p(A,B) = p(A|B) \\cdot p(B)$, where $A$ is $x_t$ and $B$ is all the other variables).\n",
        "\n",
        "In Line 3, we apply Assumption 2: the probability of observation $x_t$ depends only on the current state $z_t$.\n",
        "\n",
        "In Line 4, we marginalize over all the possible states in the previous timestep $t-1$.\n",
        "\n",
        "In Line 5, we apply the chain rule again.\n",
        "\n",
        "In Line 6, we apply Assumption 1: the current state depends only on the previous state.\n",
        "\n",
        "In Line 7, we substitute in the emission probability, the transition probability, and the forward variable for the previous timestep, to get the complete recursion."
      ]
    },
    {
      "cell_type": "markdown",
      "metadata": {
        "id": "kh1ovNjWDbIA",
        "colab_type": "text"
      },
      "source": [
        "The formula above can be used for $t = 2 \\rightarrow T$. At $t=1$, there is no previous state, so instead of the transition matrix $A$, we use the state priors $\\pi$, which tell us the probability of starting in each state. Thus for $t=1$, the forward variables are computed as follows:\n",
        "\n",
        "$$\\begin{align} \n",
        "\\alpha_{s,1} &= p(x_1, z_1=s) \\\\\n",
        "  &= p(x_1 | z_1 = s) \\cdot p(z_1 = s)  \\\\ \n",
        "&= b_s(x_1) \\cdot \\pi_s\n",
        "\\end{align}$$"
      ]
    },
    {
      "cell_type": "markdown",
      "metadata": {
        "id": "RRzSqkRkEWKX",
        "colab_type": "text"
      },
      "source": [
        "Finally, to compute $p(\\mathbf{x}) = p(x_1, x_2, \\dots, x_T)$, we marginalize over $\\alpha_{s,T}$, the forward variables computed in the last timestep:\n",
        "\n",
        "$$\\begin{align*} \n",
        "p(\\mathbf{x}) &= \\sum_{s} p(x_1, x_2, \\dots, x_T, z_T = s) \\\\ \n",
        "&= \\sum_{s} \\alpha_{s,T}\n",
        "\\end{align*}$$"
      ]
    },
    {
      "cell_type": "markdown",
      "metadata": {
        "id": "qLBU8Iu7I5Tb",
        "colab_type": "text"
      },
      "source": [
        "You can get from this formulation to the log domain formulation by taking the log of the forward variable, and using these identities:\n",
        "- $\\text{log }(a \\cdot b) = \\text{log }a + \\text{log }b$\n",
        "- $\\text{log }(a + b) = \\text{log }(e^{\\text{log }a} + e^{\\text{log }b}) = \\text{logsumexp}(\\text{log }a, \\text{log }b)$"
      ]
    },
    {
      "cell_type": "markdown",
      "metadata": {
        "id": "bxivzF8hgpiW",
        "colab_type": "text"
      },
      "source": [
        "### Problem 2: How do we compute $\\underset{\\mathbf{z}}{\\text{argmax }} p(\\mathbf{z}|\\mathbf{x})$?"
      ]
    },
    {
      "cell_type": "markdown",
      "metadata": {
        "id": "c1Kv2yyiN7SX",
        "colab_type": "text"
      },
      "source": [
        "Given an observation sequence $\\mathbf{x}$, we may want to find the most likely sequence of states that could have generated $\\mathbf{x}$. (Given the sequence of selfies, we want to infer what cities the friend visited.) In other words, we want $\\underset{\\mathbf{z}}{\\text{argmax }} p(\\mathbf{z}|\\mathbf{x})$.\n",
        "\n",
        "We can use Bayes' rule to rewrite this expression:\n",
        "    $$\\begin{align*} \n",
        "    \\underset{\\mathbf{z}}{\\text{argmax }} p(\\mathbf{z}|\\mathbf{x}) &= \\underset{\\mathbf{z}}{\\text{argmax }} \\frac{p(\\mathbf{x}|\\mathbf{z}) \\cdot p(\\mathbf{z})}{p(\\mathbf{x})} \\\\ \n",
        "    &= \\underset{\\mathbf{z}}{\\text{argmax }} p(\\mathbf{x}|\\mathbf{z}) \\cdot p(\\mathbf{z})\n",
        "    \\end{align*}$$\n",
        "\n",
        "Hmm! That last expression, $\\underset{\\mathbf{z}}{\\text{argmax }} p(\\mathbf{x}|\\mathbf{z}) \\cdot p(\\mathbf{z})$, looks suspiciously similar to the intractable expression we encountered before introducing the forward algorithm, $\\underset{\\mathbf{z}}{\\sum} p(\\mathbf{x}|\\mathbf{z}) \\cdot p(\\mathbf{z})$.\n",
        "\n",
        "And indeed, just as the intractable *sum* over all $\\mathbf{z}$ can be implemented efficiently using the forward algorithm, so too this intractable *argmax* can be implemented efficiently using a similar divide-and-conquer algorithm: the legendary Viterbi algorithm!"
      ]
    },
    {
      "cell_type": "markdown",
      "metadata": {
        "id": "niKZEX5xWeWR",
        "colab_type": "text"
      },
      "source": [
        "________\n",
        "\n",
        "<u><b>The Viterbi Algorithm</b></u>\n",
        "\n",
        "> for $s=1 \\rightarrow N$:\\\n",
        "> &nbsp;&nbsp;&nbsp;&nbsp;&nbsp;&nbsp;$\\delta_{s,1} := b_s(x_1) \\cdot \\pi_s$\\\n",
        "> &nbsp;&nbsp;&nbsp;&nbsp;&nbsp;&nbsp;$\\psi_{s,1} := 0$\n",
        ">\n",
        "> for $t = 2 \\rightarrow T$:\\\n",
        "> &nbsp;&nbsp;&nbsp;&nbsp;&nbsp;&nbsp;for $s = 1 \\rightarrow N$:\\\n",
        "> &nbsp;&nbsp;&nbsp;&nbsp;&nbsp;&nbsp;&nbsp;&nbsp;&nbsp;&nbsp;&nbsp;&nbsp;$\\delta_{s,t} := b_s(x_t) \\cdot \\left( \\underset{s'}{\\text{max }} A_{s, s'} \\cdot \\delta_{s',t-1} \\right)$\\\n",
        "&nbsp;&nbsp;&nbsp;&nbsp;&nbsp;&nbsp;&nbsp;&nbsp;&nbsp;&nbsp;&nbsp;&nbsp;$\\psi_{s,t} := \\underset{s'}{\\text{argmax }} A_{s, s'} \\cdot \\delta_{s',t-1}$\n",
        "> \n",
        "> $z_T^* := \\underset{s}{\\text{argmax }} \\delta_{s,T}$\\\n",
        "> for $t = T-1 \\rightarrow 1$:\\\n",
        "&nbsp;&nbsp;&nbsp;&nbsp;&nbsp;&nbsp;$z_{t}^* := \\psi_{z_{t+1}^*,t+1}$\n",
        "> \n",
        "> $\\mathbf{z}^* := \\{z_{1}^*, \\dots, z_{T}^* \\}$\\\n",
        "return $\\mathbf{z}^*$\n",
        "________"
      ]
    },
    {
      "cell_type": "markdown",
      "metadata": {
        "id": "UcHVTCucZV6K",
        "colab_type": "text"
      },
      "source": [
        "The Viterbi algorithm looks somewhat gnarlier than the forward algorithm, but it is essentially the same algorithm, with two tweaks: 1) instead of taking the sum over previous states, we take the max; and 2) we record the argmax of the previous states in a table, and loop back over this table at the end to get $\\mathbf{z}^*$, the most likely state sequence.\n",
        "\n",
        "And like the forward algorithm, we can run the Viterbi algorithm in the log domain for better numerical stability. Converting this pseudocode to the log domain is left as an exercise for the reader. (Translation: I'm too lazy to do it right now.)"
      ]
    },
    {
      "cell_type": "markdown",
      "metadata": {
        "id": "NlN7IY_JZ5A-",
        "colab_type": "text"
      },
      "source": [
        "Let's add the Viterbi algorithm to our PyTorch model:"
      ]
    },
    {
      "cell_type": "code",
      "metadata": {
        "id": "qeDG8DVmZ-P0",
        "colab_type": "code",
        "colab": {}
      },
      "source": [
        "def viterbi(self, x, T):\n",
        "  \"\"\"\n",
        "  x : IntTensor of shape (batch size, T_max)\n",
        "  T : IntTensor of shape (batch size)\n",
        "  Find argmax_z log p(x|z) for each (x) in the batch.\n",
        "  \"\"\"\n",
        "  if self.is_cuda:\n",
        "    x = x.cuda()\n",
        "    T = T.cuda()\n",
        "\n",
        "  batch_size = x.shape[0]; T_max = x.shape[1]\n",
        "  log_state_priors = torch.nn.functional.log_softmax(self.unnormalized_state_priors, dim=0)\n",
        "  log_delta = torch.zeros(batch_size, T_max, self.N).float()\n",
        "  psi = torch.zeros(batch_size, T_max, self.N).long()\n",
        "  if self.is_cuda:\n",
        "    log_delta = log_delta.cuda()\n",
        "    psi = psi.cuda()\n",
        "\n",
        "  log_delta[:, 0, :] = self.emission_model(x[:,0]) + log_state_priors\n",
        "  for t in range(1, T_max):\n",
        "    max_val, argmax_val = self.transition_model.maxmul(log_delta[:, t-1, :])\n",
        "    log_delta[:, t, :] = self.emission_model(x[:,t]) + max_val\n",
        "    psi[:, t, :] = argmax_val\n",
        "\n",
        "  # Get the log probability of the best path\n",
        "  log_max = log_delta.max(dim=2)[0]\n",
        "  best_path_scores = torch.gather(log_max, 1, T.view(-1,1) - 1)\n",
        "\n",
        "  # This next part is a bit tricky to parallelize across the batch,\n",
        "  # so we will do it separately for each example.\n",
        "  z_star = []\n",
        "  for i in range(0, batch_size):\n",
        "    z_star_i = [ log_delta[i, T[i] - 1, :].max(dim=0)[1].item() ]\n",
        "    for t in range(T[i] - 1, 0, -1):\n",
        "      z_t = psi[i, t, z_star_i[0]].item()\n",
        "      z_star_i.insert(0, z_t)\n",
        "\n",
        "    z_star.append(z_star_i)\n",
        "\n",
        "  return z_star, best_path_scores # return both the best path and its log probability\n",
        "\n",
        "def transition_model_maxmul(self, log_alpha):\n",
        "  log_transition_matrix = torch.nn.functional.log_softmax(self.unnormalized_transition_matrix, dim=1)\n",
        "\n",
        "  out1, out2 = maxmul(log_transition_matrix, log_alpha.transpose(0,1))\n",
        "  return out1.transpose(0,1), out2.transpose(0,1)\n",
        "\n",
        "def maxmul(log_A, log_B):\n",
        "\t\"\"\"\n",
        "\tlog_A : m x n\n",
        "\tlog_B : n x p\n",
        "\toutput : m x p matrix\n",
        "\n",
        "\tSimilar to the log domain matrix multiplication,\n",
        "\tthis computes out_{i,j} = max_k log_A_{i,k} + log_B_{k,j}\n",
        "\t\"\"\"\n",
        "\tm = log_A.shape[0]\n",
        "\tn = log_A.shape[1]\n",
        "\tp = log_B.shape[1]\n",
        "\n",
        "\tlog_A_expanded = torch.stack([log_A] * p, dim=2)\n",
        "\tlog_B_expanded = torch.stack([log_B] * m, dim=0)\n",
        "\n",
        "\telementwise_sum = log_A_expanded + log_B_expanded\n",
        "\tout1,out2 = torch.max(elementwise_sum, dim=1)\n",
        "\n",
        "\treturn out1,out2\n",
        "\n",
        "TransitionModel.maxmul = transition_model_maxmul\n",
        "HMM.viterbi = viterbi"
      ],
      "execution_count": 0,
      "outputs": []
    },
    {
      "cell_type": "markdown",
      "metadata": {
        "id": "uTGOaeXbaWie",
        "colab_type": "text"
      },
      "source": [
        "Try running Viterbi on an input sequence, given the vowel/consonant HMM:"
      ]
    },
    {
      "cell_type": "code",
      "metadata": {
        "id": "zeOTbaIMc23d",
        "colab_type": "code",
        "colab": {
          "base_uri": "https://localhost:8080/",
          "height": 51
        },
        "outputId": "685afc13-f4e0-4287-ddb3-b87cc16d4545"
      },
      "source": [
        "x = torch.stack( [torch.tensor(encode(\"aba\")), torch.tensor(encode(\"abb\"))] )\n",
        "T = torch.tensor([3,3])\n",
        "print(model.viterbi(x, T))"
      ],
      "execution_count": 8,
      "outputs": [
        {
          "output_type": "stream",
          "text": [
            "([[1, 0, 1], [1, 0, 0]], tensor([[-7.6045],\n",
            "        [   -inf]], device='cuda:0', grad_fn=<GatherBackward>))\n"
          ],
          "name": "stdout"
        }
      ]
    },
    {
      "cell_type": "markdown",
      "metadata": {
        "id": "fKr8YlafdzBx",
        "colab_type": "text"
      },
      "source": [
        "For $\\mathbf{x} = \\text{\"aba\"}$, the Viterbi algorithm returns $\\mathbf{z}^* = \\{1,0,1\\}$. This corresponds to \"vowel, consonant, vowel\" according to the way we defined the states above, which is correct for this input sequence. Yay!\n",
        "\n",
        "For $\\mathbf{x} = \\text{\"abb\"}$, the Viterbi algorithm still returns $\\mathbf{z}^* = \\{1,0,1\\}$, but we know this is gibberish because \"vowel, consonant, consonant\" is impossible under this HMM, and indeed the log probability of this path is $-\\infty$."
      ]
    },
    {
      "cell_type": "markdown",
      "metadata": {
        "id": "nCWw0_WienO_",
        "colab_type": "text"
      },
      "source": [
        "Let's compare the \"forward score\" (the log probability of all possible paths, returned by the forward algorithm) with the \"Viterbi score\" (the log probability of the maximum likelihood path, returned by the Viterbi algorithm):"
      ]
    },
    {
      "cell_type": "code",
      "metadata": {
        "id": "L9fBOHvdeqWC",
        "colab_type": "code",
        "colab": {
          "base_uri": "https://localhost:8080/",
          "height": 85
        },
        "outputId": "79e4f7fa-2bda-4130-b5a2-76bfeb50dc85"
      },
      "source": [
        "print(model.forward(x, T))\n",
        "print(model.viterbi(x, T)[1])"
      ],
      "execution_count": 9,
      "outputs": [
        {
          "output_type": "stream",
          "text": [
            "tensor([[-7.6045],\n",
            "        [   -inf]], device='cuda:0', grad_fn=<GatherBackward>)\n",
            "tensor([[-7.6045],\n",
            "        [   -inf]], device='cuda:0', grad_fn=<GatherBackward>)\n"
          ],
          "name": "stdout"
        }
      ]
    },
    {
      "cell_type": "markdown",
      "metadata": {
        "id": "InF6PJVOfHwH",
        "colab_type": "text"
      },
      "source": [
        "The two scores are the same! That's because in this instance there is only one possible path through the HMM, so the probability of the most likely path is the same as the sum of the probabilities of all possible paths.\n",
        "\n",
        "In general, though, the forward score and Viterbi score will always be somewhat close. This is because of a property of the $\\text{logsumexp}$ function: $\\text{logsumexp}(\\mathbf{x}) \\approx \\max (\\mathbf{x})$. ($\\text{logsumexp}$ is sometimes referred to as the \"smooth maximum\" function.)"
      ]
    },
    {
      "cell_type": "code",
      "metadata": {
        "id": "x__70tB6gnkF",
        "colab_type": "code",
        "colab": {
          "base_uri": "https://localhost:8080/",
          "height": 51
        },
        "outputId": "c9066098-a02f-4de5-eba3-8c9b91765aa7"
      },
      "source": [
        "x = torch.tensor([1., 2., 3.])\n",
        "print(x.max(dim=0)[0])\n",
        "print(x.logsumexp(dim=0))"
      ],
      "execution_count": 10,
      "outputs": [
        {
          "output_type": "stream",
          "text": [
            "tensor(3.)\n",
            "tensor(3.4076)\n"
          ],
          "name": "stdout"
        }
      ]
    },
    {
      "cell_type": "markdown",
      "metadata": {
        "id": "SvFtiWhzgy0V",
        "colab_type": "text"
      },
      "source": [
        "### Problem 3: How do we train the model?\n",
        "\n",
        "\n",
        "\n"
      ]
    },
    {
      "cell_type": "markdown",
      "metadata": {
        "id": "r3JaykRalSBZ",
        "colab_type": "text"
      },
      "source": [
        "Earlier, we hard-coded an HMM to have certain behavior. What we would like to do instead is have the HMM learn to model the data on its own. And while it is possible to use supervised learning with an HMM (by hard-coding the emission model or the transition model) so that the states have a particular interpretation, the really cool thing about HMMs is that they are naturally unsupervised learners, so they can learn to use their different states to represent different patterns in the data, without the programmer needing to indicate what each state means."
      ]
    },
    {
      "cell_type": "markdown",
      "metadata": {
        "id": "8K471fT4N-PR",
        "colab_type": "text"
      },
      "source": [
        "Like many machine learning models, an HMM can be trained using maximum likelihood estimation, i.e.:\n",
        "\n",
        "$$\\theta^* = \\underset{\\theta}{\\text{argmin }} -\\sum_{\\mathbf{x}^i}\\text{log }p_{\\theta}(\\mathbf{x}^i)$$\n",
        "\n",
        "where $\\mathbf{x}^1, \\mathbf{x}^2, \\dots$ are training examples. \n",
        "\n",
        "The standard method for doing this is the Expectation-Maximization (EM) algorithm. In EM training, we alternate between an \"E-step\", where we estimate the values of the latent variables, and an \"M-step\", where the model parameters are updated assuming that we have correctly estimated the latent variables. (Think $k$-means, where you guess which cluster each data point belongs to, then reestimate where the clusters are, and repeat.) The EM algorithm has some nice properties: it is guaranteed at each step to decrease the loss function, and the M-step has an exact closed form solution, so no pesky learning rates are required.\n",
        "\n",
        "But because the HMM forward algorithm is differentiable with respect to all the model parameters, we can also just take advantage of automatic differentiation methods in libraries like PyTorch and try to minimize $-\\text{log }p_{\\theta}(\\mathbf{x})$ directly, by backpropagating through the forward algorithm and running stochastic gradient descent. That means we don't need to write any additional HMM code to implement training: `loss.backward()` is all you need."
      ]
    },
    {
      "cell_type": "markdown",
      "metadata": {
        "id": "aVh0-369qZDC",
        "colab_type": "text"
      },
      "source": [
        "Here we will implement SGD training for an HMM in PyTorch. First, some helper classes:"
      ]
    },
    {
      "cell_type": "code",
      "metadata": {
        "id": "KqiFobGHwdzc",
        "colab_type": "code",
        "colab": {}
      },
      "source": [
        "import torch.utils.data\n",
        "from collections import Counter\n",
        "from sklearn.model_selection import train_test_split\n",
        "\n",
        "class TextDataset(torch.utils.data.Dataset):\n",
        "  def __init__(self, lines):\n",
        "    self.lines = lines # list of strings\n",
        "    collate = Collate() # function for generating a minibatch from strings\n",
        "    self.loader = torch.utils.data.DataLoader(self, batch_size=1024, num_workers=1, shuffle=True, collate_fn=collate)\n",
        "\n",
        "  def __len__(self):\n",
        "    return len(self.lines)\n",
        "\n",
        "  def __getitem__(self, idx):\n",
        "    line = self.lines[idx].lstrip(\" \").rstrip(\"\\n\").rstrip(\" \").rstrip(\"\\n\")\n",
        "    return line\n",
        "\n",
        "class Collate:\n",
        "  def __init__(self):\n",
        "    pass\n",
        "\n",
        "  def __call__(self, batch):\n",
        "    \"\"\"\n",
        "    Returns a minibatch of strings, one-hot encoded and padded to have the same length.\n",
        "    \"\"\"\n",
        "    x = []\n",
        "    batch_size = len(batch)\n",
        "    for index in range(batch_size):\n",
        "      x_ = batch[index]\n",
        "\n",
        "      # convert letters to integers\n",
        "      x.append(encode(x_))\n",
        "\n",
        "    # pad all sequences with 0 to have same length\n",
        "    x_lengths = [len(x_) for x_ in x]\n",
        "    T = max(x_lengths)\n",
        "    for index in range(batch_size):\n",
        "      x[index] += [0] * (T - len(x[index]))\n",
        "      x[index] = torch.tensor(x[index])\n",
        "\n",
        "    # stack into single tensor\n",
        "    x = torch.stack(x)\n",
        "    x_lengths = torch.tensor(x_lengths)\n",
        "    return (x,x_lengths)"
      ],
      "execution_count": 0,
      "outputs": []
    },
    {
      "cell_type": "markdown",
      "metadata": {
        "id": "YpDpwnPnAEA9",
        "colab_type": "text"
      },
      "source": [
        "Let's load some training/testing data. By default, this will use the unix \"words\" file, but you could also use your own text file."
      ]
    },
    {
      "cell_type": "code",
      "metadata": {
        "id": "52NqFHg8ANsB",
        "colab_type": "code",
        "colab": {
          "base_uri": "https://localhost:8080/",
          "height": 204
        },
        "outputId": "7aa707de-41c9-4f0e-d48b-e5b2ecd0199d"
      },
      "source": [
        "!wget https://raw.githubusercontent.com/lorenlugosch/pytorch_HMM/master/data/train/training.txt\n",
        "\n",
        "filename = \"training.txt\"\n",
        "\n",
        "with open(filename, \"r\") as f:\n",
        "  lines = f.readlines() # each line of lines will have one word\n",
        "\n",
        "alphabet = list(Counter((\"\".join(lines))).keys())\n",
        "train_lines, valid_lines = train_test_split(lines, test_size=0.1, random_state=42)\n",
        "train_dataset = TextDataset(train_lines)\n",
        "valid_dataset = TextDataset(valid_lines)\n",
        "\n",
        "M = len(alphabet)"
      ],
      "execution_count": 19,
      "outputs": [
        {
          "output_type": "stream",
          "text": [
            "--2020-01-27 00:16:50--  https://raw.githubusercontent.com/lorenlugosch/pytorch_HMM/master/data/train/training.txt\n",
            "Resolving raw.githubusercontent.com (raw.githubusercontent.com)... 151.101.0.133, 151.101.64.133, 151.101.128.133, ...\n",
            "Connecting to raw.githubusercontent.com (raw.githubusercontent.com)|151.101.0.133|:443... connected.\n",
            "HTTP request sent, awaiting response... 200 OK\n",
            "Length: 2493109 (2.4M) [text/plain]\n",
            "Saving to: ‘training.txt.1’\n",
            "\n",
            "training.txt.1      100%[===================>]   2.38M  --.-KB/s    in 0.1s    \n",
            "\n",
            "2020-01-27 00:16:50 (17.9 MB/s) - ‘training.txt.1’ saved [2493109/2493109]\n",
            "\n"
          ],
          "name": "stdout"
        }
      ]
    },
    {
      "cell_type": "markdown",
      "metadata": {
        "id": "H0AqmyrK7IUn",
        "colab_type": "text"
      },
      "source": [
        "We will use a Trainer class for training and testing the model:\n",
        "\n"
      ]
    },
    {
      "cell_type": "code",
      "metadata": {
        "id": "iypy_neX9cpq",
        "colab_type": "code",
        "colab": {}
      },
      "source": [
        "from tqdm import tqdm # for displaying progress bar\n",
        "\n",
        "class Trainer:\n",
        "  def __init__(self, model, lr):\n",
        "    self.model = model\n",
        "    self.lr = lr\n",
        "    self.optimizer = torch.optim.Adam(model.parameters(), lr=self.lr, weight_decay=0.00001)\n",
        "  \n",
        "  def train(self, dataset):\n",
        "    train_loss = 0\n",
        "    num_samples = 0\n",
        "    self.model.train()\n",
        "    print_interval = 50\n",
        "    for idx, batch in enumerate(tqdm(dataset.loader)):\n",
        "      x,T = batch\n",
        "      batch_size = len(x)\n",
        "      num_samples += batch_size\n",
        "      log_probs = self.model(x,T)\n",
        "      loss = -log_probs.mean()\n",
        "      self.optimizer.zero_grad()\n",
        "      loss.backward()\n",
        "      self.optimizer.step()\n",
        "      train_loss += loss.cpu().data.numpy().item() * batch_size\n",
        "      if idx % print_interval == 0:\n",
        "        print(loss.item())\n",
        "        for _ in range(5):\n",
        "          sampled_x, sampled_z = self.model.sample()\n",
        "          print(decode(sampled_x))\n",
        "          print(sampled_z)\n",
        "    train_loss /= num_samples\n",
        "    return train_loss\n",
        "\n",
        "  def test(self, dataset):\n",
        "    test_loss = 0\n",
        "    num_samples = 0\n",
        "    self.model.eval()\n",
        "    print_interval = 50\n",
        "    for idx, batch in enumerate(dataset.loader):\n",
        "      x,T = batch\n",
        "      batch_size = len(x)\n",
        "      num_samples += batch_size\n",
        "      log_probs = self.model(x,T)\n",
        "      loss = -log_probs.mean()\n",
        "      test_loss += loss.cpu().data.numpy().item() * batch_size\n",
        "      if idx % print_interval == 0:\n",
        "        print(loss.item())\n",
        "        sampled_x, sampled_z = self.model.sample()\n",
        "        print(decode(sampled_x))\n",
        "        print(sampled_z)\n",
        "    test_loss /= num_samples\n",
        "    return test_loss"
      ],
      "execution_count": 0,
      "outputs": []
    },
    {
      "cell_type": "markdown",
      "metadata": {
        "id": "mUR8qbHm9dMg",
        "colab_type": "text"
      },
      "source": [
        "Finally, initialize the model and run the main training loop. Every 50 batches, the code will produce a few samples from the model. Over time, these samples should look more and more realistic."
      ]
    },
    {
      "cell_type": "code",
      "metadata": {
        "id": "1-NGIK1Q9g2C",
        "colab_type": "code",
        "colab": {
          "base_uri": "https://localhost:8080/",
          "height": 1000
        },
        "outputId": "1e897be3-43cc-4d27-ee0a-3c5858de86d0"
      },
      "source": [
        "# Initialize model\n",
        "model = HMM(N=64, M=M)\n",
        "\n",
        "# Train the model\n",
        "num_epochs = 10\n",
        "trainer = Trainer(model, lr=0.03)\n",
        "\n",
        "for epoch in range(num_epochs):\n",
        "        print(\"========= Epoch %d of %d =========\" % (epoch+1, num_epochs))\n",
        "        train_loss = trainer.train(train_dataset)\n",
        "        valid_loss = trainer.test(valid_dataset)\n",
        "\n",
        "        print(\"========= Results: epoch %d of %d =========\" % (epoch+1, num_epochs))\n",
        "        print(\"train loss: %.2f| valid loss: %.2f\\n\" % (train_loss, valid_loss) )"
      ],
      "execution_count": 24,
      "outputs": [
        {
          "output_type": "stream",
          "text": [
            "\n",
            "  0%|          | 0/208 [00:00<?, ?it/s]\u001b[A"
          ],
          "name": "stderr"
        },
        {
          "output_type": "stream",
          "text": [
            "========= Epoch 1 of 10 =========\n"
          ],
          "name": "stdout"
        },
        {
          "output_type": "stream",
          "text": [
            "\n",
            "  0%|          | 1/208 [00:00<01:31,  2.27it/s]\u001b[A"
          ],
          "name": "stderr"
        },
        {
          "output_type": "stream",
          "text": [
            "38.012901306152344\n",
            "eYlNKXBZkx\n",
            "[44, 7, 19, 52, 23, 47, 59, 63, 19, 37]\n",
            "CyYGVrjktg\n",
            "[54, 0, 26, 56, 41, 33, 18, 18, 25, 3]\n",
            "jpVQIIAWgn\n",
            "[6, 56, 62, 62, 2, 30, 51, 32, 1, 30]\n",
            "oMNxFirMio\n",
            "[6, 45, 52, 1, 26, 56, 46, 61, 51, 63]\n",
            "rabPpDfSUj\n",
            "[6, 10, 11, 58, 39, 20, 25, 5, 25, 59]\n"
          ],
          "name": "stdout"
        },
        {
          "output_type": "stream",
          "text": [
            "\n",
            "  1%|          | 2/208 [00:00<01:24,  2.43it/s]\u001b[A\n",
            "  1%|▏         | 3/208 [00:01<01:17,  2.66it/s]\u001b[A\n",
            "  2%|▏         | 4/208 [00:01<01:12,  2.80it/s]\u001b[A\n",
            "  2%|▏         | 5/208 [00:01<01:10,  2.89it/s]\u001b[A\n",
            "  3%|▎         | 6/208 [00:02<01:10,  2.88it/s]\u001b[A\n",
            "  3%|▎         | 7/208 [00:02<01:07,  3.00it/s]\u001b[A\n",
            "  4%|▍         | 8/208 [00:02<01:04,  3.09it/s]\u001b[A\n",
            "  4%|▍         | 9/208 [00:02<01:03,  3.14it/s]\u001b[A\n",
            "  5%|▍         | 10/208 [00:03<01:02,  3.19it/s]\u001b[A\n",
            "  5%|▌         | 11/208 [00:03<01:00,  3.24it/s]\u001b[A\n",
            "  6%|▌         | 12/208 [00:03<01:00,  3.22it/s]\u001b[A\n",
            "  6%|▋         | 13/208 [00:04<01:02,  3.13it/s]\u001b[A\n",
            "  7%|▋         | 14/208 [00:04<01:04,  3.02it/s]\u001b[A\n",
            "  7%|▋         | 15/208 [00:04<01:04,  2.97it/s]\u001b[A\n",
            "  8%|▊         | 16/208 [00:05<01:04,  2.99it/s]\u001b[A\n",
            "  8%|▊         | 17/208 [00:05<01:02,  3.07it/s]\u001b[A\n",
            "  9%|▊         | 18/208 [00:05<01:00,  3.12it/s]\u001b[A\n",
            "  9%|▉         | 19/208 [00:06<00:59,  3.17it/s]\u001b[A\n",
            " 10%|▉         | 20/208 [00:06<00:59,  3.16it/s]\u001b[A\n",
            " 10%|█         | 21/208 [00:06<00:59,  3.13it/s]\u001b[A\n",
            " 11%|█         | 22/208 [00:07<00:59,  3.13it/s]\u001b[A\n",
            " 11%|█         | 23/208 [00:07<00:59,  3.12it/s]\u001b[A\n",
            " 12%|█▏        | 24/208 [00:07<00:58,  3.13it/s]\u001b[A\n",
            " 12%|█▏        | 25/208 [00:08<00:57,  3.18it/s]\u001b[A\n",
            " 12%|█▎        | 26/208 [00:08<00:56,  3.20it/s]\u001b[A\n",
            " 13%|█▎        | 27/208 [00:08<00:58,  3.11it/s]\u001b[A\n",
            " 13%|█▎        | 28/208 [00:09<00:56,  3.16it/s]\u001b[A\n",
            " 14%|█▍        | 29/208 [00:09<00:57,  3.09it/s]\u001b[A\n",
            " 14%|█▍        | 30/208 [00:09<00:57,  3.11it/s]\u001b[A\n",
            " 15%|█▍        | 31/208 [00:10<00:57,  3.07it/s]\u001b[A\n",
            " 15%|█▌        | 32/208 [00:10<00:58,  2.98it/s]\u001b[A\n",
            " 16%|█▌        | 33/208 [00:10<00:56,  3.10it/s]\u001b[A\n",
            " 16%|█▋        | 34/208 [00:11<00:56,  3.10it/s]\u001b[A\n",
            " 17%|█▋        | 35/208 [00:11<00:55,  3.14it/s]\u001b[A\n",
            " 17%|█▋        | 36/208 [00:11<00:55,  3.12it/s]\u001b[A\n",
            " 18%|█▊        | 37/208 [00:11<00:53,  3.19it/s]\u001b[A\n",
            " 18%|█▊        | 38/208 [00:12<00:53,  3.19it/s]\u001b[A\n",
            " 19%|█▉        | 39/208 [00:12<00:51,  3.25it/s]\u001b[A\n",
            " 19%|█▉        | 40/208 [00:12<00:51,  3.28it/s]\u001b[A\n",
            " 20%|█▉        | 41/208 [00:13<00:50,  3.31it/s]\u001b[A\n",
            " 20%|██        | 42/208 [00:13<00:51,  3.20it/s]\u001b[A\n",
            " 21%|██        | 43/208 [00:13<00:51,  3.19it/s]\u001b[A\n",
            " 21%|██        | 44/208 [00:14<00:52,  3.15it/s]\u001b[A\n",
            " 22%|██▏       | 45/208 [00:14<00:51,  3.20it/s]\u001b[A\n",
            " 22%|██▏       | 46/208 [00:14<00:51,  3.16it/s]\u001b[A\n",
            " 23%|██▎       | 47/208 [00:15<00:50,  3.20it/s]\u001b[A\n",
            " 23%|██▎       | 48/208 [00:15<00:50,  3.16it/s]\u001b[A\n",
            " 24%|██▎       | 49/208 [00:15<00:50,  3.14it/s]\u001b[A\n",
            " 24%|██▍       | 50/208 [00:16<00:51,  3.05it/s]\u001b[A\n",
            " 25%|██▍       | 51/208 [00:16<00:53,  2.92it/s]\u001b[A"
          ],
          "name": "stderr"
        },
        {
          "output_type": "stream",
          "text": [
            "27.645549774169922\n",
            "ogdnonllha\n",
            "[13, 54, 54, 43, 28, 12, 53, 15, 9, 3]\n",
            "ilBsmsuObw\n",
            "[27, 32, 46, 37, 1, 59, 8, 3, 53, 48]\n",
            "rpdLWiinlH\n",
            "[24, 27, 30, 26, 54, 50, 3, 6, 10, 3]\n",
            "qiaFHtnotu\n",
            "[44, 8, 3, 27, 1, 19, 15, 40, 49, 34]\n",
            "lElyrtploc\n",
            "[18, 36, 19, 26, 21, 19, 61, 50, 45, 20]\n"
          ],
          "name": "stdout"
        },
        {
          "output_type": "stream",
          "text": [
            "\n",
            " 25%|██▌       | 52/208 [00:16<00:51,  3.03it/s]\u001b[A\n",
            " 25%|██▌       | 53/208 [00:17<00:49,  3.10it/s]\u001b[A\n",
            " 26%|██▌       | 54/208 [00:17<00:50,  3.06it/s]\u001b[A\n",
            " 26%|██▋       | 55/208 [00:17<00:50,  3.01it/s]\u001b[A\n",
            " 27%|██▋       | 56/208 [00:18<00:50,  2.99it/s]\u001b[A\n",
            " 27%|██▋       | 57/208 [00:18<00:48,  3.11it/s]\u001b[A\n",
            " 28%|██▊       | 58/208 [00:18<00:48,  3.07it/s]\u001b[A\n",
            " 28%|██▊       | 59/208 [00:18<00:47,  3.11it/s]\u001b[A\n",
            " 29%|██▉       | 60/208 [00:19<00:46,  3.19it/s]\u001b[A\n",
            " 29%|██▉       | 61/208 [00:19<00:45,  3.20it/s]\u001b[A\n",
            " 30%|██▉       | 62/208 [00:19<00:44,  3.24it/s]\u001b[A\n",
            " 30%|███       | 63/208 [00:20<00:46,  3.15it/s]\u001b[A\n",
            " 31%|███       | 64/208 [00:20<00:46,  3.09it/s]\u001b[A\n",
            " 31%|███▏      | 65/208 [00:20<00:45,  3.17it/s]\u001b[A\n",
            " 32%|███▏      | 66/208 [00:21<00:42,  3.32it/s]\u001b[A\n",
            " 32%|███▏      | 67/208 [00:21<00:42,  3.30it/s]\u001b[A\n",
            " 33%|███▎      | 68/208 [00:21<00:41,  3.38it/s]\u001b[A\n",
            " 33%|███▎      | 69/208 [00:21<00:40,  3.45it/s]\u001b[A\n",
            " 34%|███▎      | 70/208 [00:22<00:41,  3.36it/s]\u001b[A\n",
            " 34%|███▍      | 71/208 [00:22<00:41,  3.33it/s]\u001b[A\n",
            " 35%|███▍      | 72/208 [00:22<00:42,  3.21it/s]\u001b[A\n",
            " 35%|███▌      | 73/208 [00:23<00:42,  3.20it/s]\u001b[A\n",
            " 36%|███▌      | 74/208 [00:23<00:40,  3.29it/s]\u001b[A\n",
            " 36%|███▌      | 75/208 [00:23<00:41,  3.19it/s]\u001b[A\n",
            " 37%|███▋      | 76/208 [00:24<00:43,  3.06it/s]\u001b[A\n",
            " 37%|███▋      | 77/208 [00:24<00:44,  2.92it/s]\u001b[A\n",
            " 38%|███▊      | 78/208 [00:24<00:42,  3.05it/s]\u001b[A\n",
            " 38%|███▊      | 79/208 [00:25<00:41,  3.12it/s]\u001b[A\n",
            " 38%|███▊      | 80/208 [00:25<00:40,  3.19it/s]\u001b[A\n",
            " 39%|███▉      | 81/208 [00:25<00:39,  3.21it/s]\u001b[A\n",
            " 39%|███▉      | 82/208 [00:26<00:38,  3.26it/s]\u001b[A\n",
            " 40%|███▉      | 83/208 [00:26<00:38,  3.26it/s]\u001b[A\n",
            " 40%|████      | 84/208 [00:26<00:38,  3.26it/s]\u001b[A\n",
            " 41%|████      | 85/208 [00:27<00:36,  3.35it/s]\u001b[A\n",
            " 41%|████▏     | 86/208 [00:27<00:36,  3.33it/s]\u001b[A\n",
            " 42%|████▏     | 87/208 [00:27<00:37,  3.19it/s]\u001b[A\n",
            " 42%|████▏     | 88/208 [00:27<00:37,  3.16it/s]\u001b[A\n",
            " 43%|████▎     | 89/208 [00:28<00:37,  3.22it/s]\u001b[A\n",
            " 43%|████▎     | 90/208 [00:28<00:36,  3.21it/s]\u001b[A\n",
            " 44%|████▍     | 91/208 [00:28<00:35,  3.34it/s]\u001b[A\n",
            " 44%|████▍     | 92/208 [00:29<00:37,  3.12it/s]\u001b[A\n",
            " 45%|████▍     | 93/208 [00:29<00:35,  3.25it/s]\u001b[A\n",
            " 45%|████▌     | 94/208 [00:29<00:34,  3.31it/s]\u001b[A\n",
            " 46%|████▌     | 95/208 [00:30<00:35,  3.21it/s]\u001b[A\n",
            " 46%|████▌     | 96/208 [00:30<00:34,  3.24it/s]\u001b[A\n",
            " 47%|████▋     | 97/208 [00:30<00:35,  3.17it/s]\u001b[A\n",
            " 47%|████▋     | 98/208 [00:31<00:35,  3.10it/s]\u001b[A\n",
            " 48%|████▊     | 99/208 [00:31<00:35,  3.10it/s]\u001b[A\n",
            " 48%|████▊     | 100/208 [00:31<00:34,  3.11it/s]\u001b[A\n",
            " 49%|████▊     | 101/208 [00:32<00:34,  3.11it/s]\u001b[A"
          ],
          "name": "stderr"
        },
        {
          "output_type": "stream",
          "text": [
            "23.252403259277344\n",
            "tkeghyyeby\n",
            "[13, 7, 19, 1, 14, 33, 34, 63, 13, 63]\n",
            "nddlecsldr\n",
            "[24, 50, 31, 4, 49, 40, 20, 17, 48, 55]\n",
            "shnsmbmysm\n",
            "[24, 20, 50, 42, 4, 36, 41, 33, 58, 62]\n",
            "lqHwiYlyuw\n",
            "[6, 21, 52, 44, 17, 0, 16, 46, 17, 59]\n",
            "gcidyynnti\n",
            "[13, 33, 10, 59, 60, 26, 11, 43, 43, 51]\n"
          ],
          "name": "stdout"
        },
        {
          "output_type": "stream",
          "text": [
            "\n",
            " 49%|████▉     | 102/208 [00:32<00:33,  3.15it/s]\u001b[A\n",
            " 50%|████▉     | 103/208 [00:32<00:32,  3.24it/s]\u001b[A\n",
            " 50%|█████     | 104/208 [00:32<00:32,  3.23it/s]\u001b[A\n",
            " 50%|█████     | 105/208 [00:33<00:31,  3.32it/s]\u001b[A\n",
            " 51%|█████     | 106/208 [00:33<00:31,  3.25it/s]\u001b[A\n",
            " 51%|█████▏    | 107/208 [00:33<00:32,  3.10it/s]\u001b[A\n",
            " 52%|█████▏    | 108/208 [00:34<00:32,  3.10it/s]\u001b[A\n",
            " 52%|█████▏    | 109/208 [00:34<00:33,  3.00it/s]\u001b[A\n",
            " 53%|█████▎    | 110/208 [00:34<00:32,  3.05it/s]\u001b[A\n",
            " 53%|█████▎    | 111/208 [00:35<00:30,  3.21it/s]\u001b[A\n",
            " 54%|█████▍    | 112/208 [00:35<00:30,  3.12it/s]\u001b[A\n",
            " 54%|█████▍    | 113/208 [00:35<00:31,  2.98it/s]\u001b[A\n",
            " 55%|█████▍    | 114/208 [00:36<00:31,  3.03it/s]\u001b[A\n",
            " 55%|█████▌    | 115/208 [00:36<00:30,  3.03it/s]\u001b[A\n",
            " 56%|█████▌    | 116/208 [00:36<00:28,  3.21it/s]\u001b[A\n",
            " 56%|█████▋    | 117/208 [00:37<00:28,  3.23it/s]\u001b[A\n",
            " 57%|█████▋    | 118/208 [00:37<00:27,  3.23it/s]\u001b[A\n",
            " 57%|█████▋    | 119/208 [00:37<00:26,  3.32it/s]\u001b[A\n",
            " 58%|█████▊    | 120/208 [00:38<00:27,  3.20it/s]\u001b[A\n",
            " 58%|█████▊    | 121/208 [00:38<00:26,  3.23it/s]\u001b[A\n",
            " 59%|█████▊    | 122/208 [00:38<00:26,  3.26it/s]\u001b[A\n",
            " 59%|█████▉    | 123/208 [00:38<00:25,  3.38it/s]\u001b[A\n",
            " 60%|█████▉    | 124/208 [00:39<00:25,  3.31it/s]\u001b[A\n",
            " 60%|██████    | 125/208 [00:39<00:25,  3.29it/s]\u001b[A\n",
            " 61%|██████    | 126/208 [00:39<00:25,  3.25it/s]\u001b[A\n",
            " 61%|██████    | 127/208 [00:40<00:24,  3.27it/s]\u001b[A\n",
            " 62%|██████▏   | 128/208 [00:40<00:25,  3.13it/s]\u001b[A\n",
            " 62%|██████▏   | 129/208 [00:40<00:24,  3.19it/s]\u001b[A\n",
            " 62%|██████▎   | 130/208 [00:41<00:24,  3.25it/s]\u001b[A\n",
            " 63%|██████▎   | 131/208 [00:41<00:23,  3.22it/s]\u001b[A\n",
            " 63%|██████▎   | 132/208 [00:41<00:23,  3.24it/s]\u001b[A\n",
            " 64%|██████▍   | 133/208 [00:42<00:23,  3.18it/s]\u001b[A\n",
            " 64%|██████▍   | 134/208 [00:42<00:23,  3.20it/s]\u001b[A\n",
            " 65%|██████▍   | 135/208 [00:42<00:22,  3.24it/s]\u001b[A\n",
            " 65%|██████▌   | 136/208 [00:43<00:22,  3.16it/s]\u001b[A\n",
            " 66%|██████▌   | 137/208 [00:43<00:23,  3.02it/s]\u001b[A\n",
            " 66%|██████▋   | 138/208 [00:43<00:23,  2.95it/s]\u001b[A\n",
            " 67%|██████▋   | 139/208 [00:44<00:22,  3.10it/s]\u001b[A\n",
            " 67%|██████▋   | 140/208 [00:44<00:21,  3.16it/s]\u001b[A\n",
            " 68%|██████▊   | 141/208 [00:44<00:21,  3.11it/s]\u001b[A\n",
            " 68%|██████▊   | 142/208 [00:44<00:20,  3.27it/s]\u001b[A\n",
            " 69%|██████▉   | 143/208 [00:45<00:19,  3.29it/s]\u001b[A\n",
            " 69%|██████▉   | 144/208 [00:45<00:19,  3.31it/s]\u001b[A\n",
            " 70%|██████▉   | 145/208 [00:45<00:19,  3.29it/s]\u001b[A\n",
            " 70%|███████   | 146/208 [00:46<00:19,  3.12it/s]\u001b[A\n",
            " 71%|███████   | 147/208 [00:46<00:19,  3.19it/s]\u001b[A\n",
            " 71%|███████   | 148/208 [00:46<00:18,  3.20it/s]\u001b[A\n",
            " 72%|███████▏  | 149/208 [00:47<00:17,  3.30it/s]\u001b[A\n",
            " 72%|███████▏  | 150/208 [00:47<00:18,  3.20it/s]\u001b[A\n",
            " 73%|███████▎  | 151/208 [00:47<00:18,  3.12it/s]\u001b[A"
          ],
          "name": "stderr"
        },
        {
          "output_type": "stream",
          "text": [
            "22.36246109008789\n",
            "ggcadrystm\n",
            "[23, 23, 48, 14, 11, 49, 63, 21, 14, 43]\n",
            "optsrrxIaD\n",
            "[24, 13, 41, 21, 37, 18, 50, 20, 3, 38]\n",
            "tyssd\n",
            "mgne\n",
            "[13, 63, 35, 6, 31, 22, 20, 1, 12, 19]\n",
            "pethumtlgg\n",
            "[13, 44, 2, 14, 41, 5, 11, 31, 23, 41]\n",
            "sydycknnns\n",
            "[13, 46, 59, 34, 61, 0, 11, 52, 25, 39]\n"
          ],
          "name": "stdout"
        },
        {
          "output_type": "stream",
          "text": [
            "\n",
            " 73%|███████▎  | 152/208 [00:48<00:18,  3.06it/s]\u001b[A\n",
            " 74%|███████▎  | 153/208 [00:48<00:17,  3.09it/s]\u001b[A\n",
            " 74%|███████▍  | 154/208 [00:48<00:17,  3.02it/s]\u001b[A\n",
            " 75%|███████▍  | 155/208 [00:49<00:16,  3.16it/s]\u001b[A\n",
            " 75%|███████▌  | 156/208 [00:49<00:16,  3.22it/s]\u001b[A\n",
            " 75%|███████▌  | 157/208 [00:49<00:15,  3.31it/s]\u001b[A\n",
            " 76%|███████▌  | 158/208 [00:49<00:15,  3.23it/s]\u001b[A\n",
            " 76%|███████▋  | 159/208 [00:50<00:15,  3.11it/s]\u001b[A\n",
            " 77%|███████▋  | 160/208 [00:50<00:14,  3.23it/s]\u001b[A\n",
            " 77%|███████▋  | 161/208 [00:50<00:14,  3.23it/s]\u001b[A\n",
            " 78%|███████▊  | 162/208 [00:51<00:14,  3.16it/s]\u001b[A\n",
            " 78%|███████▊  | 163/208 [00:51<00:13,  3.24it/s]\u001b[A\n",
            " 79%|███████▉  | 164/208 [00:51<00:13,  3.26it/s]\u001b[A\n",
            " 79%|███████▉  | 165/208 [00:52<00:13,  3.20it/s]\u001b[A\n",
            " 80%|███████▉  | 166/208 [00:52<00:13,  3.10it/s]\u001b[A\n",
            " 80%|████████  | 167/208 [00:52<00:13,  2.95it/s]\u001b[A\n",
            " 81%|████████  | 168/208 [00:53<00:13,  2.88it/s]\u001b[A\n",
            " 81%|████████▏ | 169/208 [00:53<00:13,  2.97it/s]\u001b[A\n",
            " 82%|████████▏ | 170/208 [00:53<00:12,  3.03it/s]\u001b[A\n",
            " 82%|████████▏ | 171/208 [00:54<00:12,  2.97it/s]\u001b[A\n",
            " 83%|████████▎ | 172/208 [00:54<00:11,  3.04it/s]\u001b[A\n",
            " 83%|████████▎ | 173/208 [00:54<00:11,  3.14it/s]\u001b[A\n",
            " 84%|████████▎ | 174/208 [00:55<00:10,  3.11it/s]\u001b[A\n",
            " 84%|████████▍ | 175/208 [00:55<00:10,  3.19it/s]\u001b[A\n",
            " 85%|████████▍ | 176/208 [00:55<00:09,  3.25it/s]\u001b[A\n",
            " 85%|████████▌ | 177/208 [00:56<00:09,  3.12it/s]\u001b[A\n",
            " 86%|████████▌ | 178/208 [00:56<00:09,  3.17it/s]\u001b[A\n",
            " 86%|████████▌ | 179/208 [00:56<00:08,  3.32it/s]\u001b[A\n",
            " 87%|████████▋ | 180/208 [00:56<00:08,  3.33it/s]\u001b[A\n",
            " 87%|████████▋ | 181/208 [00:57<00:08,  3.18it/s]\u001b[A\n",
            " 88%|████████▊ | 182/208 [00:57<00:07,  3.26it/s]\u001b[A\n",
            " 88%|████████▊ | 183/208 [00:57<00:07,  3.27it/s]\u001b[A\n",
            " 88%|████████▊ | 184/208 [00:58<00:07,  3.29it/s]\u001b[A\n",
            " 89%|████████▉ | 185/208 [00:58<00:07,  3.21it/s]\u001b[A\n",
            " 89%|████████▉ | 186/208 [00:58<00:06,  3.31it/s]\u001b[A\n",
            " 90%|████████▉ | 187/208 [00:59<00:06,  3.32it/s]\u001b[A\n",
            " 90%|█████████ | 188/208 [00:59<00:06,  3.32it/s]\u001b[A\n",
            " 91%|█████████ | 189/208 [00:59<00:05,  3.41it/s]\u001b[A\n",
            " 91%|█████████▏| 190/208 [00:59<00:05,  3.40it/s]\u001b[A\n",
            " 92%|█████████▏| 191/208 [01:00<00:04,  3.50it/s]\u001b[A\n",
            " 92%|█████████▏| 192/208 [01:00<00:04,  3.47it/s]\u001b[A\n",
            " 93%|█████████▎| 193/208 [01:00<00:04,  3.47it/s]\u001b[A\n",
            " 93%|█████████▎| 194/208 [01:01<00:04,  3.36it/s]\u001b[A\n",
            " 94%|█████████▍| 195/208 [01:01<00:03,  3.31it/s]\u001b[A\n",
            " 94%|█████████▍| 196/208 [01:01<00:03,  3.39it/s]\u001b[A\n",
            " 95%|█████████▍| 197/208 [01:02<00:03,  3.43it/s]\u001b[A\n",
            " 95%|█████████▌| 198/208 [01:02<00:02,  3.34it/s]\u001b[A\n",
            " 96%|█████████▌| 199/208 [01:02<00:02,  3.42it/s]\u001b[A\n",
            " 96%|█████████▌| 200/208 [01:02<00:02,  3.30it/s]\u001b[A\n",
            " 97%|█████████▋| 201/208 [01:03<00:02,  3.29it/s]\u001b[A"
          ],
          "name": "stderr"
        },
        {
          "output_type": "stream",
          "text": [
            "21.12860107421875\n",
            "cicsymasyl\n",
            "[13, 56, 61, 0, 26, 43, 3, 52, 33, 36]\n",
            "ongeBmaeio\n",
            "[8, 27, 41, 44, 49, 50, 10, 51, 9, 28]\n",
            "pylnisnyyd\n",
            "[13, 33, 4, 52, 56, 47, 35, 57, 54, 31]\n",
            "tollyeddly\n",
            "[13, 8, 36, 16, 46, 17, 59, 31, 16, 60]\n",
            "culeyktdha\n",
            "[13, 8, 18, 19, 34, 48, 14, 11, 20, 3]\n"
          ],
          "name": "stdout"
        },
        {
          "output_type": "stream",
          "text": [
            "\n",
            " 97%|█████████▋| 202/208 [01:03<00:01,  3.23it/s]\u001b[A\n",
            " 98%|█████████▊| 203/208 [01:03<00:01,  3.26it/s]\u001b[A\n",
            " 98%|█████████▊| 204/208 [01:04<00:01,  3.17it/s]\u001b[A\n",
            " 99%|█████████▊| 205/208 [01:04<00:00,  3.20it/s]\u001b[A\n",
            " 99%|█████████▉| 206/208 [01:04<00:00,  3.27it/s]\u001b[A\n",
            "100%|█████████▉| 207/208 [01:05<00:00,  3.26it/s]\u001b[A\n",
            "100%|██████████| 208/208 [01:05<00:00,  3.89it/s]\u001b[A\n",
            "\u001b[A"
          ],
          "name": "stderr"
        },
        {
          "output_type": "stream",
          "text": [
            "21.11990737915039\n",
            "geWyhletry\n",
            "[13, 51, 30, 63, 13, 7, 51, 23, 18, 46]\n"
          ],
          "name": "stdout"
        },
        {
          "output_type": "stream",
          "text": [
            "\n",
            "  0%|          | 0/208 [00:00<?, ?it/s]\u001b[A"
          ],
          "name": "stderr"
        },
        {
          "output_type": "stream",
          "text": [
            "========= Results: epoch 1 of 10 =========\n",
            "train loss: 25.25| valid loss: 21.32\n",
            "\n",
            "========= Epoch 2 of 10 =========\n"
          ],
          "name": "stdout"
        },
        {
          "output_type": "stream",
          "text": [
            "\n",
            "  0%|          | 1/208 [00:00<01:23,  2.47it/s]\u001b[A"
          ],
          "name": "stderr"
        },
        {
          "output_type": "stream",
          "text": [
            "21.428335189819336\n",
            "bhmeausell\n",
            "[13, 63, 13, 51, 28, 25, 21, 10, 36, 16]\n",
            "onVngeekyz\n",
            "[8, 2, 9, 27, 1, 55, 55, 0, 60, 45]\n",
            "phsssnalon\n",
            "[13, 63, 21, 58, 62, 12, 3, 38, 28, 12]\n",
            "khrdngSeyu\n",
            "[13, 63, 17, 59, 27, 1, 16, 19, 46, 25]\n",
            "codlymehac\n",
            "[13, 44, 31, 16, 60, 42, 5, 20, 3, 48]\n"
          ],
          "name": "stdout"
        },
        {
          "output_type": "stream",
          "text": [
            "\n",
            "  1%|          | 2/208 [00:00<01:20,  2.57it/s]\u001b[A\n",
            "  1%|▏         | 3/208 [00:01<01:14,  2.75it/s]\u001b[A\n",
            "  2%|▏         | 4/208 [00:01<01:11,  2.85it/s]\u001b[A\n",
            "  2%|▏         | 5/208 [00:01<01:09,  2.90it/s]\u001b[A\n",
            "  3%|▎         | 6/208 [00:02<01:07,  3.00it/s]\u001b[A\n",
            "  3%|▎         | 7/208 [00:02<01:05,  3.07it/s]\u001b[A\n",
            "  4%|▍         | 8/208 [00:02<01:02,  3.18it/s]\u001b[A\n",
            "  4%|▍         | 9/208 [00:02<01:01,  3.23it/s]\u001b[A\n",
            "  5%|▍         | 10/208 [00:03<01:00,  3.27it/s]\u001b[A\n",
            "  5%|▌         | 11/208 [00:03<01:00,  3.24it/s]\u001b[A\n",
            "  6%|▌         | 12/208 [00:03<01:00,  3.26it/s]\u001b[A\n",
            "  6%|▋         | 13/208 [00:04<01:01,  3.20it/s]\u001b[A\n",
            "  7%|▋         | 14/208 [00:04<01:01,  3.18it/s]\u001b[A\n",
            "  7%|▋         | 15/208 [00:04<01:01,  3.16it/s]\u001b[A\n",
            "  8%|▊         | 16/208 [00:05<00:59,  3.20it/s]\u001b[A\n",
            "  8%|▊         | 17/208 [00:05<01:00,  3.18it/s]\u001b[A\n",
            "  9%|▊         | 18/208 [00:05<00:59,  3.19it/s]\u001b[A\n",
            "  9%|▉         | 19/208 [00:06<01:00,  3.11it/s]\u001b[A\n",
            " 10%|▉         | 20/208 [00:06<00:58,  3.19it/s]\u001b[A\n",
            " 10%|█         | 21/208 [00:06<00:58,  3.22it/s]\u001b[A\n",
            " 11%|█         | 22/208 [00:06<00:55,  3.33it/s]\u001b[A\n",
            " 11%|█         | 23/208 [00:07<00:54,  3.38it/s]\u001b[A\n",
            " 12%|█▏        | 24/208 [00:07<00:54,  3.39it/s]\u001b[A\n",
            " 12%|█▏        | 25/208 [00:07<00:54,  3.39it/s]\u001b[A\n",
            " 12%|█▎        | 26/208 [00:08<00:54,  3.36it/s]\u001b[A\n",
            " 13%|█▎        | 27/208 [00:08<00:54,  3.32it/s]\u001b[A\n",
            " 13%|█▎        | 28/208 [00:08<00:55,  3.25it/s]\u001b[A\n",
            " 14%|█▍        | 29/208 [00:09<00:57,  3.14it/s]\u001b[A\n",
            " 14%|█▍        | 30/208 [00:09<00:58,  3.06it/s]\u001b[A\n",
            " 15%|█▍        | 31/208 [00:09<00:58,  3.02it/s]\u001b[A\n",
            " 15%|█▌        | 32/208 [00:10<00:55,  3.18it/s]\u001b[A\n",
            " 16%|█▌        | 33/208 [00:10<00:55,  3.14it/s]\u001b[A\n",
            " 16%|█▋        | 34/208 [00:10<00:54,  3.19it/s]\u001b[A\n",
            " 17%|█▋        | 35/208 [00:10<00:52,  3.27it/s]\u001b[A\n",
            " 17%|█▋        | 36/208 [00:11<00:53,  3.23it/s]\u001b[A\n",
            " 18%|█▊        | 37/208 [00:11<00:53,  3.23it/s]\u001b[A\n",
            " 18%|█▊        | 38/208 [00:11<00:50,  3.35it/s]\u001b[A\n",
            " 19%|█▉        | 39/208 [00:12<00:51,  3.29it/s]\u001b[A\n",
            " 19%|█▉        | 40/208 [00:12<00:51,  3.28it/s]\u001b[A\n",
            " 20%|█▉        | 41/208 [00:12<00:52,  3.21it/s]\u001b[A\n",
            " 20%|██        | 42/208 [00:13<00:51,  3.23it/s]\u001b[A\n",
            " 21%|██        | 43/208 [00:13<00:53,  3.08it/s]\u001b[A\n",
            " 21%|██        | 44/208 [00:13<00:53,  3.08it/s]\u001b[A\n",
            " 22%|██▏       | 45/208 [00:14<00:51,  3.17it/s]\u001b[A\n",
            " 22%|██▏       | 46/208 [00:14<00:49,  3.24it/s]\u001b[A\n",
            " 23%|██▎       | 47/208 [00:14<00:47,  3.39it/s]\u001b[A\n",
            " 23%|██▎       | 48/208 [00:14<00:46,  3.42it/s]\u001b[A\n",
            " 24%|██▎       | 49/208 [00:15<00:46,  3.43it/s]\u001b[A\n",
            " 24%|██▍       | 50/208 [00:15<00:48,  3.27it/s]\u001b[A\n",
            " 25%|██▍       | 51/208 [00:15<00:49,  3.16it/s]\u001b[A"
          ],
          "name": "stderr"
        },
        {
          "output_type": "stream",
          "text": [
            "21.015613555908203\n",
            "miiidesset\n",
            "[13, 56, 40, 17, 59, 51, 58, 62, 14, 5]\n",
            "pydlyqdnes\n",
            "[13, 34, 31, 16, 60, 55, 31, 27, 29, 58]\n",
            "terylyonel\n",
            "[13, 44, 18, 57, 7, 33, 28, 35, 14, 16]\n",
            "shytgeedly\n",
            "[13, 7, 33, 20, 6, 51, 55, 31, 16, 60]\n",
            "bydlyteney\n",
            "[13, 34, 31, 16, 46, 45, 19, 27, 51, 57]\n"
          ],
          "name": "stdout"
        },
        {
          "output_type": "stream",
          "text": [
            "\n",
            " 25%|██▌       | 52/208 [00:16<00:49,  3.16it/s]\u001b[A\n",
            " 25%|██▌       | 53/208 [00:16<00:47,  3.27it/s]\u001b[A\n",
            " 26%|██▌       | 54/208 [00:16<00:46,  3.32it/s]\u001b[A\n",
            " 26%|██▋       | 55/208 [00:17<00:47,  3.24it/s]\u001b[A\n",
            " 27%|██▋       | 56/208 [00:17<00:50,  3.00it/s]\u001b[A\n",
            " 27%|██▋       | 57/208 [00:17<00:50,  3.00it/s]\u001b[A\n",
            " 28%|██▊       | 58/208 [00:18<00:49,  3.04it/s]\u001b[A\n",
            " 28%|██▊       | 59/208 [00:18<00:49,  3.00it/s]\u001b[A\n",
            " 29%|██▉       | 60/208 [00:18<00:48,  3.07it/s]\u001b[A\n",
            " 29%|██▉       | 61/208 [00:19<00:45,  3.26it/s]\u001b[A\n",
            " 30%|██▉       | 62/208 [00:19<00:47,  3.10it/s]\u001b[A\n",
            " 30%|███       | 63/208 [00:19<00:44,  3.25it/s]\u001b[A\n",
            " 31%|███       | 64/208 [00:20<00:45,  3.18it/s]\u001b[A\n",
            " 31%|███▏      | 65/208 [00:20<00:43,  3.30it/s]\u001b[A\n",
            " 32%|███▏      | 66/208 [00:20<00:43,  3.28it/s]\u001b[A\n",
            " 32%|███▏      | 67/208 [00:20<00:43,  3.23it/s]\u001b[A\n",
            " 33%|███▎      | 68/208 [00:21<00:43,  3.24it/s]\u001b[A\n",
            " 33%|███▎      | 69/208 [00:21<00:43,  3.22it/s]\u001b[A\n",
            " 34%|███▎      | 70/208 [00:21<00:42,  3.26it/s]\u001b[A\n",
            " 34%|███▍      | 71/208 [00:22<00:41,  3.28it/s]\u001b[A\n",
            " 35%|███▍      | 72/208 [00:22<00:40,  3.33it/s]\u001b[A\n",
            " 35%|███▌      | 73/208 [00:22<00:40,  3.37it/s]\u001b[A\n",
            " 36%|███▌      | 74/208 [00:23<00:39,  3.35it/s]\u001b[A\n",
            " 36%|███▌      | 75/208 [00:23<00:41,  3.19it/s]\u001b[A\n",
            " 37%|███▋      | 76/208 [00:23<00:39,  3.31it/s]\u001b[A\n",
            " 37%|███▋      | 77/208 [00:24<00:39,  3.29it/s]\u001b[A\n",
            " 38%|███▊      | 78/208 [00:24<00:40,  3.25it/s]\u001b[A\n",
            " 38%|███▊      | 79/208 [00:24<00:40,  3.22it/s]\u001b[A\n",
            " 38%|███▊      | 80/208 [00:24<00:40,  3.18it/s]\u001b[A\n",
            " 39%|███▉      | 81/208 [00:25<00:39,  3.23it/s]\u001b[A\n",
            " 39%|███▉      | 82/208 [00:25<00:39,  3.17it/s]\u001b[A\n",
            " 40%|███▉      | 83/208 [00:25<00:38,  3.21it/s]\u001b[A\n",
            " 40%|████      | 84/208 [00:26<00:38,  3.25it/s]\u001b[A\n",
            " 41%|████      | 85/208 [00:26<00:37,  3.25it/s]\u001b[A\n",
            " 41%|████▏     | 86/208 [00:26<00:38,  3.18it/s]\u001b[A\n",
            " 42%|████▏     | 87/208 [00:27<00:38,  3.11it/s]\u001b[A\n",
            " 42%|████▏     | 88/208 [00:27<00:38,  3.09it/s]\u001b[A\n",
            " 43%|████▎     | 89/208 [00:27<00:38,  3.07it/s]\u001b[A\n",
            " 43%|████▎     | 90/208 [00:28<00:38,  3.04it/s]\u001b[A\n",
            " 44%|████▍     | 91/208 [00:28<00:37,  3.11it/s]\u001b[A\n",
            " 44%|████▍     | 92/208 [00:28<00:38,  3.01it/s]\u001b[A\n",
            " 45%|████▍     | 93/208 [00:29<00:37,  3.07it/s]\u001b[A\n",
            " 45%|████▌     | 94/208 [00:29<00:36,  3.16it/s]\u001b[A\n",
            " 46%|████▌     | 95/208 [00:29<00:36,  3.06it/s]\u001b[A\n",
            " 46%|████▌     | 96/208 [00:30<00:36,  3.04it/s]\u001b[A\n",
            " 47%|████▋     | 97/208 [00:30<00:35,  3.14it/s]\u001b[A\n",
            " 47%|████▋     | 98/208 [00:30<00:35,  3.07it/s]\u001b[A\n",
            " 48%|████▊     | 99/208 [00:31<00:35,  3.10it/s]\u001b[A\n",
            " 48%|████▊     | 100/208 [00:31<00:33,  3.23it/s]\u001b[A\n",
            " 49%|████▊     | 101/208 [00:31<00:32,  3.31it/s]\u001b[A"
          ],
          "name": "stderr"
        },
        {
          "output_type": "stream",
          "text": [
            "20.228294372558594\n",
            "puyrherlyg\n",
            "[13, 7, 33, 13, 63, 44, 49, 16, 34, 1]\n",
            "eghiclleal\n",
            "[8, 13, 63, 56, 40, 36, 16, 15, 27, 32]\n",
            "foxishndng\n",
            "[13, 8, 4, 56, 2, 42, 55, 31, 27, 6]\n",
            "vedglyteda\n",
            "[13, 51, 30, 1, 16, 60, 59, 51, 30, 3]\n",
            "hitallyede\n",
            "[13, 8, 4, 3, 36, 16, 34, 51, 30, 14]\n"
          ],
          "name": "stdout"
        },
        {
          "output_type": "stream",
          "text": [
            "\n",
            " 49%|████▉     | 102/208 [00:31<00:33,  3.16it/s]\u001b[A\n",
            " 50%|████▉     | 103/208 [00:32<00:32,  3.20it/s]\u001b[A\n",
            " 50%|█████     | 104/208 [00:32<00:32,  3.24it/s]\u001b[A\n",
            " 50%|█████     | 105/208 [00:32<00:30,  3.34it/s]\u001b[A\n",
            " 51%|█████     | 106/208 [00:33<00:30,  3.34it/s]\u001b[A\n",
            " 51%|█████▏    | 107/208 [00:33<00:31,  3.25it/s]\u001b[A\n",
            " 52%|█████▏    | 108/208 [00:33<00:30,  3.26it/s]\u001b[A\n",
            " 52%|█████▏    | 109/208 [00:34<00:30,  3.29it/s]\u001b[A\n",
            " 53%|█████▎    | 110/208 [00:34<00:29,  3.32it/s]\u001b[A\n",
            " 53%|█████▎    | 111/208 [00:34<00:28,  3.44it/s]\u001b[A\n",
            " 54%|█████▍    | 112/208 [00:34<00:28,  3.34it/s]\u001b[A\n",
            " 54%|█████▍    | 113/208 [00:35<00:30,  3.16it/s]\u001b[A\n",
            " 55%|█████▍    | 114/208 [00:35<00:28,  3.27it/s]\u001b[A\n",
            " 55%|█████▌    | 115/208 [00:35<00:27,  3.32it/s]\u001b[A\n",
            " 56%|█████▌    | 116/208 [00:36<00:28,  3.20it/s]\u001b[A\n",
            " 56%|█████▋    | 117/208 [00:36<00:27,  3.27it/s]\u001b[A\n",
            " 57%|█████▋    | 118/208 [00:36<00:27,  3.23it/s]\u001b[A\n",
            " 57%|█████▋    | 119/208 [00:37<00:27,  3.24it/s]\u001b[A\n",
            " 58%|█████▊    | 120/208 [00:37<00:26,  3.28it/s]\u001b[A\n",
            " 58%|█████▊    | 121/208 [00:37<00:26,  3.33it/s]\u001b[A\n",
            " 59%|█████▊    | 122/208 [00:38<00:26,  3.30it/s]\u001b[A\n",
            " 59%|█████▉    | 123/208 [00:38<00:25,  3.30it/s]\u001b[A\n",
            " 60%|█████▉    | 124/208 [00:38<00:25,  3.34it/s]\u001b[A\n",
            " 60%|██████    | 125/208 [00:38<00:24,  3.36it/s]\u001b[A\n",
            " 61%|██████    | 126/208 [00:39<00:24,  3.31it/s]\u001b[A\n",
            " 61%|██████    | 127/208 [00:39<00:25,  3.18it/s]\u001b[A\n",
            " 62%|██████▏   | 128/208 [00:39<00:24,  3.21it/s]\u001b[A\n",
            " 62%|██████▏   | 129/208 [00:40<00:25,  3.16it/s]\u001b[A\n",
            " 62%|██████▎   | 130/208 [00:40<00:24,  3.20it/s]\u001b[A\n",
            " 63%|██████▎   | 131/208 [00:40<00:23,  3.25it/s]\u001b[A\n",
            " 63%|██████▎   | 132/208 [00:41<00:24,  3.10it/s]\u001b[A\n",
            " 64%|██████▍   | 133/208 [00:41<00:25,  2.99it/s]\u001b[A\n",
            " 64%|██████▍   | 134/208 [00:41<00:24,  3.02it/s]\u001b[A\n",
            " 65%|██████▍   | 135/208 [00:42<00:24,  3.04it/s]\u001b[A\n",
            " 65%|██████▌   | 136/208 [00:42<00:23,  3.09it/s]\u001b[A\n",
            " 66%|██████▌   | 137/208 [00:42<00:22,  3.12it/s]\u001b[A\n",
            " 66%|██████▋   | 138/208 [00:43<00:21,  3.23it/s]\u001b[A\n",
            " 67%|██████▋   | 139/208 [00:43<00:21,  3.22it/s]\u001b[A\n",
            " 67%|██████▋   | 140/208 [00:43<00:21,  3.23it/s]\u001b[A\n",
            " 68%|██████▊   | 141/208 [00:43<00:19,  3.36it/s]\u001b[A\n",
            " 68%|██████▊   | 142/208 [00:44<00:19,  3.31it/s]\u001b[A\n",
            " 69%|██████▉   | 143/208 [00:44<00:19,  3.28it/s]\u001b[A\n",
            " 69%|██████▉   | 144/208 [00:44<00:20,  3.20it/s]\u001b[A\n",
            " 70%|██████▉   | 145/208 [00:45<00:19,  3.25it/s]\u001b[A\n",
            " 70%|███████   | 146/208 [00:45<00:18,  3.28it/s]\u001b[A\n",
            " 71%|███████   | 147/208 [00:45<00:20,  3.01it/s]\u001b[A\n",
            " 71%|███████   | 148/208 [00:46<00:20,  2.93it/s]\u001b[A\n",
            " 72%|███████▏  | 149/208 [00:46<00:21,  2.79it/s]\u001b[A\n",
            " 72%|███████▏  | 150/208 [00:47<00:20,  2.89it/s]\u001b[A\n",
            " 73%|███████▎  | 151/208 [00:47<00:19,  2.97it/s]\u001b[A"
          ],
          "name": "stderr"
        },
        {
          "output_type": "stream",
          "text": [
            "20.80813217163086\n",
            "tedfttmeng\n",
            "[13, 51, 30, 48, 41, 42, 50, 10, 27, 1]\n",
            "amenglerse\n",
            "[8, 18, 10, 27, 6, 16, 15, 11, 21, 29]\n",
            "olylytralt\n",
            "[8, 4, 33, 16, 46, 23, 7, 3, 52, 23]\n",
            "ollSrmenth\n",
            "[8, 18, 16, 15, 49, 50, 10, 27, 23, 7]\n",
            "pyqdlyoner\n",
            "[13, 33, 21, 59, 16, 60, 28, 35, 51, 30]\n"
          ],
          "name": "stdout"
        },
        {
          "output_type": "stream",
          "text": [
            "\n",
            " 73%|███████▎  | 152/208 [00:47<00:18,  2.97it/s]\u001b[A\n",
            " 74%|███████▎  | 153/208 [00:47<00:18,  3.05it/s]\u001b[A\n",
            " 74%|███████▍  | 154/208 [00:48<00:16,  3.20it/s]\u001b[A\n",
            " 75%|███████▍  | 155/208 [00:48<00:16,  3.18it/s]\u001b[A\n",
            " 75%|███████▌  | 156/208 [00:48<00:15,  3.32it/s]\u001b[A\n",
            " 75%|███████▌  | 157/208 [00:49<00:15,  3.30it/s]\u001b[A\n",
            " 76%|███████▌  | 158/208 [00:49<00:15,  3.28it/s]\u001b[A\n",
            " 76%|███████▋  | 159/208 [00:49<00:15,  3.21it/s]\u001b[A\n",
            " 77%|███████▋  | 160/208 [00:50<00:14,  3.24it/s]\u001b[A\n",
            " 77%|███████▋  | 161/208 [00:50<00:14,  3.32it/s]\u001b[A\n",
            " 78%|███████▊  | 162/208 [00:50<00:13,  3.29it/s]\u001b[A\n",
            " 78%|███████▊  | 163/208 [00:50<00:13,  3.24it/s]\u001b[A\n",
            " 79%|███████▉  | 164/208 [00:51<00:13,  3.30it/s]\u001b[A\n",
            " 79%|███████▉  | 165/208 [00:51<00:13,  3.31it/s]\u001b[A\n",
            " 80%|███████▉  | 166/208 [00:51<00:12,  3.40it/s]\u001b[A\n",
            " 80%|████████  | 167/208 [00:52<00:11,  3.47it/s]\u001b[A\n",
            " 81%|████████  | 168/208 [00:52<00:11,  3.46it/s]\u001b[A\n",
            " 81%|████████▏ | 169/208 [00:52<00:11,  3.48it/s]\u001b[A\n",
            " 82%|████████▏ | 170/208 [00:53<00:11,  3.33it/s]\u001b[A\n",
            " 82%|████████▏ | 171/208 [00:53<00:10,  3.45it/s]\u001b[A\n",
            " 83%|████████▎ | 172/208 [00:53<00:11,  3.27it/s]\u001b[A\n",
            " 83%|████████▎ | 173/208 [00:53<00:10,  3.33it/s]\u001b[A\n",
            " 84%|████████▎ | 174/208 [00:54<00:09,  3.46it/s]\u001b[A\n",
            " 84%|████████▍ | 175/208 [00:54<00:09,  3.35it/s]\u001b[A\n",
            " 85%|████████▍ | 176/208 [00:54<00:09,  3.33it/s]\u001b[A\n",
            " 85%|████████▌ | 177/208 [00:55<00:09,  3.33it/s]\u001b[A\n",
            " 86%|████████▌ | 178/208 [00:55<00:08,  3.37it/s]\u001b[A\n",
            " 86%|████████▌ | 179/208 [00:55<00:08,  3.34it/s]\u001b[A\n",
            " 87%|████████▋ | 180/208 [00:56<00:08,  3.24it/s]\u001b[A\n",
            " 87%|████████▋ | 181/208 [00:56<00:08,  3.34it/s]\u001b[A\n",
            " 88%|████████▊ | 182/208 [00:56<00:07,  3.36it/s]\u001b[A\n",
            " 88%|████████▊ | 183/208 [00:56<00:07,  3.29it/s]\u001b[A\n",
            " 88%|████████▊ | 184/208 [00:57<00:07,  3.34it/s]\u001b[A\n",
            " 89%|████████▉ | 185/208 [00:57<00:07,  3.28it/s]\u001b[A\n",
            " 89%|████████▉ | 186/208 [00:57<00:06,  3.27it/s]\u001b[A\n",
            " 90%|████████▉ | 187/208 [00:58<00:06,  3.27it/s]\u001b[A\n",
            " 90%|█████████ | 188/208 [00:58<00:06,  3.20it/s]\u001b[A\n",
            " 91%|█████████ | 189/208 [00:58<00:05,  3.29it/s]\u001b[A\n",
            " 91%|█████████▏| 190/208 [00:59<00:05,  3.33it/s]\u001b[A\n",
            " 92%|█████████▏| 191/208 [00:59<00:05,  3.14it/s]\u001b[A\n",
            " 92%|█████████▏| 192/208 [00:59<00:05,  3.09it/s]\u001b[A\n",
            " 93%|█████████▎| 193/208 [01:00<00:04,  3.21it/s]\u001b[A\n",
            " 93%|█████████▎| 194/208 [01:00<00:04,  3.17it/s]\u001b[A\n",
            " 94%|█████████▍| 195/208 [01:00<00:03,  3.28it/s]\u001b[A\n",
            " 94%|█████████▍| 196/208 [01:00<00:03,  3.29it/s]\u001b[A\n",
            " 95%|█████████▍| 197/208 [01:01<00:03,  3.24it/s]\u001b[A\n",
            " 95%|█████████▌| 198/208 [01:01<00:03,  3.21it/s]\u001b[A\n",
            " 96%|█████████▌| 199/208 [01:01<00:02,  3.31it/s]\u001b[A\n",
            " 96%|█████████▌| 200/208 [01:02<00:02,  3.35it/s]\u001b[A\n",
            " 97%|█████████▋| 201/208 [01:02<00:02,  3.31it/s]\u001b[A"
          ],
          "name": "stderr"
        },
        {
          "output_type": "stream",
          "text": [
            "20.44998550415039\n",
            "syslerlern\n",
            "[13, 34, 39, 16, 15, 11, 16, 15, 11, 27]\n",
            "oblessssee\n",
            "[8, 36, 16, 15, 58, 62, 58, 21, 14, 14]\n",
            "-ermataltm\n",
            "[13, 44, 49, 50, 10, 23, 3, 52, 23, 50]\n",
            "cherntleri\n",
            "[13, 63, 44, 11, 27, 41, 16, 15, 11, 56]\n",
            "edlonerngl\n",
            "[8, 13, 7, 28, 12, 51, 30, 27, 6, 16]\n"
          ],
          "name": "stdout"
        },
        {
          "output_type": "stream",
          "text": [
            "\n",
            " 97%|█████████▋| 202/208 [01:02<00:01,  3.24it/s]\u001b[A\n",
            " 98%|█████████▊| 203/208 [01:03<00:01,  3.11it/s]\u001b[A\n",
            " 98%|█████████▊| 204/208 [01:03<00:01,  3.12it/s]\u001b[A\n",
            " 99%|█████████▊| 205/208 [01:03<00:00,  3.11it/s]\u001b[A\n",
            " 99%|█████████▉| 206/208 [01:04<00:00,  3.20it/s]\u001b[A\n",
            "100%|█████████▉| 207/208 [01:04<00:00,  3.23it/s]\u001b[A\n",
            "100%|██████████| 208/208 [01:04<00:00,  3.84it/s]\u001b[A\n",
            "\u001b[A"
          ],
          "name": "stderr"
        },
        {
          "output_type": "stream",
          "text": [
            "20.708906173706055\n",
            "werasysntm\n",
            "[13, 8, 18, 3, 52, 34, 52, 27, 41, 43]\n"
          ],
          "name": "stdout"
        },
        {
          "output_type": "stream",
          "text": [
            "\n",
            "  0%|          | 0/208 [00:00<?, ?it/s]\u001b[A"
          ],
          "name": "stderr"
        },
        {
          "output_type": "stream",
          "text": [
            "========= Results: epoch 2 of 10 =========\n",
            "train loss: 20.83| valid loss: 20.69\n",
            "\n",
            "========= Epoch 3 of 10 =========\n"
          ],
          "name": "stdout"
        },
        {
          "output_type": "stream",
          "text": [
            "\n",
            "  0%|          | 1/208 [00:00<01:34,  2.20it/s]\u001b[A"
          ],
          "name": "stderr"
        },
        {
          "output_type": "stream",
          "text": [
            "20.776683807373047\n",
            "hnperallyl\n",
            "[8, 24, 13, 44, 11, 3, 36, 16, 54, 16]\n",
            "irdyyllyry\n",
            "[8, 17, 59, 60, 34, 36, 16, 60, 55, 60]\n",
            "tlivenglym\n",
            "[13, 7, 56, 45, 19, 27, 1, 16, 60, 50]\n",
            "umaggerngl\n",
            "[8, 50, 10, 27, 6, 51, 30, 27, 6, 16]\n",
            "perousless\n",
            "[13, 44, 49, 28, 25, 39, 16, 15, 58, 21]\n"
          ],
          "name": "stdout"
        },
        {
          "output_type": "stream",
          "text": [
            "\n",
            "  1%|          | 2/208 [00:00<01:23,  2.46it/s]\u001b[A\n",
            "  1%|▏         | 3/208 [00:01<01:18,  2.62it/s]\u001b[A\n",
            "  2%|▏         | 4/208 [00:01<01:12,  2.81it/s]\u001b[A\n",
            "  2%|▏         | 5/208 [00:01<01:11,  2.83it/s]\u001b[A\n",
            "  3%|▎         | 6/208 [00:02<01:07,  3.00it/s]\u001b[A\n",
            "  3%|▎         | 7/208 [00:02<01:03,  3.14it/s]\u001b[A\n",
            "  4%|▍         | 8/208 [00:02<01:01,  3.24it/s]\u001b[A\n",
            "  4%|▍         | 9/208 [00:02<01:06,  3.01it/s]\u001b[A\n",
            "  5%|▍         | 10/208 [00:03<01:06,  2.97it/s]\u001b[A\n",
            "  5%|▌         | 11/208 [00:03<01:08,  2.90it/s]\u001b[A\n",
            "  6%|▌         | 12/208 [00:03<01:06,  2.95it/s]\u001b[A\n",
            "  6%|▋         | 13/208 [00:04<01:03,  3.06it/s]\u001b[A\n",
            "  7%|▋         | 14/208 [00:04<01:02,  3.10it/s]\u001b[A\n",
            "  7%|▋         | 15/208 [00:04<01:04,  3.00it/s]\u001b[A\n",
            "  8%|▊         | 16/208 [00:05<01:01,  3.12it/s]\u001b[A\n",
            "  8%|▊         | 17/208 [00:05<00:59,  3.22it/s]\u001b[A\n",
            "  9%|▊         | 18/208 [00:05<00:59,  3.19it/s]\u001b[A\n",
            "  9%|▉         | 19/208 [00:06<01:01,  3.06it/s]\u001b[A\n",
            " 10%|▉         | 20/208 [00:06<01:01,  3.04it/s]\u001b[A\n",
            " 10%|█         | 21/208 [00:06<01:01,  3.06it/s]\u001b[A\n",
            " 11%|█         | 22/208 [00:07<00:58,  3.21it/s]\u001b[A\n",
            " 11%|█         | 23/208 [00:07<00:56,  3.25it/s]\u001b[A\n",
            " 12%|█▏        | 24/208 [00:07<00:56,  3.23it/s]\u001b[A\n",
            " 12%|█▏        | 25/208 [00:08<00:56,  3.26it/s]\u001b[A\n",
            " 12%|█▎        | 26/208 [00:08<00:54,  3.34it/s]\u001b[A\n",
            " 13%|█▎        | 27/208 [00:08<00:55,  3.27it/s]\u001b[A\n",
            " 13%|█▎        | 28/208 [00:08<00:54,  3.31it/s]\u001b[A\n",
            " 14%|█▍        | 29/208 [00:09<00:53,  3.33it/s]\u001b[A\n",
            " 14%|█▍        | 30/208 [00:09<00:52,  3.39it/s]\u001b[A\n",
            " 15%|█▍        | 31/208 [00:09<00:54,  3.28it/s]\u001b[A\n",
            " 15%|█▌        | 32/208 [00:10<00:54,  3.21it/s]\u001b[A\n",
            " 16%|█▌        | 33/208 [00:10<00:53,  3.25it/s]\u001b[A\n",
            " 16%|█▋        | 34/208 [00:10<00:55,  3.15it/s]\u001b[A\n",
            " 17%|█▋        | 35/208 [00:11<00:53,  3.24it/s]\u001b[A\n",
            " 17%|█▋        | 36/208 [00:11<00:54,  3.14it/s]\u001b[A\n",
            " 18%|█▊        | 37/208 [00:11<00:53,  3.17it/s]\u001b[A\n",
            " 18%|█▊        | 38/208 [00:12<00:55,  3.04it/s]\u001b[A\n",
            " 19%|█▉        | 39/208 [00:12<00:57,  2.96it/s]\u001b[A\n",
            " 19%|█▉        | 40/208 [00:12<00:56,  2.99it/s]\u001b[A\n",
            " 20%|█▉        | 41/208 [00:13<00:55,  3.01it/s]\u001b[A\n",
            " 20%|██        | 42/208 [00:13<00:53,  3.13it/s]\u001b[A\n",
            " 21%|██        | 43/208 [00:13<00:51,  3.18it/s]\u001b[A\n",
            " 21%|██        | 44/208 [00:14<00:51,  3.20it/s]\u001b[A\n",
            " 22%|██▏       | 45/208 [00:14<00:50,  3.21it/s]\u001b[A\n",
            " 22%|██▏       | 46/208 [00:14<00:48,  3.31it/s]\u001b[A\n",
            " 23%|██▎       | 47/208 [00:14<00:48,  3.32it/s]\u001b[A\n",
            " 23%|██▎       | 48/208 [00:15<00:48,  3.32it/s]\u001b[A\n",
            " 24%|██▎       | 49/208 [00:15<00:48,  3.26it/s]\u001b[A\n",
            " 24%|██▍       | 50/208 [00:15<00:47,  3.35it/s]\u001b[A\n",
            " 25%|██▍       | 51/208 [00:16<00:46,  3.36it/s]\u001b[A"
          ],
          "name": "stderr"
        },
        {
          "output_type": "stream",
          "text": [
            "20.462047576904297\n",
            "unssnnerly\n",
            "[8, 17, 48, 62, 27, 41, 51, 30, 16, 34]\n",
            "Medlydarem\n",
            "[13, 51, 30, 16, 34, 59, 3, 22, 14, 50]\n",
            "mheryeretl\n",
            "[13, 63, 44, 11, 57, 44, 11, 44, 23, 7]\n",
            "fullyorate\n",
            "[13, 8, 4, 16, 60, 53, 11, 3, 45, 26]\n",
            "ibyrymllya\n",
            "[8, 13, 63, 7, 33, 50, 36, 16, 60, 48]\n"
          ],
          "name": "stdout"
        },
        {
          "output_type": "stream",
          "text": [
            "\n",
            " 25%|██▌       | 52/208 [00:16<00:47,  3.32it/s]\u001b[A\n",
            " 25%|██▌       | 53/208 [00:16<00:47,  3.23it/s]\u001b[A\n",
            " 26%|██▌       | 54/208 [00:17<00:45,  3.37it/s]\u001b[A\n",
            " 26%|██▋       | 55/208 [00:17<00:46,  3.32it/s]\u001b[A\n",
            " 27%|██▋       | 56/208 [00:17<00:45,  3.34it/s]\u001b[A\n",
            " 27%|██▋       | 57/208 [00:17<00:47,  3.17it/s]\u001b[A\n",
            " 28%|██▊       | 58/208 [00:18<00:46,  3.21it/s]\u001b[A\n",
            " 28%|██▊       | 59/208 [00:18<00:47,  3.16it/s]\u001b[A\n",
            " 29%|██▉       | 60/208 [00:18<00:45,  3.23it/s]\u001b[A\n",
            " 29%|██▉       | 61/208 [00:19<00:45,  3.25it/s]\u001b[A\n",
            " 30%|██▉       | 62/208 [00:19<00:44,  3.28it/s]\u001b[A\n",
            " 30%|███       | 63/208 [00:19<00:43,  3.30it/s]\u001b[A\n",
            " 31%|███       | 64/208 [00:20<00:42,  3.37it/s]\u001b[A\n",
            " 31%|███▏      | 65/208 [00:20<00:44,  3.22it/s]\u001b[A\n",
            " 32%|███▏      | 66/208 [00:20<00:43,  3.25it/s]\u001b[A\n",
            " 32%|███▏      | 67/208 [00:21<00:43,  3.25it/s]\u001b[A\n",
            " 33%|███▎      | 68/208 [00:21<00:43,  3.23it/s]\u001b[A\n",
            " 33%|███▎      | 69/208 [00:21<00:42,  3.25it/s]\u001b[A\n",
            " 34%|███▎      | 70/208 [00:21<00:42,  3.26it/s]\u001b[A\n",
            " 34%|███▍      | 71/208 [00:22<00:42,  3.25it/s]\u001b[A\n",
            " 35%|███▍      | 72/208 [00:22<00:41,  3.27it/s]\u001b[A\n",
            " 35%|███▌      | 73/208 [00:22<00:43,  3.11it/s]\u001b[A\n",
            " 36%|███▌      | 74/208 [00:23<00:42,  3.17it/s]\u001b[A\n",
            " 36%|███▌      | 75/208 [00:23<00:41,  3.19it/s]\u001b[A\n",
            " 37%|███▋      | 76/208 [00:23<00:42,  3.13it/s]\u001b[A\n",
            " 37%|███▋      | 77/208 [00:24<00:41,  3.17it/s]\u001b[A\n",
            " 38%|███▊      | 78/208 [00:24<00:40,  3.17it/s]\u001b[A\n",
            " 38%|███▊      | 79/208 [00:24<00:42,  3.03it/s]\u001b[A\n",
            " 38%|███▊      | 80/208 [00:25<00:40,  3.17it/s]\u001b[A\n",
            " 39%|███▉      | 81/208 [00:25<00:39,  3.25it/s]\u001b[A\n",
            " 39%|███▉      | 82/208 [00:25<00:38,  3.30it/s]\u001b[A\n",
            " 40%|███▉      | 83/208 [00:26<00:37,  3.34it/s]\u001b[A\n",
            " 40%|████      | 84/208 [00:26<00:38,  3.23it/s]\u001b[A\n",
            " 41%|████      | 85/208 [00:26<00:37,  3.27it/s]\u001b[A\n",
            " 41%|████▏     | 86/208 [00:26<00:37,  3.24it/s]\u001b[A\n",
            " 42%|████▏     | 87/208 [00:27<00:37,  3.25it/s]\u001b[A\n",
            " 42%|████▏     | 88/208 [00:27<00:37,  3.24it/s]\u001b[A\n",
            " 43%|████▎     | 89/208 [00:27<00:37,  3.14it/s]\u001b[A\n",
            " 43%|████▎     | 90/208 [00:28<00:36,  3.21it/s]\u001b[A\n",
            " 44%|████▍     | 91/208 [00:28<00:36,  3.23it/s]\u001b[A\n",
            " 44%|████▍     | 92/208 [00:28<00:36,  3.22it/s]\u001b[A\n",
            " 45%|████▍     | 93/208 [00:29<00:35,  3.25it/s]\u001b[A\n",
            " 45%|████▌     | 94/208 [00:29<00:34,  3.27it/s]\u001b[A\n",
            " 46%|████▌     | 95/208 [00:29<00:34,  3.28it/s]\u001b[A\n",
            " 46%|████▌     | 96/208 [00:30<00:34,  3.26it/s]\u001b[A\n",
            " 47%|████▋     | 97/208 [00:30<00:35,  3.16it/s]\u001b[A\n",
            " 47%|████▋     | 98/208 [00:30<00:35,  3.14it/s]\u001b[A\n",
            " 48%|████▊     | 99/208 [00:31<00:34,  3.12it/s]\u001b[A\n",
            " 48%|████▊     | 100/208 [00:31<00:34,  3.09it/s]\u001b[A\n",
            " 49%|████▊     | 101/208 [00:31<00:36,  2.96it/s]\u001b[A"
          ],
          "name": "stderr"
        },
        {
          "output_type": "stream",
          "text": [
            "20.796173095703125\n",
            "thrandlyly\n",
            "[13, 63, 7, 8, 17, 48, 16, 54, 16, 60]\n",
            "eronedlyli\n",
            "[8, 18, 28, 12, 51, 30, 16, 54, 7, 56]\n",
            "omedmeRsso\n",
            "[8, 18, 51, 30, 50, 26, 14, 58, 21, 28]\n",
            "romatetrul\n",
            "[13, 8, 50, 10, 23, 44, 23, 7, 8, 4]\n",
            "dralysslym\n",
            "[13, 7, 3, 32, 34, 58, 62, 16, 46, 50]\n"
          ],
          "name": "stdout"
        },
        {
          "output_type": "stream",
          "text": [
            "\n",
            " 49%|████▉     | 102/208 [00:32<00:34,  3.04it/s]\u001b[A\n",
            " 50%|████▉     | 103/208 [00:32<00:33,  3.11it/s]\u001b[A\n",
            " 50%|█████     | 104/208 [00:32<00:33,  3.15it/s]\u001b[A\n",
            " 50%|█████     | 105/208 [00:32<00:31,  3.28it/s]\u001b[A\n",
            " 51%|█████     | 106/208 [00:33<00:32,  3.15it/s]\u001b[A\n",
            " 51%|█████▏    | 107/208 [00:33<00:31,  3.17it/s]\u001b[A\n",
            " 52%|█████▏    | 108/208 [00:33<00:30,  3.24it/s]\u001b[A\n",
            " 52%|█████▏    | 109/208 [00:34<00:30,  3.28it/s]\u001b[A\n",
            " 53%|█████▎    | 110/208 [00:34<00:30,  3.21it/s]\u001b[A\n",
            " 53%|█████▎    | 111/208 [00:34<00:30,  3.20it/s]\u001b[A\n",
            " 54%|█████▍    | 112/208 [00:35<00:30,  3.11it/s]\u001b[A\n",
            " 54%|█████▍    | 113/208 [00:35<00:29,  3.19it/s]\u001b[A\n",
            " 55%|█████▍    | 114/208 [00:35<00:29,  3.15it/s]\u001b[A\n",
            " 55%|█████▌    | 115/208 [00:36<00:29,  3.18it/s]\u001b[A\n",
            " 56%|█████▌    | 116/208 [00:36<00:28,  3.22it/s]\u001b[A\n",
            " 56%|█████▋    | 117/208 [00:36<00:27,  3.26it/s]\u001b[A\n",
            " 57%|█████▋    | 118/208 [00:37<00:27,  3.27it/s]\u001b[A\n",
            " 57%|█████▋    | 119/208 [00:37<00:26,  3.36it/s]\u001b[A\n",
            " 58%|█████▊    | 120/208 [00:37<00:27,  3.22it/s]\u001b[A\n",
            " 58%|█████▊    | 121/208 [00:37<00:26,  3.30it/s]\u001b[A\n",
            " 59%|█████▊    | 122/208 [00:38<00:26,  3.22it/s]\u001b[A\n",
            " 59%|█████▉    | 123/208 [00:38<00:25,  3.32it/s]\u001b[A\n",
            " 60%|█████▉    | 124/208 [00:38<00:25,  3.24it/s]\u001b[A\n",
            " 60%|██████    | 125/208 [00:39<00:25,  3.24it/s]\u001b[A\n",
            " 61%|██████    | 126/208 [00:39<00:24,  3.34it/s]\u001b[A\n",
            " 61%|██████    | 127/208 [00:39<00:24,  3.24it/s]\u001b[A\n",
            " 62%|██████▏   | 128/208 [00:40<00:25,  3.08it/s]\u001b[A\n",
            " 62%|██████▏   | 129/208 [00:40<00:25,  3.10it/s]\u001b[A\n",
            " 62%|██████▎   | 130/208 [00:40<00:25,  3.05it/s]\u001b[A\n",
            " 63%|██████▎   | 131/208 [00:41<00:25,  3.07it/s]\u001b[A\n",
            " 63%|██████▎   | 132/208 [00:41<00:24,  3.07it/s]\u001b[A\n",
            " 64%|██████▍   | 133/208 [00:41<00:24,  3.11it/s]\u001b[A\n",
            " 64%|██████▍   | 134/208 [00:42<00:23,  3.19it/s]\u001b[A\n",
            " 65%|██████▍   | 135/208 [00:42<00:22,  3.26it/s]\u001b[A\n",
            " 65%|██████▌   | 136/208 [00:42<00:21,  3.30it/s]\u001b[A\n",
            " 66%|██████▌   | 137/208 [00:42<00:21,  3.26it/s]\u001b[A\n",
            " 66%|██████▋   | 138/208 [00:43<00:21,  3.28it/s]\u001b[A\n",
            " 67%|██████▋   | 139/208 [00:43<00:21,  3.18it/s]\u001b[A\n",
            " 67%|██████▋   | 140/208 [00:43<00:21,  3.22it/s]\u001b[A\n",
            " 68%|██████▊   | 141/208 [00:44<00:20,  3.28it/s]\u001b[A\n",
            " 68%|██████▊   | 142/208 [00:44<00:20,  3.22it/s]\u001b[A\n",
            " 69%|██████▉   | 143/208 [00:44<00:19,  3.31it/s]\u001b[A\n",
            " 69%|██████▉   | 144/208 [00:45<00:19,  3.24it/s]\u001b[A\n",
            " 70%|██████▉   | 145/208 [00:45<00:19,  3.21it/s]\u001b[A\n",
            " 70%|███████   | 146/208 [00:45<00:19,  3.19it/s]\u001b[A\n",
            " 71%|███████   | 147/208 [00:46<00:19,  3.21it/s]\u001b[A\n",
            " 71%|███████   | 148/208 [00:46<00:18,  3.19it/s]\u001b[A\n",
            " 72%|███████▏  | 149/208 [00:46<00:17,  3.28it/s]\u001b[A\n",
            " 72%|███████▏  | 150/208 [00:46<00:17,  3.24it/s]\u001b[A\n",
            " 73%|███████▎  | 151/208 [00:47<00:17,  3.30it/s]\u001b[A"
          ],
          "name": "stderr"
        },
        {
          "output_type": "stream",
          "text": [
            "20.388229370117188\n",
            "imengmaeon\n",
            "[8, 50, 10, 27, 6, 50, 3, 38, 28, 35]\n",
            "kriceyaciu\n",
            "[13, 7, 56, 40, 55, 60, 2, 9, 56, 47]\n",
            "nhalkykmer\n",
            "[13, 7, 3, 52, 0, 60, 0, 13, 44, 55]\n",
            "geryhliana\n",
            "[13, 44, 11, 57, 52, 4, 56, 2, 9, 3]\n",
            "vhycesslyt\n",
            "[13, 63, 34, 9, 29, 58, 62, 16, 60, 41]\n"
          ],
          "name": "stdout"
        },
        {
          "output_type": "stream",
          "text": [
            "\n",
            " 73%|███████▎  | 152/208 [00:47<00:17,  3.27it/s]\u001b[A\n",
            " 74%|███████▎  | 153/208 [00:47<00:16,  3.26it/s]\u001b[A\n",
            " 74%|███████▍  | 154/208 [00:48<00:15,  3.38it/s]\u001b[A\n",
            " 75%|███████▍  | 155/208 [00:48<00:16,  3.26it/s]\u001b[A\n",
            " 75%|███████▌  | 156/208 [00:48<00:15,  3.29it/s]\u001b[A\n",
            " 75%|███████▌  | 157/208 [00:49<00:15,  3.36it/s]\u001b[A\n",
            " 76%|███████▌  | 158/208 [00:49<00:14,  3.36it/s]\u001b[A\n",
            " 76%|███████▋  | 159/208 [00:49<00:15,  3.18it/s]\u001b[A\n",
            " 77%|███████▋  | 160/208 [00:50<00:15,  3.16it/s]\u001b[A\n",
            " 77%|███████▋  | 161/208 [00:50<00:14,  3.20it/s]\u001b[A\n",
            " 78%|███████▊  | 162/208 [00:50<00:14,  3.10it/s]\u001b[A\n",
            " 78%|███████▊  | 163/208 [00:50<00:14,  3.12it/s]\u001b[A\n",
            " 79%|███████▉  | 164/208 [00:51<00:13,  3.21it/s]\u001b[A\n",
            " 79%|███████▉  | 165/208 [00:51<00:12,  3.33it/s]\u001b[A\n",
            " 80%|███████▉  | 166/208 [00:51<00:13,  3.16it/s]\u001b[A\n",
            " 80%|████████  | 167/208 [00:52<00:13,  3.07it/s]\u001b[A\n",
            " 81%|████████  | 168/208 [00:52<00:12,  3.12it/s]\u001b[A\n",
            " 81%|████████▏ | 169/208 [00:52<00:12,  3.05it/s]\u001b[A\n",
            " 82%|████████▏ | 170/208 [00:53<00:12,  3.07it/s]\u001b[A\n",
            " 82%|████████▏ | 171/208 [00:53<00:11,  3.15it/s]\u001b[A\n",
            " 83%|████████▎ | 172/208 [00:53<00:11,  3.14it/s]\u001b[A\n",
            " 83%|████████▎ | 173/208 [00:54<00:11,  3.04it/s]\u001b[A\n",
            " 84%|████████▎ | 174/208 [00:54<00:11,  3.07it/s]\u001b[A\n",
            " 84%|████████▍ | 175/208 [00:54<00:10,  3.13it/s]\u001b[A\n",
            " 85%|████████▍ | 176/208 [00:55<00:10,  3.04it/s]\u001b[A\n",
            " 85%|████████▌ | 177/208 [00:55<00:09,  3.13it/s]\u001b[A\n",
            " 86%|████████▌ | 178/208 [00:55<00:09,  3.17it/s]\u001b[A\n",
            " 86%|████████▌ | 179/208 [00:56<00:09,  3.16it/s]\u001b[A\n",
            " 87%|████████▋ | 180/208 [00:56<00:08,  3.30it/s]\u001b[A\n",
            " 87%|████████▋ | 181/208 [00:56<00:08,  3.28it/s]\u001b[A\n",
            " 88%|████████▊ | 182/208 [00:57<00:08,  3.22it/s]\u001b[A\n",
            " 88%|████████▊ | 183/208 [00:57<00:07,  3.17it/s]\u001b[A\n",
            " 88%|████████▊ | 184/208 [00:57<00:07,  3.03it/s]\u001b[A\n",
            " 89%|████████▉ | 185/208 [00:57<00:07,  3.14it/s]\u001b[A\n",
            " 89%|████████▉ | 186/208 [00:58<00:06,  3.16it/s]\u001b[A\n",
            " 90%|████████▉ | 187/208 [00:58<00:06,  3.28it/s]\u001b[A\n",
            " 90%|█████████ | 188/208 [00:58<00:05,  3.35it/s]\u001b[A\n",
            " 91%|█████████ | 189/208 [00:59<00:05,  3.26it/s]\u001b[A\n",
            " 91%|█████████▏| 190/208 [00:59<00:05,  3.23it/s]\u001b[A\n",
            " 92%|█████████▏| 191/208 [00:59<00:05,  3.17it/s]\u001b[A\n",
            " 92%|█████████▏| 192/208 [01:00<00:04,  3.30it/s]\u001b[A\n",
            " 93%|█████████▎| 193/208 [01:00<00:04,  3.28it/s]\u001b[A\n",
            " 93%|█████████▎| 194/208 [01:00<00:04,  3.40it/s]\u001b[A\n",
            " 94%|█████████▍| 195/208 [01:00<00:03,  3.40it/s]\u001b[A\n",
            " 94%|█████████▍| 196/208 [01:01<00:03,  3.40it/s]\u001b[A\n",
            " 95%|█████████▍| 197/208 [01:01<00:03,  3.45it/s]\u001b[A\n",
            " 95%|█████████▌| 198/208 [01:01<00:02,  3.43it/s]\u001b[A\n",
            " 96%|█████████▌| 199/208 [01:02<00:02,  3.40it/s]\u001b[A\n",
            " 96%|█████████▌| 200/208 [01:02<00:02,  3.31it/s]\u001b[A\n",
            " 97%|█████████▋| 201/208 [01:02<00:02,  2.99it/s]\u001b[A"
          ],
          "name": "stderr"
        },
        {
          "output_type": "stream",
          "text": [
            "20.413604736328125\n",
            "sEwlyaceon\n",
            "[13, 8, 4, 16, 34, 2, 9, 14, 28, 35]\n",
            "bednglesss\n",
            "[13, 44, 31, 27, 6, 16, 15, 58, 21, 5]\n",
            "tionyysear\n",
            "[13, 56, 28, 35, 46, 60, 39, 14, 3, 55]\n",
            "bedlylydly\n",
            "[13, 51, 30, 16, 34, 16, 54, 31, 16, 60]\n",
            "omesjckyas\n",
            "[8, 18, 29, 58, 62, 61, 0, 60, 2, 47]\n"
          ],
          "name": "stdout"
        },
        {
          "output_type": "stream",
          "text": [
            "\n",
            " 97%|█████████▋| 202/208 [01:03<00:02,  2.99it/s]\u001b[A\n",
            " 98%|█████████▊| 203/208 [01:03<00:01,  2.91it/s]\u001b[A\n",
            " 98%|█████████▊| 204/208 [01:03<00:01,  2.99it/s]\u001b[A\n",
            " 99%|█████████▊| 205/208 [01:04<00:00,  3.05it/s]\u001b[A\n",
            " 99%|█████████▉| 206/208 [01:04<00:00,  3.06it/s]\u001b[A\n",
            "100%|█████████▉| 207/208 [01:04<00:00,  3.19it/s]\u001b[A\n",
            "100%|██████████| 208/208 [01:04<00:00,  3.74it/s]\u001b[A\n",
            "\u001b[A"
          ],
          "name": "stderr"
        },
        {
          "output_type": "stream",
          "text": [
            "20.17605972290039\n",
            "syonilyler\n",
            "[13, 33, 28, 35, 56, 16, 34, 16, 15, 55]\n"
          ],
          "name": "stdout"
        },
        {
          "output_type": "stream",
          "text": [
            "\n",
            "  0%|          | 0/208 [00:00<?, ?it/s]\u001b[A"
          ],
          "name": "stderr"
        },
        {
          "output_type": "stream",
          "text": [
            "========= Results: epoch 3 of 10 =========\n",
            "train loss: 20.56| valid loss: 20.54\n",
            "\n",
            "========= Epoch 4 of 10 =========\n"
          ],
          "name": "stdout"
        },
        {
          "output_type": "stream",
          "text": [
            "\n",
            "  0%|          | 1/208 [00:00<01:29,  2.30it/s]\u001b[A"
          ],
          "name": "stderr"
        },
        {
          "output_type": "stream",
          "text": [
            "20.409801483154297\n",
            "cremgnalyt\n",
            "[13, 7, 8, 50, 28, 12, 3, 52, 57, 5]\n",
            "ntdnessyan\n",
            "[13, 51, 30, 27, 29, 58, 62, 46, 2, 27]\n",
            "ghonalyygl\n",
            "[13, 63, 28, 12, 3, 32, 46, 60, 1, 16]\n",
            "anausbless\n",
            "[8, 18, 28, 25, 21, 36, 16, 29, 58, 21]\n",
            "thonallyty\n",
            "[13, 7, 28, 12, 3, 36, 16, 60, 5, 34]\n"
          ],
          "name": "stdout"
        },
        {
          "output_type": "stream",
          "text": [
            "\n",
            "  1%|          | 2/208 [00:00<01:22,  2.50it/s]\u001b[A\n",
            "  1%|▏         | 3/208 [00:01<01:18,  2.62it/s]\u001b[A\n",
            "  2%|▏         | 4/208 [00:01<01:13,  2.77it/s]\u001b[A\n",
            "  2%|▏         | 5/208 [00:01<01:09,  2.90it/s]\u001b[A\n",
            "  3%|▎         | 6/208 [00:02<01:06,  3.03it/s]\u001b[A\n",
            "  3%|▎         | 7/208 [00:02<01:05,  3.05it/s]\u001b[A\n",
            "  4%|▍         | 8/208 [00:02<01:04,  3.11it/s]\u001b[A\n",
            "  4%|▍         | 9/208 [00:02<01:03,  3.16it/s]\u001b[A\n",
            "  5%|▍         | 10/208 [00:03<01:01,  3.23it/s]\u001b[A\n",
            "  5%|▌         | 11/208 [00:03<01:01,  3.19it/s]\u001b[A\n",
            "  6%|▌         | 12/208 [00:03<01:02,  3.15it/s]\u001b[A\n",
            "  6%|▋         | 13/208 [00:04<01:02,  3.11it/s]\u001b[A\n",
            "  7%|▋         | 14/208 [00:04<01:00,  3.21it/s]\u001b[A\n",
            "  7%|▋         | 15/208 [00:04<01:00,  3.20it/s]\u001b[A\n",
            "  8%|▊         | 16/208 [00:05<01:00,  3.17it/s]\u001b[A\n",
            "  8%|▊         | 17/208 [00:05<01:03,  3.00it/s]\u001b[A\n",
            "  9%|▊         | 18/208 [00:05<01:03,  3.00it/s]\u001b[A\n",
            "  9%|▉         | 19/208 [00:06<01:02,  3.03it/s]\u001b[A\n",
            " 10%|▉         | 20/208 [00:06<00:59,  3.14it/s]\u001b[A\n",
            " 10%|█         | 21/208 [00:06<00:56,  3.33it/s]\u001b[A\n",
            " 11%|█         | 22/208 [00:07<00:55,  3.33it/s]\u001b[A\n",
            " 11%|█         | 23/208 [00:07<00:57,  3.22it/s]\u001b[A\n",
            " 12%|█▏        | 24/208 [00:07<00:55,  3.29it/s]\u001b[A\n",
            " 12%|█▏        | 25/208 [00:07<00:55,  3.31it/s]\u001b[A\n",
            " 12%|█▎        | 26/208 [00:08<00:56,  3.21it/s]\u001b[A\n",
            " 13%|█▎        | 27/208 [00:08<00:56,  3.21it/s]\u001b[A\n",
            " 13%|█▎        | 28/208 [00:08<00:54,  3.31it/s]\u001b[A\n",
            " 14%|█▍        | 29/208 [00:09<00:56,  3.16it/s]\u001b[A\n",
            " 14%|█▍        | 30/208 [00:09<00:55,  3.23it/s]\u001b[A\n",
            " 15%|█▍        | 31/208 [00:09<00:53,  3.31it/s]\u001b[A\n",
            " 15%|█▌        | 32/208 [00:10<00:52,  3.35it/s]\u001b[A\n",
            " 16%|█▌        | 33/208 [00:10<00:52,  3.34it/s]\u001b[A\n",
            " 16%|█▋        | 34/208 [00:10<00:52,  3.29it/s]\u001b[A\n",
            " 17%|█▋        | 35/208 [00:11<00:53,  3.24it/s]\u001b[A\n",
            " 17%|█▋        | 36/208 [00:11<00:53,  3.20it/s]\u001b[A\n",
            " 18%|█▊        | 37/208 [00:11<00:52,  3.25it/s]\u001b[A\n",
            " 18%|█▊        | 38/208 [00:11<00:51,  3.29it/s]\u001b[A\n",
            " 19%|█▉        | 39/208 [00:12<00:51,  3.26it/s]\u001b[A\n",
            " 19%|█▉        | 40/208 [00:12<00:52,  3.21it/s]\u001b[A\n",
            " 20%|█▉        | 41/208 [00:12<00:51,  3.26it/s]\u001b[A\n",
            " 20%|██        | 42/208 [00:13<00:50,  3.28it/s]\u001b[A\n",
            " 21%|██        | 43/208 [00:13<00:50,  3.24it/s]\u001b[A\n",
            " 21%|██        | 44/208 [00:13<00:49,  3.29it/s]\u001b[A\n",
            " 22%|██▏       | 45/208 [00:14<00:49,  3.32it/s]\u001b[A\n",
            " 22%|██▏       | 46/208 [00:14<00:49,  3.28it/s]\u001b[A\n",
            " 23%|██▎       | 47/208 [00:14<00:48,  3.30it/s]\u001b[A\n",
            " 23%|██▎       | 48/208 [00:14<00:46,  3.40it/s]\u001b[A\n",
            " 24%|██▎       | 49/208 [00:15<00:47,  3.36it/s]\u001b[A\n",
            " 24%|██▍       | 50/208 [00:15<00:46,  3.40it/s]\u001b[A\n",
            " 25%|██▍       | 51/208 [00:15<00:47,  3.33it/s]\u001b[A"
          ],
          "name": "stderr"
        },
        {
          "output_type": "stream",
          "text": [
            "20.52967643737793\n",
            "apruxlythy\n",
            "[8, 13, 7, 8, 4, 16, 54, 5, 63, 34]\n",
            "pusntessry\n",
            "[13, 25, 39, 27, 41, 15, 58, 21, 55, 60]\n",
            "tassaticey\n",
            "[13, 8, 24, 5, 3, 22, 56, 61, 26, 57]\n",
            "oddeeyeoue\n",
            "[8, 17, 59, 44, 55, 60, 14, 28, 25, 14]\n",
            "Canklyeeon\n",
            "[13, 8, 24, 0, 16, 60, 14, 14, 28, 27]\n"
          ],
          "name": "stdout"
        },
        {
          "output_type": "stream",
          "text": [
            "\n",
            " 25%|██▌       | 52/208 [00:16<00:48,  3.23it/s]\u001b[A\n",
            " 25%|██▌       | 53/208 [00:16<00:50,  3.08it/s]\u001b[A\n",
            " 26%|██▌       | 54/208 [00:16<00:48,  3.14it/s]\u001b[A\n",
            " 26%|██▋       | 55/208 [00:17<00:47,  3.21it/s]\u001b[A\n",
            " 27%|██▋       | 56/208 [00:17<00:46,  3.24it/s]\u001b[A\n",
            " 27%|██▋       | 57/208 [00:17<00:46,  3.25it/s]\u001b[A\n",
            " 28%|██▊       | 58/208 [00:18<00:46,  3.24it/s]\u001b[A\n",
            " 28%|██▊       | 59/208 [00:18<00:46,  3.20it/s]\u001b[A\n",
            " 29%|██▉       | 60/208 [00:18<00:46,  3.20it/s]\u001b[A\n",
            " 29%|██▉       | 61/208 [00:19<00:46,  3.18it/s]\u001b[A\n",
            " 30%|██▉       | 62/208 [00:19<00:46,  3.12it/s]\u001b[A\n",
            " 30%|███       | 63/208 [00:19<00:44,  3.22it/s]\u001b[A\n",
            " 31%|███       | 64/208 [00:19<00:45,  3.15it/s]\u001b[A\n",
            " 31%|███▏      | 65/208 [00:20<00:43,  3.26it/s]\u001b[A\n",
            " 32%|███▏      | 66/208 [00:20<00:44,  3.22it/s]\u001b[A\n",
            " 32%|███▏      | 67/208 [00:20<00:43,  3.22it/s]\u001b[A\n",
            " 33%|███▎      | 68/208 [00:21<00:41,  3.35it/s]\u001b[A\n",
            " 33%|███▎      | 69/208 [00:21<00:42,  3.24it/s]\u001b[A\n",
            " 34%|███▎      | 70/208 [00:21<00:41,  3.32it/s]\u001b[A\n",
            " 34%|███▍      | 71/208 [00:22<00:41,  3.30it/s]\u001b[A\n",
            " 35%|███▍      | 72/208 [00:22<00:40,  3.36it/s]\u001b[A\n",
            " 35%|███▌      | 73/208 [00:22<00:41,  3.29it/s]\u001b[A\n",
            " 36%|███▌      | 74/208 [00:23<00:42,  3.17it/s]\u001b[A\n",
            " 36%|███▌      | 75/208 [00:23<00:40,  3.26it/s]\u001b[A\n",
            " 37%|███▋      | 76/208 [00:23<00:39,  3.34it/s]\u001b[A\n",
            " 37%|███▋      | 77/208 [00:23<00:39,  3.34it/s]\u001b[A\n",
            " 38%|███▊      | 78/208 [00:24<00:39,  3.33it/s]\u001b[A\n",
            " 38%|███▊      | 79/208 [00:24<00:39,  3.28it/s]\u001b[A\n",
            " 38%|███▊      | 80/208 [00:24<00:37,  3.37it/s]\u001b[A\n",
            " 39%|███▉      | 81/208 [00:25<00:39,  3.19it/s]\u001b[A\n",
            " 39%|███▉      | 82/208 [00:25<00:39,  3.17it/s]\u001b[A\n",
            " 40%|███▉      | 83/208 [00:25<00:39,  3.19it/s]\u001b[A\n",
            " 40%|████      | 84/208 [00:26<00:40,  3.08it/s]\u001b[A\n",
            " 41%|████      | 85/208 [00:26<00:39,  3.13it/s]\u001b[A\n",
            " 41%|████▏     | 86/208 [00:26<00:37,  3.22it/s]\u001b[A\n",
            " 42%|████▏     | 87/208 [00:26<00:36,  3.35it/s]\u001b[A\n",
            " 42%|████▏     | 88/208 [00:27<00:36,  3.25it/s]\u001b[A\n",
            " 43%|████▎     | 89/208 [00:27<00:37,  3.17it/s]\u001b[A\n",
            " 43%|████▎     | 90/208 [00:27<00:37,  3.18it/s]\u001b[A\n",
            " 44%|████▍     | 91/208 [00:28<00:35,  3.28it/s]\u001b[A\n",
            " 44%|████▍     | 92/208 [00:28<00:35,  3.26it/s]\u001b[A\n",
            " 45%|████▍     | 93/208 [00:28<00:35,  3.26it/s]\u001b[A\n",
            " 45%|████▌     | 94/208 [00:29<00:35,  3.25it/s]\u001b[A\n",
            " 46%|████▌     | 95/208 [00:29<00:34,  3.29it/s]\u001b[A\n",
            " 46%|████▌     | 96/208 [00:29<00:33,  3.31it/s]\u001b[A\n",
            " 47%|████▋     | 97/208 [00:30<00:35,  3.17it/s]\u001b[A\n",
            " 47%|████▋     | 98/208 [00:30<00:35,  3.10it/s]\u001b[A\n",
            " 48%|████▊     | 99/208 [00:30<00:36,  2.98it/s]\u001b[A\n",
            " 48%|████▊     | 100/208 [00:31<00:37,  2.92it/s]\u001b[A\n",
            " 49%|████▊     | 101/208 [00:31<00:35,  3.05it/s]\u001b[A"
          ],
          "name": "stderr"
        },
        {
          "output_type": "stream",
          "text": [
            "20.351703643798828\n",
            "tiblyryeda\n",
            "[13, 56, 36, 16, 54, 11, 60, 51, 30, 2]\n",
            "ingatryhyt\n",
            "[8, 18, 50, 10, 23, 55, 60, 63, 34, 20]\n",
            "taxedyngle\n",
            "[13, 8, 4, 51, 30, 57, 27, 1, 16, 15]\n",
            "briskernae\n",
            "[13, 7, 8, 24, 0, 44, 49, 12, 3, 38]\n",
            "klicsssnes\n",
            "[13, 7, 56, 37, 21, 58, 62, 27, 29, 58]\n"
          ],
          "name": "stdout"
        },
        {
          "output_type": "stream",
          "text": [
            "\n",
            " 49%|████▉     | 102/208 [00:31<00:34,  3.09it/s]\u001b[A\n",
            " 50%|████▉     | 103/208 [00:32<00:32,  3.23it/s]\u001b[A\n",
            " 50%|█████     | 104/208 [00:32<00:31,  3.26it/s]\u001b[A\n",
            " 50%|█████     | 105/208 [00:32<00:33,  3.10it/s]\u001b[A\n",
            " 51%|█████     | 106/208 [00:33<00:31,  3.21it/s]\u001b[A\n",
            " 51%|█████▏    | 107/208 [00:33<00:31,  3.22it/s]\u001b[A\n",
            " 52%|█████▏    | 108/208 [00:33<00:32,  3.05it/s]\u001b[A\n",
            " 52%|█████▏    | 109/208 [00:34<00:33,  2.96it/s]\u001b[A\n",
            " 53%|█████▎    | 110/208 [00:34<00:32,  3.00it/s]\u001b[A\n",
            " 53%|█████▎    | 111/208 [00:34<00:32,  3.01it/s]\u001b[A\n",
            " 54%|█████▍    | 112/208 [00:35<00:32,  2.97it/s]\u001b[A\n",
            " 54%|█████▍    | 113/208 [00:35<00:31,  3.06it/s]\u001b[A\n",
            " 55%|█████▍    | 114/208 [00:35<00:29,  3.23it/s]\u001b[A\n",
            " 55%|█████▌    | 115/208 [00:35<00:29,  3.15it/s]\u001b[A\n",
            " 56%|█████▌    | 116/208 [00:36<00:29,  3.14it/s]\u001b[A\n",
            " 56%|█████▋    | 117/208 [00:36<00:28,  3.22it/s]\u001b[A\n",
            " 57%|█████▋    | 118/208 [00:36<00:29,  3.06it/s]\u001b[A\n",
            " 57%|█████▋    | 119/208 [00:37<00:28,  3.15it/s]\u001b[A\n",
            " 58%|█████▊    | 120/208 [00:37<00:27,  3.20it/s]\u001b[A\n",
            " 58%|█████▊    | 121/208 [00:37<00:27,  3.15it/s]\u001b[A\n",
            " 59%|█████▊    | 122/208 [00:38<00:26,  3.19it/s]\u001b[A\n",
            " 59%|█████▉    | 123/208 [00:38<00:25,  3.28it/s]\u001b[A\n",
            " 60%|█████▉    | 124/208 [00:38<00:26,  3.18it/s]\u001b[A\n",
            " 60%|██████    | 125/208 [00:39<00:26,  3.18it/s]\u001b[A\n",
            " 61%|██████    | 126/208 [00:39<00:25,  3.24it/s]\u001b[A\n",
            " 61%|██████    | 127/208 [00:39<00:24,  3.26it/s]\u001b[A\n",
            " 62%|██████▏   | 128/208 [00:39<00:24,  3.33it/s]\u001b[A\n",
            " 62%|██████▏   | 129/208 [00:40<00:23,  3.38it/s]\u001b[A\n",
            " 62%|██████▎   | 130/208 [00:40<00:23,  3.31it/s]\u001b[A\n",
            " 63%|██████▎   | 131/208 [00:40<00:23,  3.31it/s]\u001b[A\n",
            " 63%|██████▎   | 132/208 [00:41<00:22,  3.45it/s]\u001b[A\n",
            " 64%|██████▍   | 133/208 [00:41<00:22,  3.39it/s]\u001b[A\n",
            " 64%|██████▍   | 134/208 [00:41<00:21,  3.43it/s]\u001b[A\n",
            " 65%|██████▍   | 135/208 [00:42<00:21,  3.45it/s]\u001b[A\n",
            " 65%|██████▌   | 136/208 [00:42<00:20,  3.47it/s]\u001b[A\n",
            " 66%|██████▌   | 137/208 [00:42<00:21,  3.23it/s]\u001b[A\n",
            " 66%|██████▋   | 138/208 [00:42<00:21,  3.21it/s]\u001b[A\n",
            " 67%|██████▋   | 139/208 [00:43<00:22,  3.06it/s]\u001b[A\n",
            " 67%|██████▋   | 140/208 [00:43<00:21,  3.11it/s]\u001b[A\n",
            " 68%|██████▊   | 141/208 [00:44<00:22,  3.02it/s]\u001b[A\n",
            " 68%|██████▊   | 142/208 [00:44<00:21,  3.11it/s]\u001b[A\n",
            " 69%|██████▉   | 143/208 [00:44<00:19,  3.26it/s]\u001b[A\n",
            " 69%|██████▉   | 144/208 [00:44<00:20,  3.20it/s]\u001b[A\n",
            " 70%|██████▉   | 145/208 [00:45<00:19,  3.23it/s]\u001b[A\n",
            " 70%|███████   | 146/208 [00:45<00:18,  3.29it/s]\u001b[A\n",
            " 71%|███████   | 147/208 [00:45<00:18,  3.35it/s]\u001b[A\n",
            " 71%|███████   | 148/208 [00:46<00:18,  3.23it/s]\u001b[A\n",
            " 72%|███████▏  | 149/208 [00:46<00:17,  3.30it/s]\u001b[A\n",
            " 72%|███████▏  | 150/208 [00:46<00:17,  3.25it/s]\u001b[A\n",
            " 73%|███████▎  | 151/208 [00:47<00:17,  3.17it/s]\u001b[A"
          ],
          "name": "stderr"
        },
        {
          "output_type": "stream",
          "text": [
            "20.48151206970215\n",
            "tavesseade\n",
            "[13, 8, 45, 19, 58, 21, 38, 2, 9, 14]\n",
            "lrausntall\n",
            "[13, 7, 2, 25, 39, 27, 41, 3, 36, 16]\n",
            "gressedace\n",
            "[13, 7, 29, 58, 62, 51, 30, 2, 9, 14]\n",
            "pedngesscs\n",
            "[13, 44, 31, 27, 6, 51, 21, 21, 24, 5]\n",
            "shyaxygant\n",
            "[13, 63, 33, 8, 18, 57, 50, 10, 27, 41]\n"
          ],
          "name": "stdout"
        },
        {
          "output_type": "stream",
          "text": [
            "\n",
            " 73%|███████▎  | 152/208 [00:47<00:17,  3.22it/s]\u001b[A\n",
            " 74%|███████▎  | 153/208 [00:47<00:17,  3.20it/s]\u001b[A\n",
            " 74%|███████▍  | 154/208 [00:48<00:16,  3.19it/s]\u001b[A\n",
            " 75%|███████▍  | 155/208 [00:48<00:16,  3.25it/s]\u001b[A\n",
            " 75%|███████▌  | 156/208 [00:48<00:16,  3.17it/s]\u001b[A\n",
            " 75%|███████▌  | 157/208 [00:48<00:15,  3.19it/s]\u001b[A\n",
            " 76%|███████▌  | 158/208 [00:49<00:15,  3.24it/s]\u001b[A\n",
            " 76%|███████▋  | 159/208 [00:49<00:15,  3.27it/s]\u001b[A\n",
            " 77%|███████▋  | 160/208 [00:49<00:14,  3.37it/s]\u001b[A\n",
            " 77%|███████▋  | 161/208 [00:50<00:13,  3.42it/s]\u001b[A\n",
            " 78%|███████▊  | 162/208 [00:50<00:13,  3.35it/s]\u001b[A\n",
            " 78%|███████▊  | 163/208 [00:50<00:13,  3.33it/s]\u001b[A\n",
            " 79%|███████▉  | 164/208 [00:51<00:13,  3.23it/s]\u001b[A\n",
            " 79%|███████▉  | 165/208 [00:51<00:13,  3.27it/s]\u001b[A\n",
            " 80%|███████▉  | 166/208 [00:51<00:13,  3.13it/s]\u001b[A\n",
            " 80%|████████  | 167/208 [00:52<00:13,  3.12it/s]\u001b[A\n",
            " 81%|████████  | 168/208 [00:52<00:12,  3.10it/s]\u001b[A\n",
            " 81%|████████▏ | 169/208 [00:52<00:12,  3.06it/s]\u001b[A\n",
            " 82%|████████▏ | 170/208 [00:52<00:12,  3.13it/s]\u001b[A\n",
            " 82%|████████▏ | 171/208 [00:53<00:12,  2.99it/s]\u001b[A\n",
            " 83%|████████▎ | 172/208 [00:53<00:11,  3.09it/s]\u001b[A\n",
            " 83%|████████▎ | 173/208 [00:53<00:10,  3.20it/s]\u001b[A\n",
            " 84%|████████▎ | 174/208 [00:54<00:10,  3.18it/s]\u001b[A\n",
            " 84%|████████▍ | 175/208 [00:54<00:10,  3.21it/s]\u001b[A\n",
            " 85%|████████▍ | 176/208 [00:54<00:10,  3.17it/s]\u001b[A\n",
            " 85%|████████▌ | 177/208 [00:55<00:10,  2.99it/s]\u001b[A\n",
            " 86%|████████▌ | 178/208 [00:55<00:10,  2.96it/s]\u001b[A\n",
            " 86%|████████▌ | 179/208 [00:55<00:09,  3.01it/s]\u001b[A\n",
            " 87%|████████▋ | 180/208 [00:56<00:09,  3.11it/s]\u001b[A\n",
            " 87%|████████▋ | 181/208 [00:56<00:08,  3.11it/s]\u001b[A\n",
            " 88%|████████▊ | 182/208 [00:56<00:08,  3.10it/s]\u001b[A\n",
            " 88%|████████▊ | 183/208 [00:57<00:08,  3.10it/s]\u001b[A\n",
            " 88%|████████▊ | 184/208 [00:57<00:07,  3.05it/s]\u001b[A\n",
            " 89%|████████▉ | 185/208 [00:57<00:07,  3.11it/s]\u001b[A\n",
            " 89%|████████▉ | 186/208 [00:58<00:07,  3.12it/s]\u001b[A\n",
            " 90%|████████▉ | 187/208 [00:58<00:06,  3.02it/s]\u001b[A\n",
            " 90%|█████████ | 188/208 [00:58<00:06,  3.07it/s]\u001b[A\n",
            " 91%|█████████ | 189/208 [00:59<00:06,  3.07it/s]\u001b[A\n",
            " 91%|█████████▏| 190/208 [00:59<00:05,  3.09it/s]\u001b[A\n",
            " 92%|█████████▏| 191/208 [00:59<00:05,  3.01it/s]\u001b[A\n",
            " 92%|█████████▏| 192/208 [01:00<00:05,  3.10it/s]\u001b[A\n",
            " 93%|█████████▎| 193/208 [01:00<00:04,  3.14it/s]\u001b[A\n",
            " 93%|█████████▎| 194/208 [01:00<00:04,  3.08it/s]\u001b[A\n",
            " 94%|█████████▍| 195/208 [01:01<00:04,  3.05it/s]\u001b[A\n",
            " 94%|█████████▍| 196/208 [01:01<00:03,  3.04it/s]\u001b[A\n",
            " 95%|█████████▍| 197/208 [01:01<00:03,  3.09it/s]\u001b[A\n",
            " 95%|█████████▌| 198/208 [01:02<00:03,  3.11it/s]\u001b[A\n",
            " 96%|█████████▌| 199/208 [01:02<00:02,  3.08it/s]\u001b[A\n",
            " 96%|█████████▌| 200/208 [01:02<00:02,  2.96it/s]\u001b[A\n",
            " 97%|█████████▋| 201/208 [01:03<00:02,  2.94it/s]\u001b[A"
          ],
          "name": "stderr"
        },
        {
          "output_type": "stream",
          "text": [
            "20.387245178222656\n",
            "nedlytantl\n",
            "[13, 44, 31, 16, 60, 41, 3, 52, 41, 16]\n",
            "uwalceonly\n",
            "[8, 4, 3, 52, 9, 14, 28, 35, 16, 34]\n",
            "eytecatedn\n",
            "[8, 57, 45, 19, 37, 3, 22, 51, 30, 35]\n",
            "srallylyed\n",
            "[13, 7, 2, 4, 16, 34, 16, 54, 51, 30]\n",
            "chylyyicsy\n",
            "[13, 63, 33, 16, 34, 46, 56, 61, 0, 60]\n"
          ],
          "name": "stdout"
        },
        {
          "output_type": "stream",
          "text": [
            "\n",
            " 97%|█████████▋| 202/208 [01:03<00:02,  2.83it/s]\u001b[A\n",
            " 98%|█████████▊| 203/208 [01:03<00:01,  2.94it/s]\u001b[A\n",
            " 98%|█████████▊| 204/208 [01:04<00:01,  2.99it/s]\u001b[A\n",
            " 99%|█████████▊| 205/208 [01:04<00:00,  3.05it/s]\u001b[A\n",
            " 99%|█████████▉| 206/208 [01:04<00:00,  3.03it/s]\u001b[A\n",
            "100%|█████████▉| 207/208 [01:05<00:00,  2.98it/s]\u001b[A\n",
            "100%|██████████| 208/208 [01:05<00:00,  3.68it/s]\u001b[A\n",
            "\u001b[A"
          ],
          "name": "stderr"
        },
        {
          "output_type": "stream",
          "text": [
            "20.692276000976562\n",
            "ireanaeedn\n",
            "[8, 18, 14, 28, 35, 3, 38, 51, 30, 27]\n"
          ],
          "name": "stdout"
        },
        {
          "output_type": "stream",
          "text": [
            "\n",
            "  0%|          | 0/208 [00:00<?, ?it/s]\u001b[A"
          ],
          "name": "stderr"
        },
        {
          "output_type": "stream",
          "text": [
            "========= Results: epoch 4 of 10 =========\n",
            "train loss: 20.47| valid loss: 20.49\n",
            "\n",
            "========= Epoch 5 of 10 =========\n"
          ],
          "name": "stdout"
        },
        {
          "output_type": "stream",
          "text": [
            "\n",
            "  0%|          | 1/208 [00:00<01:31,  2.27it/s]\u001b[A"
          ],
          "name": "stderr"
        },
        {
          "output_type": "stream",
          "text": [
            "20.190500259399414\n",
            "elonantona\n",
            "[8, 4, 28, 12, 3, 52, 41, 28, 12, 3]\n",
            "rerniblyse\n",
            "[13, 44, 49, 12, 56, 36, 16, 34, 21, 51]\n",
            "tykegskory\n",
            "[13, 33, 45, 19, 1, 21, 45, 53, 11, 57]\n",
            "wedlesslyh\n",
            "[13, 44, 31, 16, 15, 58, 62, 16, 34, 13]\n",
            "shermyaldn\n",
            "[13, 63, 44, 49, 50, 57, 3, 32, 31, 27]\n"
          ],
          "name": "stdout"
        },
        {
          "output_type": "stream",
          "text": [
            "\n",
            "  1%|          | 2/208 [00:00<01:24,  2.44it/s]\u001b[A\n",
            "  1%|▏         | 3/208 [00:01<01:18,  2.60it/s]\u001b[A\n",
            "  2%|▏         | 4/208 [00:01<01:13,  2.79it/s]\u001b[A\n",
            "  2%|▏         | 5/208 [00:01<01:08,  2.97it/s]\u001b[A\n",
            "  3%|▎         | 6/208 [00:02<01:07,  3.01it/s]\u001b[A\n",
            "  3%|▎         | 7/208 [00:02<01:05,  3.08it/s]\u001b[A\n",
            "  4%|▍         | 8/208 [00:02<01:02,  3.18it/s]\u001b[A\n",
            "  4%|▍         | 9/208 [00:02<01:03,  3.11it/s]\u001b[A\n",
            "  5%|▍         | 10/208 [00:03<01:05,  3.02it/s]\u001b[A\n",
            "  5%|▌         | 11/208 [00:03<01:06,  2.97it/s]\u001b[A\n",
            "  6%|▌         | 12/208 [00:04<01:07,  2.92it/s]\u001b[A\n",
            "  6%|▋         | 13/208 [00:04<01:05,  2.98it/s]\u001b[A\n",
            "  7%|▋         | 14/208 [00:04<01:01,  3.14it/s]\u001b[A\n",
            "  7%|▋         | 15/208 [00:04<01:01,  3.16it/s]\u001b[A\n",
            "  8%|▊         | 16/208 [00:05<01:00,  3.19it/s]\u001b[A\n",
            "  8%|▊         | 17/208 [00:05<00:58,  3.27it/s]\u001b[A\n",
            "  9%|▊         | 18/208 [00:05<01:00,  3.15it/s]\u001b[A\n",
            "  9%|▉         | 19/208 [00:06<01:00,  3.10it/s]\u001b[A\n",
            " 10%|▉         | 20/208 [00:06<00:59,  3.16it/s]\u001b[A\n",
            " 10%|█         | 21/208 [00:06<00:58,  3.20it/s]\u001b[A\n",
            " 11%|█         | 22/208 [00:07<00:57,  3.22it/s]\u001b[A\n",
            " 11%|█         | 23/208 [00:07<00:58,  3.14it/s]\u001b[A\n",
            " 12%|█▏        | 24/208 [00:07<01:01,  2.97it/s]\u001b[A\n",
            " 12%|█▏        | 25/208 [00:08<01:02,  2.93it/s]\u001b[A\n",
            " 12%|█▎        | 26/208 [00:08<01:02,  2.92it/s]\u001b[A\n",
            " 13%|█▎        | 27/208 [00:08<00:59,  3.04it/s]\u001b[A\n",
            " 13%|█▎        | 28/208 [00:09<00:59,  3.02it/s]\u001b[A\n",
            " 14%|█▍        | 29/208 [00:09<00:59,  3.03it/s]\u001b[A\n",
            " 14%|█▍        | 30/208 [00:09<01:00,  2.93it/s]\u001b[A\n",
            " 15%|█▍        | 31/208 [00:10<01:00,  2.95it/s]\u001b[A\n",
            " 15%|█▌        | 32/208 [00:10<00:58,  2.99it/s]\u001b[A\n",
            " 16%|█▌        | 33/208 [00:10<00:58,  3.01it/s]\u001b[A\n",
            " 16%|█▋        | 34/208 [00:11<00:57,  3.02it/s]\u001b[A\n",
            " 17%|█▋        | 35/208 [00:11<00:57,  3.03it/s]\u001b[A\n",
            " 17%|█▋        | 36/208 [00:11<00:57,  2.99it/s]\u001b[A\n",
            " 18%|█▊        | 37/208 [00:12<00:56,  3.05it/s]\u001b[A\n",
            " 18%|█▊        | 38/208 [00:12<00:53,  3.18it/s]\u001b[A\n",
            " 19%|█▉        | 39/208 [00:12<00:53,  3.16it/s]\u001b[A\n",
            " 19%|█▉        | 40/208 [00:13<00:53,  3.12it/s]\u001b[A\n",
            " 20%|█▉        | 41/208 [00:13<00:52,  3.21it/s]\u001b[A\n",
            " 20%|██        | 42/208 [00:13<00:53,  3.09it/s]\u001b[A\n",
            " 21%|██        | 43/208 [00:13<00:51,  3.23it/s]\u001b[A\n",
            " 21%|██        | 44/208 [00:14<00:49,  3.31it/s]\u001b[A\n",
            " 22%|██▏       | 45/208 [00:14<00:49,  3.31it/s]\u001b[A\n",
            " 22%|██▏       | 46/208 [00:14<00:50,  3.20it/s]\u001b[A\n",
            " 23%|██▎       | 47/208 [00:15<00:51,  3.15it/s]\u001b[A\n",
            " 23%|██▎       | 48/208 [00:15<00:48,  3.27it/s]\u001b[A\n",
            " 24%|██▎       | 49/208 [00:15<00:47,  3.33it/s]\u001b[A\n",
            " 24%|██▍       | 50/208 [00:16<00:48,  3.29it/s]\u001b[A\n",
            " 25%|██▍       | 51/208 [00:16<00:47,  3.27it/s]\u001b[A"
          ],
          "name": "stderr"
        },
        {
          "output_type": "stream",
          "text": [
            "20.41753578186035\n",
            "ponerlyyma\n",
            "[13, 28, 35, 51, 30, 16, 54, 57, 50, 10]\n",
            "syaryyshye\n",
            "[13, 33, 8, 13, 34, 57, 47, 42, 60, 42]\n",
            "uideralybl\n",
            "[8, 17, 59, 44, 49, 3, 32, 33, 36, 16]\n",
            "nouselycea\n",
            "[13, 28, 25, 39, 14, 16, 54, 9, 14, 3]\n",
            "hrulomeant\n",
            "[13, 7, 8, 4, 28, 50, 10, 3, 52, 41]\n"
          ],
          "name": "stdout"
        },
        {
          "output_type": "stream",
          "text": [
            "\n",
            " 25%|██▌       | 52/208 [00:16<00:47,  3.27it/s]\u001b[A\n",
            " 25%|██▌       | 53/208 [00:17<00:46,  3.30it/s]\u001b[A\n",
            " 26%|██▌       | 54/208 [00:17<00:48,  3.18it/s]\u001b[A\n",
            " 26%|██▋       | 55/208 [00:17<00:48,  3.16it/s]\u001b[A\n",
            " 27%|██▋       | 56/208 [00:18<00:48,  3.14it/s]\u001b[A\n",
            " 27%|██▋       | 57/208 [00:18<00:46,  3.23it/s]\u001b[A\n",
            " 28%|██▊       | 58/208 [00:18<00:47,  3.16it/s]\u001b[A\n",
            " 28%|██▊       | 59/208 [00:18<00:45,  3.25it/s]\u001b[A\n",
            " 29%|██▉       | 60/208 [00:19<00:44,  3.32it/s]\u001b[A\n",
            " 29%|██▉       | 61/208 [00:19<00:44,  3.27it/s]\u001b[A\n",
            " 30%|██▉       | 62/208 [00:19<00:44,  3.26it/s]\u001b[A\n",
            " 30%|███       | 63/208 [00:20<00:44,  3.29it/s]\u001b[A\n",
            " 31%|███       | 64/208 [00:20<00:43,  3.30it/s]\u001b[A\n",
            " 31%|███▏      | 65/208 [00:20<00:42,  3.37it/s]\u001b[A\n",
            " 32%|███▏      | 66/208 [00:21<00:42,  3.34it/s]\u001b[A\n",
            " 32%|███▏      | 67/208 [00:21<00:42,  3.33it/s]\u001b[A\n",
            " 33%|███▎      | 68/208 [00:21<00:42,  3.30it/s]\u001b[A\n",
            " 33%|███▎      | 69/208 [00:21<00:43,  3.20it/s]\u001b[A\n",
            " 34%|███▎      | 70/208 [00:22<00:41,  3.31it/s]\u001b[A\n",
            " 34%|███▍      | 71/208 [00:22<00:42,  3.26it/s]\u001b[A\n",
            " 35%|███▍      | 72/208 [00:22<00:40,  3.37it/s]\u001b[A\n",
            " 35%|███▌      | 73/208 [00:23<00:40,  3.35it/s]\u001b[A\n",
            " 36%|███▌      | 74/208 [00:23<00:40,  3.35it/s]\u001b[A\n",
            " 36%|███▌      | 75/208 [00:23<00:39,  3.33it/s]\u001b[A\n",
            " 37%|███▋      | 76/208 [00:24<00:40,  3.23it/s]\u001b[A\n",
            " 37%|███▋      | 77/208 [00:24<00:40,  3.27it/s]\u001b[A\n",
            " 38%|███▊      | 78/208 [00:24<00:39,  3.33it/s]\u001b[A\n",
            " 38%|███▊      | 79/208 [00:24<00:38,  3.38it/s]\u001b[A\n",
            " 38%|███▊      | 80/208 [00:25<00:38,  3.33it/s]\u001b[A\n",
            " 39%|███▉      | 81/208 [00:25<00:37,  3.38it/s]\u001b[A\n",
            " 39%|███▉      | 82/208 [00:25<00:38,  3.27it/s]\u001b[A\n",
            " 40%|███▉      | 83/208 [00:26<00:37,  3.31it/s]\u001b[A\n",
            " 40%|████      | 84/208 [00:26<00:36,  3.43it/s]\u001b[A\n",
            " 41%|████      | 85/208 [00:26<00:37,  3.27it/s]\u001b[A\n",
            " 41%|████▏     | 86/208 [00:27<00:38,  3.19it/s]\u001b[A\n",
            " 42%|████▏     | 87/208 [00:27<00:38,  3.12it/s]\u001b[A\n",
            " 42%|████▏     | 88/208 [00:27<00:38,  3.10it/s]\u001b[A\n",
            " 43%|████▎     | 89/208 [00:28<00:36,  3.25it/s]\u001b[A\n",
            " 43%|████▎     | 90/208 [00:28<00:38,  3.09it/s]\u001b[A\n",
            " 44%|████▍     | 91/208 [00:28<00:36,  3.23it/s]\u001b[A\n",
            " 44%|████▍     | 92/208 [00:28<00:34,  3.34it/s]\u001b[A\n",
            " 45%|████▍     | 93/208 [00:29<00:34,  3.35it/s]\u001b[A\n",
            " 45%|████▌     | 94/208 [00:29<00:34,  3.29it/s]\u001b[A\n",
            " 46%|████▌     | 95/208 [00:29<00:34,  3.26it/s]\u001b[A\n",
            " 46%|████▌     | 96/208 [00:30<00:33,  3.32it/s]\u001b[A\n",
            " 47%|████▋     | 97/208 [00:30<00:34,  3.20it/s]\u001b[A\n",
            " 47%|████▋     | 98/208 [00:30<00:33,  3.27it/s]\u001b[A\n",
            " 48%|████▊     | 99/208 [00:31<00:33,  3.30it/s]\u001b[A\n",
            " 48%|████▊     | 100/208 [00:31<00:32,  3.35it/s]\u001b[A\n",
            " 49%|████▊     | 101/208 [00:31<00:32,  3.26it/s]\u001b[A"
          ],
          "name": "stderr"
        },
        {
          "output_type": "stream",
          "text": [
            "20.463918685913086\n",
            "paoderedtl\n",
            "[13, 8, 17, 59, 44, 49, 51, 30, 41, 16]\n",
            "berrynglyy\n",
            "[13, 44, 11, 55, 60, 27, 6, 16, 60, 54]\n",
            "ulxantsler\n",
            "[8, 4, 4, 3, 52, 41, 62, 16, 15, 55]\n",
            "khtarysmug\n",
            "[13, 63, 41, 3, 55, 60, 47, 43, 25, 6]\n",
            "syletsngle\n",
            "[13, 33, 16, 15, 41, 21, 27, 1, 16, 15]\n"
          ],
          "name": "stdout"
        },
        {
          "output_type": "stream",
          "text": [
            "\n",
            " 49%|████▉     | 102/208 [00:31<00:31,  3.33it/s]\u001b[A\n",
            " 50%|████▉     | 103/208 [00:32<00:30,  3.39it/s]\u001b[A\n",
            " 50%|█████     | 104/208 [00:32<00:32,  3.16it/s]\u001b[A\n",
            " 50%|█████     | 105/208 [00:32<00:31,  3.26it/s]\u001b[A\n",
            " 51%|█████     | 106/208 [00:33<00:30,  3.36it/s]\u001b[A\n",
            " 51%|█████▏    | 107/208 [00:33<00:31,  3.24it/s]\u001b[A\n",
            " 52%|█████▏    | 108/208 [00:33<00:30,  3.24it/s]\u001b[A\n",
            " 52%|█████▏    | 109/208 [00:34<00:30,  3.19it/s]\u001b[A\n",
            " 53%|█████▎    | 110/208 [00:34<00:30,  3.24it/s]\u001b[A\n",
            " 53%|█████▎    | 111/208 [00:34<00:30,  3.17it/s]\u001b[A\n",
            " 54%|█████▍    | 112/208 [00:35<00:29,  3.30it/s]\u001b[A\n",
            " 54%|█████▍    | 113/208 [00:35<00:28,  3.30it/s]\u001b[A\n",
            " 55%|█████▍    | 114/208 [00:35<00:27,  3.38it/s]\u001b[A\n",
            " 55%|█████▌    | 115/208 [00:35<00:26,  3.51it/s]\u001b[A\n",
            " 56%|█████▌    | 116/208 [00:36<00:26,  3.52it/s]\u001b[A\n",
            " 56%|█████▋    | 117/208 [00:36<00:26,  3.39it/s]\u001b[A\n",
            " 57%|█████▋    | 118/208 [00:36<00:26,  3.40it/s]\u001b[A\n",
            " 57%|█████▋    | 119/208 [00:37<00:25,  3.44it/s]\u001b[A\n",
            " 58%|█████▊    | 120/208 [00:37<00:26,  3.28it/s]\u001b[A\n",
            " 58%|█████▊    | 121/208 [00:37<00:26,  3.33it/s]\u001b[A\n",
            " 59%|█████▊    | 122/208 [00:37<00:24,  3.49it/s]\u001b[A\n",
            " 59%|█████▉    | 123/208 [00:38<00:24,  3.50it/s]\u001b[A\n",
            " 60%|█████▉    | 124/208 [00:38<00:24,  3.42it/s]\u001b[A\n",
            " 60%|██████    | 125/208 [00:38<00:24,  3.39it/s]\u001b[A\n",
            " 61%|██████    | 126/208 [00:39<00:25,  3.24it/s]\u001b[A\n",
            " 61%|██████    | 127/208 [00:39<00:24,  3.30it/s]\u001b[A\n",
            " 62%|██████▏   | 128/208 [00:39<00:24,  3.32it/s]\u001b[A\n",
            " 62%|██████▏   | 129/208 [00:40<00:23,  3.36it/s]\u001b[A\n",
            " 62%|██████▎   | 130/208 [00:40<00:22,  3.40it/s]\u001b[A\n",
            " 63%|██████▎   | 131/208 [00:40<00:23,  3.23it/s]\u001b[A\n",
            " 63%|██████▎   | 132/208 [00:41<00:23,  3.30it/s]\u001b[A\n",
            " 64%|██████▍   | 133/208 [00:41<00:22,  3.29it/s]\u001b[A\n",
            " 64%|██████▍   | 134/208 [00:41<00:22,  3.24it/s]\u001b[A\n",
            " 65%|██████▍   | 135/208 [00:41<00:21,  3.35it/s]\u001b[A\n",
            " 65%|██████▌   | 136/208 [00:42<00:20,  3.46it/s]\u001b[A\n",
            " 66%|██████▌   | 137/208 [00:42<00:21,  3.33it/s]\u001b[A\n",
            " 66%|██████▋   | 138/208 [00:42<00:20,  3.34it/s]\u001b[A\n",
            " 67%|██████▋   | 139/208 [00:43<00:21,  3.28it/s]\u001b[A\n",
            " 67%|██████▋   | 140/208 [00:43<00:20,  3.24it/s]\u001b[A\n",
            " 68%|██████▊   | 141/208 [00:43<00:21,  3.09it/s]\u001b[A\n",
            " 68%|██████▊   | 142/208 [00:44<00:20,  3.20it/s]\u001b[A\n",
            " 69%|██████▉   | 143/208 [00:44<00:20,  3.25it/s]\u001b[A\n",
            " 69%|██████▉   | 144/208 [00:44<00:20,  3.19it/s]\u001b[A\n",
            " 70%|██████▉   | 145/208 [00:44<00:19,  3.26it/s]\u001b[A\n",
            " 70%|███████   | 146/208 [00:45<00:18,  3.37it/s]\u001b[A\n",
            " 71%|███████   | 147/208 [00:45<00:18,  3.26it/s]\u001b[A\n",
            " 71%|███████   | 148/208 [00:45<00:18,  3.28it/s]\u001b[A\n",
            " 72%|███████▏  | 149/208 [00:46<00:18,  3.26it/s]\u001b[A\n",
            " 72%|███████▏  | 150/208 [00:46<00:18,  3.17it/s]\u001b[A\n",
            " 73%|███████▎  | 151/208 [00:46<00:17,  3.23it/s]\u001b[A"
          ],
          "name": "stderr"
        },
        {
          "output_type": "stream",
          "text": [
            "20.39699935913086\n",
            "opronacenc\n",
            "[8, 13, 7, 28, 12, 2, 9, 14, 52, 9]\n",
            "puxklyerye\n",
            "[13, 8, 24, 0, 16, 60, 53, 11, 57, 15]\n",
            "memetylyge\n",
            "[13, 8, 50, 10, 23, 34, 16, 60, 50, 10]\n",
            "shyrhylyly\n",
            "[13, 63, 33, 13, 63, 33, 16, 54, 16, 46]\n",
            "illyacente\n",
            "[8, 4, 16, 34, 2, 9, 14, 52, 41, 29]\n"
          ],
          "name": "stdout"
        },
        {
          "output_type": "stream",
          "text": [
            "\n",
            " 73%|███████▎  | 152/208 [00:47<00:16,  3.34it/s]\u001b[A\n",
            " 74%|███████▎  | 153/208 [00:47<00:16,  3.35it/s]\u001b[A\n",
            " 74%|███████▍  | 154/208 [00:47<00:16,  3.36it/s]\u001b[A\n",
            " 75%|███████▍  | 155/208 [00:48<00:16,  3.28it/s]\u001b[A\n",
            " 75%|███████▌  | 156/208 [00:48<00:15,  3.29it/s]\u001b[A\n",
            " 75%|███████▌  | 157/208 [00:48<00:15,  3.26it/s]\u001b[A\n",
            " 76%|███████▌  | 158/208 [00:48<00:15,  3.25it/s]\u001b[A\n",
            " 76%|███████▋  | 159/208 [00:49<00:15,  3.21it/s]\u001b[A\n",
            " 77%|███████▋  | 160/208 [00:49<00:15,  3.07it/s]\u001b[A\n",
            " 77%|███████▋  | 161/208 [00:49<00:15,  3.06it/s]\u001b[A\n",
            " 78%|███████▊  | 162/208 [00:50<00:15,  3.05it/s]\u001b[A\n",
            " 78%|███████▊  | 163/208 [00:50<00:14,  3.08it/s]\u001b[A\n",
            " 79%|███████▉  | 164/208 [00:50<00:14,  3.01it/s]\u001b[A\n",
            " 79%|███████▉  | 165/208 [00:51<00:13,  3.12it/s]\u001b[A\n",
            " 80%|███████▉  | 166/208 [00:51<00:13,  3.20it/s]\u001b[A\n",
            " 80%|████████  | 167/208 [00:51<00:12,  3.17it/s]\u001b[A\n",
            " 81%|████████  | 168/208 [00:52<00:12,  3.22it/s]\u001b[A\n",
            " 81%|████████▏ | 169/208 [00:52<00:12,  3.25it/s]\u001b[A\n",
            " 82%|████████▏ | 170/208 [00:52<00:11,  3.30it/s]\u001b[A\n",
            " 82%|████████▏ | 171/208 [00:53<00:11,  3.25it/s]\u001b[A\n",
            " 83%|████████▎ | 172/208 [00:53<00:10,  3.40it/s]\u001b[A\n",
            " 83%|████████▎ | 173/208 [00:53<00:10,  3.46it/s]\u001b[A\n",
            " 84%|████████▎ | 174/208 [00:53<00:09,  3.47it/s]\u001b[A\n",
            " 84%|████████▍ | 175/208 [00:54<00:09,  3.40it/s]\u001b[A\n",
            " 85%|████████▍ | 176/208 [00:54<00:09,  3.48it/s]\u001b[A\n",
            " 85%|████████▌ | 177/208 [00:54<00:08,  3.45it/s]\u001b[A\n",
            " 86%|████████▌ | 178/208 [00:55<00:08,  3.46it/s]\u001b[A\n",
            " 86%|████████▌ | 179/208 [00:55<00:08,  3.52it/s]\u001b[A\n",
            " 87%|████████▋ | 180/208 [00:55<00:08,  3.48it/s]\u001b[A\n",
            " 87%|████████▋ | 181/208 [00:55<00:07,  3.39it/s]\u001b[A\n",
            " 88%|████████▊ | 182/208 [00:56<00:07,  3.37it/s]\u001b[A\n",
            " 88%|████████▊ | 183/208 [00:56<00:07,  3.32it/s]\u001b[A\n",
            " 88%|████████▊ | 184/208 [00:56<00:07,  3.30it/s]\u001b[A\n",
            " 89%|████████▉ | 185/208 [00:57<00:06,  3.30it/s]\u001b[A\n",
            " 89%|████████▉ | 186/208 [00:57<00:06,  3.33it/s]\u001b[A\n",
            " 90%|████████▉ | 187/208 [00:57<00:06,  3.43it/s]\u001b[A\n",
            " 90%|█████████ | 188/208 [00:58<00:06,  3.23it/s]\u001b[A\n",
            " 91%|█████████ | 189/208 [00:58<00:06,  3.16it/s]\u001b[A\n",
            " 91%|█████████▏| 190/208 [00:58<00:05,  3.13it/s]\u001b[A\n",
            " 92%|█████████▏| 191/208 [00:59<00:05,  3.10it/s]\u001b[A\n",
            " 92%|█████████▏| 192/208 [00:59<00:05,  3.07it/s]\u001b[A\n",
            " 93%|█████████▎| 193/208 [00:59<00:04,  3.12it/s]\u001b[A\n",
            " 93%|█████████▎| 194/208 [01:00<00:04,  3.14it/s]\u001b[A\n",
            " 94%|█████████▍| 195/208 [01:00<00:04,  3.19it/s]\u001b[A\n",
            " 94%|█████████▍| 196/208 [01:00<00:03,  3.30it/s]\u001b[A\n",
            " 95%|█████████▍| 197/208 [01:00<00:03,  3.14it/s]\u001b[A\n",
            " 95%|█████████▌| 198/208 [01:01<00:03,  3.23it/s]\u001b[A\n",
            " 96%|█████████▌| 199/208 [01:01<00:02,  3.32it/s]\u001b[A\n",
            " 96%|█████████▌| 200/208 [01:01<00:02,  3.28it/s]\u001b[A\n",
            " 97%|█████████▋| 201/208 [01:02<00:02,  3.29it/s]\u001b[A"
          ],
          "name": "stderr"
        },
        {
          "output_type": "stream",
          "text": [
            "20.583784103393555\n",
            "gemyytblyy\n",
            "[13, 8, 50, 57, 46, 5, 53, 16, 54, 60]\n",
            "cyykletlye\n",
            "[13, 33, 46, 0, 16, 15, 41, 16, 34, 10]\n",
            "mytialymyl\n",
            "[13, 33, 5, 56, 40, 16, 54, 43, 57, 4]\n",
            "thusngentl\n",
            "[13, 63, 25, 39, 27, 6, 14, 52, 41, 16]\n",
            "pronfyltmu\n",
            "[13, 7, 8, 17, 48, 57, 16, 20, 43, 25]\n"
          ],
          "name": "stdout"
        },
        {
          "output_type": "stream",
          "text": [
            "\n",
            " 97%|█████████▋| 202/208 [01:02<00:01,  3.21it/s]\u001b[A\n",
            " 98%|█████████▊| 203/208 [01:02<00:01,  3.15it/s]\u001b[A\n",
            " 98%|█████████▊| 204/208 [01:03<00:01,  3.18it/s]\u001b[A\n",
            " 99%|█████████▊| 205/208 [01:03<00:00,  3.25it/s]\u001b[A\n",
            " 99%|█████████▉| 206/208 [01:03<00:00,  3.23it/s]\u001b[A\n",
            "100%|█████████▉| 207/208 [01:04<00:00,  3.27it/s]\u001b[A\n",
            "100%|██████████| 208/208 [01:04<00:00,  3.98it/s]\u001b[A\n",
            "\u001b[A"
          ],
          "name": "stderr"
        },
        {
          "output_type": "stream",
          "text": [
            "20.037982940673828\n",
            "thryererng\n",
            "[13, 63, 55, 60, 44, 49, 51, 30, 27, 1]\n"
          ],
          "name": "stdout"
        },
        {
          "output_type": "stream",
          "text": [
            "\n",
            "  0%|          | 0/208 [00:00<?, ?it/s]\u001b[A"
          ],
          "name": "stderr"
        },
        {
          "output_type": "stream",
          "text": [
            "========= Results: epoch 5 of 10 =========\n",
            "train loss: 20.40| valid loss: 20.41\n",
            "\n",
            "========= Epoch 6 of 10 =========\n"
          ],
          "name": "stdout"
        },
        {
          "output_type": "stream",
          "text": [
            "\n",
            "  0%|          | 1/208 [00:00<01:28,  2.33it/s]\u001b[A"
          ],
          "name": "stderr"
        },
        {
          "output_type": "stream",
          "text": [
            "20.42343521118164\n",
            "otorymicac\n",
            "[8, 5, 53, 11, 57, 20, 56, 40, 2, 9]\n",
            "lrantlerye\n",
            "[13, 7, 3, 52, 41, 16, 15, 55, 60, 51]\n",
            "gosealacey\n",
            "[13, 8, 24, 14, 3, 38, 2, 9, 14, 46]\n",
            "uvouygeris\n",
            "[8, 50, 28, 25, 60, 1, 44, 55, 56, 47]\n",
            "sablydeonl\n",
            "[13, 8, 36, 16, 54, 30, 14, 28, 12, 16]\n"
          ],
          "name": "stdout"
        },
        {
          "output_type": "stream",
          "text": [
            "\n",
            "  1%|          | 2/208 [00:00<01:23,  2.47it/s]\u001b[A\n",
            "  1%|▏         | 3/208 [00:01<01:18,  2.62it/s]\u001b[A\n",
            "  2%|▏         | 4/208 [00:01<01:11,  2.85it/s]\u001b[A\n",
            "  2%|▏         | 5/208 [00:01<01:06,  3.04it/s]\u001b[A\n",
            "  3%|▎         | 6/208 [00:01<01:04,  3.11it/s]\u001b[A\n",
            "  3%|▎         | 7/208 [00:02<01:02,  3.23it/s]\u001b[A\n",
            "  4%|▍         | 8/208 [00:02<01:02,  3.20it/s]\u001b[A\n",
            "  4%|▍         | 9/208 [00:02<01:03,  3.14it/s]\u001b[A\n",
            "  5%|▍         | 10/208 [00:03<01:03,  3.13it/s]\u001b[A\n",
            "  5%|▌         | 11/208 [00:03<01:01,  3.21it/s]\u001b[A\n",
            "  6%|▌         | 12/208 [00:03<00:58,  3.35it/s]\u001b[A\n",
            "  6%|▋         | 13/208 [00:04<00:58,  3.33it/s]\u001b[A\n",
            "  7%|▋         | 14/208 [00:04<00:57,  3.38it/s]\u001b[A\n",
            "  7%|▋         | 15/208 [00:04<00:56,  3.39it/s]\u001b[A\n",
            "  8%|▊         | 16/208 [00:04<00:57,  3.37it/s]\u001b[A\n",
            "  8%|▊         | 17/208 [00:05<00:59,  3.23it/s]\u001b[A\n",
            "  9%|▊         | 18/208 [00:05<00:58,  3.24it/s]\u001b[A\n",
            "  9%|▉         | 19/208 [00:05<00:56,  3.35it/s]\u001b[A\n",
            " 10%|▉         | 20/208 [00:06<00:59,  3.15it/s]\u001b[A\n",
            " 10%|█         | 21/208 [00:06<00:56,  3.31it/s]\u001b[A\n",
            " 11%|█         | 22/208 [00:06<00:57,  3.23it/s]\u001b[A\n",
            " 11%|█         | 23/208 [00:07<00:56,  3.28it/s]\u001b[A\n",
            " 12%|█▏        | 24/208 [00:07<00:55,  3.32it/s]\u001b[A\n",
            " 12%|█▏        | 25/208 [00:07<00:55,  3.31it/s]\u001b[A\n",
            " 12%|█▎        | 26/208 [00:08<00:54,  3.35it/s]\u001b[A\n",
            " 13%|█▎        | 27/208 [00:08<00:56,  3.22it/s]\u001b[A\n",
            " 13%|█▎        | 28/208 [00:08<00:53,  3.36it/s]\u001b[A\n",
            " 14%|█▍        | 29/208 [00:08<00:52,  3.41it/s]\u001b[A\n",
            " 14%|█▍        | 30/208 [00:09<00:53,  3.30it/s]\u001b[A\n",
            " 15%|█▍        | 31/208 [00:09<00:53,  3.34it/s]\u001b[A\n",
            " 15%|█▌        | 32/208 [00:09<00:52,  3.34it/s]\u001b[A\n",
            " 16%|█▌        | 33/208 [00:10<00:52,  3.32it/s]\u001b[A\n",
            " 16%|█▋        | 34/208 [00:10<00:51,  3.40it/s]\u001b[A\n",
            " 17%|█▋        | 35/208 [00:10<00:52,  3.32it/s]\u001b[A\n",
            " 17%|█▋        | 36/208 [00:10<00:49,  3.44it/s]\u001b[A\n",
            " 18%|█▊        | 37/208 [00:11<00:49,  3.46it/s]\u001b[A\n",
            " 18%|█▊        | 38/208 [00:11<00:49,  3.41it/s]\u001b[A\n",
            " 19%|█▉        | 39/208 [00:11<00:49,  3.39it/s]\u001b[A\n",
            " 19%|█▉        | 40/208 [00:12<00:51,  3.29it/s]\u001b[A\n",
            " 20%|█▉        | 41/208 [00:12<00:49,  3.34it/s]\u001b[A\n",
            " 20%|██        | 42/208 [00:12<00:51,  3.25it/s]\u001b[A\n",
            " 21%|██        | 43/208 [00:13<00:49,  3.31it/s]\u001b[A\n",
            " 21%|██        | 44/208 [00:13<00:49,  3.31it/s]\u001b[A\n",
            " 22%|██▏       | 45/208 [00:13<00:48,  3.33it/s]\u001b[A\n",
            " 22%|██▏       | 46/208 [00:14<00:48,  3.32it/s]\u001b[A\n",
            " 23%|██▎       | 47/208 [00:14<00:49,  3.23it/s]\u001b[A\n",
            " 23%|██▎       | 48/208 [00:14<00:49,  3.25it/s]\u001b[A\n",
            " 24%|██▎       | 49/208 [00:14<00:47,  3.32it/s]\u001b[A\n",
            " 24%|██▍       | 50/208 [00:15<00:48,  3.26it/s]\u001b[A\n",
            " 25%|██▍       | 51/208 [00:15<00:48,  3.23it/s]\u001b[A"
          ],
          "name": "stderr"
        },
        {
          "output_type": "stream",
          "text": [
            "20.4257755279541\n",
            "plicalessy\n",
            "[13, 7, 56, 37, 3, 32, 29, 58, 21, 60]\n",
            "unentadenc\n",
            "[8, 18, 14, 52, 41, 2, 9, 14, 52, 9]\n",
            "ctrylacent\n",
            "[13, 23, 55, 60, 38, 2, 9, 14, 52, 41]\n",
            "nyonedessl\n",
            "[13, 33, 28, 35, 51, 30, 29, 58, 62, 16]\n",
            "mhessnessl\n",
            "[13, 7, 29, 58, 62, 27, 29, 58, 62, 16]\n"
          ],
          "name": "stdout"
        },
        {
          "output_type": "stream",
          "text": [
            "\n",
            " 25%|██▌       | 52/208 [00:15<00:49,  3.17it/s]\u001b[A\n",
            " 25%|██▌       | 53/208 [00:16<00:50,  3.10it/s]\u001b[A\n",
            " 26%|██▌       | 54/208 [00:16<00:49,  3.11it/s]\u001b[A\n",
            " 26%|██▋       | 55/208 [00:16<00:50,  3.02it/s]\u001b[A\n",
            " 27%|██▋       | 56/208 [00:17<00:48,  3.12it/s]\u001b[A\n",
            " 27%|██▋       | 57/208 [00:17<00:48,  3.11it/s]\u001b[A\n",
            " 28%|██▊       | 58/208 [00:17<00:46,  3.21it/s]\u001b[A\n",
            " 28%|██▊       | 59/208 [00:18<00:45,  3.27it/s]\u001b[A\n",
            " 29%|██▉       | 60/208 [00:18<00:43,  3.38it/s]\u001b[A\n",
            " 29%|██▉       | 61/208 [00:18<00:44,  3.31it/s]\u001b[A\n",
            " 30%|██▉       | 62/208 [00:18<00:43,  3.36it/s]\u001b[A\n",
            " 30%|███       | 63/208 [00:19<00:43,  3.35it/s]\u001b[A\n",
            " 31%|███       | 64/208 [00:19<00:43,  3.30it/s]\u001b[A\n",
            " 31%|███▏      | 65/208 [00:19<00:44,  3.25it/s]\u001b[A\n",
            " 32%|███▏      | 66/208 [00:20<00:43,  3.29it/s]\u001b[A\n",
            " 32%|███▏      | 67/208 [00:20<00:41,  3.38it/s]\u001b[A\n",
            " 33%|███▎      | 68/208 [00:20<00:42,  3.27it/s]\u001b[A\n",
            " 33%|███▎      | 69/208 [00:21<00:43,  3.21it/s]\u001b[A\n",
            " 34%|███▎      | 70/208 [00:21<00:44,  3.10it/s]\u001b[A\n",
            " 34%|███▍      | 71/208 [00:21<00:43,  3.12it/s]\u001b[A\n",
            " 35%|███▍      | 72/208 [00:22<00:44,  3.06it/s]\u001b[A\n",
            " 35%|███▌      | 73/208 [00:22<00:43,  3.07it/s]\u001b[A\n",
            " 36%|███▌      | 74/208 [00:22<00:44,  3.03it/s]\u001b[A\n",
            " 36%|███▌      | 75/208 [00:23<00:43,  3.09it/s]\u001b[A\n",
            " 37%|███▋      | 76/208 [00:23<00:41,  3.15it/s]\u001b[A\n",
            " 37%|███▋      | 77/208 [00:23<00:41,  3.14it/s]\u001b[A\n",
            " 38%|███▊      | 78/208 [00:24<00:39,  3.27it/s]\u001b[A\n",
            " 38%|███▊      | 79/208 [00:24<00:40,  3.22it/s]\u001b[A\n",
            " 38%|███▊      | 80/208 [00:24<00:39,  3.23it/s]\u001b[A\n",
            " 39%|███▉      | 81/208 [00:24<00:38,  3.31it/s]\u001b[A\n",
            " 39%|███▉      | 82/208 [00:25<00:38,  3.24it/s]\u001b[A\n",
            " 40%|███▉      | 83/208 [00:25<00:37,  3.31it/s]\u001b[A\n",
            " 40%|████      | 84/208 [00:25<00:37,  3.27it/s]\u001b[A\n",
            " 41%|████      | 85/208 [00:26<00:36,  3.33it/s]\u001b[A\n",
            " 41%|████▏     | 86/208 [00:26<00:37,  3.24it/s]\u001b[A\n",
            " 42%|████▏     | 87/208 [00:26<00:36,  3.31it/s]\u001b[A\n",
            " 42%|████▏     | 88/208 [00:27<00:36,  3.27it/s]\u001b[A\n",
            " 43%|████▎     | 89/208 [00:27<00:38,  3.11it/s]\u001b[A\n",
            " 43%|████▎     | 90/208 [00:27<00:38,  3.04it/s]\u001b[A\n",
            " 44%|████▍     | 91/208 [00:28<00:37,  3.12it/s]\u001b[A\n",
            " 44%|████▍     | 92/208 [00:28<00:35,  3.24it/s]\u001b[A\n",
            " 45%|████▍     | 93/208 [00:28<00:34,  3.37it/s]\u001b[A\n",
            " 45%|████▌     | 94/208 [00:28<00:33,  3.45it/s]\u001b[A\n",
            " 46%|████▌     | 95/208 [00:29<00:33,  3.41it/s]\u001b[A\n",
            " 46%|████▌     | 96/208 [00:29<00:34,  3.26it/s]\u001b[A\n",
            " 47%|████▋     | 97/208 [00:29<00:34,  3.26it/s]\u001b[A\n",
            " 47%|████▋     | 98/208 [00:30<00:34,  3.22it/s]\u001b[A\n",
            " 48%|████▊     | 99/208 [00:30<00:33,  3.27it/s]\u001b[A\n",
            " 48%|████▊     | 100/208 [00:30<00:34,  3.17it/s]\u001b[A\n",
            " 49%|████▊     | 101/208 [00:31<00:32,  3.28it/s]\u001b[A"
          ],
          "name": "stderr"
        },
        {
          "output_type": "stream",
          "text": [
            "20.265533447265625\n",
            "edhmantant\n",
            "[8, 13, 63, 50, 10, 52, 41, 3, 52, 41]\n",
            "Eeicysentl\n",
            "[13, 7, 56, 9, 57, 21, 14, 52, 41, 16]\n",
            "trableaegu\n",
            "[13, 7, 3, 36, 16, 15, 3, 38, 1, 25]\n",
            "rarydnglye\n",
            "[13, 3, 55, 60, 31, 27, 1, 16, 34, 26]\n",
            "apheyngded\n",
            "[8, 13, 63, 44, 31, 27, 6, 59, 44, 31]\n"
          ],
          "name": "stdout"
        },
        {
          "output_type": "stream",
          "text": [
            "\n",
            " 49%|████▉     | 102/208 [00:31<00:34,  3.08it/s]\u001b[A\n",
            " 50%|████▉     | 103/208 [00:31<00:34,  3.01it/s]\u001b[A\n",
            " 50%|█████     | 104/208 [00:32<00:34,  2.99it/s]\u001b[A\n",
            " 50%|█████     | 105/208 [00:32<00:32,  3.14it/s]\u001b[A\n",
            " 51%|█████     | 106/208 [00:32<00:31,  3.22it/s]\u001b[A\n",
            " 51%|█████▏    | 107/208 [00:33<00:32,  3.13it/s]\u001b[A\n",
            " 52%|█████▏    | 108/208 [00:33<00:30,  3.23it/s]\u001b[A\n",
            " 52%|█████▏    | 109/208 [00:33<00:30,  3.26it/s]\u001b[A\n",
            " 53%|█████▎    | 110/208 [00:33<00:30,  3.22it/s]\u001b[A\n",
            " 53%|█████▎    | 111/208 [00:34<00:30,  3.20it/s]\u001b[A\n",
            " 54%|█████▍    | 112/208 [00:34<00:29,  3.25it/s]\u001b[A\n",
            " 54%|█████▍    | 113/208 [00:34<00:30,  3.16it/s]\u001b[A\n",
            " 55%|█████▍    | 114/208 [00:35<00:29,  3.23it/s]\u001b[A\n",
            " 55%|█████▌    | 115/208 [00:35<00:29,  3.10it/s]\u001b[A\n",
            " 56%|█████▌    | 116/208 [00:35<00:29,  3.07it/s]\u001b[A\n",
            " 56%|█████▋    | 117/208 [00:36<00:30,  2.96it/s]\u001b[A\n",
            " 57%|█████▋    | 118/208 [00:36<00:29,  3.05it/s]\u001b[A\n",
            " 57%|█████▋    | 119/208 [00:36<00:28,  3.10it/s]\u001b[A\n",
            " 58%|█████▊    | 120/208 [00:37<00:28,  3.09it/s]\u001b[A\n",
            " 58%|█████▊    | 121/208 [00:37<00:28,  3.10it/s]\u001b[A\n",
            " 59%|█████▊    | 122/208 [00:37<00:27,  3.17it/s]\u001b[A\n",
            " 59%|█████▉    | 123/208 [00:38<00:25,  3.28it/s]\u001b[A\n",
            " 60%|█████▉    | 124/208 [00:38<00:26,  3.18it/s]\u001b[A\n",
            " 60%|██████    | 125/208 [00:38<00:26,  3.19it/s]\u001b[A\n",
            " 61%|██████    | 126/208 [00:39<00:25,  3.20it/s]\u001b[A\n",
            " 61%|██████    | 127/208 [00:39<00:25,  3.17it/s]\u001b[A\n",
            " 62%|██████▏   | 128/208 [00:39<00:25,  3.09it/s]\u001b[A\n",
            " 62%|██████▏   | 129/208 [00:40<00:25,  3.13it/s]\u001b[A\n",
            " 62%|██████▎   | 130/208 [00:40<00:25,  3.04it/s]\u001b[A\n",
            " 63%|██████▎   | 131/208 [00:40<00:25,  2.97it/s]\u001b[A\n",
            " 63%|██████▎   | 132/208 [00:41<00:25,  3.00it/s]\u001b[A\n",
            " 64%|██████▍   | 133/208 [00:41<00:25,  2.97it/s]\u001b[A\n",
            " 64%|██████▍   | 134/208 [00:41<00:24,  3.03it/s]\u001b[A\n",
            " 65%|██████▍   | 135/208 [00:42<00:22,  3.18it/s]\u001b[A\n",
            " 65%|██████▌   | 136/208 [00:42<00:23,  3.11it/s]\u001b[A\n",
            " 66%|██████▌   | 137/208 [00:42<00:23,  3.05it/s]\u001b[A\n",
            " 66%|██████▋   | 138/208 [00:43<00:23,  3.01it/s]\u001b[A\n",
            " 67%|██████▋   | 139/208 [00:43<00:23,  2.99it/s]\u001b[A\n",
            " 67%|██████▋   | 140/208 [00:43<00:22,  2.96it/s]\u001b[A\n",
            " 68%|██████▊   | 141/208 [00:44<00:21,  3.05it/s]\u001b[A\n",
            " 68%|██████▊   | 142/208 [00:44<00:21,  3.00it/s]\u001b[A\n",
            " 69%|██████▉   | 143/208 [00:44<00:22,  2.89it/s]\u001b[A\n",
            " 69%|██████▉   | 144/208 [00:45<00:22,  2.89it/s]\u001b[A\n",
            " 70%|██████▉   | 145/208 [00:45<00:21,  2.94it/s]\u001b[A\n",
            " 70%|███████   | 146/208 [00:45<00:21,  2.89it/s]\u001b[A\n",
            " 71%|███████   | 147/208 [00:46<00:20,  2.95it/s]\u001b[A\n",
            " 71%|███████   | 148/208 [00:46<00:19,  3.04it/s]\u001b[A\n",
            " 72%|███████▏  | 149/208 [00:46<00:20,  2.92it/s]\u001b[A\n",
            " 72%|███████▏  | 150/208 [00:47<00:19,  2.91it/s]\u001b[A\n",
            " 73%|███████▎  | 151/208 [00:47<00:19,  2.88it/s]\u001b[A"
          ],
          "name": "stderr"
        },
        {
          "output_type": "stream",
          "text": [
            "20.362628936767578\n",
            "kylonlanta\n",
            "[13, 33, 4, 28, 35, 38, 2, 52, 41, 3]\n",
            "cristerals\n",
            "[13, 7, 8, 24, 23, 44, 49, 3, 38, 47]\n",
            "myllytermu\n",
            "[13, 33, 4, 4, 33, 5, 53, 11, 43, 25]\n",
            "unfermusle\n",
            "[8, 17, 48, 53, 11, 43, 25, 39, 16, 29]\n",
            "fashuseary\n",
            "[13, 10, 5, 63, 25, 39, 14, 3, 55, 60]\n"
          ],
          "name": "stdout"
        },
        {
          "output_type": "stream",
          "text": [
            "\n",
            " 73%|███████▎  | 152/208 [00:47<00:18,  3.00it/s]\u001b[A\n",
            " 74%|███████▎  | 153/208 [00:48<00:17,  3.07it/s]\u001b[A\n",
            " 74%|███████▍  | 154/208 [00:48<00:17,  3.09it/s]\u001b[A\n",
            " 75%|███████▍  | 155/208 [00:48<00:18,  2.92it/s]\u001b[A\n",
            " 75%|███████▌  | 156/208 [00:49<00:17,  2.92it/s]\u001b[A\n",
            " 75%|███████▌  | 157/208 [00:49<00:17,  2.94it/s]\u001b[A\n",
            " 76%|███████▌  | 158/208 [00:49<00:16,  3.00it/s]\u001b[A\n",
            " 76%|███████▋  | 159/208 [00:50<00:15,  3.10it/s]\u001b[A\n",
            " 77%|███████▋  | 160/208 [00:50<00:15,  3.01it/s]\u001b[A\n",
            " 77%|███████▋  | 161/208 [00:50<00:15,  3.05it/s]\u001b[A\n",
            " 78%|███████▊  | 162/208 [00:51<00:14,  3.11it/s]\u001b[A\n",
            " 78%|███████▊  | 163/208 [00:51<00:14,  3.15it/s]\u001b[A\n",
            " 79%|███████▉  | 164/208 [00:51<00:14,  3.12it/s]\u001b[A\n",
            " 79%|███████▉  | 165/208 [00:51<00:13,  3.16it/s]\u001b[A\n",
            " 80%|███████▉  | 166/208 [00:52<00:13,  3.11it/s]\u001b[A\n",
            " 80%|████████  | 167/208 [00:52<00:13,  2.96it/s]\u001b[A\n",
            " 81%|████████  | 168/208 [00:53<00:13,  3.00it/s]\u001b[A\n",
            " 81%|████████▏ | 169/208 [00:53<00:13,  3.00it/s]\u001b[A\n",
            " 82%|████████▏ | 170/208 [00:53<00:12,  2.99it/s]\u001b[A\n",
            " 82%|████████▏ | 171/208 [00:54<00:12,  3.06it/s]\u001b[A\n",
            " 83%|████████▎ | 172/208 [00:54<00:11,  3.12it/s]\u001b[A\n",
            " 83%|████████▎ | 173/208 [00:54<00:11,  3.13it/s]\u001b[A\n",
            " 84%|████████▎ | 174/208 [00:55<00:11,  2.99it/s]\u001b[A\n",
            " 84%|████████▍ | 175/208 [00:55<00:10,  3.09it/s]\u001b[A\n",
            " 85%|████████▍ | 176/208 [00:55<00:10,  3.01it/s]\u001b[A\n",
            " 85%|████████▌ | 177/208 [00:56<00:10,  2.95it/s]\u001b[A\n",
            " 86%|████████▌ | 178/208 [00:56<00:09,  3.01it/s]\u001b[A\n",
            " 86%|████████▌ | 179/208 [00:56<00:09,  3.03it/s]\u001b[A\n",
            " 87%|████████▋ | 180/208 [00:56<00:09,  3.02it/s]\u001b[A\n",
            " 87%|████████▋ | 181/208 [00:57<00:09,  2.93it/s]\u001b[A\n",
            " 88%|████████▊ | 182/208 [00:57<00:08,  3.00it/s]\u001b[A\n",
            " 88%|████████▊ | 183/208 [00:57<00:08,  3.00it/s]\u001b[A\n",
            " 88%|████████▊ | 184/208 [00:58<00:08,  2.97it/s]\u001b[A\n",
            " 89%|████████▉ | 185/208 [00:58<00:07,  3.08it/s]\u001b[A\n",
            " 89%|████████▉ | 186/208 [00:58<00:06,  3.18it/s]\u001b[A\n",
            " 90%|████████▉ | 187/208 [00:59<00:06,  3.16it/s]\u001b[A\n",
            " 90%|█████████ | 188/208 [00:59<00:06,  3.13it/s]\u001b[A\n",
            " 91%|█████████ | 189/208 [00:59<00:06,  3.10it/s]\u001b[A\n",
            " 91%|█████████▏| 190/208 [01:00<00:05,  3.07it/s]\u001b[A\n",
            " 92%|█████████▏| 191/208 [01:00<00:05,  3.12it/s]\u001b[A\n",
            " 92%|█████████▏| 192/208 [01:00<00:05,  3.12it/s]\u001b[A\n",
            " 93%|█████████▎| 193/208 [01:01<00:04,  3.15it/s]\u001b[A\n",
            " 93%|█████████▎| 194/208 [01:01<00:04,  3.16it/s]\u001b[A\n",
            " 94%|█████████▍| 195/208 [01:01<00:04,  3.15it/s]\u001b[A\n",
            " 94%|█████████▍| 196/208 [01:02<00:03,  3.11it/s]\u001b[A\n",
            " 95%|█████████▍| 197/208 [01:02<00:03,  3.11it/s]\u001b[A\n",
            " 95%|█████████▌| 198/208 [01:02<00:03,  3.09it/s]\u001b[A\n",
            " 96%|█████████▌| 199/208 [01:03<00:02,  3.14it/s]\u001b[A\n",
            " 96%|█████████▌| 200/208 [01:03<00:02,  3.11it/s]\u001b[A\n",
            " 97%|█████████▋| 201/208 [01:03<00:02,  3.19it/s]\u001b[A"
          ],
          "name": "stderr"
        },
        {
          "output_type": "stream",
          "text": [
            "19.97413444519043\n",
            "buckencyac\n",
            "[13, 8, 24, 0, 10, 52, 9, 57, 2, 9]\n",
            "tlenglynar\n",
            "[13, 16, 15, 27, 1, 16, 60, 12, 3, 55]\n",
            "anatrypyal\n",
            "[8, 18, 3, 22, 55, 60, 40, 57, 3, 38]\n",
            "phylxylloe\n",
            "[13, 63, 33, 4, 4, 33, 4, 4, 8, 10]\n",
            "naryusentl\n",
            "[13, 3, 55, 60, 25, 21, 10, 52, 41, 16]\n"
          ],
          "name": "stdout"
        },
        {
          "output_type": "stream",
          "text": [
            "\n",
            " 97%|█████████▋| 202/208 [01:04<00:01,  3.16it/s]\u001b[A\n",
            " 98%|█████████▊| 203/208 [01:04<00:01,  3.13it/s]\u001b[A\n",
            " 98%|█████████▊| 204/208 [01:04<00:01,  3.14it/s]\u001b[A\n",
            " 99%|█████████▊| 205/208 [01:05<00:00,  3.03it/s]\u001b[A\n",
            " 99%|█████████▉| 206/208 [01:05<00:00,  3.07it/s]\u001b[A\n",
            "100%|█████████▉| 207/208 [01:05<00:00,  3.09it/s]\u001b[A\n",
            "100%|██████████| 208/208 [01:05<00:00,  3.76it/s]\u001b[A\n",
            "\u001b[A"
          ],
          "name": "stderr"
        },
        {
          "output_type": "stream",
          "text": [
            "20.245182037353516\n",
            "fylmiaceon\n",
            "[13, 33, 4, 50, 56, 2, 9, 14, 28, 12]\n"
          ],
          "name": "stdout"
        },
        {
          "output_type": "stream",
          "text": [
            "\n",
            "  0%|          | 0/208 [00:00<?, ?it/s]\u001b[A"
          ],
          "name": "stderr"
        },
        {
          "output_type": "stream",
          "text": [
            "========= Results: epoch 6 of 10 =========\n",
            "train loss: 20.34| valid loss: 20.38\n",
            "\n",
            "========= Epoch 7 of 10 =========\n"
          ],
          "name": "stdout"
        },
        {
          "output_type": "stream",
          "text": [
            "\n",
            "  0%|          | 1/208 [00:00<01:24,  2.44it/s]\u001b[A"
          ],
          "name": "stderr"
        },
        {
          "output_type": "stream",
          "text": [
            "20.21990394592285\n",
            "seredsbler\n",
            "[13, 44, 49, 51, 30, 21, 36, 16, 15, 11]\n",
            "pwuysakeda\n",
            "[13, 7, 8, 57, 21, 3, 22, 51, 30, 2]\n",
            "odyoyessmy\n",
            "[8, 13, 33, 28, 57, 29, 58, 21, 50, 57]\n",
            "qtedngngna\n",
            "[13, 23, 44, 31, 27, 6, 27, 6, 27, 3]\n",
            "cipsskanth\n",
            "[13, 56, 40, 21, 21, 0, 2, 52, 41, 63]\n"
          ],
          "name": "stdout"
        },
        {
          "output_type": "stream",
          "text": [
            "\n",
            "  1%|          | 2/208 [00:00<01:20,  2.54it/s]\u001b[A\n",
            "  1%|▏         | 3/208 [00:01<01:17,  2.65it/s]\u001b[A\n",
            "  2%|▏         | 4/208 [00:01<01:12,  2.83it/s]\u001b[A\n",
            "  2%|▏         | 5/208 [00:01<01:11,  2.85it/s]\u001b[A\n",
            "  3%|▎         | 6/208 [00:02<01:08,  2.96it/s]\u001b[A\n",
            "  3%|▎         | 7/208 [00:02<01:07,  2.98it/s]\u001b[A\n",
            "  4%|▍         | 8/208 [00:02<01:07,  2.96it/s]\u001b[A\n",
            "  4%|▍         | 9/208 [00:03<01:05,  3.03it/s]\u001b[A\n",
            "  5%|▍         | 10/208 [00:03<01:05,  3.02it/s]\u001b[A\n",
            "  5%|▌         | 11/208 [00:03<01:04,  3.06it/s]\u001b[A\n",
            "  6%|▌         | 12/208 [00:04<01:04,  3.04it/s]\u001b[A\n",
            "  6%|▋         | 13/208 [00:04<01:03,  3.09it/s]\u001b[A\n",
            "  7%|▋         | 14/208 [00:04<01:03,  3.05it/s]\u001b[A\n",
            "  7%|▋         | 15/208 [00:05<01:04,  2.99it/s]\u001b[A\n",
            "  8%|▊         | 16/208 [00:05<01:01,  3.11it/s]\u001b[A\n",
            "  8%|▊         | 17/208 [00:05<01:03,  3.03it/s]\u001b[A\n",
            "  9%|▊         | 18/208 [00:06<01:03,  3.00it/s]\u001b[A\n",
            "  9%|▉         | 19/208 [00:06<01:02,  3.03it/s]\u001b[A\n",
            " 10%|▉         | 20/208 [00:06<01:01,  3.07it/s]\u001b[A\n",
            " 10%|█         | 21/208 [00:06<01:00,  3.10it/s]\u001b[A\n",
            " 11%|█         | 22/208 [00:07<00:58,  3.16it/s]\u001b[A\n",
            " 11%|█         | 23/208 [00:07<01:01,  3.02it/s]\u001b[A\n",
            " 12%|█▏        | 24/208 [00:07<01:01,  2.99it/s]\u001b[A\n",
            " 12%|█▏        | 25/208 [00:08<01:02,  2.94it/s]\u001b[A\n",
            " 12%|█▎        | 26/208 [00:08<01:00,  2.98it/s]\u001b[A\n",
            " 13%|█▎        | 27/208 [00:08<01:00,  3.00it/s]\u001b[A\n",
            " 13%|█▎        | 28/208 [00:09<00:58,  3.06it/s]\u001b[A\n",
            " 14%|█▍        | 29/208 [00:09<00:58,  3.05it/s]\u001b[A\n",
            " 14%|█▍        | 30/208 [00:09<00:58,  3.03it/s]\u001b[A\n",
            " 15%|█▍        | 31/208 [00:10<00:58,  3.04it/s]\u001b[A\n",
            " 15%|█▌        | 32/208 [00:10<00:56,  3.10it/s]\u001b[A\n",
            " 16%|█▌        | 33/208 [00:10<00:56,  3.12it/s]\u001b[A\n",
            " 16%|█▋        | 34/208 [00:11<00:54,  3.20it/s]\u001b[A\n",
            " 17%|█▋        | 35/208 [00:11<00:55,  3.14it/s]\u001b[A\n",
            " 17%|█▋        | 36/208 [00:11<00:54,  3.18it/s]\u001b[A\n",
            " 18%|█▊        | 37/208 [00:12<00:52,  3.23it/s]\u001b[A\n",
            " 18%|█▊        | 38/208 [00:12<00:53,  3.21it/s]\u001b[A\n",
            " 19%|█▉        | 39/208 [00:12<00:53,  3.18it/s]\u001b[A\n",
            " 19%|█▉        | 40/208 [00:13<00:52,  3.19it/s]\u001b[A\n",
            " 20%|█▉        | 41/208 [00:13<00:50,  3.32it/s]\u001b[A\n",
            " 20%|██        | 42/208 [00:13<00:52,  3.14it/s]\u001b[A\n",
            " 21%|██        | 43/208 [00:14<00:54,  3.02it/s]\u001b[A\n",
            " 21%|██        | 44/208 [00:14<00:55,  2.97it/s]\u001b[A\n",
            " 22%|██▏       | 45/208 [00:14<00:54,  2.98it/s]\u001b[A\n",
            " 22%|██▏       | 46/208 [00:15<00:55,  2.93it/s]\u001b[A\n",
            " 23%|██▎       | 47/208 [00:15<00:53,  3.02it/s]\u001b[A\n",
            " 23%|██▎       | 48/208 [00:15<00:52,  3.06it/s]\u001b[A\n",
            " 24%|██▎       | 49/208 [00:16<00:51,  3.11it/s]\u001b[A\n",
            " 24%|██▍       | 50/208 [00:16<00:50,  3.15it/s]\u001b[A\n",
            " 25%|██▍       | 51/208 [00:16<00:50,  3.12it/s]\u001b[A"
          ],
          "name": "stderr"
        },
        {
          "output_type": "stream",
          "text": [
            "20.11867904663086\n",
            "bhedlyasms\n",
            "[13, 63, 44, 31, 16, 54, 2, 47, 43, 47]\n",
            "peniantate\n",
            "[13, 8, 13, 56, 2, 52, 41, 3, 22, 51]\n",
            "thesknessy\n",
            "[13, 63, 8, 24, 0, 27, 29, 58, 62, 60]\n",
            "unkymantan\n",
            "[8, 24, 0, 60, 50, 10, 52, 41, 3, 38]\n",
            "pollydepus\n",
            "[13, 8, 4, 4, 33, 9, 14, 28, 25, 39]\n"
          ],
          "name": "stdout"
        },
        {
          "output_type": "stream",
          "text": [
            "\n",
            " 25%|██▌       | 52/208 [00:17<00:52,  2.98it/s]\u001b[A\n",
            " 25%|██▌       | 53/208 [00:17<00:50,  3.07it/s]\u001b[A\n",
            " 26%|██▌       | 54/208 [00:17<00:51,  3.00it/s]\u001b[A\n",
            " 26%|██▋       | 55/208 [00:18<00:49,  3.09it/s]\u001b[A\n",
            " 27%|██▋       | 56/208 [00:18<00:48,  3.11it/s]\u001b[A\n",
            " 27%|██▋       | 57/208 [00:18<00:47,  3.15it/s]\u001b[A\n",
            " 28%|██▊       | 58/208 [00:18<00:48,  3.07it/s]\u001b[A\n",
            " 28%|██▊       | 59/208 [00:19<00:48,  3.08it/s]\u001b[A\n",
            " 29%|██▉       | 60/208 [00:19<00:48,  3.06it/s]\u001b[A\n",
            " 29%|██▉       | 61/208 [00:19<00:49,  2.96it/s]\u001b[A\n",
            " 30%|██▉       | 62/208 [00:20<00:47,  3.09it/s]\u001b[A\n",
            " 30%|███       | 63/208 [00:20<00:47,  3.08it/s]\u001b[A\n",
            " 31%|███       | 64/208 [00:20<00:46,  3.09it/s]\u001b[A\n",
            " 31%|███▏      | 65/208 [00:21<00:47,  2.99it/s]\u001b[A\n",
            " 32%|███▏      | 66/208 [00:21<00:47,  3.00it/s]\u001b[A\n",
            " 32%|███▏      | 67/208 [00:21<00:47,  2.96it/s]\u001b[A\n",
            " 33%|███▎      | 68/208 [00:22<00:47,  2.93it/s]\u001b[A\n",
            " 33%|███▎      | 69/208 [00:22<00:46,  3.01it/s]\u001b[A\n",
            " 34%|███▎      | 70/208 [00:22<00:44,  3.10it/s]\u001b[A\n",
            " 34%|███▍      | 71/208 [00:23<00:44,  3.07it/s]\u001b[A\n",
            " 35%|███▍      | 72/208 [00:23<00:43,  3.11it/s]\u001b[A\n",
            " 35%|███▌      | 73/208 [00:23<00:44,  3.06it/s]\u001b[A\n",
            " 36%|███▌      | 74/208 [00:24<00:44,  2.98it/s]\u001b[A\n",
            " 36%|███▌      | 75/208 [00:24<00:44,  2.96it/s]\u001b[A\n",
            " 37%|███▋      | 76/208 [00:24<00:44,  2.96it/s]\u001b[A\n",
            " 37%|███▋      | 77/208 [00:25<00:42,  3.07it/s]\u001b[A\n",
            " 38%|███▊      | 78/208 [00:25<00:41,  3.15it/s]\u001b[A\n",
            " 38%|███▊      | 79/208 [00:25<00:40,  3.20it/s]\u001b[A\n",
            " 38%|███▊      | 80/208 [00:26<00:39,  3.23it/s]\u001b[A\n",
            " 39%|███▉      | 81/208 [00:26<00:39,  3.20it/s]\u001b[A\n",
            " 39%|███▉      | 82/208 [00:26<00:38,  3.25it/s]\u001b[A\n",
            " 40%|███▉      | 83/208 [00:27<00:40,  3.10it/s]\u001b[A\n",
            " 40%|████      | 84/208 [00:27<00:41,  3.00it/s]\u001b[A\n",
            " 41%|████      | 85/208 [00:27<00:41,  2.99it/s]\u001b[A\n",
            " 41%|████▏     | 86/208 [00:28<00:40,  3.01it/s]\u001b[A\n",
            " 42%|████▏     | 87/208 [00:28<00:40,  2.98it/s]\u001b[A\n",
            " 42%|████▏     | 88/208 [00:28<00:40,  2.98it/s]\u001b[A\n",
            " 43%|████▎     | 89/208 [00:29<00:39,  3.01it/s]\u001b[A\n",
            " 43%|████▎     | 90/208 [00:29<00:38,  3.06it/s]\u001b[A\n",
            " 44%|████▍     | 91/208 [00:29<00:38,  3.03it/s]\u001b[A\n",
            " 44%|████▍     | 92/208 [00:30<00:38,  3.04it/s]\u001b[A\n",
            " 45%|████▍     | 93/208 [00:30<00:37,  3.07it/s]\u001b[A\n",
            " 45%|████▌     | 94/208 [00:30<00:38,  3.00it/s]\u001b[A\n",
            " 46%|████▌     | 95/208 [00:31<00:38,  2.97it/s]\u001b[A\n",
            " 46%|████▌     | 96/208 [00:31<00:38,  2.94it/s]\u001b[A\n",
            " 47%|████▋     | 97/208 [00:31<00:37,  2.99it/s]\u001b[A\n",
            " 47%|████▋     | 98/208 [00:32<00:35,  3.09it/s]\u001b[A\n",
            " 48%|████▊     | 99/208 [00:32<00:35,  3.11it/s]\u001b[A\n",
            " 48%|████▊     | 100/208 [00:32<00:34,  3.17it/s]\u001b[A\n",
            " 49%|████▊     | 101/208 [00:33<00:33,  3.18it/s]\u001b[A"
          ],
          "name": "stderr"
        },
        {
          "output_type": "stream",
          "text": [
            "20.047313690185547\n",
            "trayataena\n",
            "[13, 7, 2, 46, 40, 41, 3, 38, 12, 3]\n",
            "shthyledng\n",
            "[13, 63, 41, 63, 33, 4, 51, 30, 27, 1]\n",
            "shtayerlym\n",
            "[13, 63, 41, 3, 22, 51, 30, 16, 34, 43]\n",
            "rhitednger\n",
            "[13, 63, 56, 45, 19, 31, 27, 1, 44, 49]\n",
            "hilngeeone\n",
            "[13, 8, 4, 27, 6, 14, 14, 28, 35, 51]\n"
          ],
          "name": "stdout"
        },
        {
          "output_type": "stream",
          "text": [
            "\n",
            " 49%|████▉     | 102/208 [00:33<00:33,  3.17it/s]\u001b[A\n",
            " 50%|████▉     | 103/208 [00:33<00:33,  3.11it/s]\u001b[A\n",
            " 50%|█████     | 104/208 [00:33<00:32,  3.20it/s]\u001b[A\n",
            " 50%|█████     | 105/208 [00:34<00:31,  3.29it/s]\u001b[A\n",
            " 51%|█████     | 106/208 [00:34<00:31,  3.20it/s]\u001b[A\n",
            " 51%|█████▏    | 107/208 [00:34<00:31,  3.17it/s]\u001b[A\n",
            " 52%|█████▏    | 108/208 [00:35<00:31,  3.13it/s]\u001b[A\n",
            " 52%|█████▏    | 109/208 [00:35<00:32,  3.08it/s]\u001b[A\n",
            " 53%|█████▎    | 110/208 [00:35<00:31,  3.16it/s]\u001b[A\n",
            " 53%|█████▎    | 111/208 [00:36<00:30,  3.17it/s]\u001b[A\n",
            " 54%|█████▍    | 112/208 [00:36<00:30,  3.15it/s]\u001b[A\n",
            " 54%|█████▍    | 113/208 [00:36<00:32,  2.97it/s]\u001b[A\n",
            " 55%|█████▍    | 114/208 [00:37<00:31,  2.95it/s]\u001b[A\n",
            " 55%|█████▌    | 115/208 [00:37<00:32,  2.87it/s]\u001b[A\n",
            " 56%|█████▌    | 116/208 [00:37<00:30,  2.97it/s]\u001b[A\n",
            " 56%|█████▋    | 117/208 [00:38<00:30,  3.02it/s]\u001b[A\n",
            " 57%|█████▋    | 118/208 [00:38<00:29,  3.01it/s]\u001b[A\n",
            " 57%|█████▋    | 119/208 [00:38<00:29,  2.97it/s]\u001b[A\n",
            " 58%|█████▊    | 120/208 [00:39<00:30,  2.86it/s]\u001b[A\n",
            " 58%|█████▊    | 121/208 [00:39<00:29,  2.90it/s]\u001b[A\n",
            " 59%|█████▊    | 122/208 [00:39<00:29,  2.94it/s]\u001b[A\n",
            " 59%|█████▉    | 123/208 [00:40<00:28,  3.00it/s]\u001b[A\n",
            " 60%|█████▉    | 124/208 [00:40<00:27,  3.09it/s]\u001b[A\n",
            " 60%|██████    | 125/208 [00:40<00:26,  3.18it/s]\u001b[A\n",
            " 61%|██████    | 126/208 [00:41<00:26,  3.14it/s]\u001b[A\n",
            " 61%|██████    | 127/208 [00:41<00:25,  3.22it/s]\u001b[A\n",
            " 62%|██████▏   | 128/208 [00:41<00:25,  3.12it/s]\u001b[A\n",
            " 62%|██████▏   | 129/208 [00:42<00:25,  3.13it/s]\u001b[A\n",
            " 62%|██████▎   | 130/208 [00:42<00:25,  3.06it/s]\u001b[A\n",
            " 63%|██████▎   | 131/208 [00:42<00:24,  3.17it/s]\u001b[A\n",
            " 63%|██████▎   | 132/208 [00:43<00:24,  3.16it/s]\u001b[A\n",
            " 64%|██████▍   | 133/208 [00:43<00:22,  3.27it/s]\u001b[A\n",
            " 64%|██████▍   | 134/208 [00:43<00:22,  3.34it/s]\u001b[A\n",
            " 65%|██████▍   | 135/208 [00:44<00:22,  3.20it/s]\u001b[A\n",
            " 65%|██████▌   | 136/208 [00:44<00:23,  3.10it/s]\u001b[A\n",
            " 66%|██████▌   | 137/208 [00:44<00:22,  3.21it/s]\u001b[A\n",
            " 66%|██████▋   | 138/208 [00:44<00:21,  3.28it/s]\u001b[A\n",
            " 67%|██████▋   | 139/208 [00:45<00:20,  3.29it/s]\u001b[A\n",
            " 67%|██████▋   | 140/208 [00:45<00:21,  3.18it/s]\u001b[A\n",
            " 68%|██████▊   | 141/208 [00:45<00:21,  3.06it/s]\u001b[A\n",
            " 68%|██████▊   | 142/208 [00:46<00:20,  3.17it/s]\u001b[A\n",
            " 69%|██████▉   | 143/208 [00:46<00:21,  3.09it/s]\u001b[A\n",
            " 69%|██████▉   | 144/208 [00:46<00:20,  3.06it/s]\u001b[A\n",
            " 70%|██████▉   | 145/208 [00:47<00:19,  3.22it/s]\u001b[A\n",
            " 70%|███████   | 146/208 [00:47<00:19,  3.12it/s]\u001b[A\n",
            " 71%|███████   | 147/208 [00:47<00:19,  3.18it/s]\u001b[A\n",
            " 71%|███████   | 148/208 [00:48<00:18,  3.23it/s]\u001b[A\n",
            " 72%|███████▏  | 149/208 [00:48<00:17,  3.33it/s]\u001b[A\n",
            " 72%|███████▏  | 150/208 [00:48<00:17,  3.34it/s]\u001b[A\n",
            " 73%|███████▎  | 151/208 [00:49<00:17,  3.29it/s]\u001b[A"
          ],
          "name": "stderr"
        },
        {
          "output_type": "stream",
          "text": [
            "20.483497619628906\n",
            "blymishgen\n",
            "[13, 16, 46, 20, 56, 47, 42, 50, 10, 52]\n",
            "dyonedyles\n",
            "[13, 33, 28, 35, 51, 30, 57, 16, 29, 58]\n",
            "cylonicsou\n",
            "[13, 33, 4, 28, 35, 56, 37, 21, 28, 25]\n",
            "moeonalngl\n",
            "[13, 7, 14, 28, 12, 3, 32, 27, 1, 16]\n",
            "dhnedyancy\n",
            "[13, 63, 35, 51, 30, 57, 2, 52, 9, 57]\n"
          ],
          "name": "stdout"
        },
        {
          "output_type": "stream",
          "text": [
            "\n",
            " 73%|███████▎  | 152/208 [00:49<00:16,  3.34it/s]\u001b[A\n",
            " 74%|███████▎  | 153/208 [00:49<00:17,  3.21it/s]\u001b[A\n",
            " 74%|███████▍  | 154/208 [00:49<00:17,  3.18it/s]\u001b[A\n",
            " 75%|███████▍  | 155/208 [00:50<00:16,  3.21it/s]\u001b[A\n",
            " 75%|███████▌  | 156/208 [00:50<00:15,  3.32it/s]\u001b[A\n",
            " 75%|███████▌  | 157/208 [00:50<00:16,  3.18it/s]\u001b[A\n",
            " 76%|███████▌  | 158/208 [00:51<00:15,  3.27it/s]\u001b[A\n",
            " 76%|███████▋  | 159/208 [00:51<00:15,  3.25it/s]\u001b[A\n",
            " 77%|███████▋  | 160/208 [00:51<00:15,  3.08it/s]\u001b[A\n",
            " 77%|███████▋  | 161/208 [00:52<00:14,  3.28it/s]\u001b[A\n",
            " 78%|███████▊  | 162/208 [00:52<00:14,  3.19it/s]\u001b[A\n",
            " 78%|███████▊  | 163/208 [00:52<00:14,  3.15it/s]\u001b[A\n",
            " 79%|███████▉  | 164/208 [00:53<00:13,  3.15it/s]\u001b[A\n",
            " 79%|███████▉  | 165/208 [00:53<00:13,  3.19it/s]\u001b[A\n",
            " 80%|███████▉  | 166/208 [00:53<00:12,  3.30it/s]\u001b[A\n",
            " 80%|████████  | 167/208 [00:53<00:12,  3.37it/s]\u001b[A\n",
            " 81%|████████  | 168/208 [00:54<00:12,  3.32it/s]\u001b[A\n",
            " 81%|████████▏ | 169/208 [00:54<00:12,  3.21it/s]\u001b[A\n",
            " 82%|████████▏ | 170/208 [00:54<00:11,  3.27it/s]\u001b[A\n",
            " 82%|████████▏ | 171/208 [00:55<00:11,  3.28it/s]\u001b[A\n",
            " 83%|████████▎ | 172/208 [00:55<00:10,  3.41it/s]\u001b[A\n",
            " 83%|████████▎ | 173/208 [00:55<00:10,  3.42it/s]\u001b[A\n",
            " 84%|████████▎ | 174/208 [00:56<00:10,  3.34it/s]\u001b[A\n",
            " 84%|████████▍ | 175/208 [00:56<00:09,  3.32it/s]\u001b[A\n",
            " 85%|████████▍ | 176/208 [00:56<00:09,  3.29it/s]\u001b[A\n",
            " 85%|████████▌ | 177/208 [00:57<00:09,  3.22it/s]\u001b[A\n",
            " 86%|████████▌ | 178/208 [00:57<00:09,  3.32it/s]\u001b[A\n",
            " 86%|████████▌ | 179/208 [00:57<00:08,  3.32it/s]\u001b[A\n",
            " 87%|████████▋ | 180/208 [00:57<00:08,  3.26it/s]\u001b[A\n",
            " 87%|████████▋ | 181/208 [00:58<00:07,  3.38it/s]\u001b[A\n",
            " 88%|████████▊ | 182/208 [00:58<00:07,  3.27it/s]\u001b[A\n",
            " 88%|████████▊ | 183/208 [00:58<00:07,  3.33it/s]\u001b[A\n",
            " 88%|████████▊ | 184/208 [00:59<00:07,  3.22it/s]\u001b[A\n",
            " 89%|████████▉ | 185/208 [00:59<00:06,  3.33it/s]\u001b[A\n",
            " 89%|████████▉ | 186/208 [00:59<00:06,  3.31it/s]\u001b[A\n",
            " 90%|████████▉ | 187/208 [01:00<00:06,  3.19it/s]\u001b[A\n",
            " 90%|█████████ | 188/208 [01:00<00:06,  3.27it/s]\u001b[A\n",
            " 91%|█████████ | 189/208 [01:00<00:05,  3.30it/s]\u001b[A\n",
            " 91%|█████████▏| 190/208 [01:00<00:05,  3.23it/s]\u001b[A\n",
            " 92%|█████████▏| 191/208 [01:01<00:04,  3.42it/s]\u001b[A\n",
            " 92%|█████████▏| 192/208 [01:01<00:04,  3.48it/s]\u001b[A\n",
            " 93%|█████████▎| 193/208 [01:01<00:04,  3.44it/s]\u001b[A\n",
            " 93%|█████████▎| 194/208 [01:02<00:04,  3.47it/s]\u001b[A\n",
            " 94%|█████████▍| 195/208 [01:02<00:03,  3.43it/s]\u001b[A\n",
            " 94%|█████████▍| 196/208 [01:02<00:03,  3.40it/s]\u001b[A\n",
            " 95%|█████████▍| 197/208 [01:02<00:03,  3.40it/s]\u001b[A\n",
            " 95%|█████████▌| 198/208 [01:03<00:02,  3.42it/s]\u001b[A\n",
            " 96%|█████████▌| 199/208 [01:03<00:02,  3.41it/s]\u001b[A\n",
            " 96%|█████████▌| 200/208 [01:03<00:02,  3.41it/s]\u001b[A\n",
            " 97%|█████████▋| 201/208 [01:04<00:02,  3.30it/s]\u001b[A"
          ],
          "name": "stderr"
        },
        {
          "output_type": "stream",
          "text": [
            "20.200969696044922\n",
            "xentlytngo\n",
            "[13, 10, 52, 41, 16, 34, 42, 27, 6, 28]\n",
            "sersealory\n",
            "[13, 44, 49, 21, 14, 3, 38, 28, 55, 60]\n",
            "Ctatermant\n",
            "[13, 23, 3, 22, 53, 11, 43, 2, 52, 41]\n",
            "pterfysrym\n",
            "[13, 23, 44, 55, 45, 46, 21, 11, 57, 50]\n",
            "elitermant\n",
            "[8, 4, 56, 45, 53, 11, 43, 2, 52, 41]\n"
          ],
          "name": "stdout"
        },
        {
          "output_type": "stream",
          "text": [
            "\n",
            " 97%|█████████▋| 202/208 [01:04<00:01,  3.25it/s]\u001b[A\n",
            " 98%|█████████▊| 203/208 [01:04<00:01,  3.19it/s]\u001b[A\n",
            " 98%|█████████▊| 204/208 [01:05<00:01,  3.22it/s]\u001b[A\n",
            " 99%|█████████▊| 205/208 [01:05<00:00,  3.34it/s]\u001b[A\n",
            " 99%|█████████▉| 206/208 [01:05<00:00,  3.33it/s]\u001b[A\n",
            "100%|█████████▉| 207/208 [01:05<00:00,  3.30it/s]\u001b[A\n",
            "100%|██████████| 208/208 [01:06<00:00,  3.91it/s]\u001b[A\n",
            "\u001b[A"
          ],
          "name": "stderr"
        },
        {
          "output_type": "stream",
          "text": [
            "20.014404296875\n",
            "nacealessl\n",
            "[13, 3, 9, 14, 3, 32, 29, 58, 62, 16]\n"
          ],
          "name": "stdout"
        },
        {
          "output_type": "stream",
          "text": [
            "\n",
            "  0%|          | 0/208 [00:00<?, ?it/s]\u001b[A"
          ],
          "name": "stderr"
        },
        {
          "output_type": "stream",
          "text": [
            "========= Results: epoch 7 of 10 =========\n",
            "train loss: 20.33| valid loss: 20.37\n",
            "\n",
            "========= Epoch 8 of 10 =========\n"
          ],
          "name": "stdout"
        },
        {
          "output_type": "stream",
          "text": [
            "\n",
            "  0%|          | 1/208 [00:00<01:15,  2.72it/s]\u001b[A"
          ],
          "name": "stderr"
        },
        {
          "output_type": "stream",
          "text": [
            "20.280929565429688\n",
            "tylsmishgl\n",
            "[13, 33, 4, 47, 20, 56, 47, 42, 1, 16]\n",
            "senglyedle\n",
            "[13, 10, 27, 1, 16, 34, 53, 31, 16, 15]\n",
            "crousleron\n",
            "[13, 7, 28, 25, 39, 16, 15, 11, 28, 12]\n",
            "eblydngsyt\n",
            "[8, 36, 16, 34, 31, 27, 1, 21, 33, 5]\n",
            "halusngusn\n",
            "[13, 8, 4, 25, 39, 27, 6, 25, 39, 27]\n"
          ],
          "name": "stdout"
        },
        {
          "output_type": "stream",
          "text": [
            "\n",
            "  1%|          | 2/208 [00:00<01:13,  2.79it/s]\u001b[A\n",
            "  1%|▏         | 3/208 [00:01<01:10,  2.93it/s]\u001b[A\n",
            "  2%|▏         | 4/208 [00:01<01:07,  3.04it/s]\u001b[A\n",
            "  2%|▏         | 5/208 [00:01<01:05,  3.10it/s]\u001b[A\n",
            "  3%|▎         | 6/208 [00:01<01:04,  3.14it/s]\u001b[A\n",
            "  3%|▎         | 7/208 [00:02<01:03,  3.14it/s]\u001b[A\n",
            "  4%|▍         | 8/208 [00:02<01:05,  3.05it/s]\u001b[A\n",
            "  4%|▍         | 9/208 [00:02<01:03,  3.14it/s]\u001b[A\n",
            "  5%|▍         | 10/208 [00:03<01:01,  3.21it/s]\u001b[A\n",
            "  5%|▌         | 11/208 [00:03<01:02,  3.17it/s]\u001b[A\n",
            "  6%|▌         | 12/208 [00:03<01:01,  3.21it/s]\u001b[A\n",
            "  6%|▋         | 13/208 [00:04<01:01,  3.19it/s]\u001b[A\n",
            "  7%|▋         | 14/208 [00:04<01:00,  3.19it/s]\u001b[A\n",
            "  7%|▋         | 15/208 [00:04<01:02,  3.10it/s]\u001b[A\n",
            "  8%|▊         | 16/208 [00:05<01:00,  3.15it/s]\u001b[A\n",
            "  8%|▊         | 17/208 [00:05<00:59,  3.20it/s]\u001b[A\n",
            "  9%|▊         | 18/208 [00:05<01:00,  3.14it/s]\u001b[A\n",
            "  9%|▉         | 19/208 [00:06<01:00,  3.12it/s]\u001b[A\n",
            " 10%|▉         | 20/208 [00:06<00:59,  3.14it/s]\u001b[A\n",
            " 10%|█         | 21/208 [00:06<01:01,  3.02it/s]\u001b[A\n",
            " 11%|█         | 22/208 [00:07<01:01,  3.04it/s]\u001b[A\n",
            " 11%|█         | 23/208 [00:07<01:02,  2.97it/s]\u001b[A\n",
            " 12%|█▏        | 24/208 [00:07<01:03,  2.90it/s]\u001b[A\n",
            " 12%|█▏        | 25/208 [00:08<01:04,  2.83it/s]\u001b[A\n",
            " 12%|█▎        | 26/208 [00:08<01:01,  2.94it/s]\u001b[A\n",
            " 13%|█▎        | 27/208 [00:08<01:01,  2.93it/s]\u001b[A\n",
            " 13%|█▎        | 28/208 [00:09<01:00,  2.98it/s]\u001b[A\n",
            " 14%|█▍        | 29/208 [00:09<00:57,  3.12it/s]\u001b[A\n",
            " 14%|█▍        | 30/208 [00:09<00:57,  3.11it/s]\u001b[A\n",
            " 15%|█▍        | 31/208 [00:10<00:58,  3.03it/s]\u001b[A\n",
            " 15%|█▌        | 32/208 [00:10<00:55,  3.20it/s]\u001b[A\n",
            " 16%|█▌        | 33/208 [00:10<00:54,  3.22it/s]\u001b[A\n",
            " 16%|█▋        | 34/208 [00:10<00:52,  3.29it/s]\u001b[A\n",
            " 17%|█▋        | 35/208 [00:11<00:50,  3.44it/s]\u001b[A\n",
            " 17%|█▋        | 36/208 [00:11<00:50,  3.41it/s]\u001b[A\n",
            " 18%|█▊        | 37/208 [00:11<00:49,  3.43it/s]\u001b[A\n",
            " 18%|█▊        | 38/208 [00:12<00:49,  3.40it/s]\u001b[A\n",
            " 19%|█▉        | 39/208 [00:12<00:49,  3.41it/s]\u001b[A\n",
            " 19%|█▉        | 40/208 [00:12<00:48,  3.44it/s]\u001b[A\n",
            " 20%|█▉        | 41/208 [00:12<00:50,  3.32it/s]\u001b[A\n",
            " 20%|██        | 42/208 [00:13<00:49,  3.35it/s]\u001b[A\n",
            " 21%|██        | 43/208 [00:13<00:48,  3.42it/s]\u001b[A\n",
            " 21%|██        | 44/208 [00:13<00:47,  3.43it/s]\u001b[A\n",
            " 22%|██▏       | 45/208 [00:14<00:46,  3.47it/s]\u001b[A\n",
            " 22%|██▏       | 46/208 [00:14<00:46,  3.47it/s]\u001b[A\n",
            " 23%|██▎       | 47/208 [00:14<00:47,  3.36it/s]\u001b[A\n",
            " 23%|██▎       | 48/208 [00:15<00:48,  3.27it/s]\u001b[A\n",
            " 24%|██▎       | 49/208 [00:15<00:49,  3.23it/s]\u001b[A\n",
            " 24%|██▍       | 50/208 [00:15<00:48,  3.25it/s]\u001b[A\n",
            " 25%|██▍       | 51/208 [00:16<00:49,  3.17it/s]\u001b[A"
          ],
          "name": "stderr"
        },
        {
          "output_type": "stream",
          "text": [
            "19.98542594909668\n",
            "theaeadens\n",
            "[13, 63, 44, 3, 38, 2, 9, 14, 52, 5]\n",
            "fylonalyal\n",
            "[13, 33, 4, 28, 12, 3, 32, 34, 3, 32]\n",
            "cergentike\n",
            "[13, 44, 49, 50, 10, 52, 41, 56, 45, 19]\n",
            "phtsmantsn\n",
            "[13, 63, 41, 47, 20, 2, 52, 41, 39, 27]\n",
            "ematleably\n",
            "[8, 50, 10, 23, 7, 14, 3, 36, 16, 34]\n"
          ],
          "name": "stdout"
        },
        {
          "output_type": "stream",
          "text": [
            "\n",
            " 25%|██▌       | 52/208 [00:16<00:47,  3.29it/s]\u001b[A\n",
            " 25%|██▌       | 53/208 [00:16<00:46,  3.36it/s]\u001b[A\n",
            " 26%|██▌       | 54/208 [00:16<00:45,  3.41it/s]\u001b[A\n",
            " 26%|██▋       | 55/208 [00:17<00:47,  3.21it/s]\u001b[A\n",
            " 27%|██▋       | 56/208 [00:17<00:47,  3.21it/s]\u001b[A\n",
            " 27%|██▋       | 57/208 [00:17<00:45,  3.31it/s]\u001b[A\n",
            " 28%|██▊       | 58/208 [00:18<00:46,  3.22it/s]\u001b[A\n",
            " 28%|██▊       | 59/208 [00:18<00:45,  3.27it/s]\u001b[A\n",
            " 29%|██▉       | 60/208 [00:18<00:43,  3.38it/s]\u001b[A\n",
            " 29%|██▉       | 61/208 [00:19<00:43,  3.38it/s]\u001b[A\n",
            " 30%|██▉       | 62/208 [00:19<00:44,  3.32it/s]\u001b[A\n",
            " 30%|███       | 63/208 [00:19<00:44,  3.26it/s]\u001b[A\n",
            " 31%|███       | 64/208 [00:19<00:42,  3.37it/s]\u001b[A\n",
            " 31%|███▏      | 65/208 [00:20<00:43,  3.27it/s]\u001b[A\n",
            " 32%|███▏      | 66/208 [00:20<00:44,  3.20it/s]\u001b[A\n",
            " 32%|███▏      | 67/208 [00:20<00:42,  3.32it/s]\u001b[A\n",
            " 33%|███▎      | 68/208 [00:21<00:42,  3.31it/s]\u001b[A\n",
            " 33%|███▎      | 69/208 [00:21<00:41,  3.33it/s]\u001b[A\n",
            " 34%|███▎      | 70/208 [00:21<00:42,  3.26it/s]\u001b[A\n",
            " 34%|███▍      | 71/208 [00:22<00:42,  3.19it/s]\u001b[A\n",
            " 35%|███▍      | 72/208 [00:22<00:40,  3.32it/s]\u001b[A\n",
            " 35%|███▌      | 73/208 [00:22<00:40,  3.33it/s]\u001b[A\n",
            " 36%|███▌      | 74/208 [00:22<00:40,  3.34it/s]\u001b[A\n",
            " 36%|███▌      | 75/208 [00:23<00:40,  3.26it/s]\u001b[A\n",
            " 37%|███▋      | 76/208 [00:23<00:39,  3.31it/s]\u001b[A\n",
            " 37%|███▋      | 77/208 [00:23<00:40,  3.27it/s]\u001b[A\n",
            " 38%|███▊      | 78/208 [00:24<00:40,  3.23it/s]\u001b[A\n",
            " 38%|███▊      | 79/208 [00:24<00:39,  3.30it/s]\u001b[A\n",
            " 38%|███▊      | 80/208 [00:24<00:38,  3.31it/s]\u001b[A\n",
            " 39%|███▉      | 81/208 [00:25<00:38,  3.32it/s]\u001b[A\n",
            " 39%|███▉      | 82/208 [00:25<00:37,  3.34it/s]\u001b[A\n",
            " 40%|███▉      | 83/208 [00:25<00:37,  3.36it/s]\u001b[A\n",
            " 40%|████      | 84/208 [00:25<00:36,  3.35it/s]\u001b[A\n",
            " 41%|████      | 85/208 [00:26<00:35,  3.42it/s]\u001b[A\n",
            " 41%|████▏     | 86/208 [00:26<00:35,  3.46it/s]\u001b[A\n",
            " 42%|████▏     | 87/208 [00:26<00:34,  3.48it/s]\u001b[A\n",
            " 42%|████▏     | 88/208 [00:27<00:34,  3.44it/s]\u001b[A\n",
            " 43%|████▎     | 89/208 [00:27<00:34,  3.45it/s]\u001b[A\n",
            " 43%|████▎     | 90/208 [00:27<00:33,  3.50it/s]\u001b[A\n",
            " 44%|████▍     | 91/208 [00:27<00:33,  3.52it/s]\u001b[A\n",
            " 44%|████▍     | 92/208 [00:28<00:33,  3.49it/s]\u001b[A\n",
            " 45%|████▍     | 93/208 [00:28<00:35,  3.28it/s]\u001b[A\n",
            " 45%|████▌     | 94/208 [00:28<00:33,  3.38it/s]\u001b[A\n",
            " 46%|████▌     | 95/208 [00:29<00:32,  3.45it/s]\u001b[A\n",
            " 46%|████▌     | 96/208 [00:29<00:35,  3.14it/s]\u001b[A\n",
            " 47%|████▋     | 97/208 [00:29<00:35,  3.14it/s]\u001b[A\n",
            " 47%|████▋     | 98/208 [00:30<00:35,  3.07it/s]\u001b[A\n",
            " 48%|████▊     | 99/208 [00:30<00:34,  3.18it/s]\u001b[A\n",
            " 48%|████▊     | 100/208 [00:30<00:33,  3.26it/s]\u001b[A\n",
            " 49%|████▊     | 101/208 [00:31<00:33,  3.24it/s]\u001b[A"
          ],
          "name": "stderr"
        },
        {
          "output_type": "stream",
          "text": [
            "20.264129638671875\n",
            "amblytoned\n",
            "[8, 50, 36, 16, 34, 23, 28, 35, 51, 30]\n",
            "pemmetryng\n",
            "[13, 8, 50, 50, 10, 23, 55, 60, 27, 1]\n",
            "perynessys\n",
            "[13, 44, 55, 60, 27, 29, 58, 21, 57, 21]\n",
            "fheomenlys\n",
            "[13, 63, 7, 28, 50, 10, 52, 16, 46, 47]\n",
            "analessnes\n",
            "[8, 18, 3, 32, 29, 58, 62, 27, 29, 58]\n"
          ],
          "name": "stdout"
        },
        {
          "output_type": "stream",
          "text": [
            "\n",
            " 49%|████▉     | 102/208 [00:31<00:33,  3.20it/s]\u001b[A\n",
            " 50%|████▉     | 103/208 [00:31<00:32,  3.24it/s]\u001b[A\n",
            " 50%|█████     | 104/208 [00:31<00:31,  3.35it/s]\u001b[A\n",
            " 50%|█████     | 105/208 [00:32<00:31,  3.31it/s]\u001b[A\n",
            " 51%|█████     | 106/208 [00:32<00:30,  3.36it/s]\u001b[A\n",
            " 51%|█████▏    | 107/208 [00:32<00:30,  3.33it/s]\u001b[A\n",
            " 52%|█████▏    | 108/208 [00:33<00:30,  3.32it/s]\u001b[A\n",
            " 52%|█████▏    | 109/208 [00:33<00:30,  3.25it/s]\u001b[A\n",
            " 53%|█████▎    | 110/208 [00:33<00:29,  3.30it/s]\u001b[A\n",
            " 53%|█████▎    | 111/208 [00:34<00:29,  3.26it/s]\u001b[A\n",
            " 54%|█████▍    | 112/208 [00:34<00:28,  3.35it/s]\u001b[A\n",
            " 54%|█████▍    | 113/208 [00:34<00:28,  3.31it/s]\u001b[A\n",
            " 55%|█████▍    | 114/208 [00:35<00:29,  3.19it/s]\u001b[A\n",
            " 55%|█████▌    | 115/208 [00:35<00:28,  3.29it/s]\u001b[A\n",
            " 56%|█████▌    | 116/208 [00:35<00:27,  3.29it/s]\u001b[A\n",
            " 56%|█████▋    | 117/208 [00:35<00:27,  3.36it/s]\u001b[A\n",
            " 57%|█████▋    | 118/208 [00:36<00:26,  3.45it/s]\u001b[A\n",
            " 57%|█████▋    | 119/208 [00:36<00:26,  3.42it/s]\u001b[A\n",
            " 58%|█████▊    | 120/208 [00:36<00:25,  3.40it/s]\u001b[A\n",
            " 58%|█████▊    | 121/208 [00:37<00:25,  3.43it/s]\u001b[A\n",
            " 59%|█████▊    | 122/208 [00:37<00:25,  3.44it/s]\u001b[A\n",
            " 59%|█████▉    | 123/208 [00:37<00:25,  3.31it/s]\u001b[A\n",
            " 60%|█████▉    | 124/208 [00:38<00:26,  3.12it/s]\u001b[A\n",
            " 60%|██████    | 125/208 [00:38<00:27,  3.03it/s]\u001b[A\n",
            " 61%|██████    | 126/208 [00:38<00:26,  3.05it/s]\u001b[A\n",
            " 61%|██████    | 127/208 [00:39<00:25,  3.14it/s]\u001b[A\n",
            " 62%|██████▏   | 128/208 [00:39<00:24,  3.28it/s]\u001b[A\n",
            " 62%|██████▏   | 129/208 [00:39<00:23,  3.31it/s]\u001b[A\n",
            " 62%|██████▎   | 130/208 [00:39<00:23,  3.37it/s]\u001b[A\n",
            " 63%|██████▎   | 131/208 [00:40<00:23,  3.34it/s]\u001b[A\n",
            " 63%|██████▎   | 132/208 [00:40<00:22,  3.35it/s]\u001b[A\n",
            " 64%|██████▍   | 133/208 [00:40<00:22,  3.39it/s]\u001b[A\n",
            " 64%|██████▍   | 134/208 [00:41<00:21,  3.46it/s]\u001b[A\n",
            " 65%|██████▍   | 135/208 [00:41<00:21,  3.36it/s]\u001b[A\n",
            " 65%|██████▌   | 136/208 [00:41<00:21,  3.41it/s]\u001b[A\n",
            " 66%|██████▌   | 137/208 [00:41<00:21,  3.30it/s]\u001b[A\n",
            " 66%|██████▋   | 138/208 [00:42<00:22,  3.18it/s]\u001b[A\n",
            " 67%|██████▋   | 139/208 [00:42<00:21,  3.21it/s]\u001b[A\n",
            " 67%|██████▋   | 140/208 [00:42<00:20,  3.33it/s]\u001b[A\n",
            " 68%|██████▊   | 141/208 [00:43<00:19,  3.39it/s]\u001b[A\n",
            " 68%|██████▊   | 142/208 [00:43<00:19,  3.42it/s]\u001b[A\n",
            " 69%|██████▉   | 143/208 [00:43<00:19,  3.41it/s]\u001b[A\n",
            " 69%|██████▉   | 144/208 [00:44<00:18,  3.39it/s]\u001b[A\n",
            " 70%|██████▉   | 145/208 [00:44<00:18,  3.48it/s]\u001b[A\n",
            " 70%|███████   | 146/208 [00:44<00:18,  3.33it/s]\u001b[A\n",
            " 71%|███████   | 147/208 [00:44<00:17,  3.41it/s]\u001b[A\n",
            " 71%|███████   | 148/208 [00:45<00:17,  3.39it/s]\u001b[A\n",
            " 72%|███████▏  | 149/208 [00:45<00:16,  3.47it/s]\u001b[A\n",
            " 72%|███████▏  | 150/208 [00:45<00:17,  3.41it/s]\u001b[A\n",
            " 73%|███████▎  | 151/208 [00:46<00:17,  3.31it/s]\u001b[A"
          ],
          "name": "stderr"
        },
        {
          "output_type": "stream",
          "text": [
            "19.783042907714844\n",
            "ytermusene\n",
            "[8, 5, 53, 11, 43, 25, 39, 26, 27, 29]\n",
            "bususnglya\n",
            "[13, 25, 21, 25, 39, 27, 1, 16, 60, 3]\n",
            "xhyessyant\n",
            "[13, 63, 33, 29, 58, 62, 57, 2, 52, 41]\n",
            "daadsticke\n",
            "[13, 8, 17, 59, 47, 20, 56, 61, 0, 10]\n",
            "phydancena\n",
            "[13, 63, 33, 13, 2, 52, 9, 14, 52, 2]\n"
          ],
          "name": "stdout"
        },
        {
          "output_type": "stream",
          "text": [
            "\n",
            " 73%|███████▎  | 152/208 [00:46<00:16,  3.35it/s]\u001b[A\n",
            " 74%|███████▎  | 153/208 [00:46<00:17,  3.22it/s]\u001b[A\n",
            " 74%|███████▍  | 154/208 [00:47<00:16,  3.36it/s]\u001b[A\n",
            " 75%|███████▍  | 155/208 [00:47<00:15,  3.32it/s]\u001b[A\n",
            " 75%|███████▌  | 156/208 [00:47<00:15,  3.31it/s]\u001b[A\n",
            " 75%|███████▌  | 157/208 [00:47<00:14,  3.43it/s]\u001b[A\n",
            " 76%|███████▌  | 158/208 [00:48<00:15,  3.20it/s]\u001b[A\n",
            " 76%|███████▋  | 159/208 [00:48<00:15,  3.24it/s]\u001b[A\n",
            " 77%|███████▋  | 160/208 [00:48<00:14,  3.28it/s]\u001b[A\n",
            " 77%|███████▋  | 161/208 [00:49<00:13,  3.38it/s]\u001b[A\n",
            " 78%|███████▊  | 162/208 [00:49<00:13,  3.41it/s]\u001b[A\n",
            " 78%|███████▊  | 163/208 [00:49<00:13,  3.42it/s]\u001b[A\n",
            " 79%|███████▉  | 164/208 [00:50<00:13,  3.26it/s]\u001b[A\n",
            " 79%|███████▉  | 165/208 [00:50<00:13,  3.19it/s]\u001b[A\n",
            " 80%|███████▉  | 166/208 [00:50<00:13,  3.17it/s]\u001b[A\n",
            " 80%|████████  | 167/208 [00:51<00:12,  3.17it/s]\u001b[A\n",
            " 81%|████████  | 168/208 [00:51<00:12,  3.26it/s]\u001b[A\n",
            " 81%|████████▏ | 169/208 [00:51<00:12,  3.23it/s]\u001b[A\n",
            " 82%|████████▏ | 170/208 [00:51<00:11,  3.29it/s]\u001b[A\n",
            " 82%|████████▏ | 171/208 [00:52<00:11,  3.35it/s]\u001b[A\n",
            " 83%|████████▎ | 172/208 [00:52<00:11,  3.16it/s]\u001b[A\n",
            " 83%|████████▎ | 173/208 [00:52<00:11,  3.09it/s]\u001b[A\n",
            " 84%|████████▎ | 174/208 [00:53<00:11,  3.07it/s]\u001b[A\n",
            " 84%|████████▍ | 175/208 [00:53<00:10,  3.10it/s]\u001b[A\n",
            " 85%|████████▍ | 176/208 [00:53<00:10,  3.15it/s]\u001b[A\n",
            " 85%|████████▌ | 177/208 [00:54<00:09,  3.22it/s]\u001b[A\n",
            " 86%|████████▌ | 178/208 [00:54<00:09,  3.23it/s]\u001b[A\n",
            " 86%|████████▌ | 179/208 [00:54<00:09,  3.04it/s]\u001b[A\n",
            " 87%|████████▋ | 180/208 [00:55<00:08,  3.12it/s]\u001b[A\n",
            " 87%|████████▋ | 181/208 [00:55<00:08,  3.20it/s]\u001b[A\n",
            " 88%|████████▊ | 182/208 [00:55<00:08,  3.05it/s]\u001b[A\n",
            " 88%|████████▊ | 183/208 [00:56<00:08,  3.01it/s]\u001b[A\n",
            " 88%|████████▊ | 184/208 [00:56<00:07,  3.03it/s]\u001b[A\n",
            " 89%|████████▉ | 185/208 [00:56<00:07,  3.11it/s]\u001b[A\n",
            " 89%|████████▉ | 186/208 [00:57<00:06,  3.17it/s]\u001b[A\n",
            " 90%|████████▉ | 187/208 [00:57<00:06,  3.14it/s]\u001b[A\n",
            " 90%|█████████ | 188/208 [00:57<00:06,  3.17it/s]\u001b[A\n",
            " 91%|█████████ | 189/208 [00:58<00:06,  3.14it/s]\u001b[A\n",
            " 91%|█████████▏| 190/208 [00:58<00:05,  3.20it/s]\u001b[A\n",
            " 92%|█████████▏| 191/208 [00:58<00:05,  3.10it/s]\u001b[A\n",
            " 92%|█████████▏| 192/208 [00:58<00:05,  3.20it/s]\u001b[A\n",
            " 93%|█████████▎| 193/208 [00:59<00:04,  3.30it/s]\u001b[A\n",
            " 93%|█████████▎| 194/208 [00:59<00:04,  3.27it/s]\u001b[A\n",
            " 94%|█████████▍| 195/208 [00:59<00:03,  3.33it/s]\u001b[A\n",
            " 94%|█████████▍| 196/208 [01:00<00:03,  3.42it/s]\u001b[A\n",
            " 95%|█████████▍| 197/208 [01:00<00:03,  3.30it/s]\u001b[A\n",
            " 95%|█████████▌| 198/208 [01:00<00:03,  3.27it/s]\u001b[A\n",
            " 96%|█████████▌| 199/208 [01:01<00:02,  3.26it/s]\u001b[A\n",
            " 96%|█████████▌| 200/208 [01:01<00:02,  3.31it/s]\u001b[A\n",
            " 97%|█████████▋| 201/208 [01:01<00:02,  3.27it/s]\u001b[A"
          ],
          "name": "stderr"
        },
        {
          "output_type": "stream",
          "text": [
            "20.21116065979004\n",
            "khtlyryngl\n",
            "[13, 63, 41, 16, 34, 55, 60, 27, 1, 16]\n",
            "dicusrmant\n",
            "[13, 56, 61, 25, 21, 11, 43, 2, 52, 41]\n",
            "gizenglery\n",
            "[13, 56, 45, 26, 27, 6, 16, 15, 11, 57]\n",
            "weddonessn\n",
            "[13, 8, 17, 59, 28, 35, 29, 58, 62, 27]\n",
            "chytijlyyn\n",
            "[13, 63, 33, 5, 56, 40, 16, 34, 60, 27]\n"
          ],
          "name": "stdout"
        },
        {
          "output_type": "stream",
          "text": [
            "\n",
            " 97%|█████████▋| 202/208 [01:01<00:01,  3.29it/s]\u001b[A\n",
            " 98%|█████████▊| 203/208 [01:02<00:01,  3.39it/s]\u001b[A\n",
            " 98%|█████████▊| 204/208 [01:02<00:01,  3.42it/s]\u001b[A\n",
            " 99%|█████████▊| 205/208 [01:02<00:00,  3.39it/s]\u001b[A\n",
            " 99%|█████████▉| 206/208 [01:03<00:00,  3.22it/s]\u001b[A\n",
            "100%|█████████▉| 207/208 [01:03<00:00,  3.33it/s]\u001b[A\n",
            "100%|██████████| 208/208 [01:03<00:00,  4.09it/s]\u001b[A\n",
            "\u001b[A"
          ],
          "name": "stderr"
        },
        {
          "output_type": "stream",
          "text": [
            "20.037586212158203\n",
            "mrompenlye\n",
            "[13, 7, 8, 18, 13, 8, 12, 16, 46, 51]\n"
          ],
          "name": "stdout"
        },
        {
          "output_type": "stream",
          "text": [
            "\n",
            "  0%|          | 0/208 [00:00<?, ?it/s]\u001b[A"
          ],
          "name": "stderr"
        },
        {
          "output_type": "stream",
          "text": [
            "========= Results: epoch 8 of 10 =========\n",
            "train loss: 20.32| valid loss: 20.37\n",
            "\n",
            "========= Epoch 9 of 10 =========\n"
          ],
          "name": "stdout"
        },
        {
          "output_type": "stream",
          "text": [
            "\n",
            "  0%|          | 1/208 [00:00<01:32,  2.23it/s]\u001b[A"
          ],
          "name": "stderr"
        },
        {
          "output_type": "stream",
          "text": [
            "20.01962661743164\n",
            "chricables\n",
            "[13, 63, 7, 56, 37, 3, 36, 16, 29, 58]\n",
            "fhyancysek\n",
            "[13, 63, 33, 2, 52, 9, 57, 21, 51, 30]\n",
            "nhloukedng\n",
            "[13, 63, 7, 8, 24, 0, 44, 31, 27, 6]\n",
            "ubedngiace\n",
            "[8, 13, 44, 31, 27, 1, 56, 2, 9, 14]\n",
            "egymentsto\n",
            "[8, 50, 57, 50, 10, 52, 41, 47, 20, 53]\n"
          ],
          "name": "stdout"
        },
        {
          "output_type": "stream",
          "text": [
            "\n",
            "  1%|          | 2/208 [00:00<01:23,  2.47it/s]\u001b[A\n",
            "  1%|▏         | 3/208 [00:01<01:19,  2.59it/s]\u001b[A\n",
            "  2%|▏         | 4/208 [00:01<01:15,  2.71it/s]\u001b[A\n",
            "  2%|▏         | 5/208 [00:01<01:15,  2.68it/s]\u001b[A\n",
            "  3%|▎         | 6/208 [00:02<01:12,  2.80it/s]\u001b[A\n",
            "  3%|▎         | 7/208 [00:02<01:12,  2.77it/s]\u001b[A\n",
            "  4%|▍         | 8/208 [00:02<01:08,  2.92it/s]\u001b[A\n",
            "  4%|▍         | 9/208 [00:03<01:05,  3.03it/s]\u001b[A\n",
            "  5%|▍         | 10/208 [00:03<01:05,  3.02it/s]\u001b[A\n",
            "  5%|▌         | 11/208 [00:03<01:02,  3.16it/s]\u001b[A\n",
            "  6%|▌         | 12/208 [00:03<01:00,  3.25it/s]\u001b[A\n",
            "  6%|▋         | 13/208 [00:04<00:59,  3.28it/s]\u001b[A\n",
            "  7%|▋         | 14/208 [00:04<01:01,  3.15it/s]\u001b[A\n",
            "  7%|▋         | 15/208 [00:04<01:00,  3.17it/s]\u001b[A\n",
            "  8%|▊         | 16/208 [00:05<01:01,  3.12it/s]\u001b[A\n",
            "  8%|▊         | 17/208 [00:05<01:00,  3.14it/s]\u001b[A\n",
            "  9%|▊         | 18/208 [00:05<00:59,  3.18it/s]\u001b[A\n",
            "  9%|▉         | 19/208 [00:06<00:59,  3.20it/s]\u001b[A\n",
            " 10%|▉         | 20/208 [00:06<00:56,  3.31it/s]\u001b[A\n",
            " 10%|█         | 21/208 [00:06<00:58,  3.18it/s]\u001b[A\n",
            " 11%|█         | 22/208 [00:07<00:59,  3.11it/s]\u001b[A\n",
            " 11%|█         | 23/208 [00:07<00:59,  3.13it/s]\u001b[A\n",
            " 12%|█▏        | 24/208 [00:07<00:57,  3.22it/s]\u001b[A\n",
            " 12%|█▏        | 25/208 [00:08<00:57,  3.19it/s]\u001b[A\n",
            " 12%|█▎        | 26/208 [00:08<00:58,  3.13it/s]\u001b[A\n",
            " 13%|█▎        | 27/208 [00:08<00:58,  3.11it/s]\u001b[A\n",
            " 13%|█▎        | 28/208 [00:09<00:58,  3.09it/s]\u001b[A\n",
            " 14%|█▍        | 29/208 [00:09<00:58,  3.08it/s]\u001b[A\n",
            " 14%|█▍        | 30/208 [00:09<00:57,  3.12it/s]\u001b[A\n",
            " 15%|█▍        | 31/208 [00:10<00:57,  3.05it/s]\u001b[A\n",
            " 15%|█▌        | 32/208 [00:10<00:56,  3.09it/s]\u001b[A\n",
            " 16%|█▌        | 33/208 [00:10<00:53,  3.25it/s]\u001b[A\n",
            " 16%|█▋        | 34/208 [00:10<00:51,  3.40it/s]\u001b[A\n",
            " 17%|█▋        | 35/208 [00:11<00:51,  3.37it/s]\u001b[A\n",
            " 17%|█▋        | 36/208 [00:11<00:51,  3.32it/s]\u001b[A\n",
            " 18%|█▊        | 37/208 [00:11<00:52,  3.28it/s]\u001b[A\n",
            " 18%|█▊        | 38/208 [00:12<00:51,  3.27it/s]\u001b[A\n",
            " 19%|█▉        | 39/208 [00:12<00:51,  3.25it/s]\u001b[A\n",
            " 19%|█▉        | 40/208 [00:12<00:49,  3.37it/s]\u001b[A\n",
            " 20%|█▉        | 41/208 [00:13<00:49,  3.36it/s]\u001b[A\n",
            " 20%|██        | 42/208 [00:13<00:48,  3.45it/s]\u001b[A\n",
            " 21%|██        | 43/208 [00:13<00:48,  3.39it/s]\u001b[A\n",
            " 21%|██        | 44/208 [00:13<00:47,  3.42it/s]\u001b[A\n",
            " 22%|██▏       | 45/208 [00:14<00:46,  3.48it/s]\u001b[A\n",
            " 22%|██▏       | 46/208 [00:14<00:46,  3.49it/s]\u001b[A\n",
            " 23%|██▎       | 47/208 [00:14<00:46,  3.48it/s]\u001b[A\n",
            " 23%|██▎       | 48/208 [00:15<00:45,  3.48it/s]\u001b[A\n",
            " 24%|██▎       | 49/208 [00:15<00:48,  3.25it/s]\u001b[A\n",
            " 24%|██▍       | 50/208 [00:15<00:48,  3.23it/s]\u001b[A\n",
            " 25%|██▍       | 51/208 [00:16<00:50,  3.13it/s]\u001b[A"
          ],
          "name": "stderr"
        },
        {
          "output_type": "stream",
          "text": [
            "20.23030662536621\n",
            "dhtyyanceo\n",
            "[13, 63, 41, 60, 57, 2, 52, 9, 14, 28]\n",
            "ghusormery\n",
            "[13, 63, 25, 39, 53, 11, 43, 51, 30, 60]\n",
            "srarmedesd\n",
            "[13, 7, 2, 11, 43, 51, 30, 26, 21, 31]\n",
            "phtatantly\n",
            "[13, 63, 41, 3, 22, 2, 52, 41, 16, 54]\n",
            "oysedngeus\n",
            "[8, 57, 21, 51, 30, 27, 6, 14, 25, 39]\n"
          ],
          "name": "stdout"
        },
        {
          "output_type": "stream",
          "text": [
            "\n",
            " 25%|██▌       | 52/208 [00:16<00:49,  3.17it/s]\u001b[A\n",
            " 25%|██▌       | 53/208 [00:16<00:48,  3.22it/s]\u001b[A\n",
            " 26%|██▌       | 54/208 [00:16<00:45,  3.38it/s]\u001b[A\n",
            " 26%|██▋       | 55/208 [00:17<00:45,  3.34it/s]\u001b[A\n",
            " 27%|██▋       | 56/208 [00:17<00:45,  3.34it/s]\u001b[A\n",
            " 27%|██▋       | 57/208 [00:17<00:44,  3.39it/s]\u001b[A\n",
            " 28%|██▊       | 58/208 [00:18<00:43,  3.41it/s]\u001b[A\n",
            " 28%|██▊       | 59/208 [00:18<00:45,  3.31it/s]\u001b[A\n",
            " 29%|██▉       | 60/208 [00:18<00:45,  3.29it/s]\u001b[A\n",
            " 29%|██▉       | 61/208 [00:19<00:44,  3.31it/s]\u001b[A\n",
            " 30%|██▉       | 62/208 [00:19<00:43,  3.35it/s]\u001b[A\n",
            " 30%|███       | 63/208 [00:19<00:42,  3.42it/s]\u001b[A\n",
            " 31%|███       | 64/208 [00:19<00:42,  3.42it/s]\u001b[A\n",
            " 31%|███▏      | 65/208 [00:20<00:41,  3.45it/s]\u001b[A\n",
            " 32%|███▏      | 66/208 [00:20<00:41,  3.44it/s]\u001b[A\n",
            " 32%|███▏      | 67/208 [00:20<00:41,  3.37it/s]\u001b[A\n",
            " 33%|███▎      | 68/208 [00:21<00:42,  3.31it/s]\u001b[A\n",
            " 33%|███▎      | 69/208 [00:21<00:42,  3.30it/s]\u001b[A\n",
            " 34%|███▎      | 70/208 [00:21<00:42,  3.23it/s]\u001b[A\n",
            " 34%|███▍      | 71/208 [00:21<00:40,  3.35it/s]\u001b[A\n",
            " 35%|███▍      | 72/208 [00:22<00:40,  3.34it/s]\u001b[A\n",
            " 35%|███▌      | 73/208 [00:22<00:39,  3.39it/s]\u001b[A\n",
            " 36%|███▌      | 74/208 [00:22<00:40,  3.30it/s]\u001b[A\n",
            " 36%|███▌      | 75/208 [00:23<00:39,  3.36it/s]\u001b[A\n",
            " 37%|███▋      | 76/208 [00:23<00:38,  3.46it/s]\u001b[A\n",
            " 37%|███▋      | 77/208 [00:23<00:39,  3.30it/s]\u001b[A\n",
            " 38%|███▊      | 78/208 [00:24<00:38,  3.34it/s]\u001b[A\n",
            " 38%|███▊      | 79/208 [00:24<00:38,  3.36it/s]\u001b[A\n",
            " 38%|███▊      | 80/208 [00:24<00:39,  3.27it/s]\u001b[A\n",
            " 39%|███▉      | 81/208 [00:25<00:40,  3.15it/s]\u001b[A\n",
            " 39%|███▉      | 82/208 [00:25<00:39,  3.20it/s]\u001b[A\n",
            " 40%|███▉      | 83/208 [00:25<00:38,  3.25it/s]\u001b[A\n",
            " 40%|████      | 84/208 [00:25<00:38,  3.20it/s]\u001b[A\n",
            " 41%|████      | 85/208 [00:26<00:37,  3.25it/s]\u001b[A\n",
            " 41%|████▏     | 86/208 [00:26<00:36,  3.30it/s]\u001b[A\n",
            " 42%|████▏     | 87/208 [00:26<00:38,  3.16it/s]\u001b[A\n",
            " 42%|████▏     | 88/208 [00:27<00:37,  3.19it/s]\u001b[A\n",
            " 43%|████▎     | 89/208 [00:27<00:38,  3.07it/s]\u001b[A\n",
            " 43%|████▎     | 90/208 [00:27<00:39,  3.00it/s]\u001b[A\n",
            " 44%|████▍     | 91/208 [00:28<00:37,  3.11it/s]\u001b[A\n",
            " 44%|████▍     | 92/208 [00:28<00:35,  3.23it/s]\u001b[A\n",
            " 45%|████▍     | 93/208 [00:28<00:34,  3.30it/s]\u001b[A\n",
            " 45%|████▌     | 94/208 [00:29<00:33,  3.38it/s]\u001b[A\n",
            " 46%|████▌     | 95/208 [00:29<00:33,  3.40it/s]\u001b[A\n",
            " 46%|████▌     | 96/208 [00:29<00:33,  3.33it/s]\u001b[A\n",
            " 47%|████▋     | 97/208 [00:29<00:32,  3.37it/s]\u001b[A\n",
            " 47%|████▋     | 98/208 [00:30<00:32,  3.38it/s]\u001b[A\n",
            " 48%|████▊     | 99/208 [00:30<00:31,  3.41it/s]\u001b[A\n",
            " 48%|████▊     | 100/208 [00:30<00:32,  3.33it/s]\u001b[A\n",
            " 49%|████▊     | 101/208 [00:31<00:32,  3.27it/s]\u001b[A"
          ],
          "name": "stderr"
        },
        {
          "output_type": "stream",
          "text": [
            "20.570878982543945\n",
            "itonicletl\n",
            "[8, 5, 28, 12, 56, 40, 16, 15, 41, 16]\n",
            "mhylentgen\n",
            "[13, 63, 33, 4, 10, 52, 41, 50, 10, 52]\n",
            "oodiaanthy\n",
            "[8, 17, 59, 56, 40, 2, 52, 41, 63, 33]\n",
            "etesshedya\n",
            "[8, 5, 29, 58, 21, 42, 51, 30, 57, 2]\n",
            "faeedsytys\n",
            "[13, 3, 38, 51, 30, 21, 33, 13, 33, 5]\n"
          ],
          "name": "stdout"
        },
        {
          "output_type": "stream",
          "text": [
            "\n",
            " 49%|████▉     | 102/208 [00:31<00:31,  3.33it/s]\u001b[A\n",
            " 50%|████▉     | 103/208 [00:31<00:31,  3.35it/s]\u001b[A\n",
            " 50%|█████     | 104/208 [00:32<00:30,  3.37it/s]\u001b[A\n",
            " 50%|█████     | 105/208 [00:32<00:31,  3.26it/s]\u001b[A\n",
            " 51%|█████     | 106/208 [00:32<00:30,  3.34it/s]\u001b[A\n",
            " 51%|█████▏    | 107/208 [00:33<00:32,  3.09it/s]\u001b[A\n",
            " 52%|█████▏    | 108/208 [00:33<00:33,  2.97it/s]\u001b[A\n",
            " 52%|█████▏    | 109/208 [00:33<00:32,  3.02it/s]\u001b[A\n",
            " 53%|█████▎    | 110/208 [00:34<00:31,  3.14it/s]\u001b[A\n",
            " 53%|█████▎    | 111/208 [00:34<00:30,  3.15it/s]\u001b[A\n",
            " 54%|█████▍    | 112/208 [00:34<00:30,  3.10it/s]\u001b[A\n",
            " 54%|█████▍    | 113/208 [00:34<00:30,  3.15it/s]\u001b[A\n",
            " 55%|█████▍    | 114/208 [00:35<00:29,  3.19it/s]\u001b[A\n",
            " 55%|█████▌    | 115/208 [00:35<00:28,  3.32it/s]\u001b[A\n",
            " 56%|█████▌    | 116/208 [00:35<00:27,  3.29it/s]\u001b[A\n",
            " 56%|█████▋    | 117/208 [00:36<00:27,  3.36it/s]\u001b[A\n",
            " 57%|█████▋    | 118/208 [00:36<00:26,  3.38it/s]\u001b[A\n",
            " 57%|█████▋    | 119/208 [00:36<00:25,  3.45it/s]\u001b[A\n",
            " 58%|█████▊    | 120/208 [00:37<00:26,  3.36it/s]\u001b[A\n",
            " 58%|█████▊    | 121/208 [00:37<00:26,  3.34it/s]\u001b[A\n",
            " 59%|█████▊    | 122/208 [00:37<00:26,  3.28it/s]\u001b[A\n",
            " 59%|█████▉    | 123/208 [00:37<00:25,  3.29it/s]\u001b[A\n",
            " 60%|█████▉    | 124/208 [00:38<00:24,  3.36it/s]\u001b[A\n",
            " 60%|██████    | 125/208 [00:38<00:24,  3.38it/s]\u001b[A\n",
            " 61%|██████    | 126/208 [00:38<00:25,  3.26it/s]\u001b[A\n",
            " 61%|██████    | 127/208 [00:39<00:24,  3.36it/s]\u001b[A\n",
            " 62%|██████▏   | 128/208 [00:39<00:23,  3.37it/s]\u001b[A\n",
            " 62%|██████▏   | 129/208 [00:39<00:24,  3.28it/s]\u001b[A\n",
            " 62%|██████▎   | 130/208 [00:40<00:23,  3.37it/s]\u001b[A\n",
            " 63%|██████▎   | 131/208 [00:40<00:22,  3.36it/s]\u001b[A\n",
            " 63%|██████▎   | 132/208 [00:40<00:22,  3.41it/s]\u001b[A\n",
            " 64%|██████▍   | 133/208 [00:40<00:22,  3.30it/s]\u001b[A\n",
            " 64%|██████▍   | 134/208 [00:41<00:21,  3.44it/s]\u001b[A\n",
            " 65%|██████▍   | 135/208 [00:41<00:21,  3.37it/s]\u001b[A\n",
            " 65%|██████▌   | 136/208 [00:41<00:21,  3.39it/s]\u001b[A\n",
            " 66%|██████▌   | 137/208 [00:42<00:20,  3.44it/s]\u001b[A\n",
            " 66%|██████▋   | 138/208 [00:42<00:21,  3.33it/s]\u001b[A\n",
            " 67%|██████▋   | 139/208 [00:42<00:21,  3.27it/s]\u001b[A\n",
            " 67%|██████▋   | 140/208 [00:42<00:20,  3.39it/s]\u001b[A\n",
            " 68%|██████▊   | 141/208 [00:43<00:19,  3.37it/s]\u001b[A\n",
            " 68%|██████▊   | 142/208 [00:43<00:19,  3.37it/s]\u001b[A\n",
            " 69%|██████▉   | 143/208 [00:43<00:19,  3.32it/s]\u001b[A\n",
            " 69%|██████▉   | 144/208 [00:44<00:19,  3.23it/s]\u001b[A\n",
            " 70%|██████▉   | 145/208 [00:44<00:19,  3.23it/s]\u001b[A\n",
            " 70%|███████   | 146/208 [00:44<00:18,  3.31it/s]\u001b[A\n",
            " 71%|███████   | 147/208 [00:45<00:18,  3.39it/s]\u001b[A\n",
            " 71%|███████   | 148/208 [00:45<00:17,  3.35it/s]\u001b[A\n",
            " 72%|███████▏  | 149/208 [00:45<00:18,  3.25it/s]\u001b[A\n",
            " 72%|███████▏  | 150/208 [00:46<00:17,  3.33it/s]\u001b[A\n",
            " 73%|███████▎  | 151/208 [00:46<00:17,  3.24it/s]\u001b[A"
          ],
          "name": "stderr"
        },
        {
          "output_type": "stream",
          "text": [
            "20.22539520263672\n",
            "shivedlege\n",
            "[13, 63, 56, 45, 19, 31, 16, 15, 50, 10]\n",
            "shysessngl\n",
            "[13, 63, 33, 5, 29, 58, 62, 27, 1, 16]\n",
            "Jlineceoni\n",
            "[13, 7, 8, 24, 14, 9, 14, 28, 12, 56]\n",
            "elelesceal\n",
            "[8, 4, 8, 4, 29, 58, 9, 14, 3, 32]\n",
            "saetusleme\n",
            "[13, 8, 14, 28, 25, 39, 16, 15, 50, 10]\n"
          ],
          "name": "stdout"
        },
        {
          "output_type": "stream",
          "text": [
            "\n",
            " 73%|███████▎  | 152/208 [00:46<00:17,  3.27it/s]\u001b[A\n",
            " 74%|███████▎  | 153/208 [00:46<00:16,  3.32it/s]\u001b[A\n",
            " 74%|███████▍  | 154/208 [00:47<00:16,  3.20it/s]\u001b[A\n",
            " 75%|███████▍  | 155/208 [00:47<00:16,  3.15it/s]\u001b[A\n",
            " 75%|███████▌  | 156/208 [00:47<00:16,  3.19it/s]\u001b[A\n",
            " 75%|███████▌  | 157/208 [00:48<00:15,  3.31it/s]\u001b[A\n",
            " 76%|███████▌  | 158/208 [00:48<00:14,  3.36it/s]\u001b[A\n",
            " 76%|███████▋  | 159/208 [00:48<00:14,  3.41it/s]\u001b[A\n",
            " 77%|███████▋  | 160/208 [00:49<00:13,  3.49it/s]\u001b[A\n",
            " 77%|███████▋  | 161/208 [00:49<00:13,  3.48it/s]\u001b[A\n",
            " 78%|███████▊  | 162/208 [00:49<00:12,  3.56it/s]\u001b[A\n",
            " 78%|███████▊  | 163/208 [00:49<00:12,  3.58it/s]\u001b[A\n",
            " 79%|███████▉  | 164/208 [00:50<00:12,  3.49it/s]\u001b[A\n",
            " 79%|███████▉  | 165/208 [00:50<00:12,  3.50it/s]\u001b[A\n",
            " 80%|███████▉  | 166/208 [00:50<00:12,  3.38it/s]\u001b[A\n",
            " 80%|████████  | 167/208 [00:51<00:12,  3.35it/s]\u001b[A\n",
            " 81%|████████  | 168/208 [00:51<00:12,  3.31it/s]\u001b[A\n",
            " 81%|████████▏ | 169/208 [00:51<00:11,  3.44it/s]\u001b[A\n",
            " 82%|████████▏ | 170/208 [00:51<00:10,  3.46it/s]\u001b[A\n",
            " 82%|████████▏ | 171/208 [00:52<00:10,  3.47it/s]\u001b[A\n",
            " 83%|████████▎ | 172/208 [00:52<00:10,  3.51it/s]\u001b[A\n",
            " 83%|████████▎ | 173/208 [00:52<00:09,  3.50it/s]\u001b[A\n",
            " 84%|████████▎ | 174/208 [00:53<00:09,  3.62it/s]\u001b[A\n",
            " 84%|████████▍ | 175/208 [00:53<00:09,  3.58it/s]\u001b[A\n",
            " 85%|████████▍ | 176/208 [00:53<00:08,  3.56it/s]\u001b[A\n",
            " 85%|████████▌ | 177/208 [00:53<00:08,  3.50it/s]\u001b[A\n",
            " 86%|████████▌ | 178/208 [00:54<00:08,  3.45it/s]\u001b[A\n",
            " 86%|████████▌ | 179/208 [00:54<00:08,  3.39it/s]\u001b[A\n",
            " 87%|████████▋ | 180/208 [00:54<00:07,  3.52it/s]\u001b[A\n",
            " 87%|████████▋ | 181/208 [00:55<00:07,  3.56it/s]\u001b[A\n",
            " 88%|████████▊ | 182/208 [00:55<00:07,  3.50it/s]\u001b[A\n",
            " 88%|████████▊ | 183/208 [00:55<00:07,  3.48it/s]\u001b[A\n",
            " 88%|████████▊ | 184/208 [00:55<00:06,  3.46it/s]\u001b[A\n",
            " 89%|████████▉ | 185/208 [00:56<00:06,  3.45it/s]\u001b[A\n",
            " 89%|████████▉ | 186/208 [00:56<00:06,  3.42it/s]\u001b[A\n",
            " 90%|████████▉ | 187/208 [00:56<00:06,  3.41it/s]\u001b[A\n",
            " 90%|█████████ | 188/208 [00:57<00:06,  3.30it/s]\u001b[A\n",
            " 91%|█████████ | 189/208 [00:57<00:05,  3.38it/s]\u001b[A\n",
            " 91%|█████████▏| 190/208 [00:57<00:05,  3.43it/s]\u001b[A\n",
            " 92%|█████████▏| 191/208 [00:57<00:04,  3.60it/s]\u001b[A\n",
            " 92%|█████████▏| 192/208 [00:58<00:04,  3.65it/s]\u001b[A\n",
            " 93%|█████████▎| 193/208 [00:58<00:04,  3.52it/s]\u001b[A\n",
            " 93%|█████████▎| 194/208 [00:58<00:04,  3.46it/s]\u001b[A\n",
            " 94%|█████████▍| 195/208 [00:59<00:03,  3.37it/s]\u001b[A\n",
            " 94%|█████████▍| 196/208 [00:59<00:03,  3.35it/s]\u001b[A\n",
            " 95%|█████████▍| 197/208 [00:59<00:03,  3.38it/s]\u001b[A\n",
            " 95%|█████████▌| 198/208 [00:59<00:02,  3.42it/s]\u001b[A\n",
            " 96%|█████████▌| 199/208 [01:00<00:02,  3.50it/s]\u001b[A\n",
            " 96%|█████████▌| 200/208 [01:00<00:02,  3.44it/s]\u001b[A\n",
            " 97%|█████████▋| 201/208 [01:00<00:02,  3.46it/s]\u001b[A"
          ],
          "name": "stderr"
        },
        {
          "output_type": "stream",
          "text": [
            "20.21922492980957\n",
            "rwacyednes\n",
            "[13, 7, 2, 9, 57, 51, 30, 27, 29, 58]\n",
            "qhtlyeated\n",
            "[13, 63, 41, 16, 34, 14, 3, 22, 51, 30]\n",
            "istryuslys\n",
            "[8, 24, 23, 55, 60, 25, 39, 16, 54, 21]\n",
            "coenlessta\n",
            "[13, 8, 17, 48, 16, 29, 58, 21, 20, 2]\n",
            "hueablessn\n",
            "[13, 7, 14, 3, 36, 16, 29, 58, 62, 27]\n"
          ],
          "name": "stdout"
        },
        {
          "output_type": "stream",
          "text": [
            "\n",
            " 97%|█████████▋| 202/208 [01:01<00:01,  3.49it/s]\u001b[A\n",
            " 98%|█████████▊| 203/208 [01:01<00:01,  3.38it/s]\u001b[A\n",
            " 98%|█████████▊| 204/208 [01:01<00:01,  3.25it/s]\u001b[A\n",
            " 99%|█████████▊| 205/208 [01:02<00:00,  3.15it/s]\u001b[A\n",
            " 99%|█████████▉| 206/208 [01:02<00:00,  3.01it/s]\u001b[A\n",
            "100%|█████████▉| 207/208 [01:02<00:00,  3.02it/s]\u001b[A\n",
            "100%|██████████| 208/208 [01:02<00:00,  3.72it/s]\u001b[A\n",
            "\u001b[A"
          ],
          "name": "stderr"
        },
        {
          "output_type": "stream",
          "text": [
            "20.096027374267578\n",
            "peanternom\n",
            "[13, 44, 2, 52, 41, 51, 30, 27, 28, 50]\n"
          ],
          "name": "stdout"
        },
        {
          "output_type": "stream",
          "text": [
            "\n",
            "  0%|          | 0/208 [00:00<?, ?it/s]\u001b[A"
          ],
          "name": "stderr"
        },
        {
          "output_type": "stream",
          "text": [
            "========= Results: epoch 9 of 10 =========\n",
            "train loss: 20.32| valid loss: 20.37\n",
            "\n",
            "========= Epoch 10 of 10 =========\n"
          ],
          "name": "stdout"
        },
        {
          "output_type": "stream",
          "text": [
            "\n",
            "  0%|          | 1/208 [00:00<01:22,  2.50it/s]\u001b[A"
          ],
          "name": "stderr"
        },
        {
          "output_type": "stream",
          "text": [
            "20.26656723022461\n",
            "ittallyrma\n",
            "[8, 24, 5, 3, 36, 16, 54, 11, 43, 2]\n",
            "pyanedness\n",
            "[13, 7, 2, 52, 19, 31, 27, 29, 58, 21]\n",
            "ptentyedng\n",
            "[13, 23, 44, 52, 41, 57, 51, 30, 27, 6]\n",
            "saryngentt\n",
            "[13, 3, 55, 60, 27, 1, 14, 52, 41, 23]\n",
            "tanessleng\n",
            "[13, 10, 27, 29, 58, 62, 16, 15, 27, 6]\n"
          ],
          "name": "stdout"
        },
        {
          "output_type": "stream",
          "text": [
            "\n",
            "  1%|          | 2/208 [00:00<01:15,  2.73it/s]\u001b[A\n",
            "  1%|▏         | 3/208 [00:00<01:11,  2.87it/s]\u001b[A\n",
            "  2%|▏         | 4/208 [00:01<01:10,  2.89it/s]\u001b[A\n",
            "  2%|▏         | 5/208 [00:01<01:09,  2.92it/s]\u001b[A\n",
            "  3%|▎         | 6/208 [00:01<01:06,  3.03it/s]\u001b[A\n",
            "  3%|▎         | 7/208 [00:02<01:03,  3.18it/s]\u001b[A\n",
            "  4%|▍         | 8/208 [00:02<01:01,  3.23it/s]\u001b[A\n",
            "  4%|▍         | 9/208 [00:02<01:00,  3.30it/s]\u001b[A\n",
            "  5%|▍         | 10/208 [00:03<01:06,  3.00it/s]\u001b[A\n",
            "  5%|▌         | 11/208 [00:03<01:05,  2.98it/s]\u001b[A\n",
            "  6%|▌         | 12/208 [00:03<01:05,  2.99it/s]\u001b[A\n",
            "  6%|▋         | 13/208 [00:04<01:06,  2.93it/s]\u001b[A\n",
            "  7%|▋         | 14/208 [00:04<01:04,  3.00it/s]\u001b[A\n",
            "  7%|▋         | 15/208 [00:04<01:01,  3.14it/s]\u001b[A\n",
            "  8%|▊         | 16/208 [00:05<00:59,  3.22it/s]\u001b[A\n",
            "  8%|▊         | 17/208 [00:05<01:00,  3.16it/s]\u001b[A\n",
            "  9%|▊         | 18/208 [00:05<00:59,  3.20it/s]\u001b[A\n",
            "  9%|▉         | 19/208 [00:06<00:58,  3.22it/s]\u001b[A\n",
            " 10%|▉         | 20/208 [00:06<00:56,  3.35it/s]\u001b[A\n",
            " 10%|█         | 21/208 [00:06<00:55,  3.34it/s]\u001b[A\n",
            " 11%|█         | 22/208 [00:06<00:54,  3.40it/s]\u001b[A\n",
            " 11%|█         | 23/208 [00:07<00:53,  3.46it/s]\u001b[A\n",
            " 12%|█▏        | 24/208 [00:07<00:53,  3.42it/s]\u001b[A\n",
            " 12%|█▏        | 25/208 [00:07<00:53,  3.39it/s]\u001b[A\n",
            " 12%|█▎        | 26/208 [00:08<00:55,  3.29it/s]\u001b[A\n",
            " 13%|█▎        | 27/208 [00:08<00:54,  3.31it/s]\u001b[A\n",
            " 13%|█▎        | 28/208 [00:08<00:53,  3.37it/s]\u001b[A\n",
            " 14%|█▍        | 29/208 [00:09<00:53,  3.33it/s]\u001b[A\n",
            " 14%|█▍        | 30/208 [00:09<00:53,  3.33it/s]\u001b[A\n",
            " 15%|█▍        | 31/208 [00:09<00:52,  3.35it/s]\u001b[A\n",
            " 15%|█▌        | 32/208 [00:09<00:52,  3.35it/s]\u001b[A\n",
            " 16%|█▌        | 33/208 [00:10<00:51,  3.40it/s]\u001b[A\n",
            " 16%|█▋        | 34/208 [00:10<00:51,  3.37it/s]\u001b[A\n",
            " 17%|█▋        | 35/208 [00:10<00:49,  3.49it/s]\u001b[A\n",
            " 17%|█▋        | 36/208 [00:11<00:51,  3.34it/s]\u001b[A\n",
            " 18%|█▊        | 37/208 [00:11<00:51,  3.35it/s]\u001b[A\n",
            " 18%|█▊        | 38/208 [00:11<00:50,  3.38it/s]\u001b[A\n",
            " 19%|█▉        | 39/208 [00:12<00:50,  3.37it/s]\u001b[A\n",
            " 19%|█▉        | 40/208 [00:12<00:48,  3.46it/s]\u001b[A\n",
            " 20%|█▉        | 41/208 [00:12<00:49,  3.35it/s]\u001b[A\n",
            " 20%|██        | 42/208 [00:12<00:49,  3.38it/s]\u001b[A\n",
            " 21%|██        | 43/208 [00:13<00:49,  3.34it/s]\u001b[A\n",
            " 21%|██        | 44/208 [00:13<00:48,  3.41it/s]\u001b[A\n",
            " 22%|██▏       | 45/208 [00:13<00:47,  3.42it/s]\u001b[A\n",
            " 22%|██▏       | 46/208 [00:14<00:47,  3.44it/s]\u001b[A\n",
            " 23%|██▎       | 47/208 [00:14<00:47,  3.38it/s]\u001b[A\n",
            " 23%|██▎       | 48/208 [00:14<00:47,  3.35it/s]\u001b[A\n",
            " 24%|██▎       | 49/208 [00:14<00:46,  3.38it/s]\u001b[A\n",
            " 24%|██▍       | 50/208 [00:15<00:44,  3.52it/s]\u001b[A\n",
            " 25%|██▍       | 51/208 [00:15<00:45,  3.44it/s]\u001b[A"
          ],
          "name": "stderr"
        },
        {
          "output_type": "stream",
          "text": [
            "20.400035858154297\n",
            "eteduseres\n",
            "[8, 45, 19, 31, 25, 39, 51, 30, 29, 58]\n",
            "inlalngica\n",
            "[8, 13, 7, 3, 32, 27, 6, 56, 37, 3]\n",
            "nhytolyyor\n",
            "[13, 63, 33, 5, 53, 16, 54, 34, 53, 11]\n",
            "bomaterman\n",
            "[13, 8, 13, 3, 22, 53, 11, 43, 2, 52]\n",
            "cicseatorm\n",
            "[13, 56, 61, 0, 51, 3, 22, 53, 11, 43]\n"
          ],
          "name": "stdout"
        },
        {
          "output_type": "stream",
          "text": [
            "\n",
            " 25%|██▌       | 52/208 [00:15<00:44,  3.51it/s]\u001b[A\n",
            " 25%|██▌       | 53/208 [00:16<00:44,  3.47it/s]\u001b[A\n",
            " 26%|██▌       | 54/208 [00:16<00:45,  3.39it/s]\u001b[A\n",
            " 26%|██▋       | 55/208 [00:16<00:45,  3.40it/s]\u001b[A\n",
            " 27%|██▋       | 56/208 [00:16<00:44,  3.40it/s]\u001b[A\n",
            " 27%|██▋       | 57/208 [00:17<00:44,  3.42it/s]\u001b[A\n",
            " 28%|██▊       | 58/208 [00:17<00:44,  3.37it/s]\u001b[A\n",
            " 28%|██▊       | 59/208 [00:17<00:42,  3.48it/s]\u001b[A\n",
            " 29%|██▉       | 60/208 [00:18<00:43,  3.41it/s]\u001b[A\n",
            " 29%|██▉       | 61/208 [00:18<00:44,  3.32it/s]\u001b[A\n",
            " 30%|██▉       | 62/208 [00:18<00:42,  3.40it/s]\u001b[A\n",
            " 30%|███       | 63/208 [00:19<00:44,  3.29it/s]\u001b[A\n",
            " 31%|███       | 64/208 [00:19<00:43,  3.34it/s]\u001b[A\n",
            " 31%|███▏      | 65/208 [00:19<00:43,  3.29it/s]\u001b[A\n",
            " 32%|███▏      | 66/208 [00:19<00:42,  3.33it/s]\u001b[A\n",
            " 32%|███▏      | 67/208 [00:20<00:41,  3.39it/s]\u001b[A\n",
            " 33%|███▎      | 68/208 [00:20<00:40,  3.45it/s]\u001b[A\n",
            " 33%|███▎      | 69/208 [00:20<00:42,  3.27it/s]\u001b[A\n",
            " 34%|███▎      | 70/208 [00:21<00:43,  3.18it/s]\u001b[A\n",
            " 34%|███▍      | 71/208 [00:21<00:42,  3.21it/s]\u001b[A\n",
            " 35%|███▍      | 72/208 [00:21<00:41,  3.26it/s]\u001b[A\n",
            " 35%|███▌      | 73/208 [00:22<00:40,  3.33it/s]\u001b[A\n",
            " 36%|███▌      | 74/208 [00:22<00:41,  3.25it/s]\u001b[A\n",
            " 36%|███▌      | 75/208 [00:22<00:40,  3.30it/s]\u001b[A\n",
            " 37%|███▋      | 76/208 [00:23<00:40,  3.30it/s]\u001b[A\n",
            " 37%|███▋      | 77/208 [00:23<00:39,  3.32it/s]\u001b[A\n",
            " 38%|███▊      | 78/208 [00:23<00:38,  3.37it/s]\u001b[A\n",
            " 38%|███▊      | 79/208 [00:23<00:37,  3.43it/s]\u001b[A\n",
            " 38%|███▊      | 80/208 [00:24<00:38,  3.31it/s]\u001b[A\n",
            " 39%|███▉      | 81/208 [00:24<00:37,  3.40it/s]\u001b[A\n",
            " 39%|███▉      | 82/208 [00:24<00:38,  3.26it/s]\u001b[A\n",
            " 40%|███▉      | 83/208 [00:25<00:39,  3.14it/s]\u001b[A\n",
            " 40%|████      | 84/208 [00:25<00:39,  3.14it/s]\u001b[A\n",
            " 41%|████      | 85/208 [00:25<00:37,  3.26it/s]\u001b[A\n",
            " 41%|████▏     | 86/208 [00:26<00:37,  3.27it/s]\u001b[A\n",
            " 42%|████▏     | 87/208 [00:26<00:36,  3.31it/s]\u001b[A\n",
            " 42%|████▏     | 88/208 [00:26<00:35,  3.38it/s]\u001b[A\n",
            " 43%|████▎     | 89/208 [00:26<00:36,  3.30it/s]\u001b[A\n",
            " 43%|████▎     | 90/208 [00:27<00:35,  3.35it/s]\u001b[A\n",
            " 44%|████▍     | 91/208 [00:27<00:35,  3.31it/s]\u001b[A\n",
            " 44%|████▍     | 92/208 [00:27<00:35,  3.24it/s]\u001b[A\n",
            " 45%|████▍     | 93/208 [00:28<00:34,  3.29it/s]\u001b[A\n",
            " 45%|████▌     | 94/208 [00:28<00:35,  3.20it/s]\u001b[A\n",
            " 46%|████▌     | 95/208 [00:28<00:36,  3.11it/s]\u001b[A\n",
            " 46%|████▌     | 96/208 [00:29<00:36,  3.04it/s]\u001b[A\n",
            " 47%|████▋     | 97/208 [00:29<00:36,  3.04it/s]\u001b[A\n",
            " 47%|████▋     | 98/208 [00:29<00:35,  3.09it/s]\u001b[A\n",
            " 48%|████▊     | 99/208 [00:30<00:34,  3.19it/s]\u001b[A\n",
            " 48%|████▊     | 100/208 [00:30<00:33,  3.22it/s]\u001b[A\n",
            " 49%|████▊     | 101/208 [00:30<00:32,  3.31it/s]\u001b[A"
          ],
          "name": "stderr"
        },
        {
          "output_type": "stream",
          "text": [
            "20.721725463867188\n",
            "Jylonedlyo\n",
            "[13, 33, 4, 28, 35, 51, 30, 16, 60, 28]\n",
            "cystmmessy\n",
            "[13, 33, 47, 20, 43, 43, 29, 58, 62, 34]\n",
            "ttereadema\n",
            "[13, 23, 44, 49, 51, 2, 9, 14, 43, 2]\n",
            "nermenthle\n",
            "[13, 8, 18, 50, 10, 52, 41, 63, 16, 15]\n",
            "exeusedent\n",
            "[8, 18, 14, 25, 21, 51, 30, 14, 52, 41]\n"
          ],
          "name": "stdout"
        },
        {
          "output_type": "stream",
          "text": [
            "\n",
            " 49%|████▉     | 102/208 [00:31<00:31,  3.32it/s]\u001b[A\n",
            " 50%|████▉     | 103/208 [00:31<00:33,  3.17it/s]\u001b[A\n",
            " 50%|█████     | 104/208 [00:31<00:32,  3.21it/s]\u001b[A\n",
            " 50%|█████     | 105/208 [00:31<00:31,  3.27it/s]\u001b[A\n",
            " 51%|█████     | 106/208 [00:32<00:31,  3.20it/s]\u001b[A\n",
            " 51%|█████▏    | 107/208 [00:32<00:30,  3.34it/s]\u001b[A\n",
            " 52%|█████▏    | 108/208 [00:32<00:31,  3.21it/s]\u001b[A\n",
            " 52%|█████▏    | 109/208 [00:33<00:30,  3.27it/s]\u001b[A\n",
            " 53%|█████▎    | 110/208 [00:33<00:29,  3.33it/s]\u001b[A\n",
            " 53%|█████▎    | 111/208 [00:33<00:29,  3.30it/s]\u001b[A\n",
            " 54%|█████▍    | 112/208 [00:34<00:28,  3.32it/s]\u001b[A\n",
            " 54%|█████▍    | 113/208 [00:34<00:28,  3.31it/s]\u001b[A\n",
            " 55%|█████▍    | 114/208 [00:34<00:28,  3.24it/s]\u001b[A\n",
            " 55%|█████▌    | 115/208 [00:35<00:29,  3.16it/s]\u001b[A\n",
            " 56%|█████▌    | 116/208 [00:35<00:28,  3.24it/s]\u001b[A\n",
            " 56%|█████▋    | 117/208 [00:35<00:27,  3.30it/s]\u001b[A\n",
            " 57%|█████▋    | 118/208 [00:35<00:26,  3.35it/s]\u001b[A\n",
            " 57%|█████▋    | 119/208 [00:36<00:26,  3.41it/s]\u001b[A\n",
            " 58%|█████▊    | 120/208 [00:36<00:25,  3.42it/s]\u001b[A\n",
            " 58%|█████▊    | 121/208 [00:36<00:26,  3.22it/s]\u001b[A\n",
            " 59%|█████▊    | 122/208 [00:37<00:26,  3.20it/s]\u001b[A\n",
            " 59%|█████▉    | 123/208 [00:37<00:26,  3.24it/s]\u001b[A\n",
            " 60%|█████▉    | 124/208 [00:37<00:25,  3.34it/s]\u001b[A\n",
            " 60%|██████    | 125/208 [00:38<00:24,  3.35it/s]\u001b[A\n",
            " 61%|██████    | 126/208 [00:38<00:24,  3.31it/s]\u001b[A\n",
            " 61%|██████    | 127/208 [00:38<00:25,  3.19it/s]\u001b[A\n",
            " 62%|██████▏   | 128/208 [00:38<00:23,  3.34it/s]\u001b[A\n",
            " 62%|██████▏   | 129/208 [00:39<00:23,  3.41it/s]\u001b[A\n",
            " 62%|██████▎   | 130/208 [00:39<00:24,  3.20it/s]\u001b[A\n",
            " 63%|██████▎   | 131/208 [00:39<00:24,  3.20it/s]\u001b[A\n",
            " 63%|██████▎   | 132/208 [00:40<00:24,  3.15it/s]\u001b[A\n",
            " 64%|██████▍   | 133/208 [00:40<00:23,  3.19it/s]\u001b[A\n",
            " 64%|██████▍   | 134/208 [00:40<00:23,  3.17it/s]\u001b[A\n",
            " 65%|██████▍   | 135/208 [00:41<00:24,  3.01it/s]\u001b[A\n",
            " 65%|██████▌   | 136/208 [00:41<00:23,  3.13it/s]\u001b[A\n",
            " 66%|██████▌   | 137/208 [00:41<00:23,  3.08it/s]\u001b[A\n",
            " 66%|██████▋   | 138/208 [00:42<00:22,  3.06it/s]\u001b[A\n",
            " 67%|██████▋   | 139/208 [00:42<00:21,  3.18it/s]\u001b[A\n",
            " 67%|██████▋   | 140/208 [00:42<00:20,  3.36it/s]\u001b[A\n",
            " 68%|██████▊   | 141/208 [00:42<00:19,  3.44it/s]\u001b[A\n",
            " 68%|██████▊   | 142/208 [00:43<00:19,  3.47it/s]\u001b[A\n",
            " 69%|██████▉   | 143/208 [00:43<00:18,  3.51it/s]\u001b[A\n",
            " 69%|██████▉   | 144/208 [00:43<00:18,  3.51it/s]\u001b[A\n",
            " 70%|██████▉   | 145/208 [00:44<00:18,  3.46it/s]\u001b[A\n",
            " 70%|███████   | 146/208 [00:44<00:18,  3.40it/s]\u001b[A\n",
            " 71%|███████   | 147/208 [00:44<00:17,  3.45it/s]\u001b[A\n",
            " 71%|███████   | 148/208 [00:45<00:18,  3.33it/s]\u001b[A\n",
            " 72%|███████▏  | 149/208 [00:45<00:17,  3.42it/s]\u001b[A\n",
            " 72%|███████▏  | 150/208 [00:45<00:17,  3.41it/s]\u001b[A\n",
            " 73%|███████▎  | 151/208 [00:45<00:16,  3.47it/s]\u001b[A"
          ],
          "name": "stderr"
        },
        {
          "output_type": "stream",
          "text": [
            "20.711017608642578\n",
            "eodermantm\n",
            "[8, 17, 48, 53, 11, 43, 2, 52, 41, 50]\n",
            "amantngler\n",
            "[8, 50, 10, 52, 41, 27, 1, 16, 15, 11]\n",
            "antrylysnt\n",
            "[8, 24, 23, 55, 60, 16, 54, 21, 52, 5]\n",
            "cynreeated\n",
            "[13, 33, 13, 7, 14, 14, 3, 22, 51, 30]\n",
            "beiantledl\n",
            "[13, 7, 56, 2, 52, 41, 16, 15, 31, 16]\n"
          ],
          "name": "stdout"
        },
        {
          "output_type": "stream",
          "text": [
            "\n",
            " 73%|███████▎  | 152/208 [00:46<00:16,  3.43it/s]\u001b[A\n",
            " 74%|███████▎  | 153/208 [00:46<00:15,  3.50it/s]\u001b[A\n",
            " 74%|███████▍  | 154/208 [00:46<00:15,  3.58it/s]\u001b[A\n",
            " 75%|███████▍  | 155/208 [00:47<00:15,  3.51it/s]\u001b[A\n",
            " 75%|███████▌  | 156/208 [00:47<00:14,  3.49it/s]\u001b[A\n",
            " 75%|███████▌  | 157/208 [00:47<00:14,  3.42it/s]\u001b[A\n",
            " 76%|███████▌  | 158/208 [00:47<00:14,  3.46it/s]\u001b[A\n",
            " 76%|███████▋  | 159/208 [00:48<00:13,  3.50it/s]\u001b[A\n",
            " 77%|███████▋  | 160/208 [00:48<00:13,  3.57it/s]\u001b[A\n",
            " 77%|███████▋  | 161/208 [00:48<00:12,  3.68it/s]\u001b[A\n",
            " 78%|███████▊  | 162/208 [00:49<00:13,  3.44it/s]\u001b[A\n",
            " 78%|███████▊  | 163/208 [00:49<00:13,  3.42it/s]\u001b[A\n",
            " 79%|███████▉  | 164/208 [00:49<00:13,  3.37it/s]\u001b[A\n",
            " 79%|███████▉  | 165/208 [00:49<00:12,  3.44it/s]\u001b[A\n",
            " 80%|███████▉  | 166/208 [00:50<00:11,  3.51it/s]\u001b[A\n",
            " 80%|████████  | 167/208 [00:50<00:11,  3.44it/s]\u001b[A\n",
            " 81%|████████  | 168/208 [00:50<00:11,  3.48it/s]\u001b[A\n",
            " 81%|████████▏ | 169/208 [00:51<00:11,  3.45it/s]\u001b[A\n",
            " 82%|████████▏ | 170/208 [00:51<00:11,  3.35it/s]\u001b[A\n",
            " 82%|████████▏ | 171/208 [00:51<00:11,  3.33it/s]\u001b[A\n",
            " 83%|████████▎ | 172/208 [00:52<00:11,  3.25it/s]\u001b[A\n",
            " 83%|████████▎ | 173/208 [00:52<00:10,  3.28it/s]\u001b[A\n",
            " 84%|████████▎ | 174/208 [00:52<00:10,  3.32it/s]\u001b[A\n",
            " 84%|████████▍ | 175/208 [00:52<00:10,  3.20it/s]\u001b[A\n",
            " 85%|████████▍ | 176/208 [00:53<00:09,  3.32it/s]\u001b[A\n",
            " 85%|████████▌ | 177/208 [00:53<00:09,  3.36it/s]\u001b[A\n",
            " 86%|████████▌ | 178/208 [00:53<00:08,  3.38it/s]\u001b[A\n",
            " 86%|████████▌ | 179/208 [00:54<00:08,  3.43it/s]\u001b[A\n",
            " 87%|████████▋ | 180/208 [00:54<00:08,  3.41it/s]\u001b[A\n",
            " 87%|████████▋ | 181/208 [00:54<00:08,  3.37it/s]\u001b[A\n",
            " 88%|████████▊ | 182/208 [00:54<00:07,  3.34it/s]\u001b[A\n",
            " 88%|████████▊ | 183/208 [00:55<00:07,  3.33it/s]\u001b[A\n",
            " 88%|████████▊ | 184/208 [00:55<00:07,  3.36it/s]\u001b[A\n",
            " 89%|████████▉ | 185/208 [00:55<00:06,  3.46it/s]\u001b[A\n",
            " 89%|████████▉ | 186/208 [00:56<00:06,  3.38it/s]\u001b[A\n",
            " 90%|████████▉ | 187/208 [00:56<00:06,  3.32it/s]\u001b[A\n",
            " 90%|█████████ | 188/208 [00:56<00:06,  3.28it/s]\u001b[A\n",
            " 91%|█████████ | 189/208 [00:57<00:05,  3.37it/s]\u001b[A\n",
            " 91%|█████████▏| 190/208 [00:57<00:05,  3.28it/s]\u001b[A\n",
            " 92%|█████████▏| 191/208 [00:57<00:05,  3.19it/s]\u001b[A\n",
            " 92%|█████████▏| 192/208 [00:58<00:05,  3.18it/s]\u001b[A\n",
            " 93%|█████████▎| 193/208 [00:58<00:04,  3.09it/s]\u001b[A\n",
            " 93%|█████████▎| 194/208 [00:58<00:04,  3.19it/s]\u001b[A\n",
            " 94%|█████████▍| 195/208 [00:58<00:04,  3.23it/s]\u001b[A\n",
            " 94%|█████████▍| 196/208 [00:59<00:03,  3.23it/s]\u001b[A\n",
            " 95%|█████████▍| 197/208 [00:59<00:03,  3.31it/s]\u001b[A\n",
            " 95%|█████████▌| 198/208 [00:59<00:03,  3.33it/s]\u001b[A\n",
            " 96%|█████████▌| 199/208 [01:00<00:02,  3.29it/s]\u001b[A\n",
            " 96%|█████████▌| 200/208 [01:00<00:02,  3.25it/s]\u001b[A\n",
            " 97%|█████████▋| 201/208 [01:00<00:02,  3.28it/s]\u001b[A"
          ],
          "name": "stderr"
        },
        {
          "output_type": "stream",
          "text": [
            "20.578718185424805\n",
            "peuzygyade\n",
            "[13, 7, 8, 45, 46, 50, 57, 2, 9, 14]\n",
            "niasyencys\n",
            "[13, 56, 40, 21, 46, 10, 52, 9, 57, 21]\n",
            "cytoroncat\n",
            "[13, 33, 5, 53, 11, 28, 12, 37, 3, 22]\n",
            "tenthtlyng\n",
            "[13, 10, 52, 41, 63, 41, 16, 60, 27, 6]\n",
            "tpanceonac\n",
            "[13, 13, 2, 52, 9, 14, 28, 35, 2, 9]\n"
          ],
          "name": "stdout"
        },
        {
          "output_type": "stream",
          "text": [
            "\n",
            " 97%|█████████▋| 202/208 [01:01<00:01,  3.32it/s]\u001b[A\n",
            " 98%|█████████▊| 203/208 [01:01<00:01,  3.32it/s]\u001b[A\n",
            " 98%|█████████▊| 204/208 [01:01<00:01,  3.23it/s]\u001b[A\n",
            " 99%|█████████▊| 205/208 [01:01<00:00,  3.34it/s]\u001b[A\n",
            " 99%|█████████▉| 206/208 [01:02<00:00,  3.28it/s]\u001b[A\n",
            "100%|█████████▉| 207/208 [01:02<00:00,  3.28it/s]\u001b[A\n",
            "100%|██████████| 208/208 [01:02<00:00,  4.01it/s]\u001b[A\n",
            "\u001b[A"
          ],
          "name": "stderr"
        },
        {
          "output_type": "stream",
          "text": [
            "20.349124908447266\n",
            "ironyYglya\n",
            "[8, 18, 28, 12, 60, 27, 1, 16, 46, 2]\n",
            "========= Results: epoch 10 of 10 =========\n",
            "train loss: 20.32| valid loss: 20.36\n",
            "\n"
          ],
          "name": "stdout"
        }
      ]
    },
    {
      "cell_type": "markdown",
      "metadata": {
        "id": "zymBj9QrDHRM",
        "colab_type": "text"
      },
      "source": [
        "You may wish to try different values of $N$ and see what the impact on sample quality is. \n",
        "\n",
        "It's also interesting to look at the visited states; for instance, I find that the model almost always picks one of two states as the initial state, and often uses one of these states to emit vowels and the other to emit consonants, without our having programmed this behavior. Neat!"
      ]
    },
    {
      "cell_type": "markdown",
      "metadata": {
        "id": "7eZeQXWjhDev",
        "colab_type": "text"
      },
      "source": [
        "## Conclusion\n",
        "\n",
        "HMMs used to be very popular in natural language processing, but they have largely been overshadowed by neural network models like RNNs. The reason is that whereas HMMs have a one-hot state, neural networks have a distributed state; in the limit, an HMM can model anything that a RNN can, but [the number of HMM states required to emulate an RNN hidden state grows extremely quickly](https://youtu.be/9T2X6WRUwFU?t=631).\n",
        "\n",
        "Still, it is fun and instructive to study the HMM; some commonly used machine learning techniques like [Connectionist Temporal Classification](https://www.cs.toronto.edu/~graves/icml_2006.pdf) are inspired by HMM methods. And HMMs are [definitely still used in speech recognition](https://arxiv.org/abs/1811.07453), where the assumption of a one-hot state makes sense for modelling phonemes."
      ]
    },
    {
      "cell_type": "markdown",
      "metadata": {
        "id": "gXQOBz5zqe10",
        "colab_type": "text"
      },
      "source": [
        "## Acknowledgments\n",
        "\n",
        "This notebook is based partly on Lawrence Rabiner's excellent article \"[A Tutorial on Hidden Markov Models and Selected Applications in Speech Recognition](https://www.cs.cmu.edu/~cga/behavior/rabiner1.pdf)\", which you may also like to check out. Thanks also to (insert names) for their feedback on the draft."
      ]
    }
  ]
}