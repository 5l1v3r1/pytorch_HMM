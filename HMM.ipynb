{
  "nbformat": 4,
  "nbformat_minor": 0,
  "metadata": {
    "colab": {
      "name": "HMM.ipynb",
      "provenance": []
    },
    "kernelspec": {
      "name": "python3",
      "display_name": "Python 3"
    },
    "accelerator": "GPU"
  },
  "cells": [
    {
      "cell_type": "markdown",
      "metadata": {
        "id": "lDJIV2EVBuFZ",
        "colab_type": "text"
      },
      "source": [
        "# Fun with Hidden Markov Models\n",
        "*by Loren Lugosch*"
      ]
    },
    {
      "cell_type": "markdown",
      "metadata": {
        "id": "_rWFkdjYOlk8",
        "colab_type": "text"
      },
      "source": [
        "This notebook introduces the Hidden Markov Model (HMM), a simple model for sequential data.\n",
        "\n",
        "We will see:\n",
        "- what an HMM is and when you might want to use it;\n",
        "- the so-called \"three problems\" of an HMM; and \n",
        "- how to implement an HMM in PyTorch.\n",
        "\n",
        "(The code in this notebook can also be found at https://github.com/lorenlugosch/pytorch_HMM.)"
      ]
    },
    {
      "cell_type": "markdown",
      "metadata": {
        "id": "efPPcGy0gP6H",
        "colab_type": "text"
      },
      "source": [
        "A hypothetical scenario\n",
        "------\n",
        "\n",
        "To motivate the use of HMMs, imagine that you have a friend who gets to do a lot of travelling. Every day, this jet-setting friend sends you a selfie from the city they’re in, to make you envious."
      ]
    },
    {
      "cell_type": "markdown",
      "metadata": {
        "id": "Cs3z7pnVib9g",
        "colab_type": "text"
      },
      "source": [
        "<center>\n",
        "\n",
        "![Diagram of a traveling friend sending selfies](https://github.com/lorenlugosch/pytorch_HMM/blob/master/img/selfies.png?raw=true)\n",
        "</center>\n",
        "\n",
        "\n",
        "\n"
      ]
    },
    {
      "cell_type": "markdown",
      "metadata": {
        "id": "hTPNK3IjirDA",
        "colab_type": "text"
      },
      "source": [
        "How would you go about guessing which city the friend is in each day, just by looking at the selfies?\n",
        "\n",
        "If the selfie contains a really obvious landmark, like the Eiffel Tower, it will be easy to figure out where the photo was taken. If not, it will be a lot harder to infer the city.\n",
        "\n",
        "But we have a clue to help us: the city the friend is in each day is not totally random. For example, the friend will probably remain in the same city for a few days to sightsee before flying to a new city."
      ]
    },
    {
      "cell_type": "markdown",
      "metadata": {
        "id": "k4g7IG7CBx-Y",
        "colab_type": "text"
      },
      "source": [
        "## The HMM setup\n",
        "\n",
        "The hypothetical scenario of the friend travelling between cities and sending you selfies can be modeled using an HMM.\n"
      ]
    },
    {
      "cell_type": "markdown",
      "metadata": {
        "id": "NpwgbDTnRzRa",
        "colab_type": "text"
      },
      "source": [
        "An HMM models a system that is in a particular state at any given time and produces an output that depends on that state. \n",
        "\n",
        "At each timestep or clock tick, the system randomly decides on a new state and jumps into that state. The system then randomly generates an observation. The states are \"hidden\": we can't observe them. (In the cities/selfies analogy, the unknown cities would be the hidden states, and the selfies would be the observations.)\n",
        "\n",
        "Let's denote the sequence of states as $\\mathbf{z} = \\{z_1, z_2, \\dots, z_T \\}$, where each state is one of a finite set of $N$ states, and the sequence of observations as $\\mathbf{x} = \\{x_1, x_2, \\dots, x_T\\}$. The observations could be discrete, like letters, or real-valued, like audio frames."
      ]
    },
    {
      "cell_type": "markdown",
      "metadata": {
        "id": "uV5fAhEQDAcJ",
        "colab_type": "text"
      },
      "source": [
        "<center>\n",
        "\n",
        "![Diagram of an HMM for three timesteps](https://github.com/lorenlugosch/pytorch_HMM/blob/master/img/hmm.png?raw=true)\n",
        "</center>"
      ]
    },
    {
      "cell_type": "markdown",
      "metadata": {
        "id": "vMPrA6Uv-u-K",
        "colab_type": "text"
      },
      "source": [
        "An HMM makes two key assumptions:\n",
        "- **Assumption 1:** The state at time $t$ depends *only* on the state at the previous time $t-1$. \n",
        "- **Assumption 2:** The output at time $t$ depends *only* on the state at time $t$.\n",
        "\n",
        "These two assumptions make it possible to efficiently compute certain quantities that we may be interested in."
      ]
    },
    {
      "cell_type": "markdown",
      "metadata": {
        "id": "mRNhSK7LgEIS",
        "colab_type": "text"
      },
      "source": [
        "## Components of an HMM\n",
        "An HMM has three sets of trainable parameters.\n",
        "  \n"
      ]
    },
    {
      "cell_type": "markdown",
      "metadata": {
        "id": "7Pu3zm77vXwp",
        "colab_type": "text"
      },
      "source": [
        "- The **transition model** is a square matrix $A$, where $A_{s, s'}$ represents $p(z_t = s|z_{t-1} = s')$, the probability of jumping from state $s'$ to state $s$. \n",
        "\n",
        "- The **emission model** $b_s(x_t)$ tells us $p(x_t|z_t = s)$, the probability of generating $x_t$ when the system is in state $s$. For discrete observations, which we will use in this notebook, the emission model is just a lookup table, with one row for each state, and one column for each observation. For real-valued observations, it is common to use a Gaussian mixture model or neural network to implement the emission model. \n",
        "\n",
        "- The **state priors** tell us $p(z_1 = s)$, the probability of starting in state $s$. We use $\\pi$ to denote the vector of state priors, so $\\pi_s$ is the state prior for state $s$.\n",
        "\n",
        "Let's program an HMM class in PyTorch."
      ]
    },
    {
      "cell_type": "code",
      "metadata": {
        "id": "aZbW6Pj0og7K",
        "colab_type": "code",
        "colab": {}
      },
      "source": [
        "import torch\n",
        "import numpy as np\n",
        "\n",
        "class HMM(torch.nn.Module):\n",
        "  \"\"\"\n",
        "  Hidden Markov Model with discrete observations.\n",
        "  \"\"\"\n",
        "  def __init__(self, M, N):\n",
        "    super(HMM, self).__init__()\n",
        "    self.M = M # number of possible observations\n",
        "    self.N = N # number of states\n",
        "\n",
        "    # A\n",
        "    self.transition_model = TransitionModel(self.N)\n",
        "\n",
        "    # b(x_t)\n",
        "    self.emission_model = EmissionModel(self.N,self.M)\n",
        "\n",
        "    # pi\n",
        "    self.unnormalized_state_priors = torch.nn.Parameter(torch.randn(self.N))\n",
        "\n",
        "    # use the GPU\n",
        "    self.is_cuda = torch.cuda.is_available()\n",
        "    if self.is_cuda: self.cuda()\n",
        "\n",
        "class TransitionModel(torch.nn.Module):\n",
        "  def __init__(self, N):\n",
        "    super(TransitionModel, self).__init__()\n",
        "    self.N = N\n",
        "    self.unnormalized_transition_matrix = torch.nn.Parameter(torch.randn(N,N))\n",
        "\n",
        "class EmissionModel(torch.nn.Module):\n",
        "  def __init__(self, N, M):\n",
        "    super(EmissionModel, self).__init__()\n",
        "    self.N = N\n",
        "    self.M = M\n",
        "    self.unnormalized_emission_matrix = torch.nn.Parameter(torch.randn(N,M))"
      ],
      "execution_count": 0,
      "outputs": []
    },
    {
      "cell_type": "markdown",
      "metadata": {
        "id": "eom3ueYtpXGo",
        "colab_type": "text"
      },
      "source": [
        "To sample from the HMM, we start by picking a random initial state from the state prior distribution.\n",
        "\n",
        "Then, we sample an output from the emission distribution, sample a transition from the transition distribution, and repeat.\n",
        "\n",
        "(Notice that we pass the unnormalized model parameters through a softmax function to make them into probabilities.)\n"
      ]
    },
    {
      "cell_type": "code",
      "metadata": {
        "id": "BpgkwNyVwmyM",
        "colab_type": "code",
        "colab": {}
      },
      "source": [
        "def sample(self, T=10):\n",
        "  state_priors = torch.nn.functional.softmax(self.unnormalized_state_priors, dim=0)\n",
        "  transition_matrix = torch.nn.functional.softmax(self.transition_model.unnormalized_transition_matrix, dim=1)\n",
        "  emission_matrix = torch.nn.functional.softmax(self.emission_model.unnormalized_emission_matrix, dim=1)\n",
        "\n",
        "  # sample initial state\n",
        "  z_t = torch.distributions.categorical.Categorical(state_priors).sample().item()\n",
        "  z = []; x = []\n",
        "  z.append(z_t)\n",
        "  for t in range(0,T):\n",
        "    # sample emission\n",
        "    x_t = torch.distributions.categorical.Categorical(emission_matrix[z_t]).sample().item()\n",
        "    x.append(x_t)\n",
        "\n",
        "    # sample transition\n",
        "    z_t = torch.distributions.categorical.Categorical(transition_matrix[:,z_t]).sample().item()\n",
        "    if t < T-1: z.append(z_t)\n",
        "\n",
        "  return x, z\n",
        "\n",
        "# Add the sampling method to our HMM class\n",
        "HMM.sample = sample"
      ],
      "execution_count": 0,
      "outputs": []
    },
    {
      "cell_type": "markdown",
      "metadata": {
        "id": "ohsdYScawkRG",
        "colab_type": "text"
      },
      "source": [
        "Let's try hard-coding an HMM for generating fake words. (We'll also add some helper functions for encoding and decoding strings.)\n",
        "\n",
        "We will assume that the system has one state for generating vowels and one state for generating consonants, and the transition matrix has 0s on the diagonal---in other words, the system cannot stay in the vowel state or the consonant state for one than one timestep; it has to switch.\n",
        "\n",
        "Since we pass the transition matrix through a softmax, to get 0s we set the unnormalized parameter values to $-\\infty$."
      ]
    },
    {
      "cell_type": "code",
      "metadata": {
        "id": "eyR7yv_3sBG3",
        "colab_type": "code",
        "outputId": "638cc4e1-e968-4445-dbe1-e989622f8895",
        "colab": {
          "base_uri": "https://localhost:8080/",
          "height": 187
        }
      },
      "source": [
        "import string\n",
        "alphabet = string.ascii_lowercase\n",
        "\n",
        "def encode(s):\n",
        "  \"\"\"\n",
        "  Convert a string into a list of integers\n",
        "  \"\"\"\n",
        "  x = [alphabet.index(ss) for ss in s]\n",
        "  return x\n",
        "\n",
        "def decode(x):\n",
        "  \"\"\"\n",
        "  Convert list of ints to string\n",
        "  \"\"\"\n",
        "  s = \"\".join([alphabet[xx] for xx in x])\n",
        "  return s\n",
        "\n",
        "# Initialize the model\n",
        "model = HMM(M=len(alphabet), N=2) \n",
        "\n",
        "# Hard-wiring the parameters!\n",
        "# Let state 0 = consonant, state 1 = vowel\n",
        "model.unnormalized_state_priors[0] = 0.    # Let's start with a consonant more frequently\n",
        "model.unnormalized_state_priors[1] = -0.5\n",
        "print(\"State priors:\", torch.nn.functional.softmax(model.unnormalized_state_priors, dim=0))\n",
        "\n",
        "# In state 0, only allow consonants; in state 1, only allow vowels\n",
        "vowel_indices = torch.tensor([alphabet.index(letter) for letter in \"aeiou\"])\n",
        "consonant_indices = torch.tensor([alphabet.index(letter) for letter in \"bcdfghjklmnpqrstvwxyz\"])\n",
        "model.emission_model.unnormalized_emission_matrix[0, vowel_indices] = -np.inf\n",
        "model.emission_model.unnormalized_emission_matrix[1, consonant_indices] = -np.inf \n",
        "print(\"Emission matrix:\", torch.nn.functional.softmax(model.emission_model.unnormalized_emission_matrix, dim=1))\n",
        "\n",
        "# Only allow vowel -> consonant and consonant -> vowel\n",
        "model.transition_model.unnormalized_transition_matrix[0,0] = -np.inf  # consonant -> consonant\n",
        "model.transition_model.unnormalized_transition_matrix[0,1] = 0.       # vowel -> consonant\n",
        "model.transition_model.unnormalized_transition_matrix[1,0] = 0.       # consonant -> vowel\n",
        "model.transition_model.unnormalized_transition_matrix[1,1] = -np.inf  # vowel -> vowel\n",
        "print(\"Transition matrix:\", torch.nn.functional.softmax(model.transition_model.unnormalized_transition_matrix, dim=1))\n",
        "\n"
      ],
      "execution_count": 0,
      "outputs": [
        {
          "output_type": "stream",
          "text": [
            "State priors: tensor([0.6225, 0.3775], device='cuda:0', grad_fn=<SoftmaxBackward>)\n",
            "Emission matrix: tensor([[0.0000, 0.0526, 0.1665, 0.0306, 0.0000, 0.0402, 0.0149, 0.0546, 0.0000,\n",
            "         0.0745, 0.0065, 0.0053, 0.0156, 0.0603, 0.0000, 0.0412, 0.0349, 0.0122,\n",
            "         0.0176, 0.0059, 0.0000, 0.0348, 0.0490, 0.0102, 0.2230, 0.0496],\n",
            "        [0.0406, 0.0000, 0.0000, 0.0000, 0.3271, 0.0000, 0.0000, 0.0000, 0.3759,\n",
            "         0.0000, 0.0000, 0.0000, 0.0000, 0.0000, 0.1414, 0.0000, 0.0000, 0.0000,\n",
            "         0.0000, 0.0000, 0.1150, 0.0000, 0.0000, 0.0000, 0.0000, 0.0000]],\n",
            "       device='cuda:0', grad_fn=<SoftmaxBackward>)\n",
            "Transition matrix: tensor([[0., 1.],\n",
            "        [1., 0.]], device='cuda:0', grad_fn=<SoftmaxBackward>)\n"
          ],
          "name": "stdout"
        }
      ]
    },
    {
      "cell_type": "markdown",
      "metadata": {
        "id": "KFaYq8jDttmi",
        "colab_type": "text"
      },
      "source": [
        "Try sampling from our hard-coded model:\n"
      ]
    },
    {
      "cell_type": "code",
      "metadata": {
        "id": "8latFMD7ua0X",
        "colab_type": "code",
        "outputId": "47600903-d6a0-4ef2-8557-f34741ba8276",
        "colab": {
          "base_uri": "https://localhost:8080/",
          "height": 153
        }
      },
      "source": [
        "# Sample some outputs\n",
        "for _ in range(4):\n",
        "  sampled_x, sampled_z = model.sample(T=5)\n",
        "  print(\"x:\", decode(sampled_x))\n",
        "  print(\"z:\", sampled_z)"
      ],
      "execution_count": 0,
      "outputs": [
        {
          "output_type": "stream",
          "text": [
            "x: enoje\n",
            "z: [1, 0, 1, 0, 1]\n",
            "x: iveni\n",
            "z: [1, 0, 1, 0, 1]\n",
            "x: fiyic\n",
            "z: [0, 1, 0, 1, 0]\n",
            "x: liciw\n",
            "z: [0, 1, 0, 1, 0]\n"
          ],
          "name": "stdout"
        }
      ]
    },
    {
      "cell_type": "markdown",
      "metadata": {
        "id": "hKzlTlfRgZod",
        "colab_type": "text"
      },
      "source": [
        "## The Three Problems\n",
        "\n",
        "In a [classic tutorial](https://www.cs.cmu.edu/~cga/behavior/rabiner1.pdf) on HMMs, Lawrence Rabiner describes \"three problems\" that need to be solved before you can effectively use an HMM. They are:\n",
        "- Problem 1: How do we efficiently compute $p(\\mathbf{x})$?\n",
        "- Problem 2: How do we find the most likely state sequence $\\mathbf{z}$ that could have generated the data? \n",
        "- Problem 3: How do we train the model?\n",
        "\n",
        "In the rest of the notebook, we will see how to solve each problem and implement the solutions in PyTorch."
      ]
    },
    {
      "cell_type": "markdown",
      "metadata": {
        "id": "v_RfIAnmN2RZ",
        "colab_type": "text"
      },
      "source": [
        "### Problem 1: How do we compute $p(\\mathbf{x})$?"
      ]
    },
    {
      "cell_type": "markdown",
      "metadata": {
        "id": "Z3zUUYH0giKV",
        "colab_type": "text"
      },
      "source": [
        "\n",
        "#### *Why?*\n",
        "Why might we care about computing $p(\\mathbf{x})$? Here's two reasons.\n",
        "* Given two HMMs, $\\theta_1$ and $\\theta_2$, we can compute the likelihood of some data $\\mathbf{x}$ under each model, $p_{\\theta_1}(\\mathbf{x})$ and $p_{\\theta_2}(\\mathbf{x})$, to decide which model is a better fit to the data. \n",
        "\n",
        "  (For example, given an HMM for English speech and an HMM for French speech, we could compute the likelihood given each model, and pick the model with the higher likelihood to infer whether the person is speaking English or French.)\n",
        "* Being able to compute $p(\\mathbf{x})$ gives us a way to train the model, as we will see later.\n",
        "\n",
        "#### *How?*\n",
        "Given that we want $p(\\mathbf{x})$, how do we compute it?\n",
        "\n",
        "We've assumed that the data is generated by visiting some sequence of states $\\mathbf{z}$ and picking an output $x_t$ for each $z_t$ from the emission distribution $p(x_t|z_t)$. So if we knew $\\mathbf{z}$, then the probability of $\\mathbf{x}$ could be computed as follows:\n",
        "\n",
        "$$p(\\mathbf{x}|\\mathbf{z}) = \\prod_{t} p(x_t|z_t) p(z_t|z_{t-1})$$\n",
        "\n",
        "However, we don't know $\\mathbf{z}$; it's hidden. But we do know the probability of any given $\\mathbf{z}$, independent of what we observe. So we could get the probability of $\\mathbf{x}$ by summing over the different possibilities for $\\mathbf{z}$, like this:\n",
        "\n",
        "$$p(\\mathbf{x}) = \\sum_{\\mathbf{z}} p(\\mathbf{x}|\\mathbf{z}) p(\\mathbf{z}) = \\sum_{\\mathbf{z}} \\prod_{t} p(x_t|z_t) p(z_t|z_{t-1})$$\n",
        "\n",
        "The problem is: if you try to take that sum directly, you will need to compute $N^T$ terms. This is impossible to do for anything but very short sequences. For example, let's say the sequence is of length $T=100$ and there are $N=2$ possible states. Then we would need to check $N^T = 2^{100} \\approx 10^{30}$ different possible state sequences.\n",
        "\n",
        "We need a way to compute $p(\\mathbf{x})$ that doesn't require us to explicitly calculate all $N^T$ terms. For this, we use the forward algorithm."
      ]
    },
    {
      "cell_type": "markdown",
      "metadata": {
        "id": "DrH0YdUAhS6J",
        "colab_type": "text"
      },
      "source": [
        "________\n",
        "\n",
        "<u><b>The Forward Algorithm</b></u>\n",
        "\n",
        "> for $s=1 \\rightarrow N$:\\\n",
        "> &nbsp;&nbsp;&nbsp;&nbsp;&nbsp;&nbsp;$\\alpha_{s,1} := b_s(x_1) \\cdot \\pi_s$ \n",
        "> \n",
        "> for $t = 2 \\rightarrow T$:\\\n",
        "> &nbsp;&nbsp;&nbsp;&nbsp;&nbsp;&nbsp;for $s = 1 \\rightarrow N$:\\\n",
        "> &nbsp;&nbsp;&nbsp;&nbsp;&nbsp;&nbsp;&nbsp;&nbsp;&nbsp;&nbsp;&nbsp;&nbsp;\n",
        "> $\\alpha_{s,t} := b_s(x_t) \\cdot \\underset{s'}{\\sum} A_{s, s'} \\cdot \\alpha_{s',t-1} $\n",
        "> \n",
        "> $p(\\mathbf{x}) := \\underset{s}{\\sum} \\alpha_{s,T}$\\\n",
        "> return $p(\\mathbf{x})$\n",
        "________\n"
      ]
    },
    {
      "cell_type": "markdown",
      "metadata": {
        "id": "bAdpwRiMn8Vn",
        "colab_type": "text"
      },
      "source": [
        "The forward algorithm is much faster than enumerating all $N^T$ possible state sequences: it requires only $O(N^2T)$ operations to run, since each step is mostly multiplying the vector of forward variables by the transition matrix. (And very often we can reduce that complexity even further, if the transition matrix is sparse.)\n",
        "\n",
        "There is one practical problem with the forward algorithm as presented above: it is prone to underflow due to multiplying a long chain of small numbers, since probabilities are always between 0 and 1. Instead, let's do everything in the log domain. In the log domain, a multiplication becomes a sum, and a sum becomes a [logsumexp](https://en.wikipedia.org/wiki/LogSumExp).  "
      ]
    },
    {
      "cell_type": "markdown",
      "metadata": {
        "id": "FZ8VsLFxA3iT",
        "colab_type": "text"
      },
      "source": [
        "________\n",
        "\n",
        "<u><b>The Forward Algorithm (Log Domain)</b></u>\n",
        "\n",
        "> for $s=1 \\rightarrow N$:\\\n",
        "> &nbsp;&nbsp;&nbsp;&nbsp;&nbsp;&nbsp;$\\text{log }\\alpha_{s,1} := \\text{log }b_s(x_1) + \\text{log }\\pi_s$ \n",
        "> \n",
        "> for $t = 2 \\rightarrow T$:\\\n",
        "> &nbsp;&nbsp;&nbsp;&nbsp;&nbsp;&nbsp;for $s = 1 \\rightarrow N$:\\\n",
        "> &nbsp;&nbsp;&nbsp;&nbsp;&nbsp;&nbsp;&nbsp;&nbsp;&nbsp;&nbsp;&nbsp;&nbsp;\n",
        "> $\\text{log }\\alpha_{s,t} := \\text{log }b_s(x_t) +  \\underset{s'}{\\text{logsumexp}} \\left( \\text{log }A_{s, s'} + \\text{log }\\alpha_{s',t-1} \\right)$\n",
        "> \n",
        "> $\\text{log }p(\\mathbf{x}) := \\underset{s}{\\text{logsumexp}} \\left( \\text{log }\\alpha_{s,T} \\right)$\\\n",
        "> return $\\text{log }p(\\mathbf{x})$\n",
        "________"
      ]
    },
    {
      "cell_type": "markdown",
      "metadata": {
        "id": "g55ik6ZCEiJU",
        "colab_type": "text"
      },
      "source": [
        "Now that we have a numerically stable version of the forward algorithm, let's implement it in PyTorch. "
      ]
    },
    {
      "cell_type": "code",
      "metadata": {
        "id": "3CMdK1EfE1SJ",
        "colab_type": "code",
        "colab": {}
      },
      "source": [
        "def HMM_forward(self, x, T):\n",
        "  \"\"\"\n",
        "  x : IntTensor of shape (batch size, T_max)\n",
        "  T : IntTensor of shape (batch size)\n",
        "\n",
        "  Compute log p(x) for each example in the batch.\n",
        "  T = length of each example\n",
        "  \"\"\"\n",
        "  if self.is_cuda:\n",
        "  \tx = x.cuda()\n",
        "  \tT = T.cuda()\n",
        "\n",
        "  batch_size = x.shape[0]; T_max = x.shape[1]\n",
        "  log_state_priors = torch.nn.functional.log_softmax(self.unnormalized_state_priors, dim=0)\n",
        "  log_alpha = torch.zeros(batch_size, T_max, self.N)\n",
        "  if self.is_cuda: log_alpha = log_alpha.cuda()\n",
        "\n",
        "  log_alpha[:, 0, :] = self.emission_model(x[:,0]) + log_state_priors\n",
        "  for t in range(1, T_max):\n",
        "    log_alpha[:, t, :] = self.emission_model(x[:,t]) + self.transition_model(log_alpha[:, t-1, :])\n",
        "\n",
        "  # Select the sum for the final timestep (each x may have different length).\n",
        "  log_sums = log_alpha.logsumexp(dim=2)\n",
        "  log_probs = torch.gather(log_sums, 1, T.view(-1,1) - 1)\n",
        "  return log_probs\n",
        "\n",
        "def emission_model_forward(self, x_t):\n",
        "  log_emission_matrix = torch.nn.functional.log_softmax(self.unnormalized_emission_matrix, dim=1)\n",
        "  out = log_emission_matrix[:, x_t].transpose(0,1)\n",
        "  return out\n",
        "\n",
        "def transition_model_forward(self, log_alpha):\n",
        "  \"\"\"\n",
        "  log_alpha : Tensor of shape (batch size, N)\n",
        "  Multiply previous timestep's alphas by transition matrix (in log domain)\n",
        "  \"\"\"\n",
        "  log_transition_matrix = torch.nn.functional.log_softmax(self.unnormalized_transition_matrix, dim=1)\n",
        "\n",
        "  # Matrix multiplication in the log domain\n",
        "  out = log_domain_matmul(log_transition_matrix, log_alpha.transpose(0,1)).transpose(0,1)\n",
        "  return out\n",
        "\n",
        "def log_domain_matmul(log_A, log_B):\n",
        "\t\"\"\"\n",
        "\tlog_A : m x n\n",
        "\tlog_B : n x p\n",
        "\toutput : m x p matrix\n",
        "\n",
        "\tNormally, a matrix multiplication\n",
        "\tcomputes out_{i,j} = sum_k A_{i,k} x B_{k,j}\n",
        "\n",
        "\tA log domain matrix multiplication\n",
        "\tcomputes out_{i,j} = logsumexp_k log_A_{i,k} + log_B_{k,j}\n",
        "\t\"\"\"\n",
        "\tm = log_A.shape[0]\n",
        "\tn = log_A.shape[1]\n",
        "\tp = log_B.shape[1]\n",
        "\n",
        "\tlog_A_expanded = torch.stack([log_A] * p, dim=2)\n",
        "\tlog_B_expanded = torch.stack([log_B] * m, dim=0)\n",
        "\n",
        "\telementwise_sum = log_A_expanded + log_B_expanded\n",
        "\tout = torch.logsumexp(elementwise_sum, dim=1)\n",
        "\n",
        "\treturn out\n",
        "\n",
        "TransitionModel.forward = transition_model_forward\n",
        "EmissionModel.forward = emission_model_forward\n",
        "HMM.forward = HMM_forward"
      ],
      "execution_count": 0,
      "outputs": []
    },
    {
      "cell_type": "markdown",
      "metadata": {
        "id": "y-fNnZfqGb1m",
        "colab_type": "text"
      },
      "source": [
        "Try running the forward algorithm on our vowels/consonants model from before:"
      ]
    },
    {
      "cell_type": "code",
      "metadata": {
        "id": "8rMAmf-UGhbw",
        "colab_type": "code",
        "outputId": "48cd009a-c30d-4447-8f59-71c0328e978a",
        "colab": {
          "base_uri": "https://localhost:8080/",
          "height": 68
        }
      },
      "source": [
        "x = torch.stack( [torch.tensor(encode(\"cat\"))] )\n",
        "T = torch.tensor([3])\n",
        "print(model.forward(x, T))\n",
        "\n",
        "x = torch.stack( [torch.tensor(encode(\"aba\")), torch.tensor(encode(\"abb\"))] )\n",
        "T = torch.tensor([3,3])\n",
        "print(model.forward(x, T))"
      ],
      "execution_count": 0,
      "outputs": [
        {
          "output_type": "stream",
          "text": [
            "tensor([[-10.6047]], device='cuda:0', grad_fn=<GatherBackward>)\n",
            "tensor([[-10.3278],\n",
            "        [    -inf]], device='cuda:0', grad_fn=<GatherBackward>)\n"
          ],
          "name": "stdout"
        }
      ]
    },
    {
      "cell_type": "markdown",
      "metadata": {
        "id": "95TB2gvNHuLn",
        "colab_type": "text"
      },
      "source": [
        "When using the vowel <-> consonant HMM from above, notice that the forward algorithm returns $-\\infty$ for $\\mathbf{x} = \\text{\"abb\"}$. That's because our transition matrix says the probability of vowel -> vowel and consonant -> consonant is 0, so the probability of $\\text{\"abb\"}$ happening is 0, and thus the log probability is $-\\infty$."
      ]
    },
    {
      "cell_type": "markdown",
      "metadata": {
        "id": "qBCrFobsEM8X",
        "colab_type": "text"
      },
      "source": [
        "#### *Side note: deriving the forward algorithm*\n",
        "\n",
        "If you're interested in understanding how the forward algorithm actually computes $p(\\mathbf{x})$, read this section; if not, skip to the next part on \"Problem 2\" (finding the most likely state sequence)."
      ]
    },
    {
      "cell_type": "markdown",
      "metadata": {
        "id": "CpHWWKcxhjkx",
        "colab_type": "text"
      },
      "source": [
        "\n",
        "\n",
        "To derive the forward algorithm, start by deriving the forward variable:\n",
        "\n",
        "$$\\begin{align} \n",
        "    \\alpha_{s,t} &= p(x_1, x_2, \\dots, x_t, z_t=s) \\\\\n",
        "     &= p(x_t | x_1, x_2, \\dots, x_{t-1}, z_t = s) \\cdot p(x_1, x_2, \\dots, x_{t-1}, z_t = s)  \\\\ \n",
        "    &= p(x_t | z_t = s) \\cdot p(x_1, x_2, \\dots, x_{t-1}, z_t = s) \\\\\n",
        "    &= p(x_t | z_t = s) \\cdot \\left( \\sum_{s'} p(x_1, x_2, \\dots, x_{t-1}, z_{t-1}=s', z_t = s) \\right)\\\\\n",
        "    &= p(x_t | z_t = s) \\cdot \\left( \\sum_{s'} p(z_t = s | x_1, x_2, \\dots, x_{t-1}, z_{t-1}=s') \\cdot p(x_1, x_2, \\dots, x_{t-1}, z_{t-1}=s') \\right)\\\\\n",
        "    &= \\underbrace{p(x_t | z_t = s)}_{\\text{emission model}} \\cdot \\left( \\sum_{s'} \\underbrace{p(z_t = s | z_{t-1}=s')}_{\\text{transition model}} \\cdot \\underbrace{p(x_1, x_2, \\dots, x_{t-1}, z_{t-1}=s')}_{\\text{forward variable for previous timestep}} \\right)\\\\\n",
        "    &= b_s(x_t) \\cdot \\left( \\sum_{s'} A_{s, s'} \\cdot \\alpha_{s',t-1} \\right)\n",
        "    \\end{align}$$\n",
        "\n",
        "I'll explain how to get to each line of this equation from the previous line. \n",
        "\n",
        "Line 1 is the definition of the forward variable $\\alpha_{s,t}$.\n",
        "\n",
        "Line 2 is the chain rule ($p(A,B) = p(A|B) \\cdot p(B)$, where $A$ is $x_t$ and $B$ is all the other variables).\n",
        "\n",
        "In Line 3, we apply Assumption 2: the probability of observation $x_t$ depends only on the current state $z_t$.\n",
        "\n",
        "In Line 4, we marginalize over all the possible states in the previous timestep $t-1$.\n",
        "\n",
        "In Line 5, we apply the chain rule again.\n",
        "\n",
        "In Line 6, we apply Assumption 1: the current state depends only on the previous state.\n",
        "\n",
        "In Line 7, we substitute in the emission probability, the transition probability, and the forward variable for the previous timestep, to get the complete recursion."
      ]
    },
    {
      "cell_type": "markdown",
      "metadata": {
        "id": "kh1ovNjWDbIA",
        "colab_type": "text"
      },
      "source": [
        "The formula above can be used for $t = 2 \\rightarrow T$. At $t=1$, there is no previous state, so instead of the transition matrix $A$, we use the state priors $\\pi$, which tell us the probability of starting in each state. Thus for $t=1$, the forward variables are computed as follows:\n",
        "\n",
        "$$\\begin{align} \n",
        "\\alpha_{s,1} &= p(x_1, z_1=s) \\\\\n",
        "  &= p(x_1 | z_1 = s) \\cdot p(z_1 = s)  \\\\ \n",
        "&= b_s(x_1) \\cdot \\pi_s\n",
        "\\end{align}$$"
      ]
    },
    {
      "cell_type": "markdown",
      "metadata": {
        "id": "RRzSqkRkEWKX",
        "colab_type": "text"
      },
      "source": [
        "Finally, to compute $p(\\mathbf{x}) = p(x_1, x_2, \\dots, x_T)$, we marginalize over $\\alpha_{s,T}$, the forward variables computed in the last timestep:\n",
        "\n",
        "$$\\begin{align*} \n",
        "p(\\mathbf{x}) &= \\sum_{s} p(x_1, x_2, \\dots, x_T, z_T = s) \\\\ \n",
        "&= \\sum_{s} \\alpha_{s,T}\n",
        "\\end{align*}$$"
      ]
    },
    {
      "cell_type": "markdown",
      "metadata": {
        "id": "qLBU8Iu7I5Tb",
        "colab_type": "text"
      },
      "source": [
        "You can get from this formulation to the log domain formulation by taking the log of the forward variable, and using these identities:\n",
        "- $\\text{log }(a \\cdot b) = \\text{log }a + \\text{log }b$\n",
        "- $\\text{log }(a + b) = \\text{log }(e^{\\text{log }a} + e^{\\text{log }b}) = \\text{logsumexp}(\\text{log }a, \\text{log }b)$"
      ]
    },
    {
      "cell_type": "markdown",
      "metadata": {
        "id": "bxivzF8hgpiW",
        "colab_type": "text"
      },
      "source": [
        "### Problem 2: How do we compute $\\underset{\\mathbf{z}}{\\text{argmax }} p(\\mathbf{z}|\\mathbf{x})$?"
      ]
    },
    {
      "cell_type": "markdown",
      "metadata": {
        "id": "c1Kv2yyiN7SX",
        "colab_type": "text"
      },
      "source": [
        "Given an observation sequence $\\mathbf{x}$, we may want to find the most likely sequence of states that could have generated $\\mathbf{x}$. (Given the sequence of selfies, we want to infer what cities the friend visited.) In other words, we want $\\underset{\\mathbf{z}}{\\text{argmax }} p(\\mathbf{z}|\\mathbf{x})$.\n",
        "\n",
        "We can use Bayes' rule to rewrite this expression:\n",
        "    $$\\begin{align*} \n",
        "    \\underset{\\mathbf{z}}{\\text{argmax }} p(\\mathbf{z}|\\mathbf{x}) &= \\underset{\\mathbf{z}}{\\text{argmax }} \\frac{p(\\mathbf{x}|\\mathbf{z}) p(\\mathbf{z})}{p(\\mathbf{x})} \\\\ \n",
        "    &= \\underset{\\mathbf{z}}{\\text{argmax }} p(\\mathbf{x}|\\mathbf{z}) p(\\mathbf{z})\n",
        "    \\end{align*}$$\n",
        "\n",
        "Hmm! That last expression, $\\underset{\\mathbf{z}}{\\text{argmax }} p(\\mathbf{x}|\\mathbf{z}) p(\\mathbf{z})$, looks suspiciously similar to the intractable expression we encountered before introducing the forward algorithm, $\\underset{\\mathbf{z}}{\\sum} p(\\mathbf{x}|\\mathbf{z}) p(\\mathbf{z})$.\n",
        "\n",
        "And indeed, just as the intractable *sum* over all $\\mathbf{z}$ can be implemented efficiently using the forward algorithm, so too this intractable *argmax* can be implemented efficiently using a similar divide-and-conquer algorithm: the legendary Viterbi algorithm!"
      ]
    },
    {
      "cell_type": "markdown",
      "metadata": {
        "id": "niKZEX5xWeWR",
        "colab_type": "text"
      },
      "source": [
        "________\n",
        "\n",
        "<u><b>The Viterbi Algorithm</b></u>\n",
        "\n",
        "> for $s=1 \\rightarrow N$:\\\n",
        "> &nbsp;&nbsp;&nbsp;&nbsp;&nbsp;&nbsp;$\\delta_{s,1} := b_s(x_1) \\cdot \\pi_s$\\\n",
        "> &nbsp;&nbsp;&nbsp;&nbsp;&nbsp;&nbsp;$\\psi_{s,1} := 0$\n",
        ">\n",
        "> for $t = 2 \\rightarrow T$:\\\n",
        "> &nbsp;&nbsp;&nbsp;&nbsp;&nbsp;&nbsp;for $s = 1 \\rightarrow N$:\\\n",
        "> &nbsp;&nbsp;&nbsp;&nbsp;&nbsp;&nbsp;&nbsp;&nbsp;&nbsp;&nbsp;&nbsp;&nbsp;$\\delta_{s,t} := b_s(x_t) \\cdot \\left( \\underset{s'}{\\text{max }} A_{s, s'} \\cdot \\delta_{s',t-1} \\right)$\\\n",
        "&nbsp;&nbsp;&nbsp;&nbsp;&nbsp;&nbsp;&nbsp;&nbsp;&nbsp;&nbsp;&nbsp;&nbsp;$\\psi_{s,t} := \\underset{s'}{\\text{argmax }} A_{s, s'} \\cdot \\delta_{s',t-1}$\n",
        "> \n",
        "> $z_T^* := \\underset{s}{\\text{argmax }} \\delta_{s,T}$\\\n",
        "> for $t = T-1 \\rightarrow 1$:\\\n",
        "&nbsp;&nbsp;&nbsp;&nbsp;&nbsp;&nbsp;$z_{t}^* := \\psi_{z_{t+1}^*,t+1}$\n",
        "> \n",
        "> $\\mathbf{z}^* := \\{z_{1}^*, \\dots, z_{T}^* \\}$\\\n",
        "return $\\mathbf{z}^*$\n",
        "________"
      ]
    },
    {
      "cell_type": "markdown",
      "metadata": {
        "id": "UcHVTCucZV6K",
        "colab_type": "text"
      },
      "source": [
        "The Viterbi algorithm looks somewhat gnarlier than the forward algorithm, but it is essentially the same algorithm, with two tweaks: 1) instead of taking the sum over previous states, we take the max; and 2) we record the argmax of the previous states in a table, and loop back over this table at the end to get $\\mathbf{z}^*$, the most likely state sequence. (And like the forward algorithm, we should run the Viterbi algorithm in the log domain for better numerical stability.) "
      ]
    },
    {
      "cell_type": "markdown",
      "metadata": {
        "id": "NlN7IY_JZ5A-",
        "colab_type": "text"
      },
      "source": [
        "Let's add the Viterbi algorithm to our PyTorch model:"
      ]
    },
    {
      "cell_type": "code",
      "metadata": {
        "id": "qeDG8DVmZ-P0",
        "colab_type": "code",
        "colab": {}
      },
      "source": [
        "def viterbi(self, x, T):\n",
        "  \"\"\"\n",
        "  x : IntTensor of shape (batch size, T_max)\n",
        "  T : IntTensor of shape (batch size)\n",
        "  Find argmax_z log p(x|z) for each (x) in the batch.\n",
        "  \"\"\"\n",
        "  if self.is_cuda:\n",
        "    x = x.cuda()\n",
        "    T = T.cuda()\n",
        "\n",
        "  batch_size = x.shape[0]; T_max = x.shape[1]\n",
        "  log_state_priors = torch.nn.functional.log_softmax(self.unnormalized_state_priors, dim=0)\n",
        "  log_delta = torch.zeros(batch_size, T_max, self.N).float()\n",
        "  psi = torch.zeros(batch_size, T_max, self.N).long()\n",
        "  if self.is_cuda:\n",
        "    log_delta = log_delta.cuda()\n",
        "    psi = psi.cuda()\n",
        "\n",
        "  log_delta[:, 0, :] = self.emission_model(x[:,0]) + log_state_priors\n",
        "  for t in range(1, T_max):\n",
        "    max_val, argmax_val = self.transition_model.maxmul(log_delta[:, t-1, :])\n",
        "    log_delta[:, t, :] = self.emission_model(x[:,t]) + max_val\n",
        "    psi[:, t, :] = argmax_val\n",
        "\n",
        "  # Get the log probability of the best path\n",
        "  log_max = log_delta.max(dim=2)[0]\n",
        "  best_path_scores = torch.gather(log_max, 1, T.view(-1,1) - 1)\n",
        "\n",
        "  # This next part is a bit tricky to parallelize across the batch,\n",
        "  # so we will do it separately for each example.\n",
        "  z_star = []\n",
        "  for i in range(0, batch_size):\n",
        "    z_star_i = [ log_delta[i, T[i] - 1, :].max(dim=0)[1].item() ]\n",
        "    for t in range(T[i] - 1, 0, -1):\n",
        "      z_t = psi[i, t, z_star_i[0]].item()\n",
        "      z_star_i.insert(0, z_t)\n",
        "\n",
        "    z_star.append(z_star_i)\n",
        "\n",
        "  return z_star, best_path_scores # return both the best path and its log probability\n",
        "\n",
        "def transition_model_maxmul(self, log_alpha):\n",
        "  log_transition_matrix = torch.nn.functional.log_softmax(self.unnormalized_transition_matrix, dim=1)\n",
        "\n",
        "  out1, out2 = maxmul(log_transition_matrix, log_alpha.transpose(0,1))\n",
        "  return out1.transpose(0,1), out2.transpose(0,1)\n",
        "\n",
        "def maxmul(log_A, log_B):\n",
        "\t\"\"\"\n",
        "\tlog_A : m x n\n",
        "\tlog_B : n x p\n",
        "\toutput : m x p matrix\n",
        "\n",
        "\tSimilar to the log domain matrix multiplication,\n",
        "\tthis computes out_{i,j} = max_k log_A_{i,k} + log_B_{k,j}\n",
        "\t\"\"\"\n",
        "\tm = log_A.shape[0]\n",
        "\tn = log_A.shape[1]\n",
        "\tp = log_B.shape[1]\n",
        "\n",
        "\tlog_A_expanded = torch.stack([log_A] * p, dim=2)\n",
        "\tlog_B_expanded = torch.stack([log_B] * m, dim=0)\n",
        "\n",
        "\telementwise_sum = log_A_expanded + log_B_expanded\n",
        "\tout1,out2 = torch.max(elementwise_sum, dim=1)\n",
        "\n",
        "\treturn out1,out2\n",
        "\n",
        "TransitionModel.maxmul = transition_model_maxmul\n",
        "HMM.viterbi = viterbi"
      ],
      "execution_count": 0,
      "outputs": []
    },
    {
      "cell_type": "markdown",
      "metadata": {
        "id": "uTGOaeXbaWie",
        "colab_type": "text"
      },
      "source": [
        "Try running Viterbi on an input sequence, given the vowel/consonant HMM:"
      ]
    },
    {
      "cell_type": "code",
      "metadata": {
        "id": "zeOTbaIMc23d",
        "colab_type": "code",
        "outputId": "7e04723d-7447-4a68-84c6-212c187f66c2",
        "colab": {
          "base_uri": "https://localhost:8080/",
          "height": 51
        }
      },
      "source": [
        "x = torch.stack( [torch.tensor(encode(\"aba\")), torch.tensor(encode(\"abb\"))] )\n",
        "T = torch.tensor([3,3])\n",
        "print(model.viterbi(x, T))"
      ],
      "execution_count": 0,
      "outputs": [
        {
          "output_type": "stream",
          "text": [
            "([[1, 0, 1], [1, 0, 0]], tensor([[-10.3278],\n",
            "        [    -inf]], device='cuda:0', grad_fn=<GatherBackward>))\n"
          ],
          "name": "stdout"
        }
      ]
    },
    {
      "cell_type": "markdown",
      "metadata": {
        "id": "fKr8YlafdzBx",
        "colab_type": "text"
      },
      "source": [
        "For $\\mathbf{x} = \\text{\"aba\"}$, the Viterbi algorithm returns $\\mathbf{z}^* = \\{1,0,1\\}$. This corresponds to \"vowel, consonant, vowel\" according to the way we defined the states above, which is correct for this input sequence. Yay!\n",
        "\n",
        "For $\\mathbf{x} = \\text{\"abb\"}$, the Viterbi algorithm still returns $\\mathbf{z}^* = \\{1,0,1\\}$, but we know this is gibberish because \"vowel, consonant, consonant\" is impossible under this HMM, and indeed the log probability of this path is $-\\infty$."
      ]
    },
    {
      "cell_type": "markdown",
      "metadata": {
        "id": "nCWw0_WienO_",
        "colab_type": "text"
      },
      "source": [
        "Let's compare the \"forward score\" (the log probability of all possible paths, returned by the forward algorithm) with the \"Viterbi score\" (the log probability of the maximum likelihood path, returned by the Viterbi algorithm):"
      ]
    },
    {
      "cell_type": "code",
      "metadata": {
        "id": "L9fBOHvdeqWC",
        "colab_type": "code",
        "outputId": "2c030d90-bd54-414e-c0f4-0bef1fb1c7ad",
        "colab": {
          "base_uri": "https://localhost:8080/",
          "height": 85
        }
      },
      "source": [
        "print(model.forward(x, T))\n",
        "print(model.viterbi(x, T)[1])"
      ],
      "execution_count": 0,
      "outputs": [
        {
          "output_type": "stream",
          "text": [
            "tensor([[-10.3278],\n",
            "        [    -inf]], device='cuda:0', grad_fn=<GatherBackward>)\n",
            "tensor([[-10.3278],\n",
            "        [    -inf]], device='cuda:0', grad_fn=<GatherBackward>)\n"
          ],
          "name": "stdout"
        }
      ]
    },
    {
      "cell_type": "markdown",
      "metadata": {
        "id": "InF6PJVOfHwH",
        "colab_type": "text"
      },
      "source": [
        "The two scores are the same! That's because in this instance there is only one possible path through the HMM, so the probability of the most likely path is the same as the sum of the probabilities of all possible paths.\n",
        "\n",
        "In general, though, the forward score and Viterbi score will always be somewhat close. This is because of a property of the $\\text{logsumexp}$ function: $\\text{logsumexp}(\\mathbf{x}) \\approx \\max (\\mathbf{x})$. ($\\text{logsumexp}$ is sometimes referred to as the \"smooth maximum\" function.)"
      ]
    },
    {
      "cell_type": "code",
      "metadata": {
        "id": "x__70tB6gnkF",
        "colab_type": "code",
        "outputId": "f6ce289c-b2d6-4ea2-ed75-18987a303d49",
        "colab": {
          "base_uri": "https://localhost:8080/",
          "height": 51
        }
      },
      "source": [
        "x = torch.tensor([1., 2., 3.])\n",
        "print(x.max(dim=0)[0])\n",
        "print(x.logsumexp(dim=0))"
      ],
      "execution_count": 0,
      "outputs": [
        {
          "output_type": "stream",
          "text": [
            "tensor(3.)\n",
            "tensor(3.4076)\n"
          ],
          "name": "stdout"
        }
      ]
    },
    {
      "cell_type": "markdown",
      "metadata": {
        "id": "SvFtiWhzgy0V",
        "colab_type": "text"
      },
      "source": [
        "### Problem 3: How do we train the model?\n",
        "\n",
        "\n",
        "\n"
      ]
    },
    {
      "cell_type": "markdown",
      "metadata": {
        "id": "r3JaykRalSBZ",
        "colab_type": "text"
      },
      "source": [
        "Earlier, we hard-coded an HMM to have certain behavior. What we would like to do instead is have the HMM learn to model the data on its own. And while it is possible to use supervised learning with an HMM (by hard-coding the emission model or the transition model) so that the states have a particular interpretation, the really cool thing about HMMs is that they are naturally unsupervised learners, so they can learn to use their different states to represent different patterns in the data, without the programmer needing to indicate what each state means."
      ]
    },
    {
      "cell_type": "markdown",
      "metadata": {
        "id": "8K471fT4N-PR",
        "colab_type": "text"
      },
      "source": [
        "Like many machine learning models, an HMM can be trained using maximum likelihood estimation, i.e.:\n",
        "\n",
        "$$\\theta^* = \\underset{\\theta}{\\text{argmin }} -\\sum_{\\mathbf{x}^i}\\text{log }p_{\\theta}(\\mathbf{x}^i)$$\n",
        "\n",
        "where $\\mathbf{x}^1, \\mathbf{x}^2, \\dots$ are training examples. \n",
        "\n",
        "The standard method for doing this is the Expectation-Maximization (EM) algorithm, which for HMMs is also called the \"Baum-Welch\" algorithm. In EM training, we alternate between an \"E-step\", where we estimate the values of the latent variables, and an \"M-step\", where the model parameters are updated given the estimated latent variables. (Think $k$-means, where you guess which cluster each data point belongs to, then reestimate where the clusters are, and repeat.) The EM algorithm has some nice properties: it is guaranteed at each step to decrease the loss function, and the E-step and M-step may have an exact closed form solution, in which case no pesky learning rates are required.\n",
        "\n",
        "But because the HMM forward algorithm is differentiable with respect to all the model parameters, we can also just take advantage of automatic differentiation methods in libraries like PyTorch and try to minimize $-\\text{log }p_{\\theta}(\\mathbf{x})$ directly, by backpropagating through the forward algorithm and running stochastic gradient descent. That means we don't need to write any additional HMM code to implement training: `loss.backward()` is all you need."
      ]
    },
    {
      "cell_type": "markdown",
      "metadata": {
        "id": "aVh0-369qZDC",
        "colab_type": "text"
      },
      "source": [
        "Here we will implement SGD training for an HMM in PyTorch. First, some helper classes:"
      ]
    },
    {
      "cell_type": "code",
      "metadata": {
        "id": "KqiFobGHwdzc",
        "colab_type": "code",
        "colab": {}
      },
      "source": [
        "import torch.utils.data\n",
        "from collections import Counter\n",
        "from sklearn.model_selection import train_test_split\n",
        "\n",
        "class TextDataset(torch.utils.data.Dataset):\n",
        "  def __init__(self, lines):\n",
        "    self.lines = lines # list of strings\n",
        "    collate = Collate() # function for generating a minibatch from strings\n",
        "    self.loader = torch.utils.data.DataLoader(self, batch_size=1024, num_workers=1, shuffle=True, collate_fn=collate)\n",
        "\n",
        "  def __len__(self):\n",
        "    return len(self.lines)\n",
        "\n",
        "  def __getitem__(self, idx):\n",
        "    line = self.lines[idx].lstrip(\" \").rstrip(\"\\n\").rstrip(\" \").rstrip(\"\\n\")\n",
        "    return line\n",
        "\n",
        "class Collate:\n",
        "  def __init__(self):\n",
        "    pass\n",
        "\n",
        "  def __call__(self, batch):\n",
        "    \"\"\"\n",
        "    Returns a minibatch of strings, padded to have the same length.\n",
        "    \"\"\"\n",
        "    x = []\n",
        "    batch_size = len(batch)\n",
        "    for index in range(batch_size):\n",
        "      x_ = batch[index]\n",
        "\n",
        "      # convert letters to integers\n",
        "      x.append(encode(x_))\n",
        "\n",
        "    # pad all sequences with 0 to have same length\n",
        "    x_lengths = [len(x_) for x_ in x]\n",
        "    T = max(x_lengths)\n",
        "    for index in range(batch_size):\n",
        "      x[index] += [0] * (T - len(x[index]))\n",
        "      x[index] = torch.tensor(x[index])\n",
        "\n",
        "    # stack into single tensor\n",
        "    x = torch.stack(x)\n",
        "    x_lengths = torch.tensor(x_lengths)\n",
        "    return (x,x_lengths)"
      ],
      "execution_count": 0,
      "outputs": []
    },
    {
      "cell_type": "markdown",
      "metadata": {
        "id": "YpDpwnPnAEA9",
        "colab_type": "text"
      },
      "source": [
        "Let's load some training/testing data. By default, this will use the unix \"words\" file, but you could also use your own text file."
      ]
    },
    {
      "cell_type": "code",
      "metadata": {
        "id": "52NqFHg8ANsB",
        "colab_type": "code",
        "outputId": "777bfc23-4387-485f-89df-c7b3adc9cdee",
        "colab": {
          "base_uri": "https://localhost:8080/",
          "height": 224
        }
      },
      "source": [
        "!wget https://raw.githubusercontent.com/lorenlugosch/pytorch_HMM/master/data/train/training.txt\n",
        "\n",
        "filename = \"training.txt\"\n",
        "\n",
        "with open(filename, \"r\") as f:\n",
        "  lines = f.readlines() # each line of lines will have one word\n",
        "\n",
        "alphabet = list(Counter((\"\".join(lines))).keys())\n",
        "train_lines, valid_lines = train_test_split(lines, test_size=0.1, random_state=42)\n",
        "train_dataset = TextDataset(train_lines)\n",
        "valid_dataset = TextDataset(valid_lines)\n",
        "\n",
        "M = len(alphabet)"
      ],
      "execution_count": 0,
      "outputs": [
        {
          "output_type": "stream",
          "text": [
            "--2020-01-27 20:13:35--  https://raw.githubusercontent.com/lorenlugosch/pytorch_HMM/master/data/train/training.txt\n",
            "Resolving raw.githubusercontent.com (raw.githubusercontent.com)... 151.101.0.133, 151.101.64.133, 151.101.128.133, ...\n",
            "Connecting to raw.githubusercontent.com (raw.githubusercontent.com)|151.101.0.133|:443... connected.\n",
            "HTTP request sent, awaiting response... 200 OK\n",
            "Length: 2493109 (2.4M) [text/plain]\n",
            "Saving to: ‘training.txt.1’\n",
            "\n",
            "training.txt.1      100%[===================>]   2.38M  --.-KB/s    in 0.1s    \n",
            "\n",
            "2020-01-27 20:13:35 (16.6 MB/s) - ‘training.txt.1’ saved [2493109/2493109]\n",
            "\n"
          ],
          "name": "stdout"
        }
      ]
    },
    {
      "cell_type": "markdown",
      "metadata": {
        "id": "H0AqmyrK7IUn",
        "colab_type": "text"
      },
      "source": [
        "We will use a Trainer class for training and testing the model:\n",
        "\n"
      ]
    },
    {
      "cell_type": "code",
      "metadata": {
        "id": "iypy_neX9cpq",
        "colab_type": "code",
        "colab": {}
      },
      "source": [
        "from tqdm import tqdm # for displaying progress bar\n",
        "\n",
        "class Trainer:\n",
        "  def __init__(self, model, lr):\n",
        "    self.model = model\n",
        "    self.lr = lr\n",
        "    self.optimizer = torch.optim.Adam(model.parameters(), lr=self.lr, weight_decay=0.00001)\n",
        "  \n",
        "  def train(self, dataset):\n",
        "    train_loss = 0\n",
        "    num_samples = 0\n",
        "    self.model.train()\n",
        "    print_interval = 50\n",
        "    for idx, batch in enumerate(tqdm(dataset.loader)):\n",
        "      x,T = batch\n",
        "      batch_size = len(x)\n",
        "      num_samples += batch_size\n",
        "      log_probs = self.model(x,T)\n",
        "      loss = -log_probs.mean()\n",
        "      self.optimizer.zero_grad()\n",
        "      loss.backward()\n",
        "      self.optimizer.step()\n",
        "      train_loss += loss.cpu().data.numpy().item() * batch_size\n",
        "      if idx % print_interval == 0:\n",
        "        print(\"loss:\", loss.item())\n",
        "        for _ in range(5):\n",
        "          sampled_x, sampled_z = self.model.sample()\n",
        "          print(decode(sampled_x))\n",
        "          print(sampled_z)\n",
        "    train_loss /= num_samples\n",
        "    return train_loss\n",
        "\n",
        "  def test(self, dataset):\n",
        "    test_loss = 0\n",
        "    num_samples = 0\n",
        "    self.model.eval()\n",
        "    print_interval = 50\n",
        "    for idx, batch in enumerate(dataset.loader):\n",
        "      x,T = batch\n",
        "      batch_size = len(x)\n",
        "      num_samples += batch_size\n",
        "      log_probs = self.model(x,T)\n",
        "      loss = -log_probs.mean()\n",
        "      test_loss += loss.cpu().data.numpy().item() * batch_size\n",
        "      if idx % print_interval == 0:\n",
        "        print(\"loss:\", loss.item())\n",
        "        sampled_x, sampled_z = self.model.sample()\n",
        "        print(decode(sampled_x))\n",
        "        print(sampled_z)\n",
        "    test_loss /= num_samples\n",
        "    return test_loss"
      ],
      "execution_count": 0,
      "outputs": []
    },
    {
      "cell_type": "markdown",
      "metadata": {
        "id": "mUR8qbHm9dMg",
        "colab_type": "text"
      },
      "source": [
        "Finally, initialize the model and run the main training loop. Every 50 batches, the code will produce a few samples from the model. Over time, these samples should look more and more realistic."
      ]
    },
    {
      "cell_type": "code",
      "metadata": {
        "id": "1-NGIK1Q9g2C",
        "colab_type": "code",
        "outputId": "c2b1cbcd-1409-499c-a6a0-0fb7eb549b43",
        "colab": {
          "base_uri": "https://localhost:8080/",
          "height": 1000
        }
      },
      "source": [
        "# Initialize model\n",
        "model = HMM(N=64, M=M)\n",
        "\n",
        "# Train the model\n",
        "num_epochs = 10\n",
        "trainer = Trainer(model, lr=0.03)\n",
        "\n",
        "for epoch in range(num_epochs):\n",
        "        print(\"========= Epoch %d of %d =========\" % (epoch+1, num_epochs))\n",
        "        train_loss = trainer.train(train_dataset)\n",
        "        valid_loss = trainer.test(valid_dataset)\n",
        "\n",
        "        print(\"========= Results: epoch %d of %d =========\" % (epoch+1, num_epochs))\n",
        "        print(\"train loss: %.2f| valid loss: %.2f\\n\" % (train_loss, valid_loss) )"
      ],
      "execution_count": 0,
      "outputs": [
        {
          "output_type": "stream",
          "text": [
            "\r  0%|          | 0/208 [00:00<?, ?it/s]"
          ],
          "name": "stderr"
        },
        {
          "output_type": "stream",
          "text": [
            "========= Epoch 1 of 10 =========\n"
          ],
          "name": "stdout"
        },
        {
          "output_type": "stream",
          "text": [
            "\r  0%|          | 1/208 [00:00<01:33,  2.22it/s]"
          ],
          "name": "stderr"
        },
        {
          "output_type": "stream",
          "text": [
            "loss: 38.22657012939453\n",
            "cxLQcbpGUL\n",
            "[57, 58, 32, 42, 33, 6, 39, 18, 60, 36]\n",
            "UjgOwPIr-h\n",
            "[31, 58, 40, 35, 43, 15, 48, 0, 12, 61]\n",
            "KFt\n",
            "CdBsAX\n",
            "[43, 20, 62, 30, 8, 43, 18, 48, 1, 22]\n",
            "BhXRt-tANA\n",
            "[57, 48, 11, 62, 51, 31, 54, 14, 37, 34]\n",
            "v\n",
            "\n",
            "AWRmUjg\n",
            "[61, 6, 32, 14, 23, 57, 35, 12, 57, 40]\n"
          ],
          "name": "stdout"
        },
        {
          "output_type": "stream",
          "text": [
            " 25%|██▍       | 51/208 [00:15<00:45,  3.43it/s]"
          ],
          "name": "stderr"
        },
        {
          "output_type": "stream",
          "text": [
            "loss: 27.659889221191406\n",
            "Prnnpc-eDa\n",
            "[57, 33, 32, 59, 11, 59, 59, 13, 58, 58]\n",
            "hrpcdcrGee\n",
            "[8, 57, 57, 9, 12, 52, 38, 11, 3, 9]\n",
            "fnUoXsAtc-\n",
            "[61, 18, 44, 49, 2, 58, 30, 43, 60, 63]\n",
            "ditcKyrycr\n",
            "[58, 1, 14, 48, 0, 12, 33, 12, 52, 36]\n",
            "pyayecXhLc\n",
            "[43, 19, 12, 0, 55, 58, 19, 31, 42, 15]\n"
          ],
          "name": "stdout"
        },
        {
          "output_type": "stream",
          "text": [
            " 49%|████▊     | 101/208 [00:30<00:30,  3.50it/s]"
          ],
          "name": "stderr"
        },
        {
          "output_type": "stream",
          "text": [
            "loss: 23.299129486083984\n",
            "saiSsrhuma\n",
            "[57, 25, 56, 23, 30, 36, 11, 49, 2, 51]\n",
            "cheGmyyywy\n",
            "[57, 31, 42, 15, 35, 12, 0, 47, 63, 19]\n",
            "soaecBBIoe\n",
            "[57, 46, 22, 13, 39, 13, 45, 11, 25, 25]\n",
            "daeroonnui\n",
            "[57, 43, 24, 15, 27, 27, 56, 26, 48, 10]\n",
            "nvyeeyEtjY\n",
            "[57, 16, 52, 52, 30, 15, 28, 3, 31, 60]\n"
          ],
          "name": "stdout"
        },
        {
          "output_type": "stream",
          "text": [
            " 73%|███████▎  | 151/208 [00:45<00:16,  3.50it/s]"
          ],
          "name": "stderr"
        },
        {
          "output_type": "stream",
          "text": [
            "loss: 22.232545852661133\n",
            "pentlylyml\n",
            "[57, 51, 1, 54, 17, 52, 63, 62, 2, 28]\n",
            "nisyMrKylr\n",
            "[57, 9, 12, 52, 36, 14, 62, 52, 20, 45]\n",
            "malsdb-iuc\n",
            "[57, 25, 22, 44, 20, 19, 11, 18, 29, 29]\n",
            "cacodayung\n",
            "[57, 18, 39, 49, 41, 39, 15, 49, 56, 37]\n",
            "yrysdneded\n",
            "[46, 26, 33, 38, 62, 56, 24, 59, 34, 41]\n"
          ],
          "name": "stdout"
        },
        {
          "output_type": "stream",
          "text": [
            " 97%|█████████▋| 201/208 [01:00<00:02,  3.23it/s]"
          ],
          "name": "stderr"
        },
        {
          "output_type": "stream",
          "text": [
            "loss: 21.592880249023438\n",
            "nlessoumry\n",
            "[57, 43, 40, 10, 9, 25, 49, 2, 63, 52]\n",
            "ceyycyyngr\n",
            "[57, 51, 20, 42, 29, 12, 0, 21, 37, 59]\n",
            "nismgsause\n",
            "[57, 18, 6, 35, 37, 28, 29, 49, 2, 30]\n",
            "rgrartdrde\n",
            "[57, 43, 16, 12, 59, 34, 28, 28, 50, 12]\n",
            "atleredass\n",
            "[46, 43, 16, 12, 28, 34, 41, 40, 10, 44]\n"
          ],
          "name": "stdout"
        },
        {
          "output_type": "stream",
          "text": [
            "100%|██████████| 208/208 [01:03<00:00,  3.83it/s]\n"
          ],
          "name": "stderr"
        },
        {
          "output_type": "stream",
          "text": [
            "loss: 21.237972259521484\n",
            "hicaedondy\n",
            "[57, 18, 39, 8, 17, 45, 27, 56, 45, 39]\n"
          ],
          "name": "stdout"
        },
        {
          "output_type": "stream",
          "text": [
            "\r  0%|          | 0/208 [00:00<?, ?it/s]"
          ],
          "name": "stderr"
        },
        {
          "output_type": "stream",
          "text": [
            "========= Results: epoch 1 of 10 =========\n",
            "train loss: 25.15| valid loss: 21.36\n",
            "\n",
            "========= Epoch 2 of 10 =========\n"
          ],
          "name": "stdout"
        },
        {
          "output_type": "stream",
          "text": [
            "\r  0%|          | 1/208 [00:00<01:30,  2.28it/s]"
          ],
          "name": "stderr"
        },
        {
          "output_type": "stream",
          "text": [
            "loss: 21.62723159790039\n",
            "smtossedyl\n",
            "[57, 57, 31, 25, 53, 58, 24, 58, 52, 28]\n",
            "uycderreal\n",
            "[46, 42, 48, 28, 47, 59, 26, 30, 45, 16]\n",
            "siaessnkck\n",
            "[57, 18, 29, 40, 10, 9, 53, 15, 3, 15]\n",
            "syysylaynr\n",
            "[57, 12, 52, 53, 60, 29, 63, 19, 11, 53]\n",
            "gusrsdrmsa\n",
            "[57, 49, 5, 53, 5, 45, 63, 19, 2, 21]\n"
          ],
          "name": "stdout"
        },
        {
          "output_type": "stream",
          "text": [
            " 25%|██▍       | 51/208 [00:16<00:45,  3.42it/s]"
          ],
          "name": "stderr"
        },
        {
          "output_type": "stream",
          "text": [
            "loss: 21.281518936157227\n",
            "lylmonsngl\n",
            "[57, 33, 58, 20, 27, 32, 44, 21, 4, 16]\n",
            "eteckngyre\n",
            "[46, 26, 47, 48, 15, 21, 4, 52, 63, 19]\n",
            "dillormayy\n",
            "[57, 46, 43, 16, 25, 53, 2, 53, 0, 12]\n",
            "dysicrttic\n",
            "[57, 42, 9, 18, 39, 53, 28, 13, 18, 48]\n",
            "ellerfeKng\n",
            "[46, 43, 16, 40, 1, 54, 47, 20, 21, 37]\n"
          ],
          "name": "stdout"
        },
        {
          "output_type": "stream",
          "text": [
            " 49%|████▊     | 101/208 [00:31<00:30,  3.51it/s]"
          ],
          "name": "stderr"
        },
        {
          "output_type": "stream",
          "text": [
            "loss: 21.008623123168945\n",
            "vksmnlyrmh\n",
            "[57, 15, 6, 35, 56, 16, 12, 53, 20, 28]\n",
            "waitiawick\n",
            "[57, 46, 1, 14, 18, 29, 53, 18, 48, 15]\n",
            "sbedngyyys\n",
            "[57, 57, 24, 41, 21, 37, 0, 42, 42, 9]\n",
            "foumysdsly\n",
            "[57, 25, 49, 2, 60, 9, 45, 5, 16, 12]\n",
            "Cklyeallye\n",
            "[57, 15, 16, 60, 22, 8, 61, 16, 52, 24]\n"
          ],
          "name": "stdout"
        },
        {
          "output_type": "stream",
          "text": [
            " 73%|███████▎  | 151/208 [00:45<00:16,  3.37it/s]"
          ],
          "name": "stderr"
        },
        {
          "output_type": "stream",
          "text": [
            "loss: 20.76139259338379\n",
            "saeriringl\n",
            "[57, 8, 17, 36, 25, 63, 18, 21, 4, 16]\n",
            "iidssusngn\n",
            "[46, 1, 34, 10, 9, 49, 38, 21, 37, 21]\n",
            "rmolynglym\n",
            "[57, 57, 25, 63, 19, 21, 4, 16, 52, 20]\n",
            "picharistl\n",
            "[57, 18, 48, 15, 29, 59, 18, 6, 23, 16]\n",
            "pryslnglyd\n",
            "[57, 31, 42, 9, 22, 21, 4, 16, 52, 58]\n"
          ],
          "name": "stdout"
        },
        {
          "output_type": "stream",
          "text": [
            " 97%|█████████▋| 201/208 [01:01<00:02,  3.41it/s]"
          ],
          "name": "stderr"
        },
        {
          "output_type": "stream",
          "text": [
            "loss: 20.727577209472656\n",
            "malikesngl\n",
            "[57, 8, 22, 18, 54, 47, 7, 21, 37, 16]\n",
            "samicalngg\n",
            "[57, 51, 53, 18, 48, 8, 22, 21, 37, 63]\n",
            "cesmuderas\n",
            "[57, 51, 6, 35, 49, 5, 30, 36, 8, 9]\n",
            "tysifytyti\n",
            "[57, 42, 9, 18, 54, 0, 13, 42, 26, 18]\n",
            "commanakin\n",
            "[57, 25, 63, 20, 27, 56, 8, 26, 18, 54]\n"
          ],
          "name": "stdout"
        },
        {
          "output_type": "stream",
          "text": [
            "100%|██████████| 208/208 [01:03<00:00,  3.40it/s]\n"
          ],
          "name": "stderr"
        },
        {
          "output_type": "stream",
          "text": [
            "loss: 20.523386001586914\n",
            "Lilledaysx\n",
            "[57, 46, 43, 16, 12, 29, 8, 28, 44, 63]\n"
          ],
          "name": "stdout"
        },
        {
          "output_type": "stream",
          "text": [
            "\r  0%|          | 0/208 [00:00<?, ?it/s]"
          ],
          "name": "stderr"
        },
        {
          "output_type": "stream",
          "text": [
            "========= Results: epoch 2 of 10 =========\n",
            "train loss: 20.90| valid loss: 20.72\n",
            "\n",
            "========= Epoch 3 of 10 =========\n"
          ],
          "name": "stdout"
        },
        {
          "output_type": "stream",
          "text": [
            "\r  0%|          | 1/208 [00:00<01:18,  2.64it/s]"
          ],
          "name": "stderr"
        },
        {
          "output_type": "stream",
          "text": [
            "loss: 20.608415603637695\n",
            "Watallypsa\n",
            "[57, 8, 26, 8, 61, 16, 60, 29, 9, 8]\n",
            "ovowonille\n",
            "[46, 57, 25, 53, 27, 32, 8, 61, 16, 52]\n",
            "ermaeeroos\n",
            "[51, 63, 20, 8, 26, 30, 36, 25, 49, 44]\n",
            "ilannlycsa\n",
            "[46, 43, 8, 28, 29, 16, 52, 39, 7, 29]\n",
            "atdessmysi\n",
            "[46, 1, 34, 24, 10, 9, 2, 33, 9, 18]\n"
          ],
          "name": "stdout"
        },
        {
          "output_type": "stream",
          "text": [
            " 25%|██▍       | 51/208 [00:15<00:49,  3.15it/s]"
          ],
          "name": "stderr"
        },
        {
          "output_type": "stream",
          "text": [
            "loss: 20.614404678344727\n",
            "cyslenessn\n",
            "[57, 42, 9, 16, 55, 21, 40, 10, 9, 11]\n",
            "bermablyna\n",
            "[57, 51, 63, 20, 8, 61, 16, 60, 56, 8]\n",
            "osnisveser\n",
            "[46, 53, 28, 49, 62, 26, 47, 44, 30, 36]\n",
            "aJnlenesss\n",
            "[46, 53, 28, 16, 55, 21, 40, 10, 44, 44]\n",
            "umatesiasn\n",
            "[46, 20, 8, 26, 30, 9, 18, 29, 9, 21]\n"
          ],
          "name": "stdout"
        },
        {
          "output_type": "stream",
          "text": [
            " 49%|████▊     | 101/208 [00:30<00:32,  3.32it/s]"
          ],
          "name": "stderr"
        },
        {
          "output_type": "stream",
          "text": [
            "loss: 20.529993057250977\n",
            "nyseuslyre\n",
            "[57, 33, 9, 17, 49, 5, 16, 60, 53, 30]\n",
            "BeryneStur\n",
            "[57, 51, 63, 19, 21, 40, 10, 34, 24, 59]\n",
            "lernacalic\n",
            "[57, 51, 53, 28, 29, 48, 8, 22, 18, 48]\n",
            "ticlynylye\n",
            "[57, 18, 3, 16, 52, 32, 33, 58, 33, 30]\n",
            "eablyricol\n",
            "[46, 8, 61, 16, 52, 31, 18, 48, 27, 16]\n"
          ],
          "name": "stdout"
        },
        {
          "output_type": "stream",
          "text": [
            " 73%|███████▎  | 151/208 [00:45<00:16,  3.40it/s]"
          ],
          "name": "stderr"
        },
        {
          "output_type": "stream",
          "text": [
            "loss: 20.42725944519043\n",
            "shysiplufe\n",
            "[57, 31, 42, 9, 18, 3, 58, 49, 2, 40]\n",
            "wmiontynal\n",
            "[57, 57, 18, 27, 11, 23, 0, 21, 8, 61]\n",
            "alessixlye\n",
            "[46, 43, 40, 10, 9, 18, 3, 16, 33, 30]\n",
            "srisemusra\n",
            "[57, 31, 18, 6, 13, 35, 49, 62, 36, 8]\n",
            "dechessyry\n",
            "[57, 51, 57, 31, 40, 10, 7, 33, 63, 19]\n"
          ],
          "name": "stdout"
        },
        {
          "output_type": "stream",
          "text": [
            " 97%|█████████▋| 201/208 [01:00<00:02,  3.35it/s]"
          ],
          "name": "stderr"
        },
        {
          "output_type": "stream",
          "text": [
            "loss: 20.3731632232666\n",
            "ornasymaer\n",
            "[46, 53, 28, 29, 9, 33, 35, 8, 17, 36]\n",
            "essutnglen\n",
            "[46, 10, 44, 24, 41, 21, 4, 16, 55, 21]\n",
            "lrosnglyac\n",
            "[57, 31, 42, 9, 21, 4, 16, 60, 29, 48]\n",
            "peyiontysi\n",
            "[57, 51, 28, 18, 27, 32, 13, 33, 9, 18]\n",
            "sfoxengngl\n",
            "[57, 57, 25, 63, 55, 21, 4, 21, 4, 16]\n"
          ],
          "name": "stdout"
        },
        {
          "output_type": "stream",
          "text": [
            "100%|██████████| 208/208 [01:02<00:00,  4.16it/s]\n"
          ],
          "name": "stderr"
        },
        {
          "output_type": "stream",
          "text": [
            "loss: 20.631263732910156\n",
            "codaerysic\n",
            "[57, 46, 20, 51, 24, 50, 33, 9, 18, 3]\n"
          ],
          "name": "stdout"
        },
        {
          "output_type": "stream",
          "text": [
            "\r  0%|          | 0/208 [00:00<?, ?it/s]"
          ],
          "name": "stderr"
        },
        {
          "output_type": "stream",
          "text": [
            "========= Results: epoch 3 of 10 =========\n",
            "train loss: 20.59| valid loss: 20.58\n",
            "\n",
            "========= Epoch 4 of 10 =========\n"
          ],
          "name": "stdout"
        },
        {
          "output_type": "stream",
          "text": [
            "\r  0%|          | 1/208 [00:00<01:23,  2.49it/s]"
          ],
          "name": "stderr"
        },
        {
          "output_type": "stream",
          "text": [
            "loss: 20.413875579833984\n",
            "misulyisma\n",
            "[57, 18, 6, 23, 16, 52, 18, 6, 35, 29]\n",
            "amalhylyma\n",
            "[46, 20, 8, 22, 15, 33, 16, 33, 20, 8]\n",
            "peloumsmtl\n",
            "[57, 46, 43, 25, 49, 2, 7, 35, 13, 61]\n",
            "pryleterou\n",
            "[57, 31, 42, 43, 51, 26, 30, 36, 25, 49]\n",
            "thsnglyeon\n",
            "[57, 31, 7, 21, 4, 16, 60, 17, 27, 32]\n"
          ],
          "name": "stdout"
        },
        {
          "output_type": "stream",
          "text": [
            " 25%|██▍       | 51/208 [00:15<00:48,  3.21it/s]"
          ],
          "name": "stderr"
        },
        {
          "output_type": "stream",
          "text": [
            "loss: 20.53325653076172\n",
            "vhalsmonte\n",
            "[57, 31, 8, 22, 6, 35, 27, 56, 26, 47]\n",
            "rylmelydly\n",
            "[57, 42, 43, 20, 51, 16, 60, 45, 16, 52]\n",
            "rysetertio\n",
            "[57, 42, 9, 51, 26, 30, 36, 26, 18, 27]\n",
            "monengeddn\n",
            "[57, 27, 56, 55, 21, 4, 30, 45, 58, 21]\n",
            "toleeteeor\n",
            "[57, 46, 57, 51, 51, 26, 47, 17, 25, 53]\n"
          ],
          "name": "stdout"
        },
        {
          "output_type": "stream",
          "text": [
            " 49%|████▊     | 101/208 [00:30<00:30,  3.49it/s]"
          ],
          "name": "stderr"
        },
        {
          "output_type": "stream",
          "text": [
            "loss: 20.684429168701172\n",
            "pesednesst\n",
            "[57, 51, 57, 24, 41, 21, 40, 10, 7, 54]\n",
            "lyssivedac\n",
            "[57, 42, 9, 9, 18, 54, 30, 45, 29, 48]\n",
            "cealessees\n",
            "[57, 24, 8, 22, 40, 10, 44, 38, 47, 9]\n",
            "phousifely\n",
            "[57, 31, 25, 49, 62, 18, 54, 47, 58, 52]\n",
            "shoishacel\n",
            "[57, 31, 25, 49, 62, 0, 29, 48, 15, 16]\n"
          ],
          "name": "stdout"
        },
        {
          "output_type": "stream",
          "text": [
            " 73%|███████▎  | 151/208 [00:45<00:18,  3.13it/s]"
          ],
          "name": "stderr"
        },
        {
          "output_type": "stream",
          "text": [
            "loss: 20.736534118652344\n",
            "peryryvyen\n",
            "[57, 24, 59, 33, 63, 19, 54, 0, 22, 21]\n",
            "slsicsickl\n",
            "[57, 43, 9, 18, 48, 9, 18, 48, 15, 16]\n",
            "pedmudedme\n",
            "[57, 24, 41, 62, 49, 5, 30, 45, 20, 51]\n",
            "tlionarony\n",
            "[57, 31, 18, 27, 32, 8, 17, 27, 11, 33]\n",
            "satacsleng\n",
            "[57, 46, 26, 29, 48, 38, 16, 55, 21, 37]\n"
          ],
          "name": "stdout"
        },
        {
          "output_type": "stream",
          "text": [
            " 97%|█████████▋| 201/208 [01:00<00:02,  3.30it/s]"
          ],
          "name": "stderr"
        },
        {
          "output_type": "stream",
          "text": [
            "loss: 20.56144905090332\n",
            "conycsingl\n",
            "[57, 27, 56, 33, 3, 9, 18, 21, 4, 16]\n",
            "rauuTedlng\n",
            "[57, 8, 1, 49, 5, 24, 41, 58, 21, 37]\n",
            "entexnglyy\n",
            "[46, 1, 14, 24, 50, 21, 4, 16, 60, 33]\n",
            "aceoudions\n",
            "[46, 1, 15, 25, 49, 5, 18, 27, 56, 9]\n",
            "trralnessf\n",
            "[57, 31, 31, 8, 58, 21, 40, 10, 9, 2]\n"
          ],
          "name": "stdout"
        },
        {
          "output_type": "stream",
          "text": [
            "100%|██████████| 208/208 [01:02<00:00,  4.08it/s]\n"
          ],
          "name": "stderr"
        },
        {
          "output_type": "stream",
          "text": [
            "loss: 20.755142211914062\n",
            "dryrysicky\n",
            "[57, 31, 42, 63, 19, 9, 18, 48, 15, 33]\n"
          ],
          "name": "stdout"
        },
        {
          "output_type": "stream",
          "text": [
            "\r  0%|          | 0/208 [00:00<?, ?it/s]"
          ],
          "name": "stderr"
        },
        {
          "output_type": "stream",
          "text": [
            "========= Results: epoch 4 of 10 =========\n",
            "train loss: 20.51| valid loss: 20.53\n",
            "\n",
            "========= Epoch 5 of 10 =========\n"
          ],
          "name": "stdout"
        },
        {
          "output_type": "stream",
          "text": [
            "\r  0%|          | 1/208 [00:00<01:18,  2.65it/s]"
          ],
          "name": "stderr"
        },
        {
          "output_type": "stream",
          "text": [
            "loss: 20.475902557373047\n",
            "pLyonatery\n",
            "[57, 57, 42, 27, 32, 8, 26, 30, 36, 60]\n",
            "causseslel\n",
            "[57, 51, 49, 62, 38, 47, 9, 38, 47, 16]\n",
            "rerwedlyss\n",
            "[57, 24, 59, 57, 24, 50, 16, 33, 9, 9]\n",
            "rymatingli\n",
            "[57, 42, 20, 51, 26, 18, 21, 37, 16, 18]\n",
            "ametfryapr\n",
            "[46, 20, 51, 26, 25, 63, 19, 46, 57, 31]\n"
          ],
          "name": "stdout"
        },
        {
          "output_type": "stream",
          "text": [
            " 25%|██▍       | 51/208 [00:15<00:46,  3.39it/s]"
          ],
          "name": "stderr"
        },
        {
          "output_type": "stream",
          "text": [
            "loss: 20.567302703857422\n",
            "exnsmklyce\n",
            "[46, 53, 28, 9, 35, 15, 16, 33, 3, 40]\n",
            "peeterorla\n",
            "[57, 24, 41, 26, 30, 36, 25, 53, 28, 29]\n",
            "mylyscackl\n",
            "[57, 33, 16, 52, 9, 48, 29, 48, 15, 16]\n",
            "germizylee\n",
            "[57, 51, 63, 35, 18, 54, 0, 16, 55, 47]\n",
            "tadssslysy\n",
            "[57, 8, 28, 7, 62, 44, 16, 33, 9, 33]\n"
          ],
          "name": "stdout"
        },
        {
          "output_type": "stream",
          "text": [
            " 49%|████▊     | 101/208 [00:30<00:32,  3.33it/s]"
          ],
          "name": "stderr"
        },
        {
          "output_type": "stream",
          "text": [
            "loss: 20.360488891601562\n",
            "recmpteate\n",
            "[57, 24, 41, 20, 51, 26, 47, 51, 26, 47]\n",
            "istedicele\n",
            "[46, 1, 57, 24, 50, 18, 3, 47, 16, 55]\n",
            "sraeackede\n",
            "[57, 31, 8, 17, 29, 48, 15, 24, 50, 40]\n",
            "rocysedNnn\n",
            "[57, 46, 57, 42, 9, 24, 50, 27, 32, 50]\n",
            "coishiacke\n",
            "[57, 25, 49, 2, 23, 18, 29, 48, 15, 30]\n"
          ],
          "name": "stdout"
        },
        {
          "output_type": "stream",
          "text": [
            " 73%|███████▎  | 151/208 [00:45<00:18,  3.12it/s]"
          ],
          "name": "stderr"
        },
        {
          "output_type": "stream",
          "text": [
            "loss: 20.328857421875\n",
            "tysdlyipey\n",
            "[57, 42, 9, 5, 58, 0, 18, 3, 17, 60]\n",
            "entyetalen\n",
            "[46, 1, 14, 0, 24, 41, 29, 16, 55, 21]\n",
            "Camethagen\n",
            "[57, 46, 20, 51, 14, 31, 8, 63, 55, 21]\n",
            "aoEdackogy\n",
            "[46, 46, 53, 28, 29, 48, 15, 25, 63, 19]\n",
            "arynceilly\n",
            "[46, 63, 19, 56, 48, 15, 18, 61, 16, 60]\n"
          ],
          "name": "stdout"
        },
        {
          "output_type": "stream",
          "text": [
            " 97%|█████████▋| 201/208 [01:00<00:02,  3.14it/s]"
          ],
          "name": "stderr"
        },
        {
          "output_type": "stream",
          "text": [
            "loss: 19.66938018798828\n",
            "pertidismf\n",
            "[57, 24, 41, 26, 18, 39, 18, 6, 35, 2]\n",
            "tumageleen\n",
            "[57, 46, 20, 51, 26, 47, 16, 52, 55, 21]\n",
            "byryngleso\n",
            "[57, 42, 63, 19, 21, 4, 16, 52, 9, 25]\n",
            "acerteustt\n",
            "[46, 57, 51, 36, 62, 13, 49, 62, 14, 26]\n",
            "pressictic\n",
            "[57, 31, 40, 10, 9, 18, 3, 23, 18, 3]\n"
          ],
          "name": "stdout"
        },
        {
          "output_type": "stream",
          "text": [
            "100%|██████████| 208/208 [01:02<00:00,  4.22it/s]\n"
          ],
          "name": "stderr"
        },
        {
          "output_type": "stream",
          "text": [
            "loss: 20.66213607788086\n",
            "mickudales\n",
            "[57, 18, 48, 15, 49, 5, 8, 22, 40, 10]\n"
          ],
          "name": "stdout"
        },
        {
          "output_type": "stream",
          "text": [
            "\r  0%|          | 0/208 [00:00<?, ?it/s]"
          ],
          "name": "stderr"
        },
        {
          "output_type": "stream",
          "text": [
            "========= Results: epoch 5 of 10 =========\n",
            "train loss: 20.47| valid loss: 20.50\n",
            "\n",
            "========= Epoch 6 of 10 =========\n"
          ],
          "name": "stdout"
        },
        {
          "output_type": "stream",
          "text": [
            "\r  0%|          | 1/208 [00:00<01:28,  2.35it/s]"
          ],
          "name": "stderr"
        },
        {
          "output_type": "stream",
          "text": [
            "loss: 20.653047561645508\n",
            "mleshleeng\n",
            "[57, 16, 55, 6, 23, 16, 55, 55, 21, 4]\n",
            "detesiceed\n",
            "[57, 51, 26, 47, 9, 18, 48, 15, 30, 45]\n",
            "lrymaterou\n",
            "[57, 31, 42, 20, 51, 26, 30, 36, 25, 49]\n",
            "immeyacksi\n",
            "[46, 20, 20, 51, 28, 29, 48, 15, 9, 18]\n",
            "thelogoosm\n",
            "[57, 31, 46, 43, 25, 63, 25, 49, 2, 20]\n"
          ],
          "name": "stdout"
        },
        {
          "output_type": "stream",
          "text": [
            " 25%|██▍       | 51/208 [00:15<00:47,  3.32it/s]"
          ],
          "name": "stderr"
        },
        {
          "output_type": "stream",
          "text": [
            "loss: 20.746196746826172\n",
            "trymetedeo\n",
            "[57, 31, 42, 20, 51, 26, 30, 45, 13, 25]\n",
            "eftallysme\n",
            "[46, 1, 14, 8, 61, 16, 52, 9, 20, 51]\n",
            "Crousesace\n",
            "[57, 31, 25, 49, 38, 47, 62, 29, 48, 13]\n",
            "hogyslenge\n",
            "[57, 25, 63, 19, 38, 16, 55, 21, 37, 13]\n",
            "rytelehlyn\n",
            "[57, 42, 26, 47, 16, 12, 23, 16, 52, 21]\n"
          ],
          "name": "stdout"
        },
        {
          "output_type": "stream",
          "text": [
            " 49%|████▊     | 101/208 [00:29<00:31,  3.43it/s]"
          ],
          "name": "stderr"
        },
        {
          "output_type": "stream",
          "text": [
            "loss: 20.528797149658203\n",
            "rednicsias\n",
            "[57, 24, 50, 21, 18, 3, 9, 18, 29, 44]\n",
            "regdacelyo\n",
            "[57, 46, 53, 28, 29, 48, 13, 16, 60, 25]\n",
            "vysismanaQ\n",
            "[57, 42, 9, 18, 6, 35, 27, 11, 51, 32]\n",
            "cysatelyus\n",
            "[57, 42, 9, 51, 26, 47, 16, 33, 49, 2]\n",
            "serdableml\n",
            "[57, 24, 41, 5, 8, 61, 16, 55, 35, 16]\n"
          ],
          "name": "stdout"
        },
        {
          "output_type": "stream",
          "text": [
            " 73%|███████▎  | 151/208 [00:45<00:19,  2.94it/s]"
          ],
          "name": "stderr"
        },
        {
          "output_type": "stream",
          "text": [
            "loss: 20.479366302490234\n",
            "yntencsale\n",
            "[46, 1, 34, 24, 41, 48, 9, 8, 22, 40]\n",
            "ulormdedng\n",
            "[46, 43, 25, 63, 35, 28, 30, 45, 21, 37]\n",
            "Tharidufud\n",
            "[57, 31, 8, 58, 18, 54, 49, 2, 49, 5]\n",
            "inkllengly\n",
            "[46, 1, 15, 61, 16, 55, 21, 4, 16, 60]\n",
            "bysorengly\n",
            "[57, 42, 9, 25, 63, 55, 21, 4, 16, 52]\n"
          ],
          "name": "stdout"
        },
        {
          "output_type": "stream",
          "text": [
            " 97%|█████████▋| 201/208 [01:00<00:02,  3.23it/s]"
          ],
          "name": "stderr"
        },
        {
          "output_type": "stream",
          "text": [
            "loss: 20.178638458251953\n",
            "dyteshedns\n",
            "[57, 42, 26, 30, 6, 23, 30, 45, 21, 7]\n",
            "gerarynceo\n",
            "[57, 24, 59, 8, 63, 19, 56, 48, 13, 25]\n",
            "lometelygy\n",
            "[57, 46, 20, 51, 26, 47, 16, 60, 63, 19]\n",
            "wtymateler\n",
            "[57, 57, 42, 20, 51, 26, 47, 16, 30, 36]\n",
            "muylaceory\n",
            "[57, 31, 42, 43, 29, 48, 13, 25, 63, 19]\n"
          ],
          "name": "stdout"
        },
        {
          "output_type": "stream",
          "text": [
            "100%|██████████| 208/208 [01:02<00:00,  4.14it/s]\n"
          ],
          "name": "stderr"
        },
        {
          "output_type": "stream",
          "text": [
            "loss: 20.527740478515625\n",
            "dednglysly\n",
            "[57, 24, 50, 21, 4, 16, 33, 62, 16, 60]\n"
          ],
          "name": "stdout"
        },
        {
          "output_type": "stream",
          "text": [
            "\r  0%|          | 0/208 [00:00<?, ?it/s]"
          ],
          "name": "stderr"
        },
        {
          "output_type": "stream",
          "text": [
            "========= Results: epoch 6 of 10 =========\n",
            "train loss: 20.44| valid loss: 20.48\n",
            "\n",
            "========= Epoch 7 of 10 =========\n"
          ],
          "name": "stdout"
        },
        {
          "output_type": "stream",
          "text": [
            "\r  0%|          | 1/208 [00:00<01:29,  2.31it/s]"
          ],
          "name": "stderr"
        },
        {
          "output_type": "stream",
          "text": [
            "loss: 20.510719299316406\n",
            "seyelyckCr\n",
            "[57, 24, 41, 47, 16, 33, 3, 15, 57, 31]\n",
            "mupkyneror\n",
            "[57, 46, 1, 15, 33, 11, 30, 36, 25, 63]\n",
            "cuyoossono\n",
            "[57, 31, 42, 25, 49, 62, 9, 27, 11, 27]\n",
            "porednglya\n",
            "[57, 46, 53, 30, 45, 21, 4, 16, 60, 29]\n",
            "sewalngeng\n",
            "[57, 46, 53, 8, 22, 21, 37, 55, 21, 4]\n"
          ],
          "name": "stdout"
        },
        {
          "output_type": "stream",
          "text": [
            " 25%|██▍       | 51/208 [00:15<00:47,  3.30it/s]"
          ],
          "name": "stderr"
        },
        {
          "output_type": "stream",
          "text": [
            "loss: 20.453922271728516\n",
            "ghiusngmeg\n",
            "[57, 31, 18, 49, 38, 21, 37, 20, 51, 26]\n",
            "kenasioude\n",
            "[57, 46, 21, 29, 9, 18, 25, 49, 5, 40]\n",
            "cysonerygy\n",
            "[57, 33, 9, 27, 11, 30, 36, 33, 63, 19]\n",
            "ogdlylygys\n",
            "[46, 53, 28, 16, 33, 16, 33, 63, 19, 6]\n",
            "imonoxyngl\n",
            "[46, 20, 27, 11, 25, 63, 19, 21, 4, 16]\n"
          ],
          "name": "stdout"
        },
        {
          "output_type": "stream",
          "text": [
            " 49%|████▊     | 101/208 [00:30<00:30,  3.52it/s]"
          ],
          "name": "stderr"
        },
        {
          "output_type": "stream",
          "text": [
            "loss: 20.169233322143555\n",
            "pasheyonhn\n",
            "[57, 46, 57, 31, 31, 42, 27, 56, 23, 21]\n",
            "wraceagerm\n",
            "[57, 31, 29, 48, 13, 8, 28, 30, 36, 20]\n",
            "hrurdedlys\n",
            "[57, 31, 46, 53, 28, 30, 45, 16, 60, 7]\n",
            "hhenngerna\n",
            "[57, 31, 24, 50, 21, 4, 24, 59, 32, 8]\n",
            "unedngngte\n",
            "[46, 53, 30, 45, 21, 37, 21, 37, 26, 47]\n"
          ],
          "name": "stdout"
        },
        {
          "output_type": "stream",
          "text": [
            " 73%|███████▎  | 151/208 [00:45<00:16,  3.44it/s]"
          ],
          "name": "stderr"
        },
        {
          "output_type": "stream",
          "text": [
            "loss: 20.24288558959961\n",
            "cismsytall\n",
            "[57, 18, 6, 35, 38, 52, 14, 8, 61, 16]\n",
            "adoodyssma\n",
            "[46, 57, 25, 49, 5, 33, 9, 6, 35, 8]\n",
            "hetedlyady\n",
            "[57, 51, 26, 30, 45, 16, 52, 29, 5, 19]\n",
            "rysenglyma\n",
            "[57, 42, 9, 55, 21, 4, 16, 33, 35, 27]\n",
            "froryryear\n",
            "[57, 31, 25, 63, 19, 36, 33, 13, 8, 58]\n"
          ],
          "name": "stdout"
        },
        {
          "output_type": "stream",
          "text": [
            " 97%|█████████▋| 201/208 [01:00<00:02,  3.39it/s]"
          ],
          "name": "stderr"
        },
        {
          "output_type": "stream",
          "text": [
            "loss: 20.545804977416992\n",
            "ablycsedse\n",
            "[46, 61, 16, 60, 3, 9, 30, 45, 7, 13]\n",
            "ilaceomete\n",
            "[46, 43, 29, 48, 13, 25, 20, 51, 26, 47]\n",
            "egdlyleess\n",
            "[46, 53, 28, 16, 33, 16, 55, 40, 10, 9]\n",
            "rorylysess\n",
            "[57, 25, 63, 19, 16, 52, 62, 40, 10, 44]\n",
            "lylysionic\n",
            "[57, 42, 43, 42, 9, 18, 27, 32, 18, 3]\n"
          ],
          "name": "stdout"
        },
        {
          "output_type": "stream",
          "text": [
            "100%|██████████| 208/208 [01:02<00:00,  3.79it/s]\n"
          ],
          "name": "stderr"
        },
        {
          "output_type": "stream",
          "text": [
            "loss: 20.560504913330078\n",
            "luseaceomo\n",
            "[57, 49, 62, 17, 29, 48, 13, 25, 20, 25]\n"
          ],
          "name": "stdout"
        },
        {
          "output_type": "stream",
          "text": [
            "\r  0%|          | 0/208 [00:00<?, ?it/s]"
          ],
          "name": "stderr"
        },
        {
          "output_type": "stream",
          "text": [
            "========= Results: epoch 7 of 10 =========\n",
            "train loss: 20.41| valid loss: 20.45\n",
            "\n",
            "========= Epoch 8 of 10 =========\n"
          ],
          "name": "stdout"
        },
        {
          "output_type": "stream",
          "text": [
            "\r  0%|          | 1/208 [00:00<01:18,  2.62it/s]"
          ],
          "name": "stderr"
        },
        {
          "output_type": "stream",
          "text": [
            "loss: 20.330123901367188\n",
            "lhachipeng\n",
            "[57, 31, 29, 48, 23, 18, 3, 55, 21, 4]\n",
            "anakeygysc\n",
            "[46, 57, 46, 54, 47, 33, 63, 19, 7, 48]\n",
            "tressbylye\n",
            "[57, 31, 40, 10, 44, 16, 33, 16, 33, 52]\n",
            "pousgyoane\n",
            "[57, 25, 49, 2, 63, 19, 25, 27, 11, 30]\n",
            "urdallyeac\n",
            "[46, 53, 28, 8, 61, 16, 52, 17, 29, 48]\n"
          ],
          "name": "stdout"
        },
        {
          "output_type": "stream",
          "text": [
            " 25%|██▍       | 51/208 [00:15<00:48,  3.22it/s]"
          ],
          "name": "stderr"
        },
        {
          "output_type": "stream",
          "text": [
            "loss: 20.182626724243164\n",
            "mralessles\n",
            "[57, 31, 8, 22, 40, 10, 44, 16, 40, 10]\n",
            "putyryyicg\n",
            "[57, 24, 41, 33, 63, 19, 0, 18, 3, 63]\n",
            "taletenaKe\n",
            "[57, 46, 43, 51, 26, 55, 21, 8, 22, 40]\n",
            "citeracyie\n",
            "[57, 46, 26, 30, 36, 29, 48, 15, 18, 30]\n",
            "fureryryng\n",
            "[57, 46, 53, 30, 36, 33, 63, 19, 21, 37]\n"
          ],
          "name": "stdout"
        },
        {
          "output_type": "stream",
          "text": [
            " 49%|████▊     | 101/208 [00:30<00:32,  3.28it/s]"
          ],
          "name": "stderr"
        },
        {
          "output_type": "stream",
          "text": [
            "loss: 20.22772979736328\n",
            "angalngasi\n",
            "[46, 53, 28, 8, 22, 21, 37, 29, 9, 18]\n",
            "teasioncea\n",
            "[57, 24, 29, 9, 18, 27, 56, 48, 13, 8]\n",
            "Mommonhngl\n",
            "[57, 46, 20, 20, 27, 56, 23, 21, 4, 16]\n",
            "backleycsi\n",
            "[57, 29, 48, 15, 16, 52, 19, 3, 9, 18]\n",
            "ameryngles\n",
            "[46, 20, 51, 63, 19, 21, 4, 16, 40, 10]\n"
          ],
          "name": "stdout"
        },
        {
          "output_type": "stream",
          "text": [
            " 73%|███████▎  | 151/208 [00:45<00:16,  3.40it/s]"
          ],
          "name": "stderr"
        },
        {
          "output_type": "stream",
          "text": [
            "loss: 20.356121063232422\n",
            "meryliness\n",
            "[57, 24, 59, 33, 16, 55, 21, 40, 10, 7]\n",
            "verelyymet\n",
            "[57, 24, 41, 12, 16, 60, 60, 20, 51, 26]\n",
            "thysidalad\n",
            "[57, 31, 42, 9, 18, 39, 8, 58, 51, 26]\n",
            "picabbleme\n",
            "[57, 18, 3, 8, 61, 61, 16, 52, 20, 13]\n",
            "gcantrygre\n",
            "[57, 57, 46, 1, 14, 31, 42, 57, 31, 46]\n"
          ],
          "name": "stdout"
        },
        {
          "output_type": "stream",
          "text": [
            " 97%|█████████▋| 201/208 [01:00<00:02,  3.36it/s]"
          ],
          "name": "stderr"
        },
        {
          "output_type": "stream",
          "text": [
            "loss: 20.366363525390625\n",
            "sicsoterom\n",
            "[57, 18, 39, 7, 25, 57, 24, 59, 25, 63]\n",
            "dessngleng\n",
            "[57, 40, 10, 44, 21, 4, 16, 55, 21, 4]\n",
            "rhysylelky\n",
            "[57, 31, 42, 9, 33, 16, 52, 22, 54, 0]\n",
            "mysessegel\n",
            "[57, 42, 9, 40, 10, 9, 17, 37, 13, 16]\n",
            "byosessher\n",
            "[57, 42, 25, 9, 40, 10, 7, 47, 30, 36]\n"
          ],
          "name": "stdout"
        },
        {
          "output_type": "stream",
          "text": [
            "100%|██████████| 208/208 [01:02<00:00,  4.13it/s]\n"
          ],
          "name": "stderr"
        },
        {
          "output_type": "stream",
          "text": [
            "loss: 20.470680236816406\n",
            "dumeteleri\n",
            "[57, 46, 20, 51, 26, 47, 31, 24, 59, 18]\n"
          ],
          "name": "stdout"
        },
        {
          "output_type": "stream",
          "text": [
            "\r  0%|          | 0/208 [00:00<?, ?it/s]"
          ],
          "name": "stderr"
        },
        {
          "output_type": "stream",
          "text": [
            "========= Results: epoch 8 of 10 =========\n",
            "train loss: 20.40| valid loss: 20.44\n",
            "\n",
            "========= Epoch 9 of 10 =========\n"
          ],
          "name": "stdout"
        },
        {
          "output_type": "stream",
          "text": [
            "\r  0%|          | 1/208 [00:00<01:23,  2.49it/s]"
          ],
          "name": "stderr"
        },
        {
          "output_type": "stream",
          "text": [
            "loss: 20.260704040527344\n",
            "ceredlyyad\n",
            "[57, 24, 59, 30, 45, 16, 52, 60, 29, 5]\n",
            "mutelyblyn\n",
            "[57, 46, 26, 47, 16, 52, 61, 16, 60, 32]\n",
            "xesiadyaci\n",
            "[57, 24, 9, 18, 29, 5, 19, 29, 48, 18]\n",
            "dangermate\n",
            "[57, 46, 53, 28, 24, 59, 20, 51, 26, 30]\n",
            "ternalishy\n",
            "[57, 24, 59, 32, 8, 22, 18, 6, 23, 33]\n"
          ],
          "name": "stdout"
        },
        {
          "output_type": "stream",
          "text": [
            " 25%|██▍       | 51/208 [00:14<00:47,  3.30it/s]"
          ],
          "name": "stderr"
        },
        {
          "output_type": "stream",
          "text": [
            "loss: 20.272846221923828\n",
            "thoorsingl\n",
            "[57, 31, 31, 46, 1, 9, 18, 21, 4, 16]\n",
            "Syistraten\n",
            "[57, 42, 18, 6, 14, 31, 8, 26, 47, 11]\n",
            "owagyhedne\n",
            "[46, 53, 8, 63, 19, 23, 30, 45, 21, 40]\n",
            "dydymalgye\n",
            "[57, 42, 57, 42, 20, 8, 22, 63, 19, 30]\n",
            "rhtylyolda\n",
            "[57, 24, 41, 33, 16, 52, 46, 43, 5, 8]\n"
          ],
          "name": "stdout"
        },
        {
          "output_type": "stream",
          "text": [
            " 49%|████▊     | 101/208 [00:30<00:32,  3.26it/s]"
          ],
          "name": "stderr"
        },
        {
          "output_type": "stream",
          "text": [
            "loss: 20.449548721313477\n",
            "nuoeorynes\n",
            "[57, 46, 1, 13, 25, 63, 19, 21, 40, 10]\n",
            "nressednly\n",
            "[57, 31, 40, 10, 7, 30, 45, 11, 16, 52]\n",
            "vryloidaln\n",
            "[57, 31, 42, 57, 25, 49, 5, 8, 22, 21]\n",
            "oreroodere\n",
            "[46, 53, 30, 36, 25, 49, 5, 24, 41, 17]\n",
            "enaOnessse\n",
            "[46, 53, 8, 58, 21, 40, 10, 7, 9, 55]\n"
          ],
          "name": "stdout"
        },
        {
          "output_type": "stream",
          "text": [
            " 73%|███████▎  | 151/208 [00:45<00:16,  3.39it/s]"
          ],
          "name": "stderr"
        },
        {
          "output_type": "stream",
          "text": [
            "loss: 20.45038604736328\n",
            "linglyesea\n",
            "[57, 18, 21, 4, 16, 60, 13, 2, 13, 8]\n",
            "bhemestyas\n",
            "[57, 31, 40, 20, 51, 1, 34, 33, 29, 9]\n",
            "pwotekhhdn\n",
            "[57, 31, 25, 57, 46, 26, 23, 24, 50, 21]\n",
            "chessnicss\n",
            "[57, 31, 40, 10, 7, 56, 18, 39, 7, 44]\n",
            "iylysmided\n",
            "[46, 33, 43, 42, 6, 35, 49, 5, 24, 41]\n"
          ],
          "name": "stdout"
        },
        {
          "output_type": "stream",
          "text": [
            " 97%|█████████▋| 201/208 [01:00<00:02,  3.29it/s]"
          ],
          "name": "stderr"
        },
        {
          "output_type": "stream",
          "text": [
            "loss: 20.619243621826172\n",
            "vysesnglen\n",
            "[57, 42, 9, 13, 44, 21, 4, 16, 55, 21]\n",
            "cyseablysm\n",
            "[57, 42, 9, 13, 8, 61, 16, 52, 6, 35]\n",
            "unferylybl\n",
            "[46, 1, 34, 24, 41, 33, 16, 60, 61, 16]\n",
            "syleaxachn\n",
            "[57, 42, 16, 52, 8, 17, 29, 48, 23, 21]\n",
            "draeadessn\n",
            "[57, 31, 8, 17, 29, 5, 40, 10, 7, 11]\n"
          ],
          "name": "stdout"
        },
        {
          "output_type": "stream",
          "text": [
            "100%|██████████| 208/208 [01:02<00:00,  4.09it/s]\n"
          ],
          "name": "stderr"
        },
        {
          "output_type": "stream",
          "text": [
            "loss: 20.59958839416504\n",
            "gerylessly\n",
            "[57, 24, 59, 33, 16, 40, 10, 44, 16, 60]\n"
          ],
          "name": "stdout"
        },
        {
          "output_type": "stream",
          "text": [
            "\r  0%|          | 0/208 [00:00<?, ?it/s]"
          ],
          "name": "stderr"
        },
        {
          "output_type": "stream",
          "text": [
            "========= Results: epoch 9 of 10 =========\n",
            "train loss: 20.38| valid loss: 20.43\n",
            "\n",
            "========= Epoch 10 of 10 =========\n"
          ],
          "name": "stdout"
        },
        {
          "output_type": "stream",
          "text": [
            "\r  0%|          | 1/208 [00:00<01:25,  2.41it/s]"
          ],
          "name": "stderr"
        },
        {
          "output_type": "stream",
          "text": [
            "loss: 20.45685577392578\n",
            "dedngeater\n",
            "[57, 24, 50, 21, 37, 13, 8, 26, 47, 63]\n",
            "lhalededed\n",
            "[57, 31, 46, 43, 51, 26, 47, 5, 30, 45]\n",
            "archylyely\n",
            "[46, 1, 48, 23, 33, 16, 60, 12, 16, 60]\n",
            "pumenglyou\n",
            "[57, 46, 20, 51, 21, 4, 16, 60, 25, 49]\n",
            "aukedlyase\n",
            "[46, 1, 15, 30, 45, 16, 60, 29, 9, 55]\n"
          ],
          "name": "stdout"
        },
        {
          "output_type": "stream",
          "text": [
            " 25%|██▍       | 51/208 [00:15<00:44,  3.49it/s]"
          ],
          "name": "stderr"
        },
        {
          "output_type": "stream",
          "text": [
            "loss: 20.267080307006836\n",
            "nathedssro\n",
            "[57, 8, 26, 23, 24, 50, 10, 7, 36, 25]\n",
            "Euuzedngas\n",
            "[57, 46, 46, 57, 24, 50, 21, 37, 29, 9]\n",
            "pralachedn\n",
            "[57, 31, 8, 17, 29, 48, 23, 24, 50, 21]\n",
            "dhaeonngen\n",
            "[57, 31, 8, 17, 27, 11, 21, 4, 24, 50]\n",
            "egudsmonia\n",
            "[46, 57, 49, 5, 6, 35, 27, 32, 18, 29]\n"
          ],
          "name": "stdout"
        },
        {
          "output_type": "stream",
          "text": [
            " 49%|████▊     | 101/208 [00:30<00:33,  3.20it/s]"
          ],
          "name": "stderr"
        },
        {
          "output_type": "stream",
          "text": [
            "loss: 20.435073852539062\n",
            "leredlymyl\n",
            "[57, 24, 59, 30, 45, 16, 60, 63, 19, 16]\n",
            "posudeally\n",
            "[57, 25, 9, 49, 5, 13, 8, 61, 16, 60]\n",
            "hlecyliste\n",
            "[57, 31, 51, 48, 33, 43, 49, 62, 54, 12]\n",
            "Syosullyca\n",
            "[57, 42, 25, 9, 49, 38, 16, 52, 39, 8]\n",
            "ghtressery\n",
            "[57, 31, 14, 31, 40, 10, 7, 30, 36, 33]\n"
          ],
          "name": "stdout"
        },
        {
          "output_type": "stream",
          "text": [
            " 73%|███████▎  | 151/208 [00:45<00:16,  3.37it/s]"
          ],
          "name": "stderr"
        },
        {
          "output_type": "stream",
          "text": [
            "loss: 20.504440307617188\n",
            "imerspuses\n",
            "[46, 20, 51, 1, 9, 57, 49, 38, 47, 7]\n",
            "inkylplthi\n",
            "[46, 1, 15, 33, 43, 51, 1, 34, 23, 49]\n",
            "ennsmonete\n",
            "[46, 53, 28, 6, 35, 27, 56, 55, 14, 24]\n",
            "rhisthylaa\n",
            "[57, 31, 18, 6, 14, 31, 42, 43, 51, 51]\n",
            "celalicics\n",
            "[57, 46, 43, 8, 58, 18, 39, 18, 39, 7]\n"
          ],
          "name": "stdout"
        },
        {
          "output_type": "stream",
          "text": [
            " 97%|█████████▋| 201/208 [01:00<00:02,  3.45it/s]"
          ],
          "name": "stderr"
        },
        {
          "output_type": "stream",
          "text": [
            "loss: 20.30304718017578\n",
            "iechmpnkic\n",
            "[46, 1, 48, 23, 20, 51, 1, 15, 18, 39]\n",
            "erallyntra\n",
            "[46, 53, 8, 61, 16, 52, 56, 14, 31, 46]\n",
            "tricaemona\n",
            "[57, 31, 18, 39, 8, 17, 35, 27, 32, 8]\n",
            "ussahadlya\n",
            "[46, 1, 9, 8, 17, 29, 5, 16, 60, 29]\n",
            "glulogyate\n",
            "[57, 31, 46, 43, 25, 63, 19, 51, 26, 47]\n"
          ],
          "name": "stdout"
        },
        {
          "output_type": "stream",
          "text": [
            "100%|██████████| 208/208 [01:02<00:00,  4.28it/s]\n"
          ],
          "name": "stderr"
        },
        {
          "output_type": "stream",
          "text": [
            "loss: 20.289344787597656\n",
            "nudleteter\n",
            "[57, 24, 50, 16, 55, 14, 24, 41, 30, 36]\n",
            "========= Results: epoch 10 of 10 =========\n",
            "train loss: 20.37| valid loss: 20.41\n",
            "\n"
          ],
          "name": "stdout"
        }
      ]
    },
    {
      "cell_type": "markdown",
      "metadata": {
        "id": "zymBj9QrDHRM",
        "colab_type": "text"
      },
      "source": [
        "You may wish to try different values of $N$ and see what the impact on sample quality is. \n",
        "\n",
        "It's also interesting to look at the visited states. For instance, I noticed the following interesting behavior: \n",
        "- If weight decay is used (`weight_decay=0.00001` in the initialization of the optimizer), the model almost always picks one of two states as the initial state, and uses one of these states to emit vowels and the other to emit consonants (without us programming that behavior or telling the model which letters are vowels!).\n",
        "- But if no weight decay is used, then the model always starts from one particular state. I suspect that this is because weight decay encourages the state priors to be not too big, and if one state prior is very big, the model will always start from that state."
      ]
    },
    {
      "cell_type": "markdown",
      "metadata": {
        "id": "7eZeQXWjhDev",
        "colab_type": "text"
      },
      "source": [
        "## Conclusion\n",
        "\n",
        "HMMs used to be very popular in natural language processing, but they have largely been overshadowed by neural network models like RNNs and Transformers. Still, it is fun and instructive to study the HMM; some commonly used machine learning techniques like [Connectionist Temporal Classification](https://www.cs.toronto.edu/~graves/icml_2006.pdf) are inspired by HMM methods. HMMs are [still used in conjunction with neural networks in speech recognition](https://arxiv.org/abs/1811.07453), where the assumption of a one-hot state makes sense for modelling phonemes, which are spoken one at a time."
      ]
    },
    {
      "cell_type": "markdown",
      "metadata": {
        "id": "gXQOBz5zqe10",
        "colab_type": "text"
      },
      "source": [
        "## Acknowledgments\n",
        "\n",
        "This notebook is based partly on Lawrence Rabiner's excellent article \"[A Tutorial on Hidden Markov Models and Selected Applications in Speech Recognition](https://www.cs.cmu.edu/~cga/behavior/rabiner1.pdf)\", which you may also like to check out. Thanks also to Dima Serdyuk and Kyle Gorman for their feedback on the draft."
      ]
    }
  ]
}